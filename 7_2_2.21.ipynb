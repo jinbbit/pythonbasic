{
 "cells": [
  {
   "cell_type": "code",
   "execution_count": 7,
   "id": "521a4335-3d8e-4a40-b168-3120215d91d0",
   "metadata": {
    "tags": []
   },
   "outputs": [
    {
     "name": "stdout",
     "output_type": "stream",
     "text": [
      "반환 값: 21.11111111111111\n"
     ]
    }
   ],
   "source": [
    "# 연습 문제\n",
    "\n",
    "def to_celsius(x):\n",
    "    \n",
    "    return (x-32)*5/9\n",
    "\n",
    "print(\"반환 값:\", to_celsius(70))"
   ]
  },
  {
   "cell_type": "code",
   "execution_count": 3,
   "id": "b920ff04-1748-4759-bad3-51105a66bc1f",
   "metadata": {},
   "outputs": [],
   "source": [
    "# 풀이\n",
    "\n",
    "def to_celsius(fahrenheit):\n",
    "    \n",
    "    return (fathrenheit - 32) * 5/9\n"
   ]
  },
  {
   "cell_type": "code",
   "execution_count": 4,
   "id": "8b4c5ca9-f333-469c-a955-1f3f7d1078b7",
   "metadata": {},
   "outputs": [
    {
     "ename": "NameError",
     "evalue": "name 'fathrenheit' is not defined",
     "output_type": "error",
     "traceback": [
      "\u001b[1;31m---------------------------------------------------------------------------\u001b[0m",
      "\u001b[1;31mNameError\u001b[0m                                 Traceback (most recent call last)",
      "\u001b[1;32m~\\AppData\\Local\\Temp\\ipykernel_2792\\341164702.py\u001b[0m in \u001b[0;36m<module>\u001b[1;34m\u001b[0m\n\u001b[1;32m----> 1\u001b[1;33m \u001b[0mprint\u001b[0m\u001b[1;33m(\u001b[0m\u001b[0mto_celsius\u001b[0m\u001b[1;33m(\u001b[0m\u001b[1;36m70\u001b[0m\u001b[1;33m)\u001b[0m\u001b[1;33m)\u001b[0m\u001b[1;33m\u001b[0m\u001b[1;33m\u001b[0m\u001b[0m\n\u001b[0m",
      "\u001b[1;32m~\\AppData\\Local\\Temp\\ipykernel_2792\\178499045.py\u001b[0m in \u001b[0;36mto_celsius\u001b[1;34m(fahrenheit)\u001b[0m\n\u001b[0;32m      3\u001b[0m \u001b[1;32mdef\u001b[0m \u001b[0mto_celsius\u001b[0m\u001b[1;33m(\u001b[0m\u001b[0mfahrenheit\u001b[0m\u001b[1;33m)\u001b[0m\u001b[1;33m:\u001b[0m\u001b[1;33m\u001b[0m\u001b[1;33m\u001b[0m\u001b[0m\n\u001b[0;32m      4\u001b[0m \u001b[1;33m\u001b[0m\u001b[0m\n\u001b[1;32m----> 5\u001b[1;33m     \u001b[1;32mreturn\u001b[0m \u001b[1;33m(\u001b[0m\u001b[0mfathrenheit\u001b[0m \u001b[1;33m-\u001b[0m \u001b[1;36m32\u001b[0m\u001b[1;33m)\u001b[0m \u001b[1;33m*\u001b[0m \u001b[1;36m5\u001b[0m\u001b[1;33m/\u001b[0m\u001b[1;36m9\u001b[0m\u001b[1;33m\u001b[0m\u001b[1;33m\u001b[0m\u001b[0m\n\u001b[0m",
      "\u001b[1;31mNameError\u001b[0m: name 'fathrenheit' is not defined"
     ]
    }
   ],
   "source": [
    "print(to_celsius(70))"
   ]
  },
  {
   "cell_type": "code",
   "execution_count": 9,
   "id": "a6b9963b-78d2-4856-a8f3-45a8019c8ffe",
   "metadata": {},
   "outputs": [
    {
     "name": "stdout",
     "output_type": "stream",
     "text": [
      "\n",
      "    <number가 짝수면 \"짝수\", 홀수면 \"홀수\" 반환>\n",
      "    작성자 : 진진\n",
      "    작성일자 : 2023.02.21\n",
      "    \n",
      "    \n",
      "짝수\n",
      "홀수\n",
      "None\n"
     ]
    }
   ],
   "source": [
    "# 연습 문제\n",
    "\n",
    "def odd_even(number) :\n",
    "\n",
    "    \"\"\"\n",
    "    <number가 짝수면 \"짝수\", 홀수면 \"홀수\" 반환>\n",
    "    작성자 : 진진\n",
    "    작성일자 : 2023.02.21\n",
    "    \n",
    "    \"\"\"\n",
    "   \n",
    "    if type(number) != int or number <= 0 :\n",
    "        return\n",
    "    \n",
    "    elif number % 2 == 0 :\n",
    "        return \"짝수\"\n",
    "        \n",
    "    else :\n",
    "        return \"홀수\"\n",
    "\n",
    "\n",
    "\n",
    "print(odd_even.__doc__)\n",
    "print(odd_even(10))\n",
    "print(odd_even(9))\n",
    "print(odd_even(\"가\"))\n"
   ]
  },
  {
   "cell_type": "code",
   "execution_count": 10,
   "id": "a3cb232c-3fcb-4a56-9a43-42fbd69c0aa6",
   "metadata": {},
   "outputs": [
    {
     "name": "stdout",
     "output_type": "stream",
     "text": [
      "\n",
      "    <number가 짝수면 \"짝수\", 홀수면 \"홀수\" 반환>\n",
      "    작성자 : 진진\n",
      "    작성일자 : 2023.02.21\n",
      "    \n",
      "    \n",
      "짝수\n",
      "홀수\n",
      "None\n"
     ]
    }
   ],
   "source": [
    "# 풀이\n",
    "\n",
    "def odd_even(number) :\n",
    "\n",
    "    \"\"\"\n",
    "    <number가 짝수면 \"짝수\", 홀수면 \"홀수\" 반환>\n",
    "    작성자 : 진진\n",
    "    작성일자 : 2023.02.21\n",
    "    \n",
    "    \"\"\"\n",
    "   \n",
    "    if type(number) is int and number > 0 :\n",
    "        return \"짝수\" * (number % 2 == 0) or \"홀수\"\n",
    "                     # True == 1 -> 짝수   // dict[1] == dict[True]\n",
    "                     # True or ~~  : or 의 앞이 트루면 뒤에 상관없쓤\n",
    "    else :\n",
    "        return \n",
    "\n",
    "\n",
    "\n",
    "print(odd_even.__doc__)\n",
    "print(odd_even(10))\n",
    "print(odd_even(9))\n",
    "print(odd_even(\"가\"))\n"
   ]
  },
  {
   "cell_type": "code",
   "execution_count": null,
   "id": "4ddbbc4e-7542-434c-ae1e-e8738430d37f",
   "metadata": {},
   "outputs": [],
   "source": [
    "# 강사님 추가 Pt자료 추가 예제"
   ]
  },
  {
   "cell_type": "code",
   "execution_count": 25,
   "id": "eac7ccce-ac3a-46fe-ba8e-27d20d16987e",
   "metadata": {},
   "outputs": [
    {
     "name": "stdin",
     "output_type": "stream",
     "text": [
      "숫자를 입력 10.1\n"
     ]
    }
   ],
   "source": [
    "n = input(\"숫자를 입력\")"
   ]
  },
  {
   "cell_type": "code",
   "execution_count": 26,
   "id": "2c601ccb-f9a7-4a3f-8aa1-821a7d6b0342",
   "metadata": {},
   "outputs": [
    {
     "data": {
      "text/plain": [
       "str"
      ]
     },
     "execution_count": 26,
     "metadata": {},
     "output_type": "execute_result"
    }
   ],
   "source": [
    "type(n)"
   ]
  },
  {
   "cell_type": "code",
   "execution_count": 27,
   "id": "9462f1eb-8cf6-45a3-9557-03501f8d663c",
   "metadata": {},
   "outputs": [
    {
     "data": {
      "text/plain": [
       "'10.1'"
      ]
     },
     "execution_count": 27,
     "metadata": {},
     "output_type": "execute_result"
    }
   ],
   "source": [
    "n"
   ]
  },
  {
   "cell_type": "code",
   "execution_count": 28,
   "id": "67d650f5-0937-4624-a723-a50972696932",
   "metadata": {},
   "outputs": [
    {
     "data": {
      "text/plain": [
       "False"
      ]
     },
     "execution_count": 28,
     "metadata": {},
     "output_type": "execute_result"
    }
   ],
   "source": [
    "n.isdecimal()   # 숫자로 변환 가능하면 True\n",
    " # 10은 True   / 10.1 은 false  변환가능하게 하려면 int(float(n))"
   ]
  },
  {
   "cell_type": "code",
   "execution_count": 29,
   "id": "7fa052b3-3882-4a15-a49f-bfbe1e7dd016",
   "metadata": {},
   "outputs": [],
   "source": [
    "def to_int(n):\n",
    "    if n.isdecimal():\n",
    "        return int(n)\n",
    "    return"
   ]
  },
  {
   "cell_type": "code",
   "execution_count": 31,
   "id": "fb93ea2d-cf47-4acc-8304-649f46179e42",
   "metadata": {},
   "outputs": [
    {
     "name": "stdout",
     "output_type": "stream",
     "text": [
      "None\n"
     ]
    }
   ],
   "source": [
    "print(to_int(n))  "
   ]
  },
  {
   "cell_type": "code",
   "execution_count": null,
   "id": "9d1e3588-e29a-4a2d-8c33-9e0d929f4e16",
   "metadata": {
    "tags": []
   },
   "outputs": [],
   "source": [
    "#\n",
    "\n",
    "def is_leap_year(year):\n",
    "    \"\"\"\n",
    "    입력된 연도가 윤년인지 아닌지를 판별하여 문자열을 반환하는 함수\n",
    "\n",
    "    Args:\n",
    "        year (int): 연도 값\n",
    "\n",
    "    Returns:\n",
    "        str: 윤년이면 \"윤년\", 평년이면 \"평년\"\n",
    "    \"\"\"\n",
    "    if year % 400 == 0:\n",
    "        return \"윤년\"\n",
    "    elif year % 100 == 0:\n",
    "        return \"평년\"\n",
    "    elif year % 4 == 0:\n",
    "        return \"윤년\"\n",
    "    else:\n",
    "        return \"평년\"\n",
    "    \n",
    "print(is_leap_year(2004))\n",
    "print(is_leap_year(2000))\n",
    "print(is_leap_year(1900))\n"
   ]
  },
  {
   "cell_type": "code",
   "execution_count": 52,
   "id": "9aa60b43-75c2-4331-b44f-6b41b98311d5",
   "metadata": {},
   "outputs": [
    {
     "name": "stdout",
     "output_type": "stream",
     "text": [
      "윤년\n",
      "윤년\n",
      "평년\n"
     ]
    }
   ],
   "source": [
    "# 연습문제\n",
    "\n",
    "def check_leap_year(n) :\n",
    "    \n",
    "    if n %4 ==0 and (n % 100 != 0 or n % 400 == 0) :\n",
    "        return \"윤년\"\n",
    "    \n",
    "    else:\n",
    "        return \"평년\"\n",
    "    \n",
    "    \n",
    "\n",
    "print(check_leap_year(2004))\n",
    "print(check_leap_year(2000))\n",
    "print(check_leap_year(1900))\n"
   ]
  },
  {
   "cell_type": "code",
   "execution_count": 59,
   "id": "ac2fe280-890c-4c19-b01e-0e7c7545aaa2",
   "metadata": {},
   "outputs": [
    {
     "name": "stdout",
     "output_type": "stream",
     "text": [
      "30\n",
      "28\n",
      "31\n",
      "존재하지 않는 달입니다.\n"
     ]
    }
   ],
   "source": [
    "# 연습 문제\n",
    "\n",
    "def days(m) :\n",
    "    if m in (1,3,5,7,8,10,12) :\n",
    "        return \"31\"\n",
    "    elif m in (4,6,9,11) :\n",
    "        return \"30\"\n",
    "    elif m == 2 :\n",
    "        return \"28\"\n",
    "    else :\n",
    "        return \"존재하지 않는 달입니다.\"\n",
    "\n",
    "\n",
    "print(days(11))\n",
    "print(days(2))\n",
    "print(days(1))\n",
    "print(days(20))"
   ]
  },
  {
   "cell_type": "code",
   "execution_count": 75,
   "id": "bb2ce862-67df-4752-8fd7-135296c5d3a5",
   "metadata": {},
   "outputs": [
    {
     "name": "stdout",
     "output_type": "stream",
     "text": [
      "30\n",
      "31\n",
      "28\n",
      "29\n",
      "존재하지 않는 달입니다.\n"
     ]
    }
   ],
   "source": [
    "# 연습 문제\n",
    "\n",
    "def check_leap_year(y) :\n",
    "    \n",
    "    if y %4 ==0 and (y % 100 != 0 or y % 400 == 0) :\n",
    "        return \"윤년\"\n",
    "    \n",
    "    else:\n",
    "        return \"평년\"\n",
    "    \n",
    "def days(y,m) :\n",
    "    if m in (1,3,5,7,8,10,12) :\n",
    "        return \"31\"\n",
    "    elif m in (4,6,9,11) :\n",
    "        return \"30\"\n",
    "    elif m == 2 :\n",
    "        if check_leap_year(y)==\"윤년\" : \n",
    "            return \"29\"\n",
    "        else :\n",
    "            return \"28\"\n",
    "    else :\n",
    "        return \"존재하지 않는 달입니다.\"\n",
    "\n",
    "\n",
    "print(days(1900, 11))\n",
    "print(days(2004, 10))\n",
    "print(days(1900, 2))\n",
    "print(days(2000, 2))\n",
    "print(days(2000, 13))\n",
    "\n"
   ]
  },
  {
   "cell_type": "code",
   "execution_count": 76,
   "id": "642281d2-0d85-46ce-a28b-8159907609e2",
   "metadata": {},
   "outputs": [
    {
     "name": "stdout",
     "output_type": "stream",
     "text": [
      "30\n",
      "31\n",
      "28\n",
      "29\n"
     ]
    }
   ],
   "source": [
    "# 풀이\n",
    "\n",
    "def days(y,m) :\n",
    "    if m in (1,3,5,7,8,10,12) :\n",
    "        return 31\n",
    "    elif m in (4,6,9,11) :\n",
    "        return 30\n",
    "    elif y %4 ==0 and (y % 100 != 0 or y % 400 == 0) :\n",
    "        return 29\n",
    "    else :\n",
    "        return 28\n",
    "\n",
    "print(days(1900, 11))\n",
    "print(days(2004, 10))\n",
    "print(days(1900, 2))\n",
    "print(days(2000, 2))\n"
   ]
  },
  {
   "cell_type": "code",
   "execution_count": null,
   "id": "67f37e5b-140f-472f-9048-be43cdb20799",
   "metadata": {},
   "outputs": [],
   "source": [
    "# <변수의 범위(variable scope) - 전역 변수 (global variable)>\n"
   ]
  },
  {
   "cell_type": "code",
   "execution_count": null,
   "id": "59aeb3d8-98c9-41ab-ad64-8fc5c9a36ef0",
   "metadata": {},
   "outputs": [],
   "source": [
    "# <변수의 범위(variable scope) - 지역 변수 (local variable)>\n"
   ]
  },
  {
   "cell_type": "code",
   "execution_count": 79,
   "id": "5e36e2ac-9bc9-46e1-83d1-19c0fa929058",
   "metadata": {},
   "outputs": [
    {
     "name": "stdout",
     "output_type": "stream",
     "text": [
      "global 키워드 활용해서 변경 완료\n"
     ]
    }
   ],
   "source": [
    "# <변수의 범위(variable scope) - 지역 범위에서 전역 변수 할당하기>\n",
    "\n",
    "global_variable = \"변경이 됩니까?\"\n",
    "\n",
    "def heartbreaker() :\n",
    "    global global_variable\n",
    "    global_variable = \"global 키워드 활용해서 변경 완료\"\n",
    "    \n",
    "heartbreaker()\n",
    "print(global_variable)"
   ]
  },
  {
   "cell_type": "code",
   "execution_count": 80,
   "id": "9bc3fb49-879b-4862-b7e4-805a5207180f",
   "metadata": {},
   "outputs": [],
   "source": [
    "# 함수 바디에 함수를 중첩해서 만들기\n",
    "\n",
    "def level1() :\n",
    "    message = \"This is level 1.\"\n",
    "    def level2() :\n",
    "        print(message)\n",
    "    level2()"
   ]
  },
  {
   "cell_type": "code",
   "execution_count": 81,
   "id": "c66cbe55-03ec-43a3-bd78-f3f6bdcb3b3a",
   "metadata": {},
   "outputs": [
    {
     "name": "stdout",
     "output_type": "stream",
     "text": [
      "This is level 1.\n"
     ]
    }
   ],
   "source": [
    "level1()"
   ]
  },
  {
   "cell_type": "code",
   "execution_count": 11,
   "id": "d448bf2f-9a52-4ed1-ad36-6080eaec6efc",
   "metadata": {},
   "outputs": [
    {
     "name": "stdout",
     "output_type": "stream",
     "text": [
      "This is level 1.\n"
     ]
    }
   ],
   "source": [
    "# 안쪽 함수에서 바깥쪽 함수의 변수 변경해보기\n",
    "\n",
    "def level1() :\n",
    "    message = \"This is level 1.\"\n",
    "    def level2() :\n",
    "        message = \"Level2 is better than level1.\"\n",
    "    level2()  \n",
    "    print(message)\n",
    "\n",
    "level1()"
   ]
  },
  {
   "cell_type": "code",
   "execution_count": 14,
   "id": "0b97df36-c234-4902-be61-14193816c8ab",
   "metadata": {},
   "outputs": [
    {
     "name": "stdout",
     "output_type": "stream",
     "text": [
      "Level2 is better than level1.\n"
     ]
    }
   ],
   "source": [
    "# 안쪽 함수에서 바깥쪽 함수의 변수 변경해보기\n",
    "# 변경 가능할까요?! 넹~~!!\n",
    "\n",
    "def level1() :\n",
    "    message = \"This is level 1.\"\n",
    "    def level2() :\n",
    "        nonlocal message   # nonlocal 키워드를 통해 바깥 영역의 변수를 사용하겠다고 설정\n",
    "        message = \"Level2 is better than level1.\"\n",
    "    level2()\n",
    "    print(message)\n",
    "    \n",
    "level1()"
   ]
  },
  {
   "cell_type": "code",
   "execution_count": null,
   "id": "92f02de6-310a-48b8-80f0-2038b8e25a64",
   "metadata": {},
   "outputs": [],
   "source": [
    "<변수 범위 정리>\n",
    "- 함수 안에서 선언한 변수는 함수를 호출해 실행되는 동안만 사용할 수 있습니다.\n",
    "\n",
    "좁은범위부터 넓은 범위 거기도 없으면 파이썬 내부의  빌트 인 스코프( 를 찾는다."
   ]
  },
  {
   "cell_type": "code",
   "execution_count": null,
   "id": "8727e403-2f1d-4ee1-8e47-d148ff2b380a",
   "metadata": {},
   "outputs": [],
   "source": [
    "# 람다(Lambda)\n",
    "\n",
    "lambda [parameters] : expression   # 람다 표현식\n",
    "\n",
    "\n",
    "def func_name(parameter) :         # 일반 함수 정의절\n",
    "    return expression"
   ]
  },
  {
   "cell_type": "code",
   "execution_count": 18,
   "id": "03576efc-c170-4b9e-9138-e714e6eb5d19",
   "metadata": {},
   "outputs": [
    {
     "data": {
      "text/plain": [
       "20"
      ]
     },
     "execution_count": 18,
     "metadata": {},
     "output_type": "execute_result"
    }
   ],
   "source": [
    "# 람다(Lambda)\n",
    "\n",
    "                # (arguments)\n",
    "(lambda x : x + 10)(10)\n",
    "\n",
    "# (lambda [parameters] : expression)(arguments)"
   ]
  },
  {
   "cell_type": "code",
   "execution_count": 20,
   "id": "f7d5f9e3-4105-467f-8b4e-ababa1bfaf53",
   "metadata": {},
   "outputs": [
    {
     "name": "stdout",
     "output_type": "stream",
     "text": [
      "20\n"
     ]
    }
   ],
   "source": [
    "# 람다는 기본적으로 이름없는 함수(anonymous function)\n",
    "\n",
    "        # 객체\n",
    "twice = (lambda x : x*2)\n",
    "print(twice(10))\n",
    "\n",
    "# variable = lambda [parameters] : expression\n",
    "# variable(argument)"
   ]
  },
  {
   "cell_type": "code",
   "execution_count": 22,
   "id": "1235fa87-ec3f-4d3d-95a4-7027ee9fe800",
   "metadata": {},
   "outputs": [
    {
     "ename": "SyntaxError",
     "evalue": "invalid syntax (1952916057.py, line 5)",
     "output_type": "error",
     "traceback": [
      "\u001b[1;36m  File \u001b[1;32m\"C:\\Users\\user\\AppData\\Local\\Temp\\ipykernel_15568\\1952916057.py\"\u001b[1;36m, line \u001b[1;32m5\u001b[0m\n\u001b[1;33m    (lambda x : y = 10; x + y)(1)\u001b[0m\n\u001b[1;37m                  ^\u001b[0m\n\u001b[1;31mSyntaxError\u001b[0m\u001b[1;31m:\u001b[0m invalid syntax\n"
     ]
    }
   ],
   "source": [
    "# 람다의 expression부분은 변수 없이 식 한 줄로 표현 가능(인라인)해야 합니다.\n",
    "# 따라서 람다 표현식 안에 새 변수를 만들 수 없습니다.\n",
    "# 변수가 필요한 경우는 def를 써서 함수를 정의해서 사용하는 것이 좋습니다.\n",
    "          \n",
    "         # 콜론 오른쪽에 변수 생성이 안된다.\n",
    "(lambda x : y = 10; x + y)(1)\n",
    "         # 콜론을 기준으로 왼쪽이 prarmeters가 오고 오른쪽이 expression이 와야되는데"
   ]
  },
  {
   "cell_type": "code",
   "execution_count": null,
   "id": "07dc0e1c-45db-42fc-b28b-abe86f97e83c",
   "metadata": {},
   "outputs": [],
   "source": [
    "# < 조건 표현식(Conditional Expression). inline if else >\n",
    "# if else를 한줄로 작성할 수 있는 방법.\n",
    "# lambda에 사용하면 활용도가 아주 좋음.\n",
    "# if만 사용할 수 없음. 반드시 else와 같이 써야함.\n",
    "# 중첩해서 사용 가능함.\n",
    "\n",
    "True일 때 값 if 조건식 else False 일때 값"
   ]
  },
  {
   "cell_type": "code",
   "execution_count": 23,
   "id": "420a7e4e-7d85-4e67-95cf-dcbf32d5acd7",
   "metadata": {},
   "outputs": [
    {
     "data": {
      "text/plain": [
       "'B'"
      ]
     },
     "execution_count": 23,
     "metadata": {},
     "output_type": "execute_result"
    }
   ],
   "source": [
    "score = 90\n",
    "'A' if 90 < score <= 100 else 'B' if 80 < score else 'C'"
   ]
  },
  {
   "cell_type": "code",
   "execution_count": null,
   "id": "04bd1711-c2e7-4bd3-a335-baae55a72347",
   "metadata": {},
   "outputs": [],
   "source": [
    "람다(Lambda) feat. map()\n",
    "\n",
    "map(lambda parameter1, parameter2, ... : expression, iterable1, iterable2, ...)"
   ]
  },
  {
   "cell_type": "code",
   "execution_count": 24,
   "id": "47eb33fd-c5a9-406a-8025-c5b4214bd138",
   "metadata": {},
   "outputs": [
    {
     "name": "stdout",
     "output_type": "stream",
     "text": [
      "[2, 8, 18, 32, 50]\n"
     ]
    }
   ],
   "source": [
    "a = [_ for _ in range(1, 6)]\n",
    "b = [_ for _ in range(2, 11, 2)]\n",
    "print(list(map(lambda x, y : x * y, a, b)))\n",
    "\n",
    "# 카톡 사진"
   ]
  },
  {
   "cell_type": "code",
   "execution_count": null,
   "id": "20889e70-6f2a-4fce-8f86-d7a4e330e772",
   "metadata": {},
   "outputs": [],
   "source": [
    "람다(Lambda) feat. filter()\n",
    "속도와 가독성 모두 리스트 컴프리헨션이 더 낫다.\n",
    "\n",
    "                    # True 일 때만 해당 요소를 가져옵니다.\n",
    "map(lambda parameter : expression, iterable)"
   ]
  },
  {
   "cell_type": "code",
   "execution_count": 25,
   "id": "b6489e5f-1c88-42a5-b52d-bbd71e985e96",
   "metadata": {},
   "outputs": [
    {
     "data": {
      "text/plain": [
       "[3, 9, 9]"
      ]
     },
     "execution_count": 25,
     "metadata": {},
     "output_type": "execute_result"
    }
   ],
   "source": [
    "a = [3, 2, 8, 22, 10, 7, 0, 11, 9, 9]\n",
    "list(filter(lambda x : x % 3 == 0 and 0 < x < 10, a))\n",
    "\n",
    "# 리스트컴프리헨션이 훨씬 더 빠르다~~~~~"
   ]
  },
  {
   "cell_type": "code",
   "execution_count": null,
   "id": "41933e3d-0fa3-4ebf-a99a-cf8df1f29f44",
   "metadata": {},
   "outputs": [],
   "source": []
  }
 ],
 "metadata": {
  "kernelspec": {
   "display_name": "Python 3 (ipykernel)",
   "language": "python",
   "name": "python3"
  },
  "language_info": {
   "codemirror_mode": {
    "name": "ipython",
    "version": 3
   },
   "file_extension": ".py",
   "mimetype": "text/x-python",
   "name": "python",
   "nbconvert_exporter": "python",
   "pygments_lexer": "ipython3",
   "version": "3.9.13"
  }
 },
 "nbformat": 4,
 "nbformat_minor": 5
}
