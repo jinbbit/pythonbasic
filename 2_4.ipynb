{
 "cells": [
  {
   "cell_type": "code",
   "execution_count": 11,
   "id": "38a9930d-a74c-41e1-a953-e9757ac08d99",
   "metadata": {},
   "outputs": [
    {
     "name": "stdin",
     "output_type": "stream",
     "text": [
      "hh:mm:ss의 형태로 시간을 입력해주세요 12:33:23\n"
     ]
    },
    {
     "name": "stdout",
     "output_type": "stream",
     "text": [
      "['12', '33', '23']\n",
      "\n",
      "시 :  12 \n",
      "분 :  33 \n",
      "초 :  23\n"
     ]
    }
   ],
   "source": [
    "time = input(\"hh:mm:ss의 형태로 시간을 입력해주세요\")\n",
    "\n",
    "result = time.split(':')\n",
    "\n",
    "print(result)\n",
    "\n",
    "print(\"\\n시 : \" ,result[0],\"\\n분 : \",result[1], \"\\n초 : \",result[2])"
   ]
  },
  {
   "cell_type": "code",
   "execution_count": 12,
   "id": "cc41af96-a141-4ca4-9e34-f04285bd9210",
   "metadata": {},
   "outputs": [
    {
     "name": "stdin",
     "output_type": "stream",
     "text": [
      "hh:mm:ss 의 형태로 시간을 입력해주세요 12:33:23\n"
     ]
    },
    {
     "name": "stdout",
     "output_type": "stream",
     "text": [
      "시 : 12\n",
      "분 : 33\n",
      "초 : 23\n"
     ]
    }
   ],
   "source": [
    "#풀이\n",
    "\n",
    "h,m,s = input(\"hh:mm:ss 의 형태로 시간을 입력해주세요\").split(\":\")\n",
    "\n",
    "print(\"시 :\",h)\n",
    "print(\"분 :\",m)\n",
    "print(\"초 :\",s)"
   ]
  },
  {
   "cell_type": "code",
   "execution_count": 13,
   "id": "e04076c9-a6de-49a7-b389-909db1089527",
   "metadata": {},
   "outputs": [
    {
     "data": {
      "text/plain": [
       "int"
      ]
     },
     "execution_count": 13,
     "metadata": {},
     "output_type": "execute_result"
    }
   ],
   "source": [
    "#map() 내장 함수 이용하기\n",
    "\n",
    "# iterable 객체 (시퀀스!!!) 에서 요소를 하나하나 꺼내어 특정 함수를 각각 적용하고 싶을때 사용. \n",
    "\n",
    "\n",
    "int  #이게 function으로 나와?"
   ]
  },
  {
   "cell_type": "code",
   "execution_count": 14,
   "id": "d89d37db-e91e-42b7-87ac-538b5e71e695",
   "metadata": {},
   "outputs": [
    {
     "name": "stdout",
     "output_type": "stream",
     "text": [
      "[1, 2, 3, 4]\n"
     ]
    }
   ],
   "source": [
    "#map(function, iterable) -> <class 'map'>(iterable)\n",
    "\n",
    "a=[1.2, 2.5, 3.7, 4.6]\n",
    "a=list(map(int, a))\n",
    "\n",
    "print(a)"
   ]
  },
  {
   "cell_type": "code",
   "execution_count": 3,
   "id": "3415e499-67be-4116-819c-93c98c5a0db5",
   "metadata": {},
   "outputs": [
    {
     "name": "stdin",
     "output_type": "stream",
     "text": [
      "국어, 영어, 수학, 과학 점수를 입력해주세요. 98,100,96,100\n"
     ]
    },
    {
     "name": "stdout",
     "output_type": "stream",
     "text": [
      "\n",
      "과목의 평균은 98.5 점 입니다.\n"
     ]
    }
   ],
   "source": [
    "##과제##\n",
    "\n",
    "result = input(\"국어, 영어, 수학, 과학 점수를 입력해주세요.\").split(\",\")\n",
    "result = list(map(int,result))\n",
    "\n",
    "print(\"\\n과목의 평균은\", (result[0]+result[1]+result[2]+result[3])/4,\"점 입니다.\")\n"
   ]
  },
  {
   "cell_type": "code",
   "execution_count": null,
   "id": "d82c007b-90ad-468c-984f-949146dde6d7",
   "metadata": {},
   "outputs": [],
   "source": []
  }
 ],
 "metadata": {
  "kernelspec": {
   "display_name": "Python 3 (ipykernel)",
   "language": "python",
   "name": "python3"
  },
  "language_info": {
   "codemirror_mode": {
    "name": "ipython",
    "version": 3
   },
   "file_extension": ".py",
   "mimetype": "text/x-python",
   "name": "python",
   "nbconvert_exporter": "python",
   "pygments_lexer": "ipython3",
   "version": "3.9.13"
  }
 },
 "nbformat": 4,
 "nbformat_minor": 5
}
