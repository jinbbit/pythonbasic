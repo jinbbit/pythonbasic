{
 "cells": [
  {
   "cell_type": "code",
   "execution_count": null,
   "id": "975318d2-d741-4567-81fb-98e7a17f1acc",
   "metadata": {},
   "outputs": [],
   "source": [
    "API Key 발급\n",
    "\n",
    "먼저 API Key를 발급받아야 합니다. 이를 위해 해당 Open API 사이트에서 가입하고 인증을 받아야 합니다.\n",
    "발급받은 API Key는 API 요청 시 함께 보내어야 합니다.\n",
    "API 요청 URL 설정\n",
    "\n",
    "API 요청을 위한 URL을 설정해야 합니다. 이때 API Key와 함께 URL에 필요한 파라미터를 추가하여 전체 URL을 만듭니다.\n",
    "예를 들어, 카카오 맵 API를 사용하여 지정한 키워드의 장소 정보를 검색하려면 다음과 같은 URL을 사용할 수 있습니다.\n",
    "\n"
   ]
  },
  {
   "cell_type": "code",
   "execution_count": null,
   "id": "1575540c-9042-4038-a5cf-193bcce67055",
   "metadata": {},
   "outputs": [],
   "source": [
    "https://dapi.kakao.com/v2/local/search/keyword.json?query={검색 키워드}&page={페이지 번호}&size={한 페이지에 보여줄 문서 수}\n"
   ]
  },
  {
   "cell_type": "code",
   "execution_count": null,
   "id": "e13ede66-3cda-4bd0-b524-3ca5e004e02b",
   "metadata": {},
   "outputs": [],
   "source": [
    "API 요청 및 데이터 수신\n",
    "\n",
    "파이썬에서는 requests 모듈을 사용하여 API 요청을 보내고 응답을 받을 수 있습니다.\n",
    "API 요청에 필요한 URL과 함께 API Key를 함께 보내서 요청합니다.\n",
    "응답은 JSON 형식으로 수신되며, 이를 파싱하여 필요한 데이터를 추출할 수 있습니다.\n",
    "예시 코드:"
   ]
  },
  {
   "cell_type": "code",
   "execution_count": null,
   "id": "d96cb9b2-cd9a-497b-b4a3-9633c2bf71e9",
   "metadata": {},
   "outputs": [],
   "source": [
    "import requests\n",
    "import json\n",
    "\n",
    "headers = {\"Authorization\": \"KakaoAK {API Key}\"}\n",
    "url = \"https://dapi.kakao.com/v2/local/search/keyword.json?query={검색 키워드}&page={페이지 번호}&size={한 페이지에 보여줄 문서 수}\"\n",
    "response = requests.get(url, headers=headers)\n",
    "\n",
    "if response.status_code == 200:\n",
    "    data = json.loads(response.text)\n",
    "    # 필요한 데이터 추출 및 활용\n",
    "else:\n",
    "    print(\"API 요청 실패: \", response.status_code)\n"
   ]
  },
  {
   "cell_type": "code",
   "execution_count": null,
   "id": "6e3d5d1f-acbb-4d3e-9a57-806a718abaec",
   "metadata": {},
   "outputs": [],
   "source": [
    "데이터 저장 및 가공\n",
    "\n",
    "필요한 데이터를 추출한 후, 이를 파일로 저장하거나 분석 및 가공할 수 있습니다.\n",
    "예를 들어, 추출한 데이터를 Pandas 데이터프레임으로 변환하여 분석할 수 있습니다.\n",
    "예시 코드:"
   ]
  },
  {
   "cell_type": "code",
   "execution_count": null,
   "id": "ac57e58d-ec3f-420e-8a8a-fd94ba85807e",
   "metadata": {},
   "outputs": [],
   "source": [
    "import pandas as pd\n",
    "\n",
    "# 추출한 데이터를 Pandas 데이터프레임으로 변환\n",
    "df = pd.DataFrame(data[\"documents\"])\n",
    "\n",
    "# 데이터 분석, 가공 등 필요한 작업 수행\n"
   ]
  }
 ],
 "metadata": {
  "kernelspec": {
   "display_name": "Python 3 (ipykernel)",
   "language": "python",
   "name": "python3"
  },
  "language_info": {
   "codemirror_mode": {
    "name": "ipython",
    "version": 3
   },
   "file_extension": ".py",
   "mimetype": "text/x-python",
   "name": "python",
   "nbconvert_exporter": "python",
   "pygments_lexer": "ipython3",
   "version": "3.9.13"
  }
 },
 "nbformat": 4,
 "nbformat_minor": 5
}
