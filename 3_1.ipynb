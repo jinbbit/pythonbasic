{
 "cells": [
  {
   "cell_type": "code",
   "execution_count": 1,
   "id": "403f57f8-0607-4ff1-a6cf-560cd00b5bac",
   "metadata": {},
   "outputs": [
    {
     "name": "stdout",
     "output_type": "stream",
     "text": [
      "value 1 1.1 [1, 2, 'text']\n"
     ]
    }
   ],
   "source": [
    "#파이썬 출력 - 여러 값을 동시에 출력\n",
    "#여러 값을 동시에 출력하는 방법.  print() 함수의 인수 값을 여러개 넣으면 됨\n",
    "#함수의 구분자는 콤마(,)\n",
    "#값과 값 사이를 구분하는 단위가 기본적으로 공백( )\n",
    "\n",
    "print(\"value\", 1, 1.1, [1, 2, 'text'])"
   ]
  },
  {
   "cell_type": "code",
   "execution_count": 2,
   "id": "e452064a-c6b3-4c12-90d3-f3edee76fe30",
   "metadata": {},
   "outputs": [
    {
     "name": "stdout",
     "output_type": "stream",
     "text": [
      "value,1,1.1,[1, 2, 'text']\n"
     ]
    }
   ],
   "source": [
    "#파이썬 출력 - 값과 값을 구분하는 단위 변경하기\n",
    "#맨 마지막에 'sep=구분기호' 를 작성하여 이를 공백이 아닌 다른문자로 변경가능\n",
    "\n",
    "print('value', 1, 1.1, [1, 2, 'text'], sep=\",\")"
   ]
  },
  {
   "cell_type": "code",
   "execution_count": 3,
   "id": "f4f51438-43a2-49b2-8ff6-cae9a284ec7d",
   "metadata": {},
   "outputs": [
    {
     "name": "stdout",
     "output_type": "stream",
     "text": [
      "줄이바껴\n",
      "왜?\n",
      "왜바뀌는거야\n"
     ]
    }
   ],
   "source": [
    "#파이썬 출력 - 맨 뒤 출력 문자 변경하기\n",
    "#print()함수를 여러 차례 사용하면 출력 결과가 print()함수마다 줄바꿈되어있음.\n",
    "\n",
    "print('줄이바껴')\n",
    "print('왜?')\n",
    "print('왜바뀌는거야')"
   ]
  },
  {
   "cell_type": "code",
   "execution_count": 11,
   "id": "b2823a2b-da21-48b8-922b-e55ddd6f8b31",
   "metadata": {},
   "outputs": [
    {
     "name": "stdout",
     "output_type": "stream",
     "text": [
      "줄이 바뀌지 않습니다.그 이유는 end=\"\\n\"과 같이 기본 설정된 값을 빈 스트링으로 변경했기 때문입니다.\n",
      "sep, end는 맨 뒤에 써야하며 둘 간 순서는 상관없습니다.어떻게 사용하는지\n",
      "이해가 되나요?"
     ]
    }
   ],
   "source": [
    "#출력되는 문자열 맨 뒤에 개행 문자를 기본 값(default)으로 사용했기 때문.\n",
    "#이는 end=문자열을 맨 뒤에 입력하여 변경 가능\n",
    "\n",
    "print(\"줄이 바뀌지 않습니다.\", end=\"\")\n",
    "print(\"그 이유는 end=\\\"\\\\n\\\"과 같이 기본 설정된 값을 빈 스트링으로 변경했기 때문입니다.\")\n",
    "print(\"sep\",\"end는 맨 뒤에 써야하며 둘 간 순서는 상관없습니다.\", sep=\", \", end=\"\")\n",
    "print(\"어떻게 사용하는지\", \"이해가 되나요\", sep=\"\\n\", end=\"?\")\n",
    "\n",
    "\n",
    "## sep = \" \", end 맨 뒤에 와야한다"
   ]
  },
  {
   "cell_type": "code",
   "execution_count": 16,
   "id": "0d7245ea-978b-43b2-b700-eae20e444973",
   "metadata": {},
   "outputs": [
    {
     "name": "stdout",
     "output_type": "stream",
     "text": [
      "2021/02/03 18:33:23\n"
     ]
    }
   ],
   "source": [
    "#연습 문제\n",
    "\n",
    "year = '2021'\n",
    "month = '02'\n",
    "day = '03'\n",
    "hour = '18'\n",
    "minute = '33'\n",
    "second = '23'\n",
    "\n",
    "print(year, month, day, end = \" \", sep=\"/\")\n",
    "print(hour, minute, second, sep=\":\")"
   ]
  },
  {
   "cell_type": "code",
   "execution_count": 4,
   "id": "5223f7a1-6a32-47ab-8065-18cbc8b86042",
   "metadata": {},
   "outputs": [
    {
     "name": "stdin",
     "output_type": "stream",
     "text": [
      "사과와 귤을 몇개 드릴까요? 10,20\n"
     ]
    }
   ],
   "source": [
    "#연습 문제\n",
    "\n",
    "\n",
    "a, o = map(int, input(\"사과와 귤을 몇개 드릴까요?\").split(\",\"))\n",
    "total = 1000*a+200*o\n",
    "\n",
    "print = (\"총 가격은\", total,\"원 입니다.\")"
   ]
  },
  {
   "cell_type": "code",
   "execution_count": null,
   "id": "d82f5073-3447-469d-a811-f601970eab8d",
   "metadata": {},
   "outputs": [],
   "source": [
    "#풀이\n",
    "\n",
    "a, b = map(int, input(\"사과와 귤을 몇개 드릴까요?\").split(\",\"))\n"
   ]
  },
  {
   "cell_type": "code",
   "execution_count": 1,
   "id": "b8388c92-c61f-44a6-b638-7b6df03471c7",
   "metadata": {},
   "outputs": [
    {
     "name": "stdout",
     "output_type": "stream",
     "text": [
      "10\n",
      "10 20 30\n",
      "101 202 303 404 505\n"
     ]
    }
   ],
   "source": [
    "#문자열의 format() 메서드\n",
    "\n",
    "print(\"{}\".format(10))\n",
    "print(\"{} {} {}\".format(10, 20, 30))\n",
    "print(\"{} {} {} {} {}\".format(101, 202, 303, 404, 505))"
   ]
  },
  {
   "cell_type": "code",
   "execution_count": 5,
   "id": "2f102ad7-a334-4869-a92e-5ad7fff92ad9",
   "metadata": {},
   "outputs": [
    {
     "name": "stdout",
     "output_type": "stream",
     "text": [
      "오늘의 날짜를 알려드립니다!\n",
      "2023년 2월 15일입니다.\n"
     ]
    }
   ],
   "source": [
    "#문자열의 format() 메서드\n",
    "#삼중 따옴표를 활영한 문자열도 가능\n",
    "\n",
    "import time\n",
    "\n",
    "today = \"\"\"오늘의 날짜를 알려드립니다!\n",
    "{}년 {}월 {}일입니다.\\\n",
    "\"\"\".format(time.localtime().tm_year,\n",
    "           time.localtime().tm_mon,\n",
    "           time.localtime().tm_mday)\n",
    "\n",
    "print(today)"
   ]
  },
  {
   "cell_type": "code",
   "execution_count": 6,
   "id": "2e4cdcc9-ec5e-43d4-99ca-e851a17211ae",
   "metadata": {},
   "outputs": [
    {
     "name": "stdout",
     "output_type": "stream",
     "text": [
      "중괄호는 2개이고 ,여기 인수는\n"
     ]
    }
   ],
   "source": [
    "#문자열의 format() 메서드\n",
    "#중괄호 개수와 formay()메서드의 인수의 개수가 차이가 난다면?\n",
    "#일단 중괄호 개수 < format 메서드 인수\n",
    "#초과되는 format 메서드의 인수는 버려진다.\n",
    "\n",
    "some_str = \"중괄호는 2개이고 ,{} {}\".format(\"여기\",\"인수는\",\"3개 입니다.\")\n",
    "print(some_str)"
   ]
  },
  {
   "cell_type": "code",
   "execution_count": 7,
   "id": "c3357246-187d-4893-a21d-4175314fc237",
   "metadata": {},
   "outputs": [
    {
     "ename": "IndexError",
     "evalue": "Replacement index 3 out of range for positional args tuple",
     "output_type": "error",
     "traceback": [
      "\u001b[1;31m---------------------------------------------------------------------------\u001b[0m",
      "\u001b[1;31mIndexError\u001b[0m                                Traceback (most recent call last)",
      "\u001b[1;32m~\\AppData\\Local\\Temp\\ipykernel_9396\\3480446928.py\u001b[0m in \u001b[0;36m<module>\u001b[1;34m\u001b[0m\n\u001b[0;32m      2\u001b[0m \u001b[1;31m#IndexError가 발생하게 된다.\u001b[0m\u001b[1;33m\u001b[0m\u001b[1;33m\u001b[0m\u001b[0m\n\u001b[0;32m      3\u001b[0m \u001b[1;33m\u001b[0m\u001b[0m\n\u001b[1;32m----> 4\u001b[1;33m \u001b[0msome_str\u001b[0m \u001b[1;33m=\u001b[0m \u001b[1;34m\"중괄호는 4개이고, {} {} {} {}\"\u001b[0m\u001b[1;33m.\u001b[0m\u001b[0mformat\u001b[0m\u001b[1;33m(\u001b[0m\u001b[1;34m\"여기\"\u001b[0m\u001b[1;33m,\u001b[0m\u001b[1;34m\"인수는\"\u001b[0m\u001b[1;33m,\u001b[0m\u001b[1;34m\"3개 입니다.\"\u001b[0m\u001b[1;33m)\u001b[0m\u001b[1;33m\u001b[0m\u001b[1;33m\u001b[0m\u001b[0m\n\u001b[0m\u001b[0;32m      5\u001b[0m \u001b[0mprint\u001b[0m\u001b[1;33m(\u001b[0m\u001b[0msome_str\u001b[0m\u001b[1;33m)\u001b[0m\u001b[1;33m\u001b[0m\u001b[1;33m\u001b[0m\u001b[0m\n",
      "\u001b[1;31mIndexError\u001b[0m: Replacement index 3 out of range for positional args tuple"
     ]
    }
   ],
   "source": [
    "#반대로 중괄호 개수 > format 메서드 인수\n",
    "#IndexError가 발생하게 된다.\n",
    "\n",
    "some_str = \"중괄호는 4개이고, {} {} {} {}\".format(\"여기\",\"인수는\",\"3개 입니다.\")\n",
    "print(some_str)"
   ]
  },
  {
   "cell_type": "code",
   "execution_count": 9,
   "id": "fc12a0d1-e305-4bc8-92ac-522f2b9d373f",
   "metadata": {},
   "outputs": [
    {
     "name": "stdout",
     "output_type": "stream",
     "text": [
      "10\n",
      "10 20 30\n",
      "101 202 303 404 505\n"
     ]
    }
   ],
   "source": [
    "#문자열의 f-string\n",
    "#다른 방법으로 문자열 앞에 f 알파벳을 붙이고 중괄호 안에 리터럴 값 혹은 변수를 넣어서 표현할 수도 있습니다.\n",
    "#이를 f-string이라고 합니다.\n",
    "\n",
    "print(f\"{10}\")\n",
    "print(f\"{10} {20} {30}\")\n",
    "print(f\"{101} {202} {303} {404} {505}\")\n"
   ]
  },
  {
   "cell_type": "code",
   "execution_count": null,
   "id": "3048636f-7365-47b4-8c85-f6b5292366a7",
   "metadata": {},
   "outputs": [],
   "source": [
    "#문자열의 f-string\n",
    "#삼중 따옴표를 쓴 문자열도 적용 가능\n",
    "\n",
    "import time\n",
    "\n",
    "today = f\"\"\"오늘의 날씨를 알려드립니다!\n",
    "{time.localtime"
   ]
  }
 ],
 "metadata": {
  "kernelspec": {
   "display_name": "Python 3 (ipykernel)",
   "language": "python",
   "name": "python3"
  },
  "language_info": {
   "codemirror_mode": {
    "name": "ipython",
    "version": 3
   },
   "file_extension": ".py",
   "mimetype": "text/x-python",
   "name": "python",
   "nbconvert_exporter": "python",
   "pygments_lexer": "ipython3",
   "version": "3.9.13"
  }
 },
 "nbformat": 4,
 "nbformat_minor": 5
}
