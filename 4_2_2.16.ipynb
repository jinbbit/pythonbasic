{
 "cells": [
  {
   "cell_type": "code",
   "execution_count": 3,
   "id": "81f16faf-2f00-4f52-a8ba-448dcab455e8",
   "metadata": {
    "tags": []
   },
   "outputs": [
    {
     "name": "stdout",
     "output_type": "stream",
     "text": [
      "Hello world!\n",
      "Hello world!\n",
      "Hello world!\n",
      "Hello world!\n",
      "Hello world!\n",
      "Hello world!\n",
      "Hello world!\n",
      "Hello world!\n",
      "Hello world!\n",
      "Hello world!\n"
     ]
    }
   ],
   "source": [
    "# while문\n",
    "\n",
    "#초기식\n",
    "i = 0\n",
    "\n",
    "while i < 10:        # while 조건식 / 무조건 True여야 함\n",
    "    print(\"Hello world!\")     # 반복할 콬\n",
    "    #증감식\n",
    "    i += 1  #변화식  # 이거 없으면 끝없이 반복\n",
    "                "
   ]
  },
  {
   "cell_type": "code",
   "execution_count": 6,
   "id": "96523f71-fd04-48e8-99ad-e9d5077cf587",
   "metadata": {},
   "outputs": [
    {
     "name": "stdin",
     "output_type": "stream",
     "text": [
      "반복할 횟수를 입력하세요:  3\n"
     ]
    },
    {
     "name": "stdout",
     "output_type": "stream",
     "text": [
      "Hello world 3\n",
      "Hello world 2\n",
      "Hello world 1\n"
     ]
    }
   ],
   "source": [
    "# 예제\n",
    "\n",
    "count = int(input(\"반복할 횟수를 입력하세요: \"))\n",
    "\n",
    "while count > 0 :\n",
    "    print(\"Hello world\", count)\n",
    "    count -= 1"
   ]
  },
  {
   "cell_type": "code",
   "execution_count": 19,
   "id": "617de1f3-5120-4505-9f09-b1b5fef4d03e",
   "metadata": {
    "tags": []
   },
   "outputs": [
    {
     "name": "stdout",
     "output_type": "stream",
     "text": [
      "2\t4\t6\t8\t10\t12\t14\t16\t18\t20\t22\t24\t26\t28\t30\t32\t34\t36\t38\t40\t42\t44\t46\t48\t50\t52\t54\t56\t58\t60\t62\t64\t66\t68\t70\t72\t74\t76\t78\t80\t82\t84\t86\t88\t90\t92\t94\t96\t98\t100\t"
     ]
    }
   ],
   "source": [
    "#\n",
    "\n",
    "i=2\n",
    "\n",
    "while i<=100 :\n",
    "    print(i, end=\"\\t\")\n",
    "    i += 2"
   ]
  },
  {
   "cell_type": "code",
   "execution_count": 41,
   "id": "dad70a1c-082f-4adb-8ce4-1543de105dcd",
   "metadata": {},
   "outputs": [
    {
     "name": "stdout",
     "output_type": "stream",
     "text": [
      "2\t4\t6\t8\t10\t12\t14\t16\t\n",
      "18\t20\t22\t24\t26\t28\t30\t32\t\n",
      "34\t36\t38\t40\t42\t44\t46\t48\t\n",
      "50\t52\t54\t56\t58\t60\t62\t64\t\n",
      "66\t68\t70\t72\t74\t76\t78\t80\t\n",
      "82\t84\t86\t88\t90\t92\t94\t96\t\n",
      "98\t100\t"
     ]
    }
   ],
   "source": [
    "# 이건 추가로 if문 조건으로 한줄에 8개만!!\n",
    "\n",
    "i=1\n",
    "\n",
    "while i<=50 :\n",
    "    print(i*2, end=\"\\t\")\n",
    "\n",
    "    if i % 8 ==0 :\n",
    "        print()\n",
    "    else:\n",
    "        pass\n",
    "    i += 1"
   ]
  },
  {
   "cell_type": "code",
   "execution_count": 32,
   "id": "3f73ef37-36ae-4d46-8948-7a20841cd0f5",
   "metadata": {},
   "outputs": [
    {
     "name": "stdout",
     "output_type": "stream",
     "text": [
      "2\n"
     ]
    }
   ],
   "source": [
    "\n",
    "i=2\n",
    "\n",
    "while i<= 100  i % 2 == 0 :\n",
    "    print(i)\n",
    "    i += 1\n",
    "    \n",
    "    \n",
    "    \n",
    "# while 조건은 무조건 true가 나와야하니까 and 조건을 그렇게 쓸 수가 없어!\n"
   ]
  },
  {
   "cell_type": "code",
   "execution_count": 49,
   "id": "c7b33d07-f620-4743-86e2-71db0d303b8e",
   "metadata": {},
   "outputs": [
    {
     "name": "stdin",
     "output_type": "stream",
     "text": [
      "구구단을 알려드립니다. 숫자를 입력하세요 9\n"
     ]
    },
    {
     "name": "stdout",
     "output_type": "stream",
     "text": [
      "9 * 1 = 9\n",
      "9 * 2 = 18\n",
      "9 * 3 = 27\n",
      "9 * 4 = 36\n",
      "9 * 5 = 45\n",
      "9 * 6 = 54\n",
      "9 * 7 = 63\n",
      "9 * 8 = 72\n",
      "9 * 9 = 81\n"
     ]
    }
   ],
   "source": [
    "\n",
    "n = int(input(\"구구단을 알려드립니다. 숫자를 입력하세요\"))\n",
    "\n",
    "i=1\n",
    "while i<10 :\n",
    "    print(n, \"*\", i, \"=\", n*i)\n",
    "    \n",
    "    i += 1"
   ]
  },
  {
   "cell_type": "code",
   "execution_count": null,
   "id": "dcf4275f-d9fc-4d1b-842b-a63f7bc8b381",
   "metadata": {},
   "outputs": [],
   "source": [
    "# for문으로 시퀀스 객체의 인덱스 루프(loop) 테크닉\n",
    "# while문과 len()함수를 함께 사용해서 시퀀스 객체의 \n",
    "\n",
    "scores = (97. 100. "
   ]
  },
  {
   "cell_type": "code",
   "execution_count": 52,
   "id": "959f73f2-5b10-42e6-8813-fdf3c2565cf2",
   "metadata": {},
   "outputs": [
    {
     "name": "stdout",
     "output_type": "stream",
     "text": [
      "len(a): 4\n",
      "87\n",
      "22\n",
      "31\n",
      "98\n"
     ]
    }
   ],
   "source": [
    "#    0   1   2   3    ---> 인덱스 \n",
    "a = [87, 22, 31, 98]\n",
    "\n",
    "print(f\"len(a): {len(a)}\")   #4 ---> 인덱스의 가장 큰 값보다 1이 큼.\n",
    "\n",
    "# 인덱스를 순서대로 접근할 수 있도록 제어할 변수\n",
    "# 0~3까지 1씩 증가\n",
    "i=0\n",
    "\n",
    "# 인덱싱을 할 때는 정확한 범위의 인덱스에 접근해야 한다.\n",
    "while i < len(a):\n",
    "    print(a[i])     # ----> a라는 값을 인덱싱  \n",
    "    i += 1"
   ]
  }
 ],
 "metadata": {
  "kernelspec": {
   "display_name": "Python 3 (ipykernel)",
   "language": "python",
   "name": "python3"
  },
  "language_info": {
   "codemirror_mode": {
    "name": "ipython",
    "version": 3
   },
   "file_extension": ".py",
   "mimetype": "text/x-python",
   "name": "python",
   "nbconvert_exporter": "python",
   "pygments_lexer": "ipython3",
   "version": "3.9.13"
  }
 },
 "nbformat": 4,
 "nbformat_minor": 5
}
