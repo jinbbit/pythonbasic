{
 "cells": [
  {
   "cell_type": "code",
   "execution_count": null,
   "id": "081350c4-3833-4765-98ee-ca63440f6a72",
   "metadata": {},
   "outputs": [],
   "source": [
    "<<< 객체지향(Object Oriented) 프로그래밍 >>>\n",
    "\n",
    "현실 세계의 복잡한 문제를 처리하는데 유용함.\n",
    "기능을 개선하고 발전시킬 때도 해당 클래스만 수정하면 되므로 \n",
    "큰 프로젝트의 유지보수에도 매우 효율적.\n",
    "\n",
    "객체가 가진 데이터 => 클래스의 속성(Attribute) \n",
    "객체가 갖는 기능 => 메서드(Method)\n",
    "\n"
   ]
  },
  {
   "cell_type": "code",
   "execution_count": null,
   "id": "4cf04bab-faa5-4f0c-b49b-fc69d688eea3",
   "metadata": {},
   "outputs": [],
   "source": [
    "< 클래스(Class) >\n",
    "\n",
    "클래스 = 사용자 정의 객체를 만들기 위한 주형(설계)\n",
    "클래스 안에 메서드가 있다~\n",
    "\n",
    "      # 클래스명으로 주로 PascalCase(UpperCamelCase)를 씁니다.\n",
    "      # 단어와단어를 대문자를 사이에 두고 구분\n",
    "      # 이렇게쓰면 클래스구나 알수있게~~\n",
    "      # 표준인거지 다르게 쓸 수도 있다.\n",
    "      # 소괄호는 쓸 수도 있는데, '상속'이라는거에~ 여기선 설명 no\n",
    "class ClassName :\n",
    "    det method_name(self):\n",
    "        method_body\n",
    "        \n",
    "    class_body\n",
    "    ...\n",
    "    "
   ]
  },
  {
   "cell_type": "code",
   "execution_count": 4,
   "id": "d90d30ab-3cc0-4ba4-9c65-f7c12b5fbe9a",
   "metadata": {},
   "outputs": [
    {
     "name": "stdout",
     "output_type": "stream",
     "text": [
      "<class 'int'>\n",
      "<class 'list'>\n",
      "<class 'dict'>\n"
     ]
    }
   ],
   "source": [
    "# 클래스(Class)\n",
    "# 지금까지 사용해온 int, list, dict 등도 클래스\n",
    "\n",
    "number = int(10)\n",
    "print(type(number))\n",
    "\n",
    "num_list = list(range(10))\n",
    "print(type(num_list))\n",
    "\n",
    "num_dick = dict (key = \"value\", key2 = \"value2\")\n",
    "print(type(num_dick))"
   ]
  },
  {
   "cell_type": "code",
   "execution_count": null,
   "id": "6f4d8bd2-fd67-4981-a73c-b9311ea40dbe",
   "metadata": {},
   "outputs": [],
   "source": [
    "< 객체(Objet)? 인스턴스(Instance)?? >\n",
    "\n",
    "객체 : 객체를 언급할 때 단어 하나만 활용할 때\n",
    "인스턴스 : 특성 클래스로부터 만들어진 실체\n",
    "\n",
    "ex) 인스턴스의 경우 '리스트 클래스로 만들어진 인스턴스다'라고 말할 수 있다.\n",
    "부르는 구체적인 것은 조금 달라도 결국 둘 같은 말!\n",
    "\n",
    "인스턴스의 생성은 클래스명 오른편에 소괄호()를 붙여서 만듦\n",
    "instance_variable = ClassName()"
   ]
  },
  {
   "cell_type": "code",
   "execution_count": null,
   "id": "c560d949-41c0-4731-aca9-48c6d978fdcf",
   "metadata": {},
   "outputs": [],
   "source": [
    "< 메서드(Method) >\n",
    "\n",
    "매서드 : 클래스 바디 안에서 정의되는 함수\n",
    "클래스의 인스턴스의 어트리뷰트(attribute)로서 호출되면, 그 메서드는 첫 번째 인사로~~"
   ]
  },
  {
   "cell_type": "code",
   "execution_count": null,
   "id": "703673cf-0387-43ee-9ccf-ee01e5654a7a",
   "metadata": {},
   "outputs": [],
   "source": [
    "< 클래스 속성(Attribute) >\n",
    "__init__ 메서드 안에서 self.속성에 값을 할당하면 만들어짐."
   ]
  },
  {
   "cell_type": "code",
   "execution_count": 28,
   "id": "3911ac11-5c6c-4393-91e1-b134bef441ed",
   "metadata": {},
   "outputs": [
    {
     "name": "stdout",
     "output_type": "stream",
     "text": [
      "안녕하세요.\n"
     ]
    }
   ],
   "source": [
    "# 클래스 속성(Attribute)를 만들 때는 __init__ 메서드 안에서\n",
    "# self.속성에 값을 할당하면 됩니다!!\n",
    "\n",
    "class Person:\n",
    "    def __init__(self) : \n",
    "        self.hello = \"안녕하세요.\"\n",
    "        \n",
    "    def greeting(self) : \n",
    "        print(self.hello)\n",
    "        \n",
    "james = Person() \n",
    "james.greeting()"
   ]
  },
  {
   "cell_type": "code",
   "execution_count": null,
   "id": "2aff67a7-7ed7-44cd-85e5-f573f05825d9",
   "metadata": {},
   "outputs": [],
   "source": [
    "< 클래스 속성(Attribute) >\n",
    "\n",
    "__init__ 메서드는 james = Person()처럼 클래스에 소괄호(())를 붙여서 인스턴스를 \n",
    "만들 때 호출되는 특별한 메서드(special method, magic method)입니다.\n",
    "\n",
    "__init__은 initialize의 줄임말로 인스턴스(객체)를 초기화(메모리에 공간을 할당하고 \n",
    "값을 부여함)합니다.                               # 최초로 만들어진다.\n",
    "\n",
    "밑줄 두개(__ double under, 던더)가 양 옆으로 붙어있는 메서드는 파이썬이 자동으로 \n",
    "호출하는 메서드입니다. 스페셜 메서드(special method) 혹은 매직 메서드(magic \n",
    "method)라고 부릅니다. 던더 메서드로 불리기도 합니다. 파이썬의 여러 가지 기능을 \n",
    "사용할 때 이 던더 메서드를 구현하는 식으로 사용하게 됩니다."
   ]
  },
  {
   "cell_type": "code",
   "execution_count": null,
   "id": "28cfaa87-c118-4b5d-b9fa-5c084c062ba8",
   "metadata": {},
   "outputs": [],
   "source": [
    "< 클래스 속성(Attribute) >\n",
    "# 특정하나의 객체.속성\n",
    "속성은 __init__ 메서드에서 만든다는 점과 self에 마침표(.)를 붙여 속성명을 붙이고 \n",
    "값을 할당하는 점을 기억해두세요.\n",
    "클래스 바디에서도 속성을 접근할 때 self.속성 과 같이 self에 마침표를 찍고 사용하면 \n",
    "됩니다"
   ]
  },
  {
   "cell_type": "code",
   "execution_count": null,
   "id": "29436a5a-9ea8-48b6-9b4d-573ee317519d",
   "metadata": {},
   "outputs": [],
   "source": [
    "< self란 >  # 특정인스턴스.속성\n",
    "            # 특정인스턴스.메소드()\n",
    "self는 인스턴스 자기 자신을 의미합니다. \n",
    "\n",
    "위 예제에서 인스턴스가 생성될 때 self.hello = ‘안녕하세요’ 처럼 자기 자신에 속성을 \n",
    "추가하여 사용했었습니다.\n",
    "\n",
    "__init__의 매개변수 self에 들어가는 값는 Person() 인스턴스라고 할 수 있습니다. \n",
    "self가 완성된 후에는 변수인 james에 할당되었습니다.\n",
    "\n",
    "이후 메서드를 호출하면 현재 인스턴스가 자동으로 매개변수 self에 들어옵니다. \n",
    "그래서 greeting 메서드에서 print(self.hello)처럼 속성을 출력할 수 있었습니다"
   ]
  },
  {
   "cell_type": "code",
   "execution_count": 29,
   "id": "2225300e-8236-42f9-9bb3-42692c769f70",
   "metadata": {},
   "outputs": [],
   "source": [
    "# 강사님 추가예제\n",
    "\n",
    "class Student :\n",
    "    pass"
   ]
  },
  {
   "cell_type": "code",
   "execution_count": 30,
   "id": "b2fd3788-a488-4c34-8141-223a56a3b402",
   "metadata": {},
   "outputs": [],
   "source": [
    "s1 = Student()"
   ]
  },
  {
   "cell_type": "code",
   "execution_count": 31,
   "id": "4c35c14f-7226-4a5f-b327-dfe97fb89359",
   "metadata": {},
   "outputs": [
    {
     "data": {
      "text/plain": [
       "__main__.Student"
      ]
     },
     "execution_count": 31,
     "metadata": {},
     "output_type": "execute_result"
    }
   ],
   "source": [
    "type(s1)"
   ]
  },
  {
   "cell_type": "code",
   "execution_count": 32,
   "id": "8cb504a0-466d-4d24-ac6b-cfc8d01d3050",
   "metadata": {},
   "outputs": [],
   "source": [
    "s1.name = \"홍길동\""
   ]
  },
  {
   "cell_type": "code",
   "execution_count": 33,
   "id": "059445b0-23b3-4076-8a5e-0f5b40d00c8b",
   "metadata": {},
   "outputs": [
    {
     "name": "stdout",
     "output_type": "stream",
     "text": [
      "홍길동\n"
     ]
    }
   ],
   "source": [
    "print(s1.name)"
   ]
  },
  {
   "cell_type": "code",
   "execution_count": 34,
   "id": "2e1b1168-16a2-4677-ad16-a7695db96b2e",
   "metadata": {},
   "outputs": [],
   "source": [
    "s1.name = \"이몽룡\""
   ]
  },
  {
   "cell_type": "code",
   "execution_count": 8,
   "id": "4eac9a9f-2774-4bd3-9865-a301650b8d3d",
   "metadata": {},
   "outputs": [
    {
     "name": "stdout",
     "output_type": "stream",
     "text": [
      "이몽룡\n"
     ]
    }
   ],
   "source": [
    "print(s1.name)  # 속성이란게 . 찍고! 인스턴스 속성을 바꿔~"
   ]
  },
  {
   "cell_type": "code",
   "execution_count": 35,
   "id": "8b512e43-6aca-4d70-a5e7-bc08bf61db7c",
   "metadata": {},
   "outputs": [],
   "source": [
    "# 예제2\n",
    "\n",
    "class Student :  \n",
    "    # 생성자 : 객체가 최초 생성될 때 \n",
    "    # 단 한 번 실행되는 메서드\n",
    "    def __init__(self) :  \n",
    "        # self라는 것은 내 자신의 인스턴스!!\n",
    "        self.name = \"홍길동\""
   ]
  },
  {
   "cell_type": "code",
   "execution_count": 36,
   "id": "250047e0-0c6a-48ed-9c8a-c930509e5d1c",
   "metadata": {},
   "outputs": [],
   "source": [
    "# Sstudent 클래스로부터 객체를 하나 생성\n",
    "s1 = Student()\n",
    "\n",
    "s2 = Student()"
   ]
  },
  {
   "cell_type": "code",
   "execution_count": 40,
   "id": "ef7f006c-c24b-43c7-8b7a-d95afe4d216e",
   "metadata": {},
   "outputs": [],
   "source": [
    "s1.age = 32"
   ]
  },
  {
   "cell_type": "code",
   "execution_count": 42,
   "id": "3db25600-f0da-4108-b91a-db3e17a8ec64",
   "metadata": {},
   "outputs": [
    {
     "name": "stdout",
     "output_type": "stream",
     "text": [
      "32\n"
     ]
    }
   ],
   "source": [
    "print(s1.age)"
   ]
  },
  {
   "cell_type": "code",
   "execution_count": 38,
   "id": "e6501ae4-5cf3-405c-9a13-6f4203c110fb",
   "metadata": {},
   "outputs": [
    {
     "name": "stdout",
     "output_type": "stream",
     "text": [
      "홍길동\n"
     ]
    }
   ],
   "source": [
    "print(s1.name)"
   ]
  },
  {
   "cell_type": "code",
   "execution_count": 39,
   "id": "9bfd7f02-0132-4206-b775-0784aee8f4ed",
   "metadata": {},
   "outputs": [
    {
     "name": "stdout",
     "output_type": "stream",
     "text": [
      "홍길동\n"
     ]
    }
   ],
   "source": [
    "print(s2.name)"
   ]
  },
  {
   "cell_type": "code",
   "execution_count": null,
   "id": "7cdce24e-d47d-42df-8468-7a3e80edf251",
   "metadata": {},
   "outputs": [],
   "source": []
  }
 ],
 "metadata": {
  "kernelspec": {
   "display_name": "Python 3 (ipykernel)",
   "language": "python",
   "name": "python3"
  },
  "language_info": {
   "codemirror_mode": {
    "name": "ipython",
    "version": 3
   },
   "file_extension": ".py",
   "mimetype": "text/x-python",
   "name": "python",
   "nbconvert_exporter": "python",
   "pygments_lexer": "ipython3",
   "version": "3.9.13"
  }
 },
 "nbformat": 4,
 "nbformat_minor": 5
}
