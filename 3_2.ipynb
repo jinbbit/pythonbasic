{
 "cells": [
  {
   "cell_type": "code",
   "execution_count": null,
   "id": "1551884a-ae59-4b15-ba44-596757f84c68",
   "metadata": {},
   "outputs": [],
   "source": [
    "# if문\n",
    "# 파이썬은 들여쓰기가 생명입니댜~~\n",
    "# True 일때 if문 블록(띄어쓰기4칸)\n",
    "# False 면 main 흐름"
   ]
  },
  {
   "cell_type": "code",
   "execution_count": null,
   "id": "d5bf4bb1-ca5c-4c60-8b65-23bc923be7d0",
   "metadata": {},
   "outputs": [],
   "source": [
    "# if문 예제\n",
    "# input_value4가 정수일 때만 실행되는 코드를 작성해보자.\n",
    "# type() 내장 함수는 객체의 타입을 반환.(실제 값을 가지고있는게 객체구나)\n",
    "# type 함수는 타입의 개수를 알수있다.\n",
    "# 정수의 객체 타입은 int"
   ]
  },
  {
   "cell_type": "code",
   "execution_count": 4,
   "id": "4bdc8682-f36a-44e7-8b1c-58c866c0df19",
   "metadata": {
    "tags": []
   },
   "outputs": [
    {
     "ename": "NameError",
     "evalue": "name 'input_value4' is not defined",
     "output_type": "error",
     "traceback": [
      "\u001b[1;31m---------------------------------------------------------------------------\u001b[0m",
      "\u001b[1;31mNameError\u001b[0m                                 Traceback (most recent call last)",
      "\u001b[1;32m~\\AppData\\Local\\Temp\\ipykernel_13140\\1536089000.py\u001b[0m in \u001b[0;36m<module>\u001b[1;34m\u001b[0m\n\u001b[1;32m----> 1\u001b[1;33m \u001b[1;32mif\u001b[0m \u001b[0mtype\u001b[0m\u001b[1;33m(\u001b[0m\u001b[0minput_value4\u001b[0m\u001b[1;33m)\u001b[0m \u001b[1;32mis\u001b[0m \u001b[0mint\u001b[0m\u001b[1;33m:\u001b[0m\u001b[1;33m\u001b[0m\u001b[1;33m\u001b[0m\u001b[0m\n\u001b[0m\u001b[0;32m      2\u001b[0m     \u001b[0mprint\u001b[0m\u001b[1;33m(\u001b[0m\u001b[1;34m\"input_value4는 정수입니다.\"\u001b[0m\u001b[1;33m)\u001b[0m\u001b[1;33m\u001b[0m\u001b[1;33m\u001b[0m\u001b[0m\n",
      "\u001b[1;31mNameError\u001b[0m: name 'input_value4' is not defined"
     ]
    }
   ],
   "source": [
    "# input_value4 정의안됨??\n",
    "\n",
    "if type(input_value4) is int:\n",
    "    print(\"input_value4는 정수입니다.\")"
   ]
  },
  {
   "cell_type": "code",
   "execution_count": null,
   "id": "99b7b77d-7827-4893-9669-04c7eb164b06",
   "metadata": {},
   "outputs": [],
   "source": [
    "# if문과 elif문 (else if=elif)\n",
    "# 만약~   앞에 조건이 False일 때 만약~\n",
    "# elif문은 앞의 if문이 False일 때!\n"
   ]
  },
  {
   "cell_type": "code",
   "execution_count": 8,
   "id": "5451c58b-200c-45fd-a331-b6d7f76dfabb",
   "metadata": {},
   "outputs": [
    {
     "name": "stdout",
     "output_type": "stream",
     "text": [
      "a는 정수입니다.\n"
     ]
    }
   ],
   "source": [
    "# if: 조건이 맞을 때만 실행하라!\n",
    "\n",
    "a = 100\n",
    "\n",
    "# a라는 변수의 타입이 int라면 True,  아닌라면 False\n",
    "if type(a) is int:\n",
    "    print(\"a는 정수입니다.\")"
   ]
  },
  {
   "cell_type": "code",
   "execution_count": 10,
   "id": "c325a0b8-6770-4333-973a-e7c86456a265",
   "metadata": {},
   "outputs": [
    {
     "name": "stdout",
     "output_type": "stream",
     "text": [
      "<class 'str'>\n",
      "b는 문자열입니다.\n"
     ]
    }
   ],
   "source": [
    "b = \"10\"\n",
    "print(type(b))\n",
    "#b의 타입은 뭐였어? 문자열이넹 그럼 elif으로 나오겠넹\n",
    "\n",
    "if type(b) is int:\n",
    "    print(\"b는 정수입니다.\")\n",
    "    \n",
    "elif type(b) is str:\n",
    "    print(\"b는 문자열입니다.\")"
   ]
  },
  {
   "cell_type": "code",
   "execution_count": 17,
   "id": "408e5d8c-ab31-4c99-8999-a51f38648f68",
   "metadata": {},
   "outputs": [
    {
     "name": "stdout",
     "output_type": "stream",
     "text": [
      "<class 'str'>\n",
      "b는 문자열입니다.\n"
     ]
    }
   ],
   "source": [
    "b = \"10\"\n",
    "print(type(b))\n",
    "#b의 타입은 뭐였어? 문자열이넹 그럼 elif으로 나오겠넹\n",
    "\n",
    "if type(b) is int:\n",
    "    print(\"b는 정수입니다.\")\n",
    "    \n",
    "# 앞의 조건이 전부 False일 때만 실행되는 부분\n",
    "elif True: # type(b) is not int\n",
    "    print(\"b는 문자열입니다.\")"
   ]
  },
  {
   "cell_type": "code",
   "execution_count": 16,
   "id": "1c2fcf6b-bf23-4ab0-904b-05b0aeb304a8",
   "metadata": {},
   "outputs": [],
   "source": [
    "c = 10\n",
    "\n",
    "if c >10:\n",
    "    print(\"10보다 큽니다.\")\n",
    "\n",
    "elif c < 5:\n",
    "    print(\"10보다 작고, 5보다도 작습니다.\")\n",
    "    \n",
    "# 실행됐는데 왜 아무 결과 안나와?? 둘다 조건을 충족시키지 못했으니까!\n",
    "# 밑으로 연결되지\n"
   ]
  },
  {
   "cell_type": "code",
   "execution_count": 15,
   "id": "4270f707-8ace-4156-bdee-aa7ae982442e",
   "metadata": {},
   "outputs": [
    {
     "name": "stdout",
     "output_type": "stream",
     "text": [
      "시작\n",
      "10보다 큽니다.\n",
      "끝\n"
     ]
    }
   ],
   "source": [
    "c = 11\n",
    "print(\"시작\")\n",
    "\n",
    "if c >10:\n",
    "    print(\"10보다 큽니다.\")\n",
    "\n",
    "elif c < 5:\n",
    "    print(\"10보다 작고, 5보다도 작습니다.\")\n",
    "    \n",
    "\n",
    "print(\"끝\")"
   ]
  },
  {
   "cell_type": "code",
   "execution_count": 18,
   "id": "e981ed00-dacd-41fe-8bad-77e69c071515",
   "metadata": {},
   "outputs": [
    {
     "name": "stdout",
     "output_type": "stream",
     "text": [
      "시작\n",
      "10보다 작고, 5보단 큽니다.\n",
      "끝\n"
     ]
    }
   ],
   "source": [
    "c = 6\n",
    "print(\"시작\")\n",
    "\n",
    "if c >10:\n",
    "    print(\"10보다 큽니다.\")\n",
    "\n",
    "elif c < 5:\n",
    "    print(\"10보다 작고, 5보다도 작습니다.\")\n",
    "    \n",
    "elif True:\n",
    "    print(\"10보다 작고, 5보단 큽니다.\")\n",
    "    \n",
    "print(\"끝\")"
   ]
  },
  {
   "cell_type": "code",
   "execution_count": 19,
   "id": "032058af-94b3-4870-a7cf-c857e7ddef28",
   "metadata": {},
   "outputs": [
    {
     "name": "stdout",
     "output_type": "stream",
     "text": [
      "시작\n",
      "수\n",
      "끝\n"
     ]
    }
   ],
   "source": [
    "c = 100 # 0~100 점수\n",
    "print(\"시작\")\n",
    "\n",
    "if c >= 90:\n",
    "    print(\"수\")\n",
    "\n",
    "elif 90 > c and c >= 80 :\n",
    "    print(\"우\")\n",
    "    \n",
    "elif 80 > c and c >=70:\n",
    "    print(\"미\")\n",
    "    \n",
    "print(\"끝\")"
   ]
  },
  {
   "cell_type": "code",
   "execution_count": 22,
   "id": "f34588d0-add9-4a1e-9891-1794251882d5",
   "metadata": {},
   "outputs": [
    {
     "name": "stdout",
     "output_type": "stream",
     "text": [
      "시작\n",
      "우\n",
      "끝\n"
     ]
    }
   ],
   "source": [
    "c = 89 # 0~100 점수\n",
    "print(\"시작\")\n",
    "\n",
    "if c >= 90:\n",
    "    print(\"수\")\n",
    "\n",
    "elif 90 > c and c >= 80 :\n",
    "    print(\"우\")\n",
    "    \n",
    "elif 80 > c and c >=70:\n",
    "    print(\"미\")\n",
    "    \n",
    "print(\"끝\")"
   ]
  },
  {
   "cell_type": "code",
   "execution_count": 21,
   "id": "82df8356-004d-40b4-95b8-c8fe84acb56d",
   "metadata": {},
   "outputs": [
    {
     "name": "stdout",
     "output_type": "stream",
     "text": [
      "시작\n",
      "미\n",
      "끝\n"
     ]
    }
   ],
   "source": [
    "c = 75 # 0~100 점수\n",
    "print(\"시작\")\n",
    "\n",
    "if c >= 90:\n",
    "    print(\"수\")\n",
    "\n",
    "elif 90 > c and c >= 80 :\n",
    "    print(\"우\")\n",
    "    \n",
    "elif 80 > c and c >=70:\n",
    "    print(\"미\")\n",
    "    \n",
    "print(\"끝\")"
   ]
  },
  {
   "cell_type": "code",
   "execution_count": 24,
   "id": "134b1e53-7d24-4b47-beea-e85abea25669",
   "metadata": {},
   "outputs": [
    {
     "name": "stdout",
     "output_type": "stream",
     "text": [
      "30대 입니다.\n",
      "끝\n"
     ]
    }
   ],
   "source": [
    "# 파이썬만 되는 문법!!!!\n",
    "\n",
    "age = 39\n",
    "    \n",
    "if 20 <= age < 30 :       #False\n",
    "    print(\"20대 입니다.\")\n",
    "\n",
    "elif 30 <= age <40:\n",
    "    print(\"30대 입니다.\")\n",
    "    \n",
    "print(\"끝\")"
   ]
  },
  {
   "cell_type": "code",
   "execution_count": 25,
   "id": "cf192365-028a-4e74-aead-882f1485b00b",
   "metadata": {},
   "outputs": [
    {
     "name": "stdout",
     "output_type": "stream",
     "text": [
      "오우... 불혹을 넘기셨군요\n",
      "끝\n"
     ]
    }
   ],
   "source": [
    "# if문과 elif문 그리고 else문 <- if, elif 모두 아니면 else\n",
    "# elif는 옵션!! if는 항상 있어야하고 else는 항상 맨 마지막!\n",
    "\n",
    "age = 40\n",
    "    \n",
    "if 20 <= age < 30 :       #False\n",
    "    print(\"20대 입니다.\")\n",
    "\n",
    "elif 30 <= age <40:       #False\n",
    "    print(\"30대 입니다.\")\n",
    "    \n",
    "else:\n",
    "    print(\"오우... 불혹을 넘기셨군요\")\n",
    "    \n",
    "print(\"끝\")"
   ]
  },
  {
   "cell_type": "code",
   "execution_count": 42,
   "id": "2b36fb9a-c83a-407e-9cec-f98b2b4f5248",
   "metadata": {},
   "outputs": [
    {
     "name": "stdin",
     "output_type": "stream",
     "text": [
      "아이디를 입력하세요: biana\n",
      "회원 등급을 입력해주세요 : 3\n"
     ]
    },
    {
     "name": "stdout",
     "output_type": "stream",
     "text": [
      "제한적인 권한을 갖습니다.\n"
     ]
    }
   ],
   "source": [
    "# 연습 문제\n",
    "# elif를 쓸 필요가없다!!\n",
    "# 더이상 조건이 없으니 else: 로 마무리짓고 다른 조건 넣자\n",
    "\n",
    "\n",
    "idd = input(\"아이디를 입력하세요:\")\n",
    "\n",
    "if idd == \"admin\" :\n",
    "    print(\"최고 관리자, 모든 권한을 갖습니다.\")\n",
    "    \n",
    "elif idd != \"admin\" :\n",
    "    \n",
    "    a = int(input(\"회원 등급을 입력해주세요 :\"))\n",
    "\n",
    "    if 1 <= a <=3:\n",
    "        print(\"제한적인 권한을 갖습니다.\")\n",
    "    \n",
    "    else:\n",
    "        print(\"권한이 없습니다.\")\n",
    "    "
   ]
  },
  {
   "cell_type": "code",
   "execution_count": 43,
   "id": "412d60f1-c43c-47d7-9225-81f0c57512e6",
   "metadata": {},
   "outputs": [
    {
     "name": "stdin",
     "output_type": "stream",
     "text": [
      "아이디를 입력하세요: biana\n",
      "회원 등급을 입력해주세요 : 3\n"
     ]
    },
    {
     "name": "stdout",
     "output_type": "stream",
     "text": [
      "제한적인 권한을 갖습니다.\n"
     ]
    }
   ],
   "source": [
    "# 연습 문제\n",
    "\n",
    "\n",
    "idd = input(\"아이디를 입력하세요:\")\n",
    "\n",
    "if idd == \"admin\" :\n",
    "    print(\"최고 관리자, 모든 권한을 갖습니다.\")\n",
    "    \n",
    "else:\n",
    "    \n",
    "    grade = int(input(\"회원 등급을 입력해주세요 :\"))\n",
    "\n",
    "    if 1 <= grade <=3:\n",
    "        print(\"제한적인 권한을 갖습니다.\")\n",
    "    \n",
    "    else:\n",
    "        print(\"권한이 없습니다.\")\n",
    "    "
   ]
  },
  {
   "cell_type": "code",
   "execution_count": 44,
   "id": "1fbd7931-ee8a-4d4b-93d6-e75dc85360fd",
   "metadata": {
    "collapsed": true,
    "jupyter": {
     "outputs_hidden": true
    },
    "tags": []
   },
   "outputs": [
    {
     "ename": "IndentationError",
     "evalue": "expected an indented block (696990643.py, line 12)",
     "output_type": "error",
     "traceback": [
      "\u001b[1;36m  File \u001b[1;32m\"C:\\Users\\user\\AppData\\Local\\Temp\\ipykernel_13140\\696990643.py\"\u001b[1;36m, line \u001b[1;32m12\u001b[0m\n\u001b[1;33m    print(\"40살 이상입니다.\")\u001b[0m\n\u001b[1;37m    ^\u001b[0m\n\u001b[1;31mIndentationError\u001b[0m\u001b[1;31m:\u001b[0m expected an indented block\n"
     ]
    }
   ],
   "source": [
    "# if문 중첩 #하다맘\n",
    "\n",
    "age = int(input(\"나이를 입력해주세요.\"))\n",
    "\n",
    "if age >= 10:\n",
    "    print(\"10살 이상입니다.\")\n",
    "    if age >= 20:\n",
    "        print(\"20살 이상입니다.\")\n",
    "        if age >= 30:\n",
    "            print(\"30살 이상입니다.\")\n",
    "            if age >= 40:\n",
    "            print(\"40살 이상입니다.\")\n",
    "            \n",
    "            \n",
    "print(\"항상 출력되는 부분\")\n"
   ]
  },
  {
   "cell_type": "code",
   "execution_count": 64,
   "id": "211a1b57-25ba-4de3-a655-d5f516ad2045",
   "metadata": {},
   "outputs": [
    {
     "name": "stdin",
     "output_type": "stream",
     "text": [
      "자연수를 하나 입력해주세요: 51\n"
     ]
    },
    {
     "name": "stdout",
     "output_type": "stream",
     "text": [
      "1\n"
     ]
    }
   ],
   "source": [
    "# 연습 문제\n",
    "\n",
    "user = int(input(\"자연수를 하나 입력해주세요:\"))\n",
    "result = user - 50\n",
    "\n",
    "if result >= 0 :\n",
    "    print(result)\n",
    "    \n",
    "else:\n",
    "    result=0\n",
    "    print(0)"
   ]
  },
  {
   "cell_type": "code",
   "execution_count": 59,
   "id": "e5a3e96b-a89e-4601-9a4f-16d6a673e81b",
   "metadata": {
    "tags": []
   },
   "outputs": [
    {
     "name": "stdin",
     "output_type": "stream",
     "text": [
      "자연수를 하나 입력해주세요: 21\n"
     ]
    },
    {
     "name": "stdout",
     "output_type": "stream",
     "text": [
      "0\n"
     ]
    }
   ],
   "source": [
    "# 풀이\n",
    "\n",
    "int_value= int(input(\"자연수를 하나 입력해주세요:\"))\n",
    "\n",
    "result = int_value - 50\n",
    "\n",
    "if result <0:\n",
    "    result = 0\n",
    "    \n",
    "print(result)"
   ]
  },
  {
   "cell_type": "code",
   "execution_count": 65,
   "id": "6459b6d4-e718-4e6b-b80f-829bc2a5d813",
   "metadata": {},
   "outputs": [
    {
     "name": "stdin",
     "output_type": "stream",
     "text": [
      "자연수를 하나 입력해주세요. 50\n"
     ]
    },
    {
     "name": "stdout",
     "output_type": "stream",
     "text": [
      "짝수입니다.\n"
     ]
    }
   ],
   "source": [
    "# 연습 문제\n",
    "\n",
    "int_value = int(input(\"자연수를 하나 입력해주세요.\"))\n",
    "\n",
    "# 연산자 공부하자ㅠㅠ 나머지는 %\n",
    "if int_value %2 == 0 :\n",
    "    print(\"짝수입니다.\")\n",
    "    \n",
    "else :\n",
    "    print(\"홀수입니다.\")"
   ]
  },
  {
   "cell_type": "code",
   "execution_count": 72,
   "id": "71cbc8aa-55d2-4696-b715-4c3769a4ef65",
   "metadata": {},
   "outputs": [
    {
     "ename": "SyntaxError",
     "evalue": "invalid syntax (601976799.py, line 19)",
     "output_type": "error",
     "traceback": [
      "\u001b[1;36m  File \u001b[1;32m\"C:\\Users\\user\\AppData\\Local\\Temp\\ipykernel_13140\\601976799.py\"\u001b[1;36m, line \u001b[1;32m19\u001b[0m\n\u001b[1;33m    elif avg >= 60 :\u001b[0m\n\u001b[1;37m    ^\u001b[0m\n\u001b[1;31mSyntaxError\u001b[0m\u001b[1;31m:\u001b[0m invalid syntax\n"
     ]
    }
   ],
   "source": [
    "# 연습 문제     ##정처기 문제!!!정보처리기사 따자 4/17 접수\n",
    "\n",
    "# a = 소프트웨어 설계\n",
    "# b = 소프트웨어 개발\n",
    "# c = 데이터베이스 구축\n",
    "# d = 프로그래밍 언어 활용\n",
    "# e = 정보시스템 구축관리 \n",
    "\n",
    "a = int(input(\"소프트웨어 설계 점수를 입력하세요.\"))\n",
    "b = int(input(\"소프트웨어 개발 점수를 입력하세요.\"))\n",
    "c = int(input(\"데이터베이스 구축 점수를 입력하세요.\"))\n",
    "d = int(input(\"프로그래밍 언어 활용 점수를 입력하세요.\"))\n",
    "e = int(input(\"정보시스템 구축관리 점수를 입력하세요.\"))\n",
    "\n",
    "avg = (a+b+c+d+e)/5\n",
    "\n",
    "if 0 <= a or b or c or d or e <= 100 :\n",
    "    \n",
    "    if avg >= 60 :\n",
    "        print(\"합격\")\n",
    "\n",
    "    else avg < 60 : \n",
    "        print(\"불합격\")"
   ]
  },
  {
   "cell_type": "code",
   "execution_count": 6,
   "id": "ab8adb48-0b3b-4908-a968-26b50a4cb38c",
   "metadata": {},
   "outputs": [
    {
     "name": "stdin",
     "output_type": "stream",
     "text": [
      "소프트웨어 설계 점수를 입력하세요. 55\n",
      "소프트웨어 개발 점수를 입력하세요. 55\n",
      "데이터베이스 구축 점수를 입력하세요. 55\n",
      "프로그래밍 언어 활용 점수를 입력하세요. 55\n",
      "정보시스템 구축관리 점수를 입력하세요. 55\n"
     ]
    },
    {
     "name": "stdout",
     "output_type": "stream",
     "text": [
      "불합격\n"
     ]
    }
   ],
   "source": [
    "# 풀이\n",
    "\n",
    "a = int(input(\"소프트웨어 설계 점수를 입력하세요.\"))\n",
    "b = int(input(\"소프트웨어 개발 점수를 입력하세요.\"))\n",
    "c = int(input(\"데이터베이스 구축 점수를 입력하세요.\"))\n",
    "d = int(input(\"프로그래밍 언어 활용 점수를 입력하세요.\"))\n",
    "e = int(input(\"정보시스템 구축관리 점수를 입력하세요.\"))\n",
    "\n",
    "\n",
    "if (0 <= a <= 100 and 0 <= b <= 100 and 0 <= c <= 100 and 0 <= d <= 100 and 0 <= e <= 100):\n",
    "    \n",
    "    avg = (a+b+c+d+e)/5\n",
    "\n",
    "    if avg >= 60 :\n",
    "        print(\"합격\")\n",
    "\n",
    "    else :\n",
    "        print(\"불합격\")\n",
    "    \n",
    "else :\n",
    "    print(\"잘못된 점수입니다.\")"
   ]
  },
  {
   "cell_type": "code",
   "execution_count": 25,
   "id": "a4952826-5c19-4fba-9449-c2c092c90d5e",
   "metadata": {},
   "outputs": [
    {
     "name": "stdin",
     "output_type": "stream",
     "text": [
      "현재 물의 온도를 입력해주세요. -0.12\n"
     ]
    },
    {
     "name": "stdout",
     "output_type": "stream",
     "text": [
      "고체로 예상됩니다.\n"
     ]
    }
   ],
   "source": [
    "# 연습 문제\n",
    "\n",
    "temp = float(input(\"현재 물의 온도를 입력해주세요.\"))\n",
    "\n",
    "if temp >= 100:\n",
    "    print(\"기체로 예상됩니다.\")\n",
    "\n",
    "elif 0 <= temp < 100:     # <100는 안적어도 된다.\n",
    "    print(\"액체로 예상됩니다.\")\n",
    "    \n",
    "else :   #0>temp 써주면 의미상 좋을 수 있다.\n",
    "    print(\"고체로 예상됩니다.\")"
   ]
  },
  {
   "cell_type": "code",
   "execution_count": 37,
   "id": "59831e3f-b1a8-4820-ab37-130375498dfa",
   "metadata": {},
   "outputs": [
    {
     "name": "stdin",
     "output_type": "stream",
     "text": [
      "자신의 나이를 입력하세요. 200\n"
     ]
    },
    {
     "name": "stdout",
     "output_type": "stream",
     "text": [
      "1500원\n"
     ]
    }
   ],
   "source": [
    "# 연습 문제\n",
    "\n",
    "age = int(input(\"자신의 나이를 입력하세요.\"))\n",
    "\n",
    "if age >= 19 :\n",
    "    print(\"1500원\")\n",
    "    \n",
    "elif 12<= age <= 18 :\n",
    "    print(\"1100원\")\n",
    "    \n",
    "elif 6<= age <= 11 :\n",
    "    print(\"800원\")\n",
    "\n",
    "else :\n",
    "    print(\"무료입니다.\")"
   ]
  },
  {
   "cell_type": "code",
   "execution_count": 41,
   "id": "98d17190-a57a-4e1e-981b-a12dcb518809",
   "metadata": {},
   "outputs": [
    {
     "name": "stdin",
     "output_type": "stream",
     "text": [
      "자신의 나이를 입력하세요. -5\n"
     ]
    },
    {
     "name": "stdout",
     "output_type": "stream",
     "text": [
      "잘못된 접근입니다.\n"
     ]
    }
   ],
   "source": [
    "# 추가로 조건 넣음. 나이가 자연수일때\n",
    "\n",
    "age = int(input(\"자신의 나이를 입력하세요.\"))\n",
    "\n",
    "if age >= 0 :\n",
    "    if age >= 19 :\n",
    "        print(\"1500원\")\n",
    "    \n",
    "    elif 12<= age <= 18 :\n",
    "        print(\"1100원\")\n",
    "    \n",
    "    elif 6<= age <= 11 :\n",
    "        print(\"800원\")\n",
    "\n",
    "    else :\n",
    "        print(\"무료입니다.\")\n",
    "\n",
    "else : \n",
    "    print(\"잘못된 접근입니다.\")"
   ]
  },
  {
   "cell_type": "code",
   "execution_count": null,
   "id": "1bb641db-c148-4137-9dea-7bdf7ac895d7",
   "metadata": {},
   "outputs": [],
   "source": [
    "# 추가 질문\n",
    "# if에서 elif elif elif 오는 것과 if if if if 가 오는 차이가 뭘까?"
   ]
  },
  {
   "cell_type": "code",
   "execution_count": 73,
   "id": "55a1059b-7c34-4baa-ae2e-24c9894580eb",
   "metadata": {},
   "outputs": [
    {
     "name": "stdin",
     "output_type": "stream",
     "text": [
      "발주 수량을 입력하세요: 2001\n"
     ]
    },
    {
     "name": "stdout",
     "output_type": "stream",
     "text": [
      "2001개를 주문하셨습니다.\n",
      "적용 할인율은 20%입니다.\n",
      "총 발주 금액은 $ 16008 입니다.\n"
     ]
    }
   ],
   "source": [
    "# 연습 문제\n",
    "\n",
    "a = int(input(\"발주 수량을 입력하세요:\"))\n",
    "\n",
    "print( a,\"개를 주문하셨습니다.\", sep=\"\")\n",
    "\n",
    "if a > 2000 :\n",
    "    print(\"적용 할인율은 20%입니다.\")\n",
    "    print(\"총 발주 금액은 $\",int(10*a - 10*a*0.2),\"입니다.\")\n",
    "\n",
    "elif 1500 < a <= 2000 :\n",
    "    print(\"적용 할인율은 10%입니다.\")\n",
    "    print(\"총 발주 금액은 $\",int(10*a - 10*a*0.1),\"입니다.\")\n",
    "\n",
    "    \n",
    "elif 1000 <= a <= 1500 :\n",
    "    print(\"적용 할인율은 5%입니다.\")\n",
    "    print(\"총 발주 금액은 $\",int(10*a - 10*a*0.05),\"입니다.\")\n",
    "\n",
    "    \n",
    "else :\n",
    "    print(\"수량할인이 적용되지 않습니다.\")\n",
    "    \n"
   ]
  },
  {
   "cell_type": "code",
   "execution_count": 74,
   "id": "bd39c1df-dfe4-4011-b0a2-76cd6c33bd0a",
   "metadata": {
    "collapsed": true,
    "jupyter": {
     "outputs_hidden": true,
     "source_hidden": true
    },
    "tags": []
   },
   "outputs": [
    {
     "ename": "SyntaxError",
     "evalue": "invalid syntax (857932124.py, line 7)",
     "output_type": "error",
     "traceback": [
      "\u001b[1;36m  File \u001b[1;32m\"C:\\Users\\user\\AppData\\Local\\Temp\\ipykernel_15688\\857932124.py\"\u001b[1;36m, line \u001b[1;32m7\u001b[0m\n\u001b[1;33m    PRICE = 1-\u001b[0m\n\u001b[1;37m              ^\u001b[0m\n\u001b[1;31mSyntaxError\u001b[0m\u001b[1;31m:\u001b[0m invalid syntax\n"
     ]
    }
   ],
   "source": [
    "# 풀이 쓰다맘\n",
    "\n",
    "a = int(input(\"발주 수량을 입력하세요:\"))\n",
    "\n",
    "print( a,\"개를 주문하셨습니다.\", sep=\"\")\n",
    "\n",
    "PRICE = 1-\n",
    "rate = 0\n",
    "order_amout = 0\n",
    "\n",
    "if a > 2000:\n",
    "    rate = 20\n",
    "elif 2000 >= a > 1500:\n",
    "    rate = 10\n",
    "elif 1500 >= a >= 1000:\n",
    "    rate = 5\n",
    "    \n",
    "order_amount = int(PRICE * a * ((100-rate) / 100))\n",
    "print(\"적용 할인율은 \", rate, \"%입니다.\", sep=\"\")\n",
    "print(\"총 발주 금액은 "
   ]
  },
  {
   "cell_type": "code",
   "execution_count": 116,
   "id": "6c478a8c-3b8b-46f6-afcb-a4c48582bfcf",
   "metadata": {},
   "outputs": [
    {
     "name": "stdin",
     "output_type": "stream",
     "text": [
      "주민번호 뒷자리를 입력하세요 123456\n"
     ]
    },
    {
     "name": "stdout",
     "output_type": "stream",
     "text": [
      "자리수를 잘못 입력했습니다.\n"
     ]
    }
   ],
   "source": [
    "# 연습 문제\n",
    "\n",
    "a = input(\"주민번호 뒷자리를 입력하세요\")\n",
    "\n",
    "if len(a) != 7 :\n",
    "    print(\"자리수를 잘못 입력했습니다.\")\n",
    "\n",
    "    \n",
    "else:\n",
    "    print(\"잘못\")"
   ]
  },
  {
   "cell_type": "code",
   "execution_count": 92,
   "id": "e98f8056-28ac-4e21-9061-2e386c30c5a9",
   "metadata": {},
   "outputs": [
    {
     "name": "stdin",
     "output_type": "stream",
     "text": [
      "주민번호 뒷자리를 입력하세요 123456\n"
     ]
    },
    {
     "name": "stdout",
     "output_type": "stream",
     "text": [
      "자리수를 잘못 입력했습니다.\n"
     ]
    }
   ],
   "source": [
    "# 풀이\n",
    "\n",
    "a = input(\"주민번호 뒷자리를 입력하세요\")\n",
    "if len(a) != 7:\n",
    "    print(\"자리수를 잘못 입력했습니다.\")\n",
    "else:\n",
    "    fst_num = int(a[0])\n",
    "    if fst_num in (1, 3):\n",
    "        print(\"남자\")\n",
    "    elif fst_num in (2, 4):\n",
    "        print(\"여자\")\n",
    "    else:\n",
    "        print(\"잘못된 입력입니다.\")"
   ]
  },
  {
   "cell_type": "code",
   "execution_count": 115,
   "id": "36de2c47-f072-4f94-aae8-65556ee0e5df",
   "metadata": {},
   "outputs": [
    {
     "name": "stdin",
     "output_type": "stream",
     "text": [
      "확인할 연도를 입력하세요: 1100\n"
     ]
    },
    {
     "name": "stdout",
     "output_type": "stream",
     "text": [
      "평년\n"
     ]
    }
   ],
   "source": [
    "# 연습 문제\n",
    "\n",
    "year = int(input(\"확인할 연도를 입력하세요:\"))\n",
    "\n",
    "if (year%100 == 0 and year%400 != 0):\n",
    "     print(\"평년\")\n",
    "    \n",
    "elif year%4 == 0 :\n",
    "    print(\"윤년\")\n",
    "\n",
    "else:\n",
    "    print(\"평년\")"
   ]
  },
  {
   "cell_type": "code",
   "execution_count": 121,
   "id": "853d70ce-f2c8-4446-b472-64216ef2f3d8",
   "metadata": {},
   "outputs": [
    {
     "name": "stdin",
     "output_type": "stream",
     "text": [
      "확인할 연도를 입력하세요: 4444\n"
     ]
    },
    {
     "name": "stdout",
     "output_type": "stream",
     "text": [
      "윤년\n"
     ]
    }
   ],
   "source": [
    "# if문 하나로 정리\n",
    "\n",
    "year = int(input(\"확인할 연도를 입력하세요:\"))\n",
    "\n",
    "if (year%100 == 0 and year%400 != 0 or year%4 !=0) :\n",
    "     print(\"평년\")\n",
    "    \n",
    "else:\n",
    "    print(\"윤년\")"
   ]
  },
  {
   "cell_type": "code",
   "execution_count": 120,
   "id": "c492e9d9-fdbe-467b-85c3-13856c483176",
   "metadata": {},
   "outputs": [
    {
     "name": "stdin",
     "output_type": "stream",
     "text": [
      "확인할 연도를 입력하세요: 4444\n"
     ]
    },
    {
     "name": "stdout",
     "output_type": "stream",
     "text": [
      "윤년\n"
     ]
    }
   ],
   "source": [
    "# if문 하나로 정리 (풀이)\n",
    "\n",
    "year = int(input(\"확인할 연도를 입력하세요:\"))\n",
    "\n",
    "if year%4 ==0 and (year%100 != 0 or year%400 == 0) :\n",
    "     print(\"윤년\")\n",
    "    \n",
    "else:\n",
    "    print(\"평년\")"
   ]
  },
  {
   "cell_type": "code",
   "execution_count": null,
   "id": "bfd00991-d060-45fc-b42d-6ff3df08b401",
   "metadata": {},
   "outputs": [],
   "source": [
    "# 풀이\n",
    "\n",
    "year = int(input(\"확인할 연도를 입력하세요:\"))\n",
    "\n"
   ]
  }
 ],
 "metadata": {
  "kernelspec": {
   "display_name": "Python 3 (ipykernel)",
   "language": "python",
   "name": "python3"
  },
  "language_info": {
   "codemirror_mode": {
    "name": "ipython",
    "version": 3
   },
   "file_extension": ".py",
   "mimetype": "text/x-python",
   "name": "python",
   "nbconvert_exporter": "python",
   "pygments_lexer": "ipython3",
   "version": "3.9.13"
  }
 },
 "nbformat": 4,
 "nbformat_minor": 5
}
