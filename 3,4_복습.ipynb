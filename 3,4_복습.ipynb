{
 "cells": [
  {
   "cell_type": "code",
   "execution_count": 8,
   "id": "1c1dc8ce-98b3-406f-a47c-9cf7dc1985db",
   "metadata": {},
   "outputs": [
    {
     "name": "stdin",
     "output_type": "stream",
     "text": [
      "아이디를 입력하세요: biana\n",
      "회원 등급을 입력해주세요: 3\n"
     ]
    },
    {
     "name": "stdout",
     "output_type": "stream",
     "text": [
      "제한적인 권한을 갖습니다.\n"
     ]
    }
   ],
   "source": [
    "# 2/15 수업 연습 문제 복습 1\n",
    "\n",
    "i = input(\"아이디를 입력하세요:\")\n",
    "\n",
    "if i == \"admin\" :\n",
    "    print(\"최고 관리자, 모든 권한을 갖습니다.\")\n",
    "    \n",
    "elif i != \"admin\" :\n",
    "    \n",
    "    a = int(input(\"회원 등급을 입력해주세요:\"))\n",
    "    \n",
    "    if 1 <= a <= 3 :\n",
    "        print(\"제한적인 권한을 갖습니다.\")\n",
    "    \n",
    "    else:\n",
    "        print(\"권한이 없습니다.\")\n",
    "    \n"
   ]
  },
  {
   "cell_type": "code",
   "execution_count": 9,
   "id": "effb7086-f728-4d1b-8714-46547369f587",
   "metadata": {},
   "outputs": [
    {
     "name": "stdin",
     "output_type": "stream",
     "text": [
      "자연수 하나 입력해주세요 : 2\n"
     ]
    },
    {
     "name": "stdout",
     "output_type": "stream",
     "text": [
      "짝수입니다.\n"
     ]
    }
   ],
   "source": [
    "# 2/15 수업 연습 문제 복습 2\n",
    "\n",
    "n = int(input(\"자연수 하나 입력해주세요 :\"))\n",
    "\n",
    "if n % 2 == 0:\n",
    "    print(\"짝수입니다.\")\n",
    "\n",
    "else:\n",
    "    print(\"홀수입니다.\")"
   ]
  },
  {
   "cell_type": "code",
   "execution_count": 22,
   "id": "b8bfc0b2-ccb8-492f-a474-9a8a7f15b60a",
   "metadata": {},
   "outputs": [
    {
     "name": "stdin",
     "output_type": "stream",
     "text": [
      "발주 수량을 입력하세요: 1500\n"
     ]
    },
    {
     "name": "stdout",
     "output_type": "stream",
     "text": [
      "1500 개를 주문하셨습니다.\n",
      "적용 할인율은 5% 입니다.\n",
      "총 발주 금액은 $ 1425 입니다.\n"
     ]
    }
   ],
   "source": [
    "# 3\n",
    "\n",
    "a = int(input(\"발주 수량을 입력하세요:\"))\n",
    "\n",
    "print(a, \"개를 주문하셨습니다.\")\n",
    "\n",
    "if a >2000 :\n",
    "    print(\"적용 할인율은 20% 입니다.\")\n",
    "    print(\"총 발주 금액은 $\", int(a*(1-0.2)), \"입니다.\")\n",
    "    \n",
    "elif 1500 < a <= 2000 :\n",
    "    print(\"적용 할인율은 10% 입니다.\")\n",
    "    print(\"총 발주 금액은 $\", int(a*(1-0.1)), \"입니다.\")\n",
    "    \n",
    "elif 1000 < a <= 1500 :\n",
    "    print(\"적용 할인율은 5% 입니다.\")\n",
    "    print(\"총 발주 금액은 $\", int(a*(1-0.05)), \"입니다.\")\n",
    "    \n",
    "else :\n",
    "    print(\"수량할인이 적용되지 않습니다.\")"
   ]
  },
  {
   "cell_type": "code",
   "execution_count": 38,
   "id": "4d62f606-aecd-449a-859d-4fc3a1a696ac",
   "metadata": {},
   "outputs": [
    {
     "name": "stdin",
     "output_type": "stream",
     "text": [
      "주민번호 뒷자리를 입력하세요 2121212\n"
     ]
    },
    {
     "name": "stdout",
     "output_type": "stream",
     "text": [
      "남자\n"
     ]
    }
   ],
   "source": [
    "# 4 (질문)\n",
    "\n",
    "a = input(\"주민번호 뒷자리를 입력하세요\")\n",
    "\n",
    "if len(a) != 7 :\n",
    "    print(\"자리수를 잘못 입력했습니다.\")\n",
    "    \n",
    "    n = int(a[0])\n",
    "    \n",
    "elif n == 1 or n == 3 :\n",
    "    print(\"남자\")\n",
    "\n",
    "elif n == 2 or n == 4 :\n",
    "    print(\"여자\")\n",
    "    \n",
    "else :\n",
    "        print(\"잘못\")\n",
    "\n",
    "\n"
   ]
  },
  {
   "cell_type": "code",
   "execution_count": 63,
   "id": "3a14648a-f5f6-4158-8f3d-e2f18efdf526",
   "metadata": {},
   "outputs": [
    {
     "name": "stdin",
     "output_type": "stream",
     "text": [
      "자연수 하나를 입력해주세요: 7\n"
     ]
    },
    {
     "name": "stdout",
     "output_type": "stream",
     "text": [
      "\n",
      "\n",
      "\n",
      "\n",
      "\n",
      "\n",
      "\n"
     ]
    }
   ],
   "source": [
    "# 5\n",
    "\n",
    "n=int(input(\"자연수 하나를 입력해주세요:\"))\n",
    "\n",
    "for i in range(n, 0, -1):\n",
    "\n",
    "    print()\n",
    "\n"
   ]
  },
  {
   "cell_type": "code",
   "execution_count": 78,
   "id": "1a0ef801-1ff1-42ff-aa2b-847567a34afe",
   "metadata": {},
   "outputs": [
    {
     "name": "stdout",
     "output_type": "stream",
     "text": [
      "* * * * * * * * * * \n",
      "*                 *\n",
      "*                 *\n",
      "*                 *\n",
      "*                 *\n",
      "*                 *\n",
      "*                 *\n",
      "*                 *\n",
      "*                 *\n",
      "* * * * * * * * * * \n"
     ]
    }
   ],
   "source": [
    "for i in range(10):\n",
    "    if i == 0 or i == 9 :\n",
    "        print('* ' * 10)\n",
    "        \n",
    "    else:\n",
    "        print(\"*                 *\")"
   ]
  },
  {
   "cell_type": "code",
   "execution_count": 75,
   "id": "a6e01095-b377-4a88-bc96-f157790f43f6",
   "metadata": {},
   "outputs": [
    {
     "name": "stdout",
     "output_type": "stream",
     "text": [
      "* * * * * * * * * * \n",
      "*                 *\n",
      "*                 *\n",
      "*                 *\n",
      "*                 *\n",
      "*                 *\n",
      "*                 *\n",
      "*                 *\n",
      "*                 *\n",
      "* * * * * * * * * * \n"
     ]
    }
   ],
   "source": [
    "for i in range(10):\n",
    "    if i==0 or i==9 :\n",
    "        print(\"* \" * 10)\n",
    "        \n",
    "    else :\n",
    "        print(\"*                 *\")"
   ]
  },
  {
   "cell_type": "code",
   "execution_count": null,
   "id": "f594e2d4-560d-4177-ac67-9677a60da01c",
   "metadata": {},
   "outputs": [],
   "source": [
    "for _ in range(10):\n",
    "    if i ==0 or i == 9:\n",
    "        print(\"**********\")\n",
    "    else:\n",
    "        print(\"*         *\")"
   ]
  },
  {
   "cell_type": "code",
   "execution_count": null,
   "id": "46b0afb1-33d9-4d12-b5ac-0a277ad5729f",
   "metadata": {},
   "outputs": [],
   "source": []
  }
 ],
 "metadata": {
  "kernelspec": {
   "display_name": "Python 3 (ipykernel)",
   "language": "python",
   "name": "python3"
  },
  "language_info": {
   "codemirror_mode": {
    "name": "ipython",
    "version": 3
   },
   "file_extension": ".py",
   "mimetype": "text/x-python",
   "name": "python",
   "nbconvert_exporter": "python",
   "pygments_lexer": "ipython3",
   "version": "3.9.13"
  }
 },
 "nbformat": 4,
 "nbformat_minor": 5
}
