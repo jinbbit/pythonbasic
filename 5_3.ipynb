{
 "cells": [
  {
   "cell_type": "code",
   "execution_count": 1,
   "id": "387877c2-dd34-4332-a7f7-9a3c11c34564",
   "metadata": {},
   "outputs": [
    {
     "name": "stdout",
     "output_type": "stream",
     "text": [
      "<class 'list'>\n",
      "[48, 48, 33, 95]\n"
     ]
    }
   ],
   "source": [
    "# 리스트 생성 방법 - 대괄호 사용\n",
    "# 리스트는 [] 대괄호 사용\n",
    "# 대괄호 안에는 리스트를 구성할 요소를 작성하는데, (,)콤마로 구분하여 요소 여럿을 작성\n",
    "# 리스트의 자료형은 class 'list' 입니다.\n",
    "# list 클래스로 만들어진 객체라는 의미\n",
    "\n",
    "list_a = [48, 48, 33, 95]\n",
    "print(type(list_a))\n",
    "print(list_a)"
   ]
  },
  {
   "cell_type": "code",
   "execution_count": null,
   "id": "856aacae-65dc-442d-94c7-97afd7f87c60",
   "metadata": {},
   "outputs": [],
   "source": [
    "# 리스트 생성 방법 - 빈 리스트(empty list)\n",
    "\n"
   ]
  },
  {
   "cell_type": "code",
   "execution_count": 3,
   "id": "65a4f138-476a-476b-af37-61e7f3c15825",
   "metadata": {},
   "outputs": [
    {
     "name": "stdin",
     "output_type": "stream",
     "text": [
      "숫자를 띄어쓰기로 구분하여 여럿 입력해보세요. 52 36 32 19\n"
     ]
    },
    {
     "name": "stdout",
     "output_type": "stream",
     "text": [
      "<class 'list'>\n",
      "[52, 36, 32, 19]\n"
     ]
    }
   ],
   "source": [
    "###### 리스트 생성 방법 - 문자열.split()\n",
    "# 리스트는 반복되는 객체인 iterable을 인자로 하는 list() 함수를 통해 \n",
    "# 생성할 수도 있다.\n",
    "# 아래코드에서는 사용자로부터 값을 입력받고(input()), 받은 문자열을 공백을 구분자로\n",
    "# 나눠(split()) 여러 문자열을 갖는 리스트로 만들었습니다.\n",
    "# map()은 map 클래스를 반환합니다.\n",
    "# 이를 list() 함수를 활용하여 map 클래스를 list 클래스로 변환했습니다.\n",
    "\n",
    "list_b = list(map(int, input(\"숫자를 띄어쓰기로 구분하여 여럿 입력해보세요.\").split()))\n",
    "print(type(list_b))\n",
    "print(list_b)"
   ]
  },
  {
   "cell_type": "code",
   "execution_count": 4,
   "id": "d420553e-dabc-4166-b17d-d99b455b9542",
   "metadata": {},
   "outputs": [
    {
     "data": {
      "text/plain": [
       "[0, 1, 4, 9, 16, 25, 36, 49, 64, 81]"
      ]
     },
     "execution_count": 4,
     "metadata": {},
     "output_type": "execute_result"
    }
   ],
   "source": [
    "# 리스트 컴프리헨션(comprehension) ; 강사님왈 훌륭한 아이\n",
    "# 리스트를 좀 더 간단하게 만들 수 있는 방법 중 하나\n",
    "\n",
    "# 강사님 예제\n",
    "# list comprehension\n",
    "# list : [0, 1, 2, ..., 9]\n",
    "[i**2 for i in list(range(10))]"
   ]
  },
  {
   "cell_type": "code",
   "execution_count": null,
   "id": "b19c4a85-1a23-4eea-8d03-f92b610271fc",
   "metadata": {},
   "outputs": [],
   "source": [
    "# 리스트 컴프리헨션 동작 순서\n",
    "# 1. 반복가능한 객체(iterable)로부터 값을 하나 꺼내와서 변수에 담습니다.\n",
    "# 2. 요소를 담은 변수를 활용해서 표현식(expression)을 실행합니다.\n",
    "#    (이때 변수는 활용할 수도 활용하지 않을 수도 있습니다.)\n",
    "# 3. 표현식 결과 값을 리스트 요소에 넣습니다. []대괄호에 하나하나 차곡차곡\n",
    "# 4. 반복가능한 객체(iterable)로부터 값이 없을 때까지 1~3 과정을 반복합니다."
   ]
  },
  {
   "cell_type": "code",
   "execution_count": 5,
   "id": "46331364-4ba2-46a0-9f59-f40893b2469b",
   "metadata": {},
   "outputs": [
    {
     "name": "stdout",
     "output_type": "stream",
     "text": [
      "[1, 2, 3, 4, 5, 6, 7, 8, 9]\n"
     ]
    }
   ],
   "source": [
    "# 리스트 컴프리핸션 구현 예제\n",
    "\n",
    "list_c = [i for i in range(1, 10)]\n",
    "print(list_c)"
   ]
  },
  {
   "cell_type": "code",
   "execution_count": 7,
   "id": "3f1b995e-cec3-43da-8c86-28170e9690f4",
   "metadata": {},
   "outputs": [
    {
     "name": "stdout",
     "output_type": "stream",
     "text": [
      "<class 'list'>\n",
      "[1, 4, 9, 16, 25, 36, 49, 64, 81]\n"
     ]
    }
   ],
   "source": [
    "# 연습 문제\n",
    "\n",
    "prac_result = [i**2 for i in list(range(1,10))]\n",
    "print(type(prac_result))\n",
    "print(prac_result)"
   ]
  },
  {
   "cell_type": "code",
   "execution_count": 9,
   "id": "dda16cc0-b638-42fd-ac2a-5c8b1404ad7f",
   "metadata": {},
   "outputs": [
    {
     "name": "stdout",
     "output_type": "stream",
     "text": [
      "<class 'list'>\n",
      "[1, 4, 9, 16, 25, 36, 49, 64, 81]\n"
     ]
    }
   ],
   "source": [
    "# 풀이\n",
    "\n",
    "prac_result = [i**2 for i in list(range(1,10))]\n",
    "print(type(prac_result))\n",
    "print(prac_result)"
   ]
  },
  {
   "cell_type": "code",
   "execution_count": 27,
   "id": "3d8e1a26-ced8-44f5-b252-f74a26b083d6",
   "metadata": {},
   "outputs": [
    {
     "name": "stdout",
     "output_type": "stream",
     "text": [
      "[1, 3, 5, 7, 9]\n"
     ]
    }
   ],
   "source": [
    "# 연습 문제\n",
    "\n",
    "prac_result2 = [ i for i in range(1,10,2)]\n",
    "print(prac_result2)"
   ]
  },
  {
   "cell_type": "code",
   "execution_count": 29,
   "id": "bda587bb-fb37-4ff4-9959-22bfecda2d83",
   "metadata": {},
   "outputs": [
    {
     "ename": "SyntaxError",
     "evalue": "invalid syntax (2011349981.py, line 4)",
     "output_type": "error",
     "traceback": [
      "\u001b[1;36m  File \u001b[1;32m\"C:\\Users\\user\\AppData\\Local\\Temp\\ipykernel_7404\\2011349981.py\"\u001b[1;36m, line \u001b[1;32m4\u001b[0m\n\u001b[1;33m    prac_result3 = [ i for in 'abcdef']\u001b[0m\n\u001b[1;37m                           ^\u001b[0m\n\u001b[1;31mSyntaxError\u001b[0m\u001b[1;31m:\u001b[0m invalid syntax\n"
     ]
    }
   ],
   "source": [
    "# 연습 문제4\n",
    "\n",
    "\n",
    "prac_result3 = [ i for in 'abcdef'["
   ]
  },
  {
   "cell_type": "code",
   "execution_count": 32,
   "id": "4a2a8602-b337-4624-ad35-02f014f1134c",
   "metadata": {},
   "outputs": [
    {
     "name": "stdout",
     "output_type": "stream",
     "text": [
      "['a', 'b', 'c', 'd', 'e', 'f']\n"
     ]
    }
   ],
   "source": [
    "prac_result3 = [ i for i in 'abcdef']\n",
    "print(prac_result3)"
   ]
  },
  {
   "cell_type": "code",
   "execution_count": 2,
   "id": "79a0265b-64d6-4ced-8c5d-1ed2df9c2ae1",
   "metadata": {},
   "outputs": [
    {
     "name": "stdout",
     "output_type": "stream",
     "text": [
      "['2', '3', '4', '5', '6', '7', '8', '9', '10', 'J', 'Q', 'K', 'A']\n"
     ]
    }
   ],
   "source": [
    "# 연습 문제 \n",
    "\n",
    "           # 숫자 i를 문자열로 바꾸는거!!!str 이렇게 써야지\n",
    "prac_result4 = [ str(i)for i in range(2,11) ] + [j for j in 'JQKA']\n",
    "print(prac_result4)"
   ]
  },
  {
   "cell_type": "code",
   "execution_count": 3,
   "id": "957d48ae-772a-4676-bdc6-71c371c747c0",
   "metadata": {},
   "outputs": [
    {
     "name": "stdout",
     "output_type": "stream",
     "text": [
      "['2', '3', '4', '5', '6', '7', '8', '9', '10', 'J', 'Q', 'K', 'A']\n"
     ]
    }
   ],
   "source": [
    "# 풀이1\n",
    "\n",
    "prac_result4 = [ str(i)for i in range(2,11) ] + [j for j in 'JQKA']\n",
    "print(prac_result4)"
   ]
  },
  {
   "cell_type": "code",
   "execution_count": 4,
   "id": "676a73ff-d67f-4e61-bc44-de6f5e1f3d8c",
   "metadata": {},
   "outputs": [
    {
     "name": "stdout",
     "output_type": "stream",
     "text": [
      "['2', '3', '4', '5', '6', '7', '8', '9', '10', 'J', 'Q', 'K', 'A']\n"
     ]
    }
   ],
   "source": [
    "# 풀이2\n",
    "\n",
    "prac_result4 = [ str(i)for i in range(2,11) ] \n",
    "prac_result4.extend([i for i in 'JQKA'])\n",
    "print(prac_result4)"
   ]
  },
  {
   "cell_type": "code",
   "execution_count": 5,
   "id": "3bbe8b01-905b-42b8-8bc9-e1a9e3cda5f6",
   "metadata": {},
   "outputs": [
    {
     "name": "stdout",
     "output_type": "stream",
     "text": [
      "[['2', '3', '4', '5', '6', '7', '8', '9', '10', 'J', 'Q', 'K', 'A'], ['2', '3', '4', '5', '6', '7', '8', '9', '10', 'J', 'Q', 'K', 'A'], ['2', '3', '4', '5', '6', '7', '8', '9', '10', 'J', 'Q', 'K', 'A'], ['2', '3', '4', '5', '6', '7', '8', '9', '10', 'J', 'Q', 'K', 'A']]\n"
     ]
    }
   ],
   "source": [
    "# 연습 문제\n",
    "\n",
    "prac_result5 = [ str(i)for i in range(2,11) ] + [j for j in 'JQKA']\n",
    "\n",
    "print([prac_result5]*4)"
   ]
  },
  {
   "cell_type": "code",
   "execution_count": 6,
   "id": "363d353e-f33d-497a-81f5-24ae9b1e9b15",
   "metadata": {},
   "outputs": [
    {
     "name": "stdout",
     "output_type": "stream",
     "text": [
      "[['2', '3', '4', '5', '6', '7', '8', '9', '10', 'J', 'Q', 'K', 'A'], ['2', '3', '4', '5', '6', '7', '8', '9', '10', 'J', 'Q', 'K', 'A'], ['2', '3', '4', '5', '6', '7', '8', '9', '10', 'J', 'Q', 'K', 'A'], ['2', '3', '4', '5', '6', '7', '8', '9', '10', 'J', 'Q', 'K', 'A']]\n"
     ]
    }
   ],
   "source": [
    "# 풀이 왜 안되지?\n",
    "\n",
    "prac_result5 = [prac_result4 for _ in range(4)]\n",
    "\n",
    "print(prac_result5)"
   ]
  },
  {
   "cell_type": "code",
   "execution_count": 7,
   "id": "55ce1606-1b38-4f53-8a88-db4af534e5fe",
   "metadata": {},
   "outputs": [
    {
     "name": "stdout",
     "output_type": "stream",
     "text": [
      "[['2', '3', '4', '5', '6', '7', '8', '9', '10', 'J', 'Q', 'K', 'A'], ['2', '3', '4', '5', '6', '7', '8', '9', '10', 'J', 'Q', 'K', 'A'], ['2', '3', '4', '5', '6', '7', '8', '9', '10', 'J', 'Q', 'K', 'A'], ['2', '3', '4', '5', '6', '7', '8', '9', '10', 'J', 'Q', 'K', 'A']]\n"
     ]
    }
   ],
   "source": [
    "# 위에가 안나오니까 안나옴~~\n",
    "\n",
    "print(prac_result5)"
   ]
  },
  {
   "cell_type": "code",
   "execution_count": 8,
   "id": "55552176-290d-4d4e-9778-61f2eb71997e",
   "metadata": {},
   "outputs": [
    {
     "name": "stdout",
     "output_type": "stream",
     "text": [
      "prac_result4의 id: 2115846258944\n",
      "prac_result5[0]: 2115846258944\n",
      "prac_result5[1]: 2115846258944\n",
      "prac_result5[2]: 2115846258944\n",
      "prac_result5[3]: 2115846258944\n"
     ]
    }
   ],
   "source": [
    "# id() 내장 함수\n",
    "# 고유한 정수 값(메모리 주소)을 갖습니다.\n",
    "# 그걸 조회하는 게 id() 내장 함수입니다.\n",
    "# 즉, id()로 가져온 정수 값이 같다면 같은 객체라는 의미입니다.\n",
    "\n",
    "print(\"prac_result4의 id:\",id(prac_result4))\n",
    "for i, v in enumerate(prac_result5):\n",
    "    print(\"prac_result5[\", i, \"]: \",id(v), sep=\"\")"
   ]
  },
  {
   "cell_type": "code",
   "execution_count": 9,
   "id": "75a10556-1b4d-4169-9aab-92e4eab0e51e",
   "metadata": {},
   "outputs": [
    {
     "name": "stdout",
     "output_type": "stream",
     "text": [
      "prac_result4의 id: 2115846258944\n",
      "prac_result6[0]: 2115846250304\n",
      "prac_result6[1]: 2115846259200\n",
      "prac_result6[2]: 2115846260224\n",
      "prac_result6[3]: 2115846259264\n"
     ]
    }
   ],
   "source": [
    "# 기존 리스트의 전체 범위의 슬라이싱 결과는 새로운 객체이다.\n",
    "\n",
    "prac_result6 = [prac_result4[:] for _ in range(4)]\n",
    "\n",
    "print(\"prac_result4의 id:\",id(prac_result4))\n",
    "for i, v in enumerate(prac_result6):\n",
    "    print(\"prac_result6[\", i, \"]: \",id(v), sep=\"\")\n",
    "    \n",
    "# 리스트!!수정가능한!!\n",
    "# 나머지는 값을 추가할수도 변경도 뺄수도 없다\n",
    "# 슬라이싱은 부분을 가져오기위한 목적\n",
    "# 부분을 도려내기보다 새롭게 가져오는 느낌쓰\n",
    "# 새로운 객체를 만들었구나~~~~"
   ]
  },
  {
   "cell_type": "code",
   "execution_count": 12,
   "id": "36a4edb7-3b89-45e3-8135-897ad99691eb",
   "metadata": {},
   "outputs": [],
   "source": [
    "# 강사님 예제\n",
    "\n",
    "test = [i for i in range(10)]"
   ]
  },
  {
   "cell_type": "code",
   "execution_count": 13,
   "id": "134f218d-0dcd-4070-8690-b3cefe3e3194",
   "metadata": {},
   "outputs": [
    {
     "data": {
      "text/plain": [
       "[0, 1, 2, 3, 4, 5, 6, 7, 8, 9]"
      ]
     },
     "execution_count": 13,
     "metadata": {},
     "output_type": "execute_result"
    }
   ],
   "source": [
    "test"
   ]
  },
  {
   "cell_type": "code",
   "execution_count": 14,
   "id": "da46c196-aa3d-4fc3-8343-bff85f02e0d3",
   "metadata": {},
   "outputs": [
    {
     "data": {
      "text/plain": [
       "list"
      ]
     },
     "execution_count": 14,
     "metadata": {},
     "output_type": "execute_result"
    }
   ],
   "source": [
    "type(test)"
   ]
  },
  {
   "cell_type": "code",
   "execution_count": 15,
   "id": "66982896-8834-4ac6-99cd-37686efca48a",
   "metadata": {},
   "outputs": [],
   "source": [
    "test2 = tuple(test)"
   ]
  },
  {
   "cell_type": "code",
   "execution_count": 16,
   "id": "2f529d04-7c81-4860-9542-3992354697d7",
   "metadata": {},
   "outputs": [
    {
     "data": {
      "text/plain": [
       "tuple"
      ]
     },
     "execution_count": 16,
     "metadata": {},
     "output_type": "execute_result"
    }
   ],
   "source": [
    "type(test2)"
   ]
  },
  {
   "cell_type": "code",
   "execution_count": 17,
   "id": "c6ec6924-f23f-4f58-abd5-1592f1147bcc",
   "metadata": {},
   "outputs": [
    {
     "data": {
      "text/plain": [
       "(0, 1)"
      ]
     },
     "execution_count": 17,
     "metadata": {},
     "output_type": "execute_result"
    }
   ],
   "source": [
    "test2[:2]"
   ]
  },
  {
   "cell_type": "code",
   "execution_count": null,
   "id": "4afc34d3-9db0-42e3-84c2-dee9f7d1b3de",
   "metadata": {},
   "outputs": [],
   "source": [
    "# 리스트 전체 범위 slicing 을 통한 리스트 복사\n",
    "# 리스트변수[:] -> 새로운 객체를 만들어 반환한다."
   ]
  },
  {
   "cell_type": "code",
   "execution_count": 18,
   "id": "5b62187f-a16d-4ff1-bcc3-f9b60bc07c86",
   "metadata": {},
   "outputs": [
    {
     "name": "stdout",
     "output_type": "stream",
     "text": [
      "2115846040256\n",
      "2115846254656\n",
      "False\n",
      "True\n"
     ]
    }
   ],
   "source": [
    "# 연습 문제    # 이해하쟈\n",
    "# is연산자를 통해 객체 간 비교!!!\n",
    "\n",
    "# [1, 2, 3, 4, 5, 6, 7, 8, 9]\n",
    "old_list = list(range(10))\n",
    "new_list = old_list[:]\n",
    "\n",
    "print(id(old_list))\n",
    "print(id(new_list)) \n",
    "\n",
    "print(old_list is new_list) # 객체간 비교인지 // id()함수의 결과를 비교한다.\n",
    "print(old_list == new_list) # 값의 비교인지"
   ]
  },
  {
   "cell_type": "code",
   "execution_count": 19,
   "id": "3b85d178-6730-4eb7-a96b-66b96d328d01",
   "metadata": {},
   "outputs": [
    {
     "name": "stdout",
     "output_type": "stream",
     "text": [
      "2115846161856\n",
      "2115846161856\n",
      "True\n",
      "True\n"
     ]
    }
   ],
   "source": [
    "# 참고\n",
    "# tuple, str 은 리스트와 다른 슬라이싱 결과\n",
    "# 튜플, 문자열은 불변의 특징!!!!\n",
    "# 요소가 동일하다면 재사용해도 문제 없음\n",
    "\n",
    "# [1, 2, 3, 4, 5, 6, 7, 8, 9]\n",
    "old_tuple = tuple(range(10))\n",
    "new_tuple = old_tuple[:]\n",
    "\n",
    "print(id(old_tuple))\n",
    "print(id(new_tuple)) \n",
    "\n",
    "print(old_tuple is new_tuple) \n",
    "print(old_tuple == new_tuple)"
   ]
  },
  {
   "cell_type": "code",
   "execution_count": 20,
   "id": "a2e8aa51-c4b8-4cce-ad30-a29d6f4520c9",
   "metadata": {},
   "outputs": [
    {
     "name": "stdout",
     "output_type": "stream",
     "text": [
      "[0, 1, 8, 27, 64, 125, 216, 343, 512, 729]\n"
     ]
    }
   ],
   "source": [
    "# 리스트 컴프리헨션\n",
    "\n",
    "\n",
    "list_d = list(i**3 for i in range(10))\n",
    "print(list_d)"
   ]
  },
  {
   "cell_type": "code",
   "execution_count": null,
   "id": "dbf9ffb5-07bc-4dc4-995c-2cebbeb356ce",
   "metadata": {},
   "outputs": [],
   "source": [
    "# 리스트 변수를 할당해서 복사하는 경우\n"
   ]
  },
  {
   "cell_type": "code",
   "execution_count": 21,
   "id": "5bf7d3db-a8e5-4451-94ca-f3653fcb90a9",
   "metadata": {},
   "outputs": [],
   "source": [
    "# 리스트 변수를 다른 변수에 할당(=)해서 복사한 경우에 객체가 아예 같다고\n",
    "# 나오는 것을 확인할 수 있다.\n",
    "\n",
    "# 대입하는 것도 주소가 복사가 된다~~~~"
   ]
  },
  {
   "cell_type": "code",
   "execution_count": null,
   "id": "4334e5c7-b5aa-4646-8019-6029a221001c",
   "metadata": {},
   "outputs": [],
   "source": [
    "# 리스트 복사 ((copy) 메서드)\n",
    "# 리스트.copy() 메서드는 리스트 객체를 새롭게 복사합니다.\n"
   ]
  },
  {
   "cell_type": "code",
   "execution_count": null,
   "id": "41d1c7f5-6148-4b76-b295-a4d5c4a42ac7",
   "metadata": {},
   "outputs": [],
   "source": [
    "# 리스트 복사\n",
    "# 얘는 슬라이싱과 같아용\n",
    "# 얘는 리스트에 메소드구나~~ 리스트에 포함되어있는 함수이구낭\n",
    "\n",
    "list_g[0] = 999\n",
    "print(list_g)\n",
    "print(list_h)\n",
    "\n",
    "# 위에하고 출력해"
   ]
  },
  {
   "cell_type": "code",
   "execution_count": 24,
   "id": "2367a7bb-c059-4299-a30a-05feb5cbad5c",
   "metadata": {},
   "outputs": [],
   "source": [
    "# 지금까지 우리가 했던건 얕은 복사야\n",
    "# 얕은 복사(Shallow copy)\n",
    "# 리스트에 애스터리스크(*)를 사용하면 얕은 복사가 됨\n",
    "# 즉, list_i[0]과 list_i[1]과 list_i[2]는 모두 같은 객체를 바라보는 요소를 갖음\n",
    "\n",
    "list_i = [[0]] *3"
   ]
  },
  {
   "cell_type": "code",
   "execution_count": 25,
   "id": "22b10e79-5091-4087-afab-2cf0d4872b5f",
   "metadata": {},
   "outputs": [
    {
     "name": "stdout",
     "output_type": "stream",
     "text": [
      "[[0], [0], [0]]\n"
     ]
    }
   ],
   "source": [
    "print(list_i)"
   ]
  },
  {
   "cell_type": "code",
   "execution_count": 26,
   "id": "598fb2a3-a035-479f-8be8-616790243c80",
   "metadata": {},
   "outputs": [],
   "source": [
    "list_i[0][0] = 999"
   ]
  },
  {
   "cell_type": "code",
   "execution_count": 27,
   "id": "5ed28136-f5c7-4868-93ec-5a93c76fb9c5",
   "metadata": {},
   "outputs": [
    {
     "name": "stdout",
     "output_type": "stream",
     "text": [
      "[[999], [999], [999]]\n"
     ]
    }
   ],
   "source": [
    "print(list_i)\n",
    "\n",
    "# 단 하나의 요소만 바꿨는데 모든 요소의 값이 변경됐다!!!\n",
    "# 요소가 객체로 되어있으면 메모리 주소만 복사하는 것을 얕은 복사라고 해"
   ]
  },
  {
   "cell_type": "code",
   "execution_count": 28,
   "id": "68b3ec4f-af2c-4ed7-b762-de3f6e1b3995",
   "metadata": {},
   "outputs": [
    {
     "data": {
      "text/plain": [
       "True"
      ]
     },
     "execution_count": 28,
     "metadata": {},
     "output_type": "execute_result"
    }
   ],
   "source": [
    "# 리스트 내에 있는 모든 요소가 서로 같은 객체입니다.\n",
    "\n",
    "list_i[0][0] is list_i[1][0]"
   ]
  },
  {
   "cell_type": "code",
   "execution_count": 29,
   "id": "778b5531-dedf-473d-9cc8-9fef86b1ea2e",
   "metadata": {},
   "outputs": [
    {
     "data": {
      "text/plain": [
       "True"
      ]
     },
     "execution_count": 29,
     "metadata": {},
     "output_type": "execute_result"
    }
   ],
   "source": [
    "list_i[1][0] is list_i[2][0]"
   ]
  },
  {
   "cell_type": "code",
   "execution_count": 30,
   "id": "be38d864-ceb8-46b4-a16b-65e8dc48cc75",
   "metadata": {},
   "outputs": [
    {
     "data": {
      "text/plain": [
       "True"
      ]
     },
     "execution_count": 30,
     "metadata": {},
     "output_type": "execute_result"
    }
   ],
   "source": [
    "list_i[0][0] is list_i[2][0]"
   ]
  },
  {
   "cell_type": "code",
   "execution_count": 31,
   "id": "c3c7c0a8-edcf-48d5-8116-a677c78377da",
   "metadata": {},
   "outputs": [
    {
     "name": "stdout",
     "output_type": "stream",
     "text": [
      "True\n"
     ]
    }
   ],
   "source": [
    "# 앞서 * 뿐만 아니라 슬라이싱, copy()메서드를 통한 복사도 얕은 복사!!!\n",
    "\n",
    "# 슬라이싱 복사\n",
    "\n",
    "list_j = [1, 2], [3, 4]\n",
    "list_k = list_j[:]\n",
    "print(list_k[0] is list_j[0])"
   ]
  },
  {
   "cell_type": "code",
   "execution_count": 32,
   "id": "e237fd95-6c08-4294-bf07-5c7ae5f35cc6",
   "metadata": {},
   "outputs": [
    {
     "name": "stdout",
     "output_type": "stream",
     "text": [
      "([1, 4], [3, 4])\n",
      "([1, 4], [3, 4])\n"
     ]
    }
   ],
   "source": [
    "list_j[0][1] = 2 ** 2\n",
    "print(list_j)\n",
    "print(list_k)"
   ]
  },
  {
   "cell_type": "code",
   "execution_count": 33,
   "id": "6d2b0488-b59a-4820-aa5e-26a60bca766c",
   "metadata": {},
   "outputs": [
    {
     "name": "stdout",
     "output_type": "stream",
     "text": [
      "True\n"
     ]
    }
   ],
   "source": [
    "# copy() 메서드로 복사\n",
    "\n",
    "list_1 = [5, 6], [7, 8]\n",
    "list_2 = list_1[:]\n",
    "print(list_1[0] is list_2[0])"
   ]
  },
  {
   "cell_type": "code",
   "execution_count": null,
   "id": "67b8d47d-cab1-41be-9e0e-6758c7d657eb",
   "metadata": {},
   "outputs": [],
   "source": []
  },
  {
   "cell_type": "code",
   "execution_count": null,
   "id": "6257c458-4268-41ca-a687-5ca70415cc15",
   "metadata": {},
   "outputs": [],
   "source": [
    "# 깊은 복사 (Deep copy)\n",
    "\n",
    "\n",
    "#deepcopy()를 위해서 copy 라이브러리를 필요로 합니다.\n",
    "\n"
   ]
  }
 ],
 "metadata": {
  "kernelspec": {
   "display_name": "Python 3 (ipykernel)",
   "language": "python",
   "name": "python3"
  },
  "language_info": {
   "codemirror_mode": {
    "name": "ipython",
    "version": 3
   },
   "file_extension": ".py",
   "mimetype": "text/x-python",
   "name": "python",
   "nbconvert_exporter": "python",
   "pygments_lexer": "ipython3",
   "version": "3.9.13"
  }
 },
 "nbformat": 4,
 "nbformat_minor": 5
}
