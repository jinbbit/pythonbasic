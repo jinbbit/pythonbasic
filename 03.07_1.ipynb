{
 "cells": [
  {
   "cell_type": "markdown",
   "id": "77d21deb-5f59-49a0-ad9e-40813ea29210",
   "metadata": {},
   "source": [
    "# Pandas (2)\n",
    "파이썬의 데이터 분석 라이브러리\n"
   ]
  },
  {
   "cell_type": "markdown",
   "id": "619aeafd-3625-4309-a0aa-fca518fd7bfa",
   "metadata": {},
   "source": [
    "- Series의 값이 많은 경우\n",
    "\n",
    ":   Series의 데이터 개수가 많아지면 처음 5개, 끝 5개를 \n",
    "출력해줍니다.\n",
    "그 사이에는 ‘...’이란 표시가 존재하고 값이 생략되었다는 \n",
    "것을 의미합니다.\n",
    "수 많은 데이터를 한번에 출력하게되면 주피터 자체가 \n",
    "느려질 수 있기 때문입니다.\n"
   ]
  },
  {
   "cell_type": "code",
   "execution_count": 1,
   "id": "da48adef-2caf-4759-8261-ab0863450d3b",
   "metadata": {},
   "outputs": [],
   "source": [
    "import pandas as pd"
   ]
  },
  {
   "cell_type": "code",
   "execution_count": 2,
   "id": "49854892-f6c2-49d5-886a-3c24ceff16ee",
   "metadata": {},
   "outputs": [
    {
     "data": {
      "text/plain": [
       "0        0\n",
       "1        1\n",
       "2        2\n",
       "3        3\n",
       "4        4\n",
       "      ... \n",
       "495    495\n",
       "496    496\n",
       "497    497\n",
       "498    498\n",
       "499    499\n",
       "Length: 500, dtype: int64"
      ]
     },
     "execution_count": 2,
     "metadata": {},
     "output_type": "execute_result"
    }
   ],
   "source": [
    "# 500개의 값을 갖는 시리즈 생성\n",
    "nums = pd.Series(range(500))\n",
    "nums"
   ]
  },
  {
   "cell_type": "markdown",
   "id": "4e26a196-69e0-4cce-afb8-fb27b76238ea",
   "metadata": {},
   "source": [
    "### < Series head() 메서드 >\n",
    "\n",
    "- 앞의 데이터를 추출해볼 때 사용할 수 있는 메서드가 \n",
    "head()입니다.\n",
    "- head() 메서드는 앞부터 출력할 데이터의 개수를 지정할 \n",
    "수 있습니다. \n",
    "- 디폴트 값은 5로 5개의 값을 출력합니다."
   ]
  },
  {
   "cell_type": "code",
   "execution_count": 3,
   "id": "5aad17ad-5602-48fb-97cd-01f0a6de9239",
   "metadata": {},
   "outputs": [
    {
     "data": {
      "text/plain": [
       "0    0\n",
       "1    1\n",
       "2    2\n",
       "3    3\n",
       "4    4\n",
       "5    5\n",
       "6    6\n",
       "7    7\n",
       "8    8\n",
       "9    9\n",
       "dtype: int64"
      ]
     },
     "execution_count": 3,
     "metadata": {},
     "output_type": "execute_result"
    }
   ],
   "source": [
    "nums.head(10)"
   ]
  },
  {
   "cell_type": "code",
   "execution_count": 4,
   "id": "a960cde5-5f64-4295-baec-021a44fd6330",
   "metadata": {},
   "outputs": [
    {
     "data": {
      "text/plain": [
       "0    0\n",
       "1    1\n",
       "2    2\n",
       "3    3\n",
       "4    4\n",
       "dtype: int64"
      ]
     },
     "execution_count": 4,
     "metadata": {},
     "output_type": "execute_result"
    }
   ],
   "source": [
    "nums.head() # 디폴트 값"
   ]
  },
  {
   "cell_type": "markdown",
   "id": "90793d68-88f7-4e43-9edf-e7d93088a875",
   "metadata": {},
   "source": [
    "### < Series tail() 메서드 >\n",
    "- 뒤에서부터 데이터를 추출해볼 때 사용할 수 있는 \n",
    "메서드가 tail()입니다.\n",
    "- tail() 메서드는 맨 뒤에서부터 출력할 데이터의 개수를 \n",
    "지정할 수 있습니다. \n",
    "- 디폴트 값은 head() 메서드와 \n",
    "마찬가지로 5로 5개의 값을 출력합니다."
   ]
  },
  {
   "cell_type": "code",
   "execution_count": 5,
   "id": "28ba298a-b70d-4334-85ae-e81cfaeb118c",
   "metadata": {},
   "outputs": [
    {
     "data": {
      "text/plain": [
       "495    495\n",
       "496    496\n",
       "497    497\n",
       "498    498\n",
       "499    499\n",
       "dtype: int64"
      ]
     },
     "execution_count": 5,
     "metadata": {},
     "output_type": "execute_result"
    }
   ],
   "source": [
    "nums.tail()"
   ]
  },
  {
   "cell_type": "code",
   "execution_count": 6,
   "id": "f00d8fda-73df-4cf3-8727-3a55d57920b4",
   "metadata": {},
   "outputs": [
    {
     "data": {
      "text/plain": [
       "490    490\n",
       "491    491\n",
       "492    492\n",
       "493    493\n",
       "494    494\n",
       "495    495\n",
       "496    496\n",
       "497    497\n",
       "498    498\n",
       "499    499\n",
       "dtype: int64"
      ]
     },
     "execution_count": 6,
     "metadata": {},
     "output_type": "execute_result"
    }
   ],
   "source": [
    "nums.tail(10)"
   ]
  },
  {
   "cell_type": "markdown",
   "id": "273e2340-5eaa-4382-a9eb-ce8cdba44de3",
   "metadata": {},
   "source": [
    "### < Series 수학 연산 >\n",
    "- 여기 np.nan 값의 데이터를 갖는 Series를 만들었습니다. \n",
    "\n",
    "- 정수의 값을 적었지만, \n",
    "np.nan의 데이터는 float 자료형이기 때문에 dtype이 float로 된 것을 확인할 수 \n",
    "있습니다."
   ]
  },
  {
   "cell_type": "code",
   "execution_count": 7,
   "id": "1a91d733-57f3-42bb-b421-0887a82db300",
   "metadata": {},
   "outputs": [],
   "source": [
    "import numpy as np"
   ]
  },
  {
   "cell_type": "code",
   "execution_count": 8,
   "id": "093fc029-055b-4e55-94a1-8f74aa546e03",
   "metadata": {},
   "outputs": [
    {
     "data": {
      "text/plain": [
       "0    1.0\n",
       "1    2.0\n",
       "2    NaN\n",
       "3    4.0\n",
       "4    5.0\n",
       "dtype: float64"
      ]
     },
     "execution_count": 8,
     "metadata": {},
     "output_type": "execute_result"
    }
   ],
   "source": [
    "nums = pd.Series([1, 2, np.nan, 4, 5])\n",
    "nums"
   ]
  },
  {
   "cell_type": "markdown",
   "id": "1f6988ef-ccd4-4944-949a-5c707e8e9b8c",
   "metadata": {},
   "source": [
    "### < Series 수학 연산 nunique() 메서드 >\n",
    "\n",
    "- nunique() 메서드는 고유한 값의 개수를 계산할 때 사용합니다. \n",
    "- 아래의 예제를 보면 \n",
    "‘h’, ‘e’, ‘l’, ‘l’, ‘o’의 값을 갖는 Series 객체에서 고유한 값인 ‘h’, ‘e’, ‘l’, ‘o’에 대한 \n",
    "개수를 구해주는 것을 확인할 수 있습니다.\n"
   ]
  },
  {
   "cell_type": "code",
   "execution_count": 9,
   "id": "621a8ebc-f852-4302-9bf6-e7eea0648451",
   "metadata": {},
   "outputs": [
    {
     "data": {
      "text/plain": [
       "0    h\n",
       "1    e\n",
       "2    l\n",
       "3    l\n",
       "4    o\n",
       "dtype: object"
      ]
     },
     "execution_count": 9,
     "metadata": {},
     "output_type": "execute_result"
    }
   ],
   "source": [
    "hello = pd.Series(list(\"hello\"))   \n",
    "hello"
   ]
  },
  {
   "cell_type": "code",
   "execution_count": 10,
   "id": "972310be-ebf9-4426-9e78-c6cad05c54a4",
   "metadata": {},
   "outputs": [
    {
     "data": {
      "text/plain": [
       "4"
      ]
     },
     "execution_count": 10,
     "metadata": {},
     "output_type": "execute_result"
    }
   ],
   "source": [
    "hello.nunique()"
   ]
  },
  {
   "cell_type": "markdown",
   "id": "5bfd2d58-e92e-434f-9bff-a548feb3f995",
   "metadata": {},
   "source": [
    "### < Series 수학 연산 count() 메서드 >\n",
    "\n",
    "- count() 메서드는 데이터의 개수를 계산합니다. 이때 nan인 값에 대해서는 개수에 \n",
    "포함시키지 않습니다.\n",
    "- len()은 그와 별개로 전체 길이를 알려줍니다."
   ]
  },
  {
   "cell_type": "code",
   "execution_count": 11,
   "id": "5b7b0961-06ce-4362-8619-de2832942406",
   "metadata": {},
   "outputs": [
    {
     "data": {
      "text/plain": [
       "0    1.0\n",
       "1    2.0\n",
       "2    NaN\n",
       "3    4.0\n",
       "4    5.0\n",
       "dtype: float64"
      ]
     },
     "execution_count": 11,
     "metadata": {},
     "output_type": "execute_result"
    }
   ],
   "source": [
    "nums"
   ]
  },
  {
   "cell_type": "code",
   "execution_count": 12,
   "id": "2e95347a-099c-471f-a2b6-771e0239a862",
   "metadata": {},
   "outputs": [
    {
     "data": {
      "text/plain": [
       "4"
      ]
     },
     "execution_count": 12,
     "metadata": {},
     "output_type": "execute_result"
    }
   ],
   "source": [
    "nums.count()"
   ]
  },
  {
   "cell_type": "code",
   "execution_count": 13,
   "id": "12ecfb71-3a0a-465b-b623-6b23ca19f240",
   "metadata": {},
   "outputs": [
    {
     "data": {
      "text/plain": [
       "5"
      ]
     },
     "execution_count": 13,
     "metadata": {},
     "output_type": "execute_result"
    }
   ],
   "source": [
    "len(nums)"
   ]
  },
  {
   "cell_type": "markdown",
   "id": "746af16c-86ba-4a09-bd46-0698695a77b8",
   "metadata": {},
   "source": [
    "### < Series 수학 연산 sum() 메서드 >\n",
    "\n",
    "- sum() 메서드는 Series에 있는 데이터를 모두 더합니다. 대부분의 수학 연산과 관련된 \n",
    "메서드는 결측치를 포함하지 않고 계산을 합니다.\n",
    "- skipna 파라미터의 기본 값이 True이기 때문입니다. 이때 인수로 skipna의 값을 False로 \n",
    "전달하면 결측값을 포함한 계산 결과를 얻을 수 있습니다."
   ]
  },
  {
   "cell_type": "code",
   "execution_count": 14,
   "id": "af2aa656-2ac0-41b8-8c56-5fef3caf14a9",
   "metadata": {},
   "outputs": [
    {
     "data": {
      "text/plain": [
       "0    1.0\n",
       "1    2.0\n",
       "2    NaN\n",
       "3    4.0\n",
       "4    5.0\n",
       "dtype: float64"
      ]
     },
     "execution_count": 14,
     "metadata": {},
     "output_type": "execute_result"
    }
   ],
   "source": [
    "nums"
   ]
  },
  {
   "cell_type": "code",
   "execution_count": 15,
   "id": "a1fe5764-ad67-4f85-a1e9-6c85c4452187",
   "metadata": {},
   "outputs": [
    {
     "data": {
      "text/plain": [
       "12.0"
      ]
     },
     "execution_count": 15,
     "metadata": {},
     "output_type": "execute_result"
    }
   ],
   "source": [
    "nums.sum() # 결측값 불포함"
   ]
  },
  {
   "cell_type": "code",
   "execution_count": 16,
   "id": "1432a850-2c4f-4add-9d74-302adce9be87",
   "metadata": {},
   "outputs": [
    {
     "data": {
      "text/plain": [
       "nan"
      ]
     },
     "execution_count": 16,
     "metadata": {},
     "output_type": "execute_result"
    }
   ],
   "source": [
    "nums.sum(skipna = False) # 결측값도 포함"
   ]
  },
  {
   "cell_type": "code",
   "execution_count": 17,
   "id": "4f337483-5d2a-4452-a396-2591984365be",
   "metadata": {},
   "outputs": [
    {
     "data": {
      "text/plain": [
       "12.0"
      ]
     },
     "execution_count": 17,
     "metadata": {},
     "output_type": "execute_result"
    }
   ],
   "source": [
    "nums.sum(skipna = True)"
   ]
  },
  {
   "cell_type": "markdown",
   "id": "bf3c2499-e12e-4aa6-9300-1cd85e98f8af",
   "metadata": {},
   "source": [
    "### < Series 수학 연산 mean(), median(), std() 메서드 >\n",
    "\n",
    "- mean() :  평균\n",
    "- median() :  중앙값\n",
    "- std() :  표준편차\n",
    "\n",
    "들을 구해주는 메서드입니다.\n"
   ]
  },
  {
   "cell_type": "code",
   "execution_count": 18,
   "id": "e12e9809-0478-4bca-aa79-23173ccbd925",
   "metadata": {},
   "outputs": [
    {
     "data": {
      "text/plain": [
       "3.0"
      ]
     },
     "execution_count": 18,
     "metadata": {},
     "output_type": "execute_result"
    }
   ],
   "source": [
    "nums.mean()"
   ]
  },
  {
   "cell_type": "code",
   "execution_count": 19,
   "id": "11f02356-8da3-437e-b492-a5448ce84b61",
   "metadata": {},
   "outputs": [
    {
     "data": {
      "text/plain": [
       "3.0"
      ]
     },
     "execution_count": 19,
     "metadata": {},
     "output_type": "execute_result"
    }
   ],
   "source": [
    "nums.median()"
   ]
  },
  {
   "cell_type": "code",
   "execution_count": 20,
   "id": "a878ce6b-a60c-4fc1-86b0-4f2a221080e8",
   "metadata": {},
   "outputs": [
    {
     "data": {
      "text/plain": [
       "1.8257418583505538"
      ]
     },
     "execution_count": 20,
     "metadata": {},
     "output_type": "execute_result"
    }
   ],
   "source": [
    "nums.std()"
   ]
  },
  {
   "cell_type": "markdown",
   "id": "932202fa-60e5-4a95-96c0-3b7d301b3254",
   "metadata": {},
   "source": [
    "### < Series 수학 연산 max(), min() 메서드 >\n",
    "\n",
    "- max() 메서드는 Series에서 가장 큰 값을 구하고 \n",
    "- min() 메서드는 Series에서 가장 작은 \n",
    "값을 구해줍니다"
   ]
  },
  {
   "cell_type": "code",
   "execution_count": 21,
   "id": "c897624b-d9da-4cce-a133-6f9ad29d5b87",
   "metadata": {},
   "outputs": [
    {
     "data": {
      "text/plain": [
       "0    1.0\n",
       "1    2.0\n",
       "2    NaN\n",
       "3    4.0\n",
       "4    5.0\n",
       "dtype: float64"
      ]
     },
     "execution_count": 21,
     "metadata": {},
     "output_type": "execute_result"
    }
   ],
   "source": [
    "nums"
   ]
  },
  {
   "cell_type": "code",
   "execution_count": 22,
   "id": "a069ed41-0f95-4e1d-86c8-bdc6eab476be",
   "metadata": {},
   "outputs": [
    {
     "data": {
      "text/plain": [
       "5.0"
      ]
     },
     "execution_count": 22,
     "metadata": {},
     "output_type": "execute_result"
    }
   ],
   "source": [
    "nums.max()"
   ]
  },
  {
   "cell_type": "code",
   "execution_count": 23,
   "id": "16a86d57-b7f6-4417-910d-bd5b0b2a47c5",
   "metadata": {},
   "outputs": [
    {
     "data": {
      "text/plain": [
       "1.0"
      ]
     },
     "execution_count": 23,
     "metadata": {},
     "output_type": "execute_result"
    }
   ],
   "source": [
    "nums.min()"
   ]
  },
  {
   "cell_type": "markdown",
   "id": "450feb41-c8f4-496a-b8c4-99fe7ec4bcc7",
   "metadata": {},
   "source": [
    "### ord()함수\n",
    "\n",
    "- Series의 값이 문자인 경우도 최대값과 최소값을 구할 \n",
    "수 있습니다.\n",
    "- ord() 함수는 하나의 문자를 Unicode 숫자로 \n",
    "변경해줍니다. // ord(하나의 문자)\n",
    "- 그 크기를 가지고 최대값과 최소값을 \n",
    "구합니다.\n",
    "- 문자를 아스키코드 -> 십진법으로 표현"
   ]
  },
  {
   "cell_type": "code",
   "execution_count": 24,
   "id": "728d5020-3d14-4bef-9e17-7eb64072af99",
   "metadata": {},
   "outputs": [
    {
     "data": {
      "text/plain": [
       "0    A\n",
       "1    a\n",
       "2    B\n",
       "3    b\n",
       "4    C\n",
       "5    c\n",
       "dtype: object"
      ]
     },
     "execution_count": 24,
     "metadata": {},
     "output_type": "execute_result"
    }
   ],
   "source": [
    "somechar = pd.Series(list(\"AaBbCc\"))\n",
    "somechar"
   ]
  },
  {
   "cell_type": "code",
   "execution_count": 25,
   "id": "3e4937b5-7e09-4532-aa28-dcc2c9195687",
   "metadata": {},
   "outputs": [
    {
     "data": {
      "text/plain": [
       "'c'"
      ]
     },
     "execution_count": 25,
     "metadata": {},
     "output_type": "execute_result"
    }
   ],
   "source": [
    "somechar.max()"
   ]
  },
  {
   "cell_type": "code",
   "execution_count": 26,
   "id": "84287c06-7abf-48b6-a6d9-59f0ce701080",
   "metadata": {},
   "outputs": [
    {
     "data": {
      "text/plain": [
       "'A'"
      ]
     },
     "execution_count": 26,
     "metadata": {},
     "output_type": "execute_result"
    }
   ],
   "source": [
    "somechar.min()"
   ]
  },
  {
   "cell_type": "code",
   "execution_count": 27,
   "id": "48d96208-c9dd-40af-8887-cf736075348e",
   "metadata": {},
   "outputs": [
    {
     "data": {
      "text/plain": [
       "97"
      ]
     },
     "execution_count": 27,
     "metadata": {},
     "output_type": "execute_result"
    }
   ],
   "source": [
    "ord('a')"
   ]
  },
  {
   "cell_type": "code",
   "execution_count": 28,
   "id": "69d0f23b-f1b6-4575-8ec5-795b42de72d1",
   "metadata": {},
   "outputs": [
    {
     "data": {
      "text/plain": [
       "65"
      ]
     },
     "execution_count": 28,
     "metadata": {},
     "output_type": "execute_result"
    }
   ],
   "source": [
    "ord('A')"
   ]
  },
  {
   "cell_type": "markdown",
   "id": "324e7e7a-a88c-41ef-a61c-19b01ccd2ad1",
   "metadata": {},
   "source": [
    "### < Series 수학 연산 describe() 메서드 >\n",
    "- describe() 메서드는 수치 값을 갖는 Series에 대해 \n",
    "count, mean, std, min, 25%, median(50%), 75%, \n",
    "max에 대한 모든 통계를 구해줍니다.\n",
    "- object값을 갖는 Series에 대해서는 데이터 수인 count, \n",
    "고유한 값의 수인 unique, 최빈 값 top, 최빈 값의 빈도 \n",
    "freq에 대한 값을 구해줍니다.\n",
    "\n",
    "- cf) sql 에서 desc 라고 썼음."
   ]
  },
  {
   "cell_type": "code",
   "execution_count": 32,
   "id": "6837c4b6-cab5-495b-98a2-079b92557efc",
   "metadata": {},
   "outputs": [
    {
     "data": {
      "text/plain": [
       "0    1.0\n",
       "1    2.0\n",
       "2    NaN\n",
       "3    4.0\n",
       "4    5.0\n",
       "dtype: float64"
      ]
     },
     "execution_count": 32,
     "metadata": {},
     "output_type": "execute_result"
    }
   ],
   "source": [
    "nums"
   ]
  },
  {
   "cell_type": "code",
   "execution_count": 33,
   "id": "128e7d0d-0a6c-44d2-b233-4d939870a470",
   "metadata": {},
   "outputs": [
    {
     "data": {
      "text/plain": [
       "count    4.000000\n",
       "mean     3.000000\n",
       "std      1.825742\n",
       "min      1.000000\n",
       "25%      1.750000\n",
       "50%      3.000000\n",
       "75%      4.250000\n",
       "max      5.000000\n",
       "dtype: float64"
      ]
     },
     "execution_count": 33,
     "metadata": {},
     "output_type": "execute_result"
    }
   ],
   "source": [
    "nums.describe() # 수치형 데이터"
   ]
  },
  {
   "cell_type": "code",
   "execution_count": 34,
   "id": "f33ca8ab-a909-452b-b9ca-dfc8506b079c",
   "metadata": {},
   "outputs": [
    {
     "data": {
      "text/plain": [
       "count     5\n",
       "unique    4\n",
       "top       l\n",
       "freq      2\n",
       "dtype: object"
      ]
     },
     "execution_count": 34,
     "metadata": {},
     "output_type": "execute_result"
    }
   ],
   "source": [
    "hello.describe()"
   ]
  },
  {
   "cell_type": "markdown",
   "id": "722977be-aac5-44ef-8be2-d0205f5bfc2b",
   "metadata": {},
   "source": [
    "### < Series의 변환 >\n",
    "- Series는 파이썬의 기본 자료구조로 변경 가능합니다. \n",
    "- list() 함수를 활용하여 nums에 담긴 Series 객체를 list \n",
    "객체로 변경하였습니다.\n",
    "- 뿐만 아니라 딕셔너리 자료형으로도 변경 가능합니다. \n",
    "- dict() 함수를 활용하면 됩니다. \n",
    "- Series의 index는 dict의 \n",
    "key가 되고 Series의 values는 dict의 values가 됩니다."
   ]
  },
  {
   "cell_type": "code",
   "execution_count": 29,
   "id": "bb9ec092-8cdd-473f-9120-63abfa853b3d",
   "metadata": {},
   "outputs": [
    {
     "data": {
      "text/plain": [
       "0    1.0\n",
       "1    2.0\n",
       "2    NaN\n",
       "3    4.0\n",
       "4    5.0\n",
       "dtype: float64"
      ]
     },
     "execution_count": 29,
     "metadata": {},
     "output_type": "execute_result"
    }
   ],
   "source": [
    "nums"
   ]
  },
  {
   "cell_type": "code",
   "execution_count": 30,
   "id": "d63c7827-63ad-4948-980b-3c0fa6b8dc05",
   "metadata": {},
   "outputs": [
    {
     "data": {
      "text/plain": [
       "[1.0, 2.0, nan, 4.0, 5.0]"
      ]
     },
     "execution_count": 30,
     "metadata": {},
     "output_type": "execute_result"
    }
   ],
   "source": [
    "list(nums)"
   ]
  },
  {
   "cell_type": "code",
   "execution_count": 31,
   "id": "d81b3e89-6150-4081-be9f-cbbaf186a290",
   "metadata": {},
   "outputs": [
    {
     "data": {
      "text/plain": [
       "{0: 1.0, 1: 2.0, 2: nan, 3: 4.0, 4: 5.0}"
      ]
     },
     "execution_count": 31,
     "metadata": {},
     "output_type": "execute_result"
    }
   ],
   "source": [
    "dict(nums)"
   ]
  },
  {
   "cell_type": "markdown",
   "id": "0ea1abca-0486-4208-b95f-36091b29ee10",
   "metadata": {},
   "source": [
    "### < 연습 문제 >\n",
    "다음과 같이 두 시퀀스 자료형이 주어졌을 때 \n",
    "superheros를 index로하고 strength_levels을 data로 \n",
    "하는 Series를 생성하세요."
   ]
  },
  {
   "cell_type": "code",
   "execution_count": 38,
   "id": "410bd05f-6aaa-4725-88fc-fb6379d9b4bd",
   "metadata": {},
   "outputs": [],
   "source": [
    "superheros = [ \"Batman\",\n",
    "              \"Superman\",\n",
    "              \"Spider-Man\",\n",
    "              \"Iron Man\",\n",
    "              \"Captain America\",\n",
    "              \"Wonder Woman\" \n",
    "             ]\n",
    "\n",
    "strength_levels = (100, 120, 90, 95, 110, 120)"
   ]
  },
  {
   "cell_type": "code",
   "execution_count": 39,
   "id": "3d364395-58b5-4e9c-9fe0-6e82b336ea00",
   "metadata": {},
   "outputs": [
    {
     "data": {
      "text/plain": [
       "Batman             100\n",
       "Superman           120\n",
       "Spider-Man          90\n",
       "Iron Man            95\n",
       "Captain America    110\n",
       "Wonder Woman       120\n",
       "dtype: int64"
      ]
     },
     "execution_count": 39,
     "metadata": {},
     "output_type": "execute_result"
    }
   ],
   "source": [
    "heros = pd.Series(data = strength_levels, index = superheros)\n",
    "heros"
   ]
  },
  {
   "cell_type": "markdown",
   "id": "cbb240e2-ff61-4353-ba5f-8e0757152cc7",
   "metadata": {},
   "source": [
    "### < 연습 문제 >\n",
    "앞서 만든 Series에서 뒤에서부터 마지막 행 4개를 \n",
    "구해보세요."
   ]
  },
  {
   "cell_type": "code",
   "execution_count": 40,
   "id": "812d7ff2-cd5f-4fdb-8db2-54bb0fe62550",
   "metadata": {},
   "outputs": [
    {
     "data": {
      "text/plain": [
       "Spider-Man          90\n",
       "Iron Man            95\n",
       "Captain America    110\n",
       "Wonder Woman       120\n",
       "dtype: int64"
      ]
     },
     "execution_count": 40,
     "metadata": {},
     "output_type": "execute_result"
    }
   ],
   "source": [
    "heros.tail(4)"
   ]
  },
  {
   "cell_type": "markdown",
   "id": "4dc17e57-9b61-4198-abf7-17f54d28baa0",
   "metadata": {},
   "source": [
    "### < 연습 문제 >\n",
    "앞서 만든 Series의 값 중 고유한 값의 개수를 \n",
    "구해보세요."
   ]
  },
  {
   "cell_type": "code",
   "execution_count": 41,
   "id": "f84146c2-050e-49ee-8621-10ea45310dd1",
   "metadata": {},
   "outputs": [
    {
     "data": {
      "text/plain": [
       "5"
      ]
     },
     "execution_count": 41,
     "metadata": {},
     "output_type": "execute_result"
    }
   ],
   "source": [
    "heros.nunique()"
   ]
  },
  {
   "cell_type": "markdown",
   "id": "aeec3875-11c2-4c2c-bf8a-d8a0d46dba22",
   "metadata": {},
   "source": [
    "### < 연습 문제 >\n",
    "앞서 만든 Series의 값의 평균, 중앙값, 최대값, \n",
    "최소값을 각각 구해보세요."
   ]
  },
  {
   "cell_type": "code",
   "execution_count": 42,
   "id": "b051c889-bc80-4231-a86b-aab084cc2b97",
   "metadata": {},
   "outputs": [
    {
     "name": "stdout",
     "output_type": "stream",
     "text": [
      "105.83333333333333\n",
      "105.0\n",
      "120\n",
      "90\n"
     ]
    }
   ],
   "source": [
    "print(heros.mean())\n",
    "print(heros.median())\n",
    "print(heros.max())\n",
    "print(heros.min())"
   ]
  },
  {
   "cell_type": "markdown",
   "id": "10c91c26-3ce7-49dc-99e2-ffd5cae973e0",
   "metadata": {},
   "source": [
    "### < 연습 문제 >\n",
    "앞서 만든 Series를 딕셔너리 형태로 변경해보세요."
   ]
  },
  {
   "cell_type": "code",
   "execution_count": 43,
   "id": "63b08bca-09b2-4707-8c95-1813f3d9638f",
   "metadata": {},
   "outputs": [
    {
     "data": {
      "text/plain": [
       "{'Batman': 100,\n",
       " 'Superman': 120,\n",
       " 'Spider-Man': 90,\n",
       " 'Iron Man': 95,\n",
       " 'Captain America': 110,\n",
       " 'Wonder Woman': 120}"
      ]
     },
     "execution_count": 43,
     "metadata": {},
     "output_type": "execute_result"
    }
   ],
   "source": [
    "dict(heros)"
   ]
  },
  {
   "cell_type": "code",
   "execution_count": 44,
   "id": "2517f40e-14ba-4e03-bc22-64eb75ca3796",
   "metadata": {},
   "outputs": [
    {
     "data": {
      "text/plain": [
       "Iron Man    95\n",
       "dtype: int64"
      ]
     },
     "execution_count": 44,
     "metadata": {},
     "output_type": "execute_result"
    }
   ],
   "source": [
    "# cf) 아이언맨의 인덱스와 값을 시리즈로 조회해보세요.\n",
    "\n",
    "heros[[\"Iron Man\"]]"
   ]
  },
  {
   "cell_type": "markdown",
   "id": "d3ee1fa1-e32a-4cbb-9c8f-24bd111b98a9",
   "metadata": {},
   "source": [
    "### < Pandas 데이터 입출력 >\n",
    "- Pandas는 데이터 파일을 읽어 Series 혹은 DataFrame을 만들 수 있습니다. \n",
    "- 가장 단순하지만 널리 사용되는 CSV(Comman Separated Value) 포맷 입출력에 대해 \n",
    "우선 살펴보겠습니다. \n",
    "- CSV 파일 포맷은 데이터 값이 콤마(comma)로 구분되는 텍스트 파일입니다."
   ]
  },
  {
   "cell_type": "markdown",
   "id": "948166b1-fbc6-4780-9370-853f608357d3",
   "metadata": {},
   "source": [
    "### < csv 파일을 Series로 데이터 읽어오기 >\n",
    "- index와 values로 사용될 두 컬럼만으로 구성된 CSV 파일은 Series로 읽어올 수 \n",
    "있습니다.\n",
    "- 이때 index_col이란 매개변수로 인덱스로 사용할 column의 이름을 지정해주고, \n",
    "squeeze라는 매개변수에 True 값을 전달해야 합니다."
   ]
  },
  {
   "cell_type": "code",
   "execution_count": 46,
   "id": "a80d3b6e-fb8e-4e99-944f-179d8a313122",
   "metadata": {},
   "outputs": [
    {
     "data": {
      "text/html": [
       "<div>\n",
       "<style scoped>\n",
       "    .dataframe tbody tr th:only-of-type {\n",
       "        vertical-align: middle;\n",
       "    }\n",
       "\n",
       "    .dataframe tbody tr th {\n",
       "        vertical-align: top;\n",
       "    }\n",
       "\n",
       "    .dataframe thead th {\n",
       "        text-align: right;\n",
       "    }\n",
       "</style>\n",
       "<table border=\"1\" class=\"dataframe\">\n",
       "  <thead>\n",
       "    <tr style=\"text-align: right;\">\n",
       "      <th></th>\n",
       "      <th>Pokemon</th>\n",
       "      <th>Type</th>\n",
       "    </tr>\n",
       "  </thead>\n",
       "  <tbody>\n",
       "    <tr>\n",
       "      <th>0</th>\n",
       "      <td>Bulbasaur</td>\n",
       "      <td>Grass / Poison</td>\n",
       "    </tr>\n",
       "    <tr>\n",
       "      <th>1</th>\n",
       "      <td>Ivysaur</td>\n",
       "      <td>Grass / Poison</td>\n",
       "    </tr>\n",
       "    <tr>\n",
       "      <th>2</th>\n",
       "      <td>Venusaur</td>\n",
       "      <td>Grass / Poison</td>\n",
       "    </tr>\n",
       "    <tr>\n",
       "      <th>3</th>\n",
       "      <td>Charmander</td>\n",
       "      <td>Fire</td>\n",
       "    </tr>\n",
       "    <tr>\n",
       "      <th>4</th>\n",
       "      <td>Charmeleon</td>\n",
       "      <td>Fire</td>\n",
       "    </tr>\n",
       "    <tr>\n",
       "      <th>...</th>\n",
       "      <td>...</td>\n",
       "      <td>...</td>\n",
       "    </tr>\n",
       "    <tr>\n",
       "      <th>804</th>\n",
       "      <td>Stakataka</td>\n",
       "      <td>Rock / Steel</td>\n",
       "    </tr>\n",
       "    <tr>\n",
       "      <th>805</th>\n",
       "      <td>Blacephalon</td>\n",
       "      <td>Fire / Ghost</td>\n",
       "    </tr>\n",
       "    <tr>\n",
       "      <th>806</th>\n",
       "      <td>Zeraora</td>\n",
       "      <td>Electric</td>\n",
       "    </tr>\n",
       "    <tr>\n",
       "      <th>807</th>\n",
       "      <td>Meltan</td>\n",
       "      <td>Steel</td>\n",
       "    </tr>\n",
       "    <tr>\n",
       "      <th>808</th>\n",
       "      <td>Melmetal</td>\n",
       "      <td>Steel</td>\n",
       "    </tr>\n",
       "  </tbody>\n",
       "</table>\n",
       "<p>809 rows × 2 columns</p>\n",
       "</div>"
      ],
      "text/plain": [
       "         Pokemon            Type\n",
       "0      Bulbasaur  Grass / Poison\n",
       "1        Ivysaur  Grass / Poison\n",
       "2       Venusaur  Grass / Poison\n",
       "3     Charmander            Fire\n",
       "4     Charmeleon            Fire\n",
       "..           ...             ...\n",
       "804    Stakataka    Rock / Steel\n",
       "805  Blacephalon    Fire / Ghost\n",
       "806      Zeraora        Electric\n",
       "807       Meltan           Steel\n",
       "808     Melmetal           Steel\n",
       "\n",
       "[809 rows x 2 columns]"
      ]
     },
     "execution_count": 46,
     "metadata": {},
     "output_type": "execute_result"
    }
   ],
   "source": [
    "pd.read_csv(\"datas/pokemon.csv\")"
   ]
  },
  {
   "cell_type": "code",
   "execution_count": 47,
   "id": "ad7580af-6522-43cc-91e6-ec58fe73ab17",
   "metadata": {},
   "outputs": [
    {
     "data": {
      "text/html": [
       "<div>\n",
       "<style scoped>\n",
       "    .dataframe tbody tr th:only-of-type {\n",
       "        vertical-align: middle;\n",
       "    }\n",
       "\n",
       "    .dataframe tbody tr th {\n",
       "        vertical-align: top;\n",
       "    }\n",
       "\n",
       "    .dataframe thead th {\n",
       "        text-align: right;\n",
       "    }\n",
       "</style>\n",
       "<table border=\"1\" class=\"dataframe\">\n",
       "  <thead>\n",
       "    <tr style=\"text-align: right;\">\n",
       "      <th></th>\n",
       "      <th>Type</th>\n",
       "    </tr>\n",
       "    <tr>\n",
       "      <th>Pokemon</th>\n",
       "      <th></th>\n",
       "    </tr>\n",
       "  </thead>\n",
       "  <tbody>\n",
       "    <tr>\n",
       "      <th>Bulbasaur</th>\n",
       "      <td>Grass / Poison</td>\n",
       "    </tr>\n",
       "    <tr>\n",
       "      <th>Ivysaur</th>\n",
       "      <td>Grass / Poison</td>\n",
       "    </tr>\n",
       "    <tr>\n",
       "      <th>Venusaur</th>\n",
       "      <td>Grass / Poison</td>\n",
       "    </tr>\n",
       "    <tr>\n",
       "      <th>Charmander</th>\n",
       "      <td>Fire</td>\n",
       "    </tr>\n",
       "    <tr>\n",
       "      <th>Charmeleon</th>\n",
       "      <td>Fire</td>\n",
       "    </tr>\n",
       "    <tr>\n",
       "      <th>...</th>\n",
       "      <td>...</td>\n",
       "    </tr>\n",
       "    <tr>\n",
       "      <th>Stakataka</th>\n",
       "      <td>Rock / Steel</td>\n",
       "    </tr>\n",
       "    <tr>\n",
       "      <th>Blacephalon</th>\n",
       "      <td>Fire / Ghost</td>\n",
       "    </tr>\n",
       "    <tr>\n",
       "      <th>Zeraora</th>\n",
       "      <td>Electric</td>\n",
       "    </tr>\n",
       "    <tr>\n",
       "      <th>Meltan</th>\n",
       "      <td>Steel</td>\n",
       "    </tr>\n",
       "    <tr>\n",
       "      <th>Melmetal</th>\n",
       "      <td>Steel</td>\n",
       "    </tr>\n",
       "  </tbody>\n",
       "</table>\n",
       "<p>809 rows × 1 columns</p>\n",
       "</div>"
      ],
      "text/plain": [
       "                       Type\n",
       "Pokemon                    \n",
       "Bulbasaur    Grass / Poison\n",
       "Ivysaur      Grass / Poison\n",
       "Venusaur     Grass / Poison\n",
       "Charmander             Fire\n",
       "Charmeleon             Fire\n",
       "...                     ...\n",
       "Stakataka      Rock / Steel\n",
       "Blacephalon    Fire / Ghost\n",
       "Zeraora            Electric\n",
       "Meltan                Steel\n",
       "Melmetal              Steel\n",
       "\n",
       "[809 rows x 1 columns]"
      ]
     },
     "execution_count": 47,
     "metadata": {},
     "output_type": "execute_result"
    }
   ],
   "source": [
    "pd.read_csv(\"datas/pokemon.csv\", index_col=\"Pokemon\")"
   ]
  },
  {
   "cell_type": "code",
   "execution_count": 48,
   "id": "e7d0a1ad-53cf-4871-a247-5d648111459e",
   "metadata": {},
   "outputs": [
    {
     "name": "stderr",
     "output_type": "stream",
     "text": [
      "C:\\Users\\user\\AppData\\Local\\Temp\\ipykernel_11108\\3659031397.py:1: FutureWarning: The squeeze argument has been deprecated and will be removed in a future version. Append .squeeze(\"columns\") to the call to squeeze.\n",
      "\n",
      "\n",
      "  pokemons = pd.read_csv(\"datas/pokemon.csv\", index_col=\"Pokemon\", squeeze = True)\n"
     ]
    },
    {
     "data": {
      "text/plain": [
       "Pokemon\n",
       "Bulbasaur      Grass / Poison\n",
       "Ivysaur        Grass / Poison\n",
       "Venusaur       Grass / Poison\n",
       "Charmander               Fire\n",
       "Charmeleon               Fire\n",
       "                    ...      \n",
       "Stakataka        Rock / Steel\n",
       "Blacephalon      Fire / Ghost\n",
       "Zeraora              Electric\n",
       "Meltan                  Steel\n",
       "Melmetal                Steel\n",
       "Name: Type, Length: 809, dtype: object"
      ]
     },
     "execution_count": 48,
     "metadata": {},
     "output_type": "execute_result"
    }
   ],
   "source": [
    "pokemons = pd.read_csv(\"datas/pokemon.csv\", index_col=\"Pokemon\", squeeze = True)\n",
    "pokemons"
   ]
  },
  {
   "cell_type": "code",
   "execution_count": 49,
   "id": "7a161cf7-1d3d-4a23-af89-605984ce2de2",
   "metadata": {},
   "outputs": [
    {
     "data": {
      "text/plain": [
       "Pokemon\n",
       "Bulbasaur      Grass / Poison\n",
       "Ivysaur        Grass / Poison\n",
       "Venusaur       Grass / Poison\n",
       "Charmander               Fire\n",
       "Charmeleon               Fire\n",
       "                    ...      \n",
       "Stakataka        Rock / Steel\n",
       "Blacephalon      Fire / Ghost\n",
       "Zeraora              Electric\n",
       "Meltan                  Steel\n",
       "Melmetal                Steel\n",
       "Name: Type, Length: 809, dtype: object"
      ]
     },
     "execution_count": 49,
     "metadata": {},
     "output_type": "execute_result"
    }
   ],
   "source": [
    "# 불러온 데이터가 Series로 잘 만들어졌는지 조회해봅시다.\n",
    "\n",
    "pokemons = pd.read_csv(\"datas/pokemon.csv\", index_col=\"Pokemon\").squeeze(\"columns\") # squeeze 속성으로 이렇게 쓴다.\n",
    "pokemons"
   ]
  },
  {
   "cell_type": "markdown",
   "id": "6c4f8281-8098-4421-8b31-b0ef0f5a133c",
   "metadata": {},
   "source": [
    "### < 연습 문제 >\n",
    "불러온 데이터의 특징을 파악해봅니다.\n",
    "- 데이터의 총 개수\n",
    "- 고유한 값의 종류\n",
    "- 제일 많이 갖고 있는 값\n",
    "- 제일 많이 갖는 값의 개수"
   ]
  },
  {
   "cell_type": "code",
   "execution_count": 50,
   "id": "bfa12727-e929-4f67-a713-57d7afa78c50",
   "metadata": {},
   "outputs": [
    {
     "data": {
      "text/plain": [
       "count        809\n",
       "unique       159\n",
       "top       Normal\n",
       "freq          65\n",
       "Name: Type, dtype: object"
      ]
     },
     "execution_count": 50,
     "metadata": {},
     "output_type": "execute_result"
    }
   ],
   "source": [
    "pokemons.describe()"
   ]
  },
  {
   "cell_type": "markdown",
   "id": "d8f6a94e-80b0-494b-9e36-7547296ff09d",
   "metadata": {},
   "source": [
    "### < Series의 값 정렬하기 : sort_values() 메서드 >\n",
    "- Series가 갖는 value들을 정렬할 때 사용할 수 있는 메서드가 sort_values() 입니다.\n"
   ]
  },
  {
   "cell_type": "code",
   "execution_count": 51,
   "id": "8b575b14-80c7-4091-89b2-0a56cf04dc50",
   "metadata": {},
   "outputs": [
    {
     "data": {
      "text/plain": [
       "Pokemon\n",
       "Illumise                Bug\n",
       "Silcoon                 Bug\n",
       "Pinsir                  Bug\n",
       "Burmy                   Bug\n",
       "Wurmple                 Bug\n",
       "                  ...      \n",
       "Tirtouga       Water / Rock\n",
       "Relicanth      Water / Rock\n",
       "Corsola        Water / Rock\n",
       "Carracosta     Water / Rock\n",
       "Empoleon      Water / Steel\n",
       "Name: Type, Length: 809, dtype: object"
      ]
     },
     "execution_count": 51,
     "metadata": {},
     "output_type": "execute_result"
    }
   ],
   "source": [
    "pokemons.sort_values()  # 오름차순으로 정렬\n",
    "\n",
    "#(ascending = True)가 오름차순의 디폴트구나"
   ]
  },
  {
   "cell_type": "markdown",
   "id": "24faf32b-5a13-4ce1-b738-379728045ba3",
   "metadata": {},
   "source": [
    "- Series가 갖는 값을 내림차순(큰 값부터 작은 값으로)으로 정렬할 때는 sort_values() \n",
    "메서드에 키워드 인수 ascending에 값을 False로 전달합니다."
   ]
  },
  {
   "cell_type": "code",
   "execution_count": 52,
   "id": "88b525ae-992b-46b8-bb13-bf5b8b5bfc23",
   "metadata": {},
   "outputs": [
    {
     "data": {
      "text/plain": [
       "Pokemon\n",
       "Empoleon      Water / Steel\n",
       "Corsola        Water / Rock\n",
       "Relicanth      Water / Rock\n",
       "Carracosta     Water / Rock\n",
       "Tirtouga       Water / Rock\n",
       "                  ...      \n",
       "Kricketune              Bug\n",
       "Cascoon                 Bug\n",
       "Scatterbug              Bug\n",
       "Kricketot               Bug\n",
       "Grubbin                 Bug\n",
       "Name: Type, Length: 809, dtype: object"
      ]
     },
     "execution_count": 52,
     "metadata": {},
     "output_type": "execute_result"
    }
   ],
   "source": [
    "pokemons.sort_values(ascending = False) # 내림차순으로 정렬"
   ]
  },
  {
   "cell_type": "markdown",
   "id": "23176f64-00ad-4c75-ba97-95774be4191a",
   "metadata": {},
   "source": [
    "### < csv 파일을 Series로 데이터 읽어오기 >\n",
    "- csv는 문자로된 파일입니다. \n",
    "- 여기서 \n",
    "문자지만 날짜/시간으로 된 데이터도 \n",
    "존재할 수 있습니다.\n",
    "- 이에 대해 파이썬 자료로 파싱해서 읽어들일 \n",
    "수 있는 방법이 있습니다.\n",
    "- pd.read_csv() 메서드의 parse_dates \n",
    "인수에 파싱할 column 명을 리스트 형태로 \n",
    "전달하면 됩니다."
   ]
  },
  {
   "cell_type": "code",
   "execution_count": 53,
   "id": "e6a7d9db-feda-4a21-99f8-a782146094c8",
   "metadata": {},
   "outputs": [
    {
     "data": {
      "text/plain": [
       "Date\n",
       "2004-08-19      49.98\n",
       "2004-08-20      53.95\n",
       "2004-08-23      54.50\n",
       "2004-08-24      52.24\n",
       "2004-08-25      52.80\n",
       "               ...   \n",
       "2019-10-21    1246.15\n",
       "2019-10-22    1242.80\n",
       "2019-10-23    1259.13\n",
       "2019-10-24    1260.99\n",
       "2019-10-25    1265.13\n",
       "Name: Close, Length: 3824, dtype: float64"
      ]
     },
     "execution_count": 53,
     "metadata": {},
     "output_type": "execute_result"
    }
   ],
   "source": [
    "# parse_dates 는 csv파일에서 데이터를 읽어드릴 때\n",
    "# 날짜/ 시간으로 파싱해야하는 컬럼을 지정할 수 있습니다.\n",
    "\n",
    "google = pd.read_csv(\"datas/google_stocks.csv\",  # 불러올 파일 찾아서 Copy Path\n",
    "                     parse_dates = [\"Date\"],\n",
    "                     index_col = \"Date\").squeeze(\"columns\")\n",
    "\n",
    "google"
   ]
  },
  {
   "cell_type": "markdown",
   "id": "c5be8771-dbe4-477e-b677-8738d897d609",
   "metadata": {},
   "source": [
    "- csv 파일에서 필요한 column만 지정해서 \n",
    "가져올 때는 usecols 인수를 활용하면 \n",
    "됩니다. \n",
    "- 그 값으로 불러올 column의 목록을 \n",
    "리스트의 요소로 작성하면 됩니다."
   ]
  },
  {
   "cell_type": "code",
   "execution_count": 54,
   "id": "b477ed30-b0a6-4094-b1ff-6750cd09346d",
   "metadata": {},
   "outputs": [
    {
     "data": {
      "text/plain": [
       "Start Date\n",
       "1774-09-01    Massachusetts\n",
       "1774-12-14    New Hampshire\n",
       "1775-04-19    Massachusetts\n",
       "1775-04-19    Massachusetts\n",
       "1775-04-20         Virginia\n",
       "                  ...      \n",
       "1782-09-11         Virginia\n",
       "1782-09-13              NaN\n",
       "1782-10-18              NaN\n",
       "1782-12-06              NaN\n",
       "1783-01-22         Virginia\n",
       "Name: State, Length: 232, dtype: object"
      ]
     },
     "execution_count": 54,
     "metadata": {},
     "output_type": "execute_result"
    }
   ],
   "source": [
    "# usecols 인수를 활용하면\n",
    "# csv 파일로부터 팬더스가 가져와야 하는 열의 목록을 지정할 수 있습니다.\n",
    "\n",
    "war = pd.read_csv(\"datas/revolutionary_war.csv\",\n",
    "                  parse_dates = [\"Start Date\"],\n",
    "                  index_col = \"Start Date\",\n",
    "                  usecols = [\"Start Date\", \"State\"]).squeeze()\n",
    "\n",
    "war"
   ]
  },
  {
   "cell_type": "markdown",
   "id": "252378be-b5ea-453e-bba9-5a70e69eb552",
   "metadata": {},
   "source": [
    "### < 연습 문제 >\n",
    "앞서 불러온 war에 담긴 데이터의 특징을 파악해보세요.\n",
    "\n",
    "(1) nan 값을 갖는 데이터는 총 몇개인가?\n",
    "\n",
    "(2) 결측치를 제외한 값의 개수는 몇인가?\n",
    "\n",
    "(3) 유일한 값의 개수는 총 몇개인가?"
   ]
  },
  {
   "cell_type": "code",
   "execution_count": 55,
   "id": "7b05392c-6de2-41af-92dc-594ced24f2a3",
   "metadata": {},
   "outputs": [
    {
     "data": {
      "text/plain": [
       "70"
      ]
     },
     "execution_count": 55,
     "metadata": {},
     "output_type": "execute_result"
    }
   ],
   "source": [
    "# (1) nan 값을 갖는 데이터는 총 몇개인가?\n",
    "war.isnull().sum()\n",
    "    # True == 1 , False == 0  / True 의 총 개수\n",
    "\n",
    "# len(war) - war.count()"
   ]
  },
  {
   "cell_type": "code",
   "execution_count": 56,
   "id": "3dfa7046-6152-4163-9638-6846e9b86779",
   "metadata": {},
   "outputs": [
    {
     "data": {
      "text/plain": [
       "Start Date\n",
       "1775-09-17    NaN\n",
       "1775-12-31    NaN\n",
       "1776-03-03    NaN\n",
       "1776-03-25    NaN\n",
       "1776-05-18    NaN\n",
       "             ... \n",
       "1782-08-08    NaN\n",
       "1782-08-25    NaN\n",
       "1782-09-13    NaN\n",
       "1782-10-18    NaN\n",
       "1782-12-06    NaN\n",
       "Name: State, Length: 70, dtype: object"
      ]
     },
     "execution_count": 56,
     "metadata": {},
     "output_type": "execute_result"
    }
   ],
   "source": [
    "war[war.isnull()]"
   ]
  },
  {
   "cell_type": "code",
   "execution_count": 57,
   "id": "4ff10c6e-ee10-40e3-8f9e-25766950f08d",
   "metadata": {},
   "outputs": [
    {
     "data": {
      "text/plain": [
       "162"
      ]
     },
     "execution_count": 57,
     "metadata": {},
     "output_type": "execute_result"
    }
   ],
   "source": [
    "# (2) 결측치를 제외한 값의 개수는 몇인가?\n",
    "war.count()"
   ]
  },
  {
   "cell_type": "code",
   "execution_count": 58,
   "id": "044f9a4b-a939-45fc-8967-620fd559a3cf",
   "metadata": {},
   "outputs": [
    {
     "data": {
      "text/plain": [
       "17"
      ]
     },
     "execution_count": 58,
     "metadata": {},
     "output_type": "execute_result"
    }
   ],
   "source": [
    "# (3) 유일한 값의 개수는 총 몇개인가?\n",
    "war.nunique()"
   ]
  },
  {
   "cell_type": "markdown",
   "id": "bb95703c-0c54-4744-a241-6f380506a188",
   "metadata": {},
   "source": [
    "### < Series의 값 정렬하기 sort_values() 메서드 >\n",
    "- 다시 Series의 값을 기준으로 정렬하는 방법에 대해 설명을 이어가려 합니다.\n",
    "- Series에 nan 값이 존재할 때 nan을 어떻게 정렬할지 기준을 정해줄 수 있습니다. \n",
    "- 그 방법으론 na_position이라는 인수에 first, last 값을 사용하면 됩니다."
   ]
  },
  {
   "cell_type": "code",
   "execution_count": 59,
   "id": "a834c32f-988c-4e84-b59d-fbff48d8b926",
   "metadata": {},
   "outputs": [
    {
     "data": {
      "text/plain": [
       "Start Date\n",
       "1775-09-17         NaN\n",
       "1775-12-31         NaN\n",
       "1776-03-03         NaN\n",
       "1776-03-25         NaN\n",
       "1776-05-18         NaN\n",
       "                ...   \n",
       "1781-07-06    Virginia\n",
       "1781-07-01    Virginia\n",
       "1781-06-26    Virginia\n",
       "1781-04-25    Virginia\n",
       "1783-01-22    Virginia\n",
       "Name: State, Length: 232, dtype: object"
      ]
     },
     "execution_count": 59,
     "metadata": {},
     "output_type": "execute_result"
    }
   ],
   "source": [
    "war.sort_values(na_position = \"first\" )"
   ]
  },
  {
   "cell_type": "code",
   "execution_count": 60,
   "id": "9fed3522-b302-44dd-b17d-8ecd67c0de74",
   "metadata": {},
   "outputs": [
    {
     "data": {
      "text/plain": [
       "Start Date\n",
       "1781-09-06    Connecticut\n",
       "1779-07-05    Connecticut\n",
       "1777-04-27    Connecticut\n",
       "1777-09-03       Delaware\n",
       "1777-05-17        Florida\n",
       "                 ...     \n",
       "1782-08-08            NaN\n",
       "1782-08-25            NaN\n",
       "1782-09-13            NaN\n",
       "1782-10-18            NaN\n",
       "1782-12-06            NaN\n",
       "Name: State, Length: 232, dtype: object"
      ]
     },
     "execution_count": 60,
     "metadata": {},
     "output_type": "execute_result"
    }
   ],
   "source": [
    "war.sort_values(na_position = \"last\" )"
   ]
  },
  {
   "cell_type": "markdown",
   "id": "c97be22a-193f-4425-869f-496e54047d0e",
   "metadata": {},
   "source": [
    "### < Series의 값 중 nan 배제하기 dropna() >\n",
    "- war 변수에 담긴 Series 객체를 살펴보면 nan 값이 상당합니다. \n",
    "- 이 nan값에 대해 앞서 notnull() 메서드와 bool indexing으로 nan이 없는 Series를 구하기도 했지만,\n",
    "- dropna() 메서드는 직접 nan 값을 배제시킬 수 있다!!!"
   ]
  },
  {
   "cell_type": "code",
   "execution_count": 61,
   "id": "4c369c85-cc9e-4cbe-9fa5-712441f4a407",
   "metadata": {},
   "outputs": [
    {
     "data": {
      "text/plain": [
       "Start Date\n",
       "1774-09-01     Massachusetts\n",
       "1774-12-14     New Hampshire\n",
       "1775-04-19     Massachusetts\n",
       "1775-04-19     Massachusetts\n",
       "1775-04-20          Virginia\n",
       "                   ...      \n",
       "1782-08-15          Virginia\n",
       "1782-08-19          Virginia\n",
       "1782-08-26    South Carolina\n",
       "1782-09-11          Virginia\n",
       "1783-01-22          Virginia\n",
       "Name: State, Length: 162, dtype: object"
      ]
     },
     "execution_count": 61,
     "metadata": {},
     "output_type": "execute_result"
    }
   ],
   "source": [
    "war.dropna()"
   ]
  },
  {
   "cell_type": "markdown",
   "id": "232fd429-ad53-4f72-ab67-5f99bdf7b48c",
   "metadata": {},
   "source": [
    "### < Series의 index를 기준으로 정렬하기 >\n",
    "- 이번엔 values가 아닌 index를 기준으로 정렬해보도록 하겠습니다. \n",
    "- sort_index() 메서드를 활용하면 됩니다. \n",
    "- 이 메서드도 ascending 인수를 가지며 기본 값은 True로 \n",
    "오름차순을 기본으로 합니다."
   ]
  },
  {
   "cell_type": "code",
   "execution_count": 62,
   "id": "c7ca44b6-78b7-4301-ac5a-1343c133c2b1",
   "metadata": {},
   "outputs": [
    {
     "data": {
      "text/plain": [
       "Pokemon\n",
       "Abomasnow        Grass / Ice\n",
       "Abra                 Psychic\n",
       "Absol                   Dark\n",
       "Accelgor                 Bug\n",
       "Aegislash      Steel / Ghost\n",
       "                  ...       \n",
       "Zoroark                 Dark\n",
       "Zorua                   Dark\n",
       "Zubat        Poison / Flying\n",
       "Zweilous       Dark / Dragon\n",
       "Zygarde      Dragon / Ground\n",
       "Name: Type, Length: 809, dtype: object"
      ]
     },
     "execution_count": 62,
     "metadata": {},
     "output_type": "execute_result"
    }
   ],
   "source": [
    "pokemons.sort_index(ascending = True)"
   ]
  },
  {
   "cell_type": "markdown",
   "id": "47d5cd90-a559-4913-9317-ef1c424245e2",
   "metadata": {},
   "source": [
    "- 이번엔 war에 담긴 Series 객체를 index 기준으로 오름차순 정렬해보겠습니다. \n",
    "- NaT라는 값을 확인할 수 있습니다. \n",
    "- Not a Time의 줄임말입니다. \n",
    "- NaN은 float인 반면 NaT는 날짜/시간 유형의 데이터 입니다.\n"
   ]
  },
  {
   "cell_type": "code",
   "execution_count": 63,
   "id": "8ff2c398-4d3c-4b34-bc7f-7fa89c9172a2",
   "metadata": {},
   "outputs": [
    {
     "data": {
      "text/plain": [
       "Start Date\n",
       "1774-09-01    Massachusetts\n",
       "1774-12-14    New Hampshire\n",
       "1775-04-19    Massachusetts\n",
       "1775-04-19    Massachusetts\n",
       "1775-04-20         Virginia\n",
       "                  ...      \n",
       "1783-01-22         Virginia\n",
       "NaT              New Jersey\n",
       "NaT                Virginia\n",
       "NaT                     NaN\n",
       "NaT                     NaN\n",
       "Name: State, Length: 232, dtype: object"
      ]
     },
     "execution_count": 63,
     "metadata": {},
     "output_type": "execute_result"
    }
   ],
   "source": [
    "war.sort_index(ascending = True)"
   ]
  },
  {
   "cell_type": "code",
   "execution_count": 64,
   "id": "f3960ee4-9308-4a32-bed8-e7d3d818176b",
   "metadata": {},
   "outputs": [
    {
     "data": {
      "text/plain": [
       "Start Date\n",
       "1774-09-01    Massachusetts\n",
       "1774-12-14    New Hampshire\n",
       "1775-04-19    Massachusetts\n",
       "1775-04-19    Massachusetts\n",
       "1775-04-20         Virginia\n",
       "                  ...      \n",
       "1783-01-22         Virginia\n",
       "NaT              New Jersey\n",
       "NaT                Virginia\n",
       "NaT                     NaN\n",
       "NaT                     NaN\n",
       "Name: State, Length: 232, dtype: object"
      ]
     },
     "execution_count": 64,
     "metadata": {},
     "output_type": "execute_result"
    }
   ],
   "source": [
    "war.sort_index()"
   ]
  },
  {
   "cell_type": "markdown",
   "id": "74ab03dd-5ae5-4b19-a27d-eb1954e48148",
   "metadata": {},
   "source": [
    "- sort_index() 메서드에도 na_position 인수를 사용할 수 있습니다.\n"
   ]
  },
  {
   "cell_type": "code",
   "execution_count": 65,
   "id": "b7306c2b-5689-4d5c-9f39-927ed668fb61",
   "metadata": {},
   "outputs": [
    {
     "data": {
      "text/plain": [
       "Start Date\n",
       "NaT              New Jersey\n",
       "NaT                Virginia\n",
       "NaT                     NaN\n",
       "NaT                     NaN\n",
       "1774-09-01    Massachusetts\n",
       "                  ...      \n",
       "1782-09-11         Virginia\n",
       "1782-09-13              NaN\n",
       "1782-10-18              NaN\n",
       "1782-12-06              NaN\n",
       "1783-01-22         Virginia\n",
       "Name: State, Length: 232, dtype: object"
      ]
     },
     "execution_count": 65,
     "metadata": {},
     "output_type": "execute_result"
    }
   ],
   "source": [
    "war.sort_index(na_position = \"first\")"
   ]
  },
  {
   "cell_type": "code",
   "execution_count": 66,
   "id": "46c30f0d-7c63-4c69-91fe-76967fa59e46",
   "metadata": {},
   "outputs": [
    {
     "data": {
      "text/plain": [
       "Start Date\n",
       "1774-09-01    Massachusetts\n",
       "1774-12-14    New Hampshire\n",
       "1775-04-19    Massachusetts\n",
       "1775-04-19    Massachusetts\n",
       "1775-04-20         Virginia\n",
       "                  ...      \n",
       "1783-01-22         Virginia\n",
       "NaT              New Jersey\n",
       "NaT                Virginia\n",
       "NaT                     NaN\n",
       "NaT                     NaN\n",
       "Name: State, Length: 232, dtype: object"
      ]
     },
     "execution_count": 66,
     "metadata": {},
     "output_type": "execute_result"
    }
   ],
   "source": [
    "war.sort_index(na_position = \"last\")"
   ]
  },
  {
   "cell_type": "markdown",
   "id": "dfb1444e-101a-4938-8b49-d4e6888d78ae",
   "metadata": {},
   "source": [
    "### < Series의 index에 NaT 배제하기(참고) >\n",
    "- Series의 index에 포함된 NaT 값을 배제하는 두가지 방법입니다.\n"
   ]
  },
  {
   "cell_type": "code",
   "execution_count": 67,
   "id": "94317304-81a0-4fa3-8c40-0fef763b8e27",
   "metadata": {},
   "outputs": [
    {
     "data": {
      "text/plain": [
       "Start Date\n",
       "1774-09-01    Massachusetts\n",
       "1774-12-14    New Hampshire\n",
       "1775-04-19    Massachusetts\n",
       "1775-04-19    Massachusetts\n",
       "1775-04-19    Massachusetts\n",
       "                  ...      \n",
       "1782-09-11         Virginia\n",
       "1782-09-13              NaN\n",
       "1782-10-18              NaN\n",
       "1782-12-06              NaN\n",
       "1783-01-22         Virginia\n",
       "Name: State, Length: 250, dtype: object"
      ]
     },
     "execution_count": 67,
     "metadata": {},
     "output_type": "execute_result"
    }
   ],
   "source": [
    "# 1\n",
    "\n",
    "war.loc[war.index.dropna()]"
   ]
  },
  {
   "cell_type": "code",
   "execution_count": 69,
   "id": "86dad976-7b9f-4e06-9927-09b16e9af7ec",
   "metadata": {},
   "outputs": [
    {
     "data": {
      "text/plain": [
       "Start Date\n",
       "1774-09-01    Massachusetts\n",
       "1774-12-14    New Hampshire\n",
       "1775-04-19    Massachusetts\n",
       "1775-04-19    Massachusetts\n",
       "1775-04-19    Massachusetts\n",
       "                  ...      \n",
       "1782-09-11         Virginia\n",
       "1782-09-13              NaN\n",
       "1782-10-18              NaN\n",
       "1782-12-06              NaN\n",
       "1783-01-22         Virginia\n",
       "Name: State, Length: 250, dtype: object"
      ]
     },
     "execution_count": 69,
     "metadata": {},
     "output_type": "execute_result"
    }
   ],
   "source": [
    "war[war.index.dropna()] # 사실 loc없어도 상관없겠죠"
   ]
  },
  {
   "cell_type": "code",
   "execution_count": 68,
   "id": "942344e2-a58f-43de-8399-7efcbb5c1719",
   "metadata": {},
   "outputs": [
    {
     "data": {
      "text/plain": [
       "DatetimeIndex(['1774-09-01', '1774-12-14', '1775-04-19', '1775-04-19',\n",
       "               '1775-04-20', '1775-05-10', '1775-05-27', '1775-06-11',\n",
       "               '1775-06-17', '1775-08-08',\n",
       "               ...\n",
       "               '1782-08-08', '1782-08-15', '1782-08-19', '1782-08-26',\n",
       "               '1782-08-25', '1782-09-11', '1782-09-13', '1782-10-18',\n",
       "               '1782-12-06', '1783-01-22'],\n",
       "              dtype='datetime64[ns]', name='Start Date', length=228, freq=None)"
      ]
     },
     "execution_count": 68,
     "metadata": {},
     "output_type": "execute_result"
    }
   ],
   "source": [
    "war.index.dropna()"
   ]
  },
  {
   "cell_type": "code",
   "execution_count": 70,
   "id": "b521e65f-59af-486c-b836-63d8b80a9bac",
   "metadata": {},
   "outputs": [
    {
     "data": {
      "text/plain": [
       "Start Date\n",
       "1774-09-01    Massachusetts\n",
       "1774-12-14    New Hampshire\n",
       "1775-04-19    Massachusetts\n",
       "1775-04-19    Massachusetts\n",
       "1775-04-20         Virginia\n",
       "                  ...      \n",
       "1782-09-11         Virginia\n",
       "1782-09-13              NaN\n",
       "1782-10-18              NaN\n",
       "1782-12-06              NaN\n",
       "1783-01-22         Virginia\n",
       "Name: State, Length: 228, dtype: object"
      ]
     },
     "execution_count": 70,
     "metadata": {},
     "output_type": "execute_result"
    }
   ],
   "source": [
    "# 2\n",
    "\n",
    "war.loc[war.index.notnull()]\n",
    " #1 보다 얘가 더 정확해 length 차이"
   ]
  },
  {
   "cell_type": "markdown",
   "id": "f8bdd978-f87b-4500-bd51-c14fa3438f1f",
   "metadata": {},
   "source": [
    "### < 연습 문제 >\n",
    "- google변수에 담긴 Series 객체에 대해서 가장 큰 값 10개와 가장 작은 값 10개를 출력해보세요.\n"
   ]
  },
  {
   "cell_type": "code",
   "execution_count": 71,
   "id": "1855f9ba-84af-4e78-8bba-fa328aa8ddc0",
   "metadata": {},
   "outputs": [
    {
     "data": {
      "text/plain": [
       "Date\n",
       "2019-04-29    1287.58\n",
       "2019-04-26    1272.18\n",
       "2018-07-26    1268.33\n",
       "2019-10-25    1265.13\n",
       "2019-04-23    1264.55\n",
       "2018-07-25    1263.70\n",
       "2019-04-25    1263.45\n",
       "2019-10-24    1260.99\n",
       "2019-10-23    1259.13\n",
       "2019-04-24    1256.00\n",
       "Name: Close, dtype: float64"
      ]
     },
     "execution_count": 71,
     "metadata": {},
     "output_type": "execute_result"
    }
   ],
   "source": [
    "# google변수에 담긴 Series 객체에 대해서 가장 큰 값 10개\n",
    "google.sort_values(ascending = False).head(10)"
   ]
  },
  {
   "cell_type": "code",
   "execution_count": 72,
   "id": "6083d4c1-7d14-4808-ac48-ab2c1f4d85bf",
   "metadata": {},
   "outputs": [
    {
     "data": {
      "text/plain": [
       "Date\n",
       "2004-09-03    49.82\n",
       "2004-09-01    49.94\n",
       "2004-08-19    49.98\n",
       "2004-09-02    50.57\n",
       "2004-09-07    50.60\n",
       "2004-08-30    50.81\n",
       "2004-09-08    50.96\n",
       "2004-09-09    50.96\n",
       "2004-08-31    50.99\n",
       "2004-08-24    52.24\n",
       "Name: Close, dtype: float64"
      ]
     },
     "execution_count": 72,
     "metadata": {},
     "output_type": "execute_result"
    }
   ],
   "source": [
    "# google변수에 담긴 Series 객체에 대해서 가장 작은 값 10개\n",
    "google.sort_values().head(10)"
   ]
  },
  {
   "cell_type": "markdown",
   "id": "003be1f8-8de9-4676-ae14-f0c2e1e960dc",
   "metadata": {},
   "source": [
    "### < Series nsmallest(), nlargest() 메서드 >\n",
    "- 앞서 구한 값을 메서드로 구할 수도 있습니다. \n",
    "- nsmallest()는 작은 값을 순서대로 인수의 숫자만큼 구해주고, \n",
    "- nlargest()는 큰 값을 순서대로 인수만큼 구합니다."
   ]
  },
  {
   "cell_type": "code",
   "execution_count": 73,
   "id": "47773cf9-5439-4eaf-90ff-990ca7f55a25",
   "metadata": {},
   "outputs": [
    {
     "data": {
      "text/plain": [
       "Date\n",
       "2019-04-29    1287.58\n",
       "2019-04-26    1272.18\n",
       "2018-07-26    1268.33\n",
       "2019-10-25    1265.13\n",
       "2019-04-23    1264.55\n",
       "2018-07-25    1263.70\n",
       "2019-04-25    1263.45\n",
       "2019-10-24    1260.99\n",
       "2019-10-23    1259.13\n",
       "2019-04-24    1256.00\n",
       "Name: Close, dtype: float64"
      ]
     },
     "execution_count": 73,
     "metadata": {},
     "output_type": "execute_result"
    }
   ],
   "source": [
    "google.nlargest(10)"
   ]
  },
  {
   "cell_type": "code",
   "execution_count": 74,
   "id": "35b4d999-5ca3-489c-a3f2-5b1eb7dec4dd",
   "metadata": {},
   "outputs": [
    {
     "data": {
      "text/plain": [
       "Date\n",
       "2004-09-03    49.82\n",
       "2004-09-01    49.94\n",
       "2004-08-19    49.98\n",
       "2004-09-02    50.57\n",
       "2004-09-07    50.60\n",
       "2004-08-30    50.81\n",
       "2004-09-08    50.96\n",
       "2004-09-09    50.96\n",
       "2004-08-31    50.99\n",
       "2004-08-24    52.24\n",
       "Name: Close, dtype: float64"
      ]
     },
     "execution_count": 74,
     "metadata": {},
     "output_type": "execute_result"
    }
   ],
   "source": [
    "google.nsmallest(10)"
   ]
  },
  {
   "cell_type": "markdown",
   "id": "f0a59b4b-d9ad-4f07-8426-4315e6ed416b",
   "metadata": {},
   "source": [
    "### < Series value_counts() 메서드 >\n",
    "- value_counts() 메서드는 Series 내 데이터의 고유한 값의 빈도를 볼 때 활용합니다. \n",
    "- 아래의 예제를 보면 Normal이란 값을 갖는 데이터의 수가 65개, Water란 값을 갖는 \n",
    "데이터가 61개, Grass의 값을 갖는 데이터가 38개, ...와 같이 정보를 카테고리화하여 \n",
    "요약하고 있습니다."
   ]
  },
  {
   "cell_type": "code",
   "execution_count": 75,
   "id": "aa281158-9148-4219-9a77-0b068290e80d",
   "metadata": {},
   "outputs": [
    {
     "data": {
      "text/plain": [
       "Normal                65\n",
       "Water                 61\n",
       "Grass                 38\n",
       "Psychic               35\n",
       "Fire                  30\n",
       "                      ..\n",
       "Fire / Psychic         1\n",
       "Normal / Ground        1\n",
       "Psychic / Fighting     1\n",
       "Dark / Ghost           1\n",
       "Fire / Ghost           1\n",
       "Name: Type, Length: 159, dtype: int64"
      ]
     },
     "execution_count": 75,
     "metadata": {},
     "output_type": "execute_result"
    }
   ],
   "source": [
    "pokemons.value_counts()"
   ]
  },
  {
   "cell_type": "code",
   "execution_count": 76,
   "id": "78e1c259-ef0f-47d7-9b7a-9ad748f9c854",
   "metadata": {},
   "outputs": [
    {
     "data": {
      "text/plain": [
       "159"
      ]
     },
     "execution_count": 76,
     "metadata": {},
     "output_type": "execute_result"
    }
   ],
   "source": [
    "len(pokemons.value_counts())"
   ]
  },
  {
   "cell_type": "code",
   "execution_count": 77,
   "id": "c96a1b39-a3c3-441c-926b-5828047c379e",
   "metadata": {},
   "outputs": [
    {
     "data": {
      "text/plain": [
       "159"
      ]
     },
     "execution_count": 77,
     "metadata": {},
     "output_type": "execute_result"
    }
   ],
   "source": [
    "pokemons.nunique()"
   ]
  },
  {
   "cell_type": "markdown",
   "id": "446b8009-2eb4-4ea2-a957-105b69a6dae5",
   "metadata": {},
   "source": [
    "- 수치형 데이터를 갖는 Series에 대해서 범주를 나눠 값의 빈도를 확인할 수 있습니다. \n",
    "- bins 인수에 값의 구간을 갖는 리스트를 넘겨주면 됩니다. \n",
    "- 리스트의 모든 인접한 쌍을 각 구간의 하한, 상한값으로 사용합니다."
   ]
  },
  {
   "cell_type": "code",
   "execution_count": 78,
   "id": "8dece2e0-19e6-41a2-a26f-e070087fce65",
   "metadata": {},
   "outputs": [
    {
     "data": {
      "text/plain": [
       "array([   0.,  200.,  400.,  600.,  800., 1000., 1200., 1400.])"
      ]
     },
     "execution_count": 78,
     "metadata": {},
     "output_type": "execute_result"
    }
   ],
   "source": [
    "bins = np.linspace(0, 1400, 8)  # 간격을 정확하게 나눠서 하고싶을 때\n",
    "bins"
   ]
  },
  {
   "cell_type": "code",
   "execution_count": 79,
   "id": "4650875f-03ef-4d04-993f-047b84a6db21",
   "metadata": {},
   "outputs": [
    {
     "data": {
      "text/plain": [
       "(200.0, 400.0]      1568\n",
       "(-0.001, 200.0]      595\n",
       "(400.0, 600.0]       575\n",
       "(1000.0, 1200.0]     406\n",
       "(600.0, 800.0]       380\n",
       "(800.0, 1000.0]      207\n",
       "(1200.0, 1400.0]      93\n",
       "Name: Close, dtype: int64"
      ]
     },
     "execution_count": 79,
     "metadata": {},
     "output_type": "execute_result"
    }
   ],
   "source": [
    "google.value_counts(bins = bins)\n",
    "                \n",
    "                    \n",
    "# 왼쪽 소괄호( ( )는 해당 값의 미포함 \n",
    "# 오른쪽 대괄호( ] )는 해당 값을 포함"
   ]
  },
  {
   "cell_type": "markdown",
   "id": "5896d18b-dc8b-4792-a8d1-a895bdac89a1",
   "metadata": {},
   "source": [
    "### < 연습 문제 >\n",
    "\n",
    "google 변수가 가르키는 Series 객체에 대해서 [0, 200, 400, 600, 800, 1000, 1200, \n",
    "1400]의 구간을 갖는 값의 개수를 구하고 인덱스 순으로 정렬해보세요."
   ]
  },
  {
   "cell_type": "code",
   "execution_count": 80,
   "id": "e850e128-3593-4440-be2a-e9b849ac02fa",
   "metadata": {},
   "outputs": [
    {
     "data": {
      "text/plain": [
       "(-0.001, 200.0]      595\n",
       "(200.0, 400.0]      1568\n",
       "(400.0, 600.0]       575\n",
       "(600.0, 800.0]       380\n",
       "(800.0, 1000.0]      207\n",
       "(1000.0, 1200.0]     406\n",
       "(1200.0, 1400.0]      93\n",
       "Name: Close, dtype: int64"
      ]
     },
     "execution_count": 80,
     "metadata": {},
     "output_type": "execute_result"
    }
   ],
   "source": [
    "bins = np.linspace(0, 1400, 8)\n",
    "google.value_counts(bins = bins).sort_index()"
   ]
  },
  {
   "cell_type": "code",
   "execution_count": 81,
   "id": "d91ab888-ff59-4c17-9d1d-8de7f4c709d4",
   "metadata": {},
   "outputs": [
    {
     "data": {
      "text/plain": [
       "(-0.001, 200.0]      595\n",
       "(200.0, 400.0]      1568\n",
       "(400.0, 600.0]       575\n",
       "(600.0, 800.0]       380\n",
       "(800.0, 1000.0]      207\n",
       "(1000.0, 1200.0]     406\n",
       "(1200.0, 1400.0]      93\n",
       "Name: Close, dtype: int64"
      ]
     },
     "execution_count": 81,
     "metadata": {},
     "output_type": "execute_result"
    }
   ],
   "source": [
    "google.value_counts(bins = [0, 200, 400, 600, 800, 1000, 1200, 1400]).sort_index()"
   ]
  },
  {
   "cell_type": "markdown",
   "id": "140eae08-520c-43a6-8045-d2a1540ac110",
   "metadata": {},
   "source": [
    "### < Series value_counts() 메서드 >\n",
    "범주를 정수로 전달하면 그 정수만큼 알아서 구간을 나눕니다.\n",
    "\n",
    "(단 구간의 크기가 일정치 않을 수 있습니다.) \n",
    "\n",
    "또 sort 인수에 False 값 줘서 값을 기준으로 정렬하지 않을 수도 있습니다."
   ]
  },
  {
   "cell_type": "code",
   "execution_count": 82,
   "id": "7c4599ee-6100-4474-a020-8b401961e81f",
   "metadata": {},
   "outputs": [
    {
     "data": {
      "text/plain": [
       "(48.581, 297.372]      1707\n",
       "(297.372, 544.924]      829\n",
       "(544.924, 792.476]      566\n",
       "(792.476, 1040.028]     292\n",
       "(1040.028, 1287.58]     430\n",
       "Name: Close, dtype: int64"
      ]
     },
     "execution_count": 82,
     "metadata": {},
     "output_type": "execute_result"
    }
   ],
   "source": [
    "google.value_counts(bins = 5, sort = False)\n",
    "# 정확하게 범위가 나뉘진 않지만 대략적으로 분포를 파악할 수 있다."
   ]
  },
  {
   "cell_type": "code",
   "execution_count": null,
   "id": "0d97f3e8-36d4-4110-8c11-804879fc379b",
   "metadata": {},
   "outputs": [],
   "source": []
  }
 ],
 "metadata": {
  "kernelspec": {
   "display_name": "Python 3 (ipykernel)",
   "language": "python",
   "name": "python3"
  },
  "language_info": {
   "codemirror_mode": {
    "name": "ipython",
    "version": 3
   },
   "file_extension": ".py",
   "mimetype": "text/x-python",
   "name": "python",
   "nbconvert_exporter": "python",
   "pygments_lexer": "ipython3",
   "version": "3.9.13"
  }
 },
 "nbformat": 4,
 "nbformat_minor": 5
}
