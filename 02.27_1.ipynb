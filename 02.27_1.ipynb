{
 "cells": [
  {
   "cell_type": "code",
   "execution_count": 1,
   "id": "9fa9f7b7-dcb0-4ed2-9f14-eb94a87412d7",
   "metadata": {},
   "outputs": [
    {
     "name": "stdout",
     "output_type": "stream",
     "text": [
      "t t l\n"
     ]
    }
   ],
   "source": [
    "x = \"Don't want no riddle\"\n",
    "\n",
    "print(x[4], x[9], x[18])\n"
   ]
  },
  {
   "cell_type": "code",
   "execution_count": 2,
   "id": "4d40c57c-9de6-49d9-b37b-6dd221bae052",
   "metadata": {},
   "outputs": [
    {
     "name": "stdout",
     "output_type": "stream",
     "text": [
      "135\n"
     ]
    }
   ],
   "source": [
    "print(7 + 3 * 2 ** 7 - 256)"
   ]
  },
  {
   "cell_type": "code",
   "execution_count": 11,
   "id": "42ecac42-0419-4564-ad11-6b6f12e83b60",
   "metadata": {},
   "outputs": [
    {
     "name": "stdout",
     "output_type": "stream",
     "text": [
      "2023년\n",
      "100\n",
      "None\n",
      "False\n"
     ]
    }
   ],
   "source": [
    "a = '2023년'\n",
    "b = 100\n",
    "c = 'None'\n",
    "d = 'False'\n",
    "\n",
    "print(a)\n",
    "print(b)\n",
    "print(c)\n",
    "print(d)"
   ]
  },
  {
   "cell_type": "code",
   "execution_count": 15,
   "id": "831fe246-fc71-4617-a4bf-6211695d6a56",
   "metadata": {},
   "outputs": [
    {
     "name": "stdout",
     "output_type": "stream",
     "text": [
      "zxvtrpnlj\n"
     ]
    }
   ],
   "source": [
    "letters = 'abcdefghijklmnopqrstuvwxyz'\n",
    "print(letters[-1:-19:-2])"
   ]
  },
  {
   "cell_type": "code",
   "execution_count": null,
   "id": "ed624636-6363-46c1-8187-4a86273469b4",
   "metadata": {},
   "outputs": [],
   "source": [
    "02/27 오전 파이썬 퀴즈 & 복습\n",
    "(14파이썬 강의자료 - 파이썬 기초 문법10)\n",
    "\n",
    "\n",
    "함수의 정의 - 위치- 키워드 인자"
   ]
  },
  {
   "cell_type": "code",
   "execution_count": null,
   "id": "e881cfea-cf48-4594-b5f8-008fbf622d3c",
   "metadata": {},
   "outputs": [],
   "source": [
    "# 예외(Exception)\n",
    "\n",
    "예외(Exception)란 코드를 실행하다가 에러가 발생되는 것을 의미합니다.\n",
    "예를 들어 숫자 0으로 나누는 경우에 연산이 불가하여 ZeroDivisionError가 발생됩니다.\n"
   ]
  },
  {
   "cell_type": "code",
   "execution_count": null,
   "id": "c07b7d37-1a01-4909-a7d5-f38b95796204",
   "metadata": {},
   "outputs": [],
   "source": [
    "# 예외 처리, try, except\n",
    "에러가 발생되는 예외가 발생했을 때도 프로그램의 중단 없이 계속 실행되도록 처리하는 \n",
    "것을 예외 처리라고 합니다.\n",
    "이때는 실행할 코드를 try의 코드 블록에 적고 에러가 발생되어 예외 처리 되는 부분을 \n",
    "except 코드 블록에 적습니다. 그 형태는 아래와 같습니다.\n",
    "\n",
    "try : 실행할 코드\n",
    "except : 예외 처리되는 부분"
   ]
  },
  {
   "cell_type": "code",
   "execution_count": 16,
   "id": "63e00c6e-3ddd-4132-8cd1-0ddf9fef93a1",
   "metadata": {},
   "outputs": [],
   "source": [
    "try :\n",
    "    pass\n",
    "except :\n",
    "    pass"
   ]
  },
  {
   "cell_type": "code",
   "execution_count": 17,
   "id": "b926ab65-e248-49fa-875c-dfe9cd305447",
   "metadata": {},
   "outputs": [
    {
     "name": "stdout",
     "output_type": "stream",
     "text": [
      "0으로 나눌 수 없습니다.\n"
     ]
    }
   ],
   "source": [
    "# 예외 처리, try, except\n",
    "# 아까 0으로 나누는 연산을 하게 됐을 때를 가정하여 처리해보도록 하겠습니다. \n",
    "# 에러 발생되어 프로그램이 중단되던 아까의 예제와 다르게 에러 발생 없이 \n",
    "# except 영역이 실행되는 것을 확인할 수 있습니다.\n",
    "\n",
    "try :\n",
    "    result = 128/0 # raise ZeroEivisional error\n",
    "    print(\"실행이 안 됨\")\n",
    "except :\n",
    "    print(\"0으로 나눌 수 없습니다.\")"
   ]
  },
  {
   "cell_type": "code",
   "execution_count": 23,
   "id": "0dcc4263-e133-4792-941d-018790b7dad4",
   "metadata": {},
   "outputs": [
    {
     "name": "stdin",
     "output_type": "stream",
     "text": [
      "숫자 두개를 입력하세요. 180/0\n"
     ]
    },
    {
     "name": "stdout",
     "output_type": "stream",
     "text": [
      "값을 잘못 입력하셨습니다.\n"
     ]
    }
   ],
   "source": [
    "# 연습 문제\n",
    "\n",
    "try :\n",
    "    x, y = input('숫자 두개를 입력하세요.').split()\n",
    "except :\n",
    "    print('값을 잘못 입력하셨습니다.')\n",
    "    "
   ]
  },
  {
   "cell_type": "code",
   "execution_count": 32,
   "id": "fba8f6fd-fcdf-4863-8df1-766506235f09",
   "metadata": {},
   "outputs": [
    {
     "name": "stdout",
     "output_type": "stream",
     "text": [
      "Wall time: 807 µs\n"
     ]
    }
   ],
   "source": [
    "%%time\n",
    "\n",
    "a = []\n",
    "for _ in range(1000) :\n",
    "    a.append((_, _, _))"
   ]
  },
  {
   "cell_type": "code",
   "execution_count": null,
   "id": "d069a8c7-0d63-42f0-9e00-ae2783a8eb50",
   "metadata": {},
   "outputs": [],
   "source": [
    "%%time # 주피터 안에서 제공하는 편집기 편의기능 "
   ]
  },
  {
   "cell_type": "code",
   "execution_count": 34,
   "id": "62a230f9-d64a-4679-91c6-58a9b6fbbb39",
   "metadata": {},
   "outputs": [
    {
     "name": "stdout",
     "output_type": "stream",
     "text": [
      "0으로 나눌 수 없습니다.\n",
      "division by zero\n"
     ]
    }
   ],
   "source": [
    "x = range(4) # 0, 1, 2, 3\n",
    "\n",
    "try :\n",
    "    for i in range(4) :\n",
    "        y = 10 / x[i]\n",
    "except ZeroDivisionError as e :   #해당하는 에러를 만났을때 바디를 실행하고\n",
    "    print('0으로 나눌 수 없습니다.')   #빠져나간다.\n",
    "    print(e)\n",
    "except IndexError as e :\n",
    "    print('인덱스 에러 발생')\n",
    "    print(e)\n",
    "    "
   ]
  },
  {
   "cell_type": "code",
   "execution_count": 35,
   "id": "1d257297-3a10-4464-a467-c8c6a9b938d0",
   "metadata": {},
   "outputs": [
    {
     "name": "stdout",
     "output_type": "stream",
     "text": [
      "인덱스 에러 발생\n",
      "range object index out of range\n"
     ]
    }
   ],
   "source": [
    "x = range(1, 4) # 1, 2, 3\n",
    "\n",
    "try :\n",
    "    for i in range(4) : # 여긴 0부터 4까지 인덱스를 만들어줄텐데\n",
    "        y = 10 / x[i]   # IndexError 발생\n",
    "except ZeroDivisionError as e :   \n",
    "    print('0으로 나눌 수 없습니다.')  \n",
    "    print(e)\n",
    "except IndexError as e :\n",
    "    print('인덱스 에러 발생')\n",
    "    print(e)"
   ]
  },
  {
   "cell_type": "code",
   "execution_count": 36,
   "id": "992dc43f-a5a8-4e28-b26c-c54248e39d86",
   "metadata": {},
   "outputs": [
    {
     "name": "stdout",
     "output_type": "stream",
     "text": [
      "인덱스 에러 발생\n",
      "range object index out of range\n"
     ]
    }
   ],
   "source": [
    "# 예외 처리, as 키워드 활용\n",
    "#또 자세히 보면 as라는 키워드를 써서 별칭을 만들고 그 별칭을 통해 \n",
    "# 메시지를 출력하는 것을 살펴볼 수 있습니다.\n",
    "\n",
    "x = range(1, 4) # 1, 2, 3\n",
    "\n",
    "try :\n",
    "    for i in range(4) : # 여긴 0부터 4까지 인덱스를 만들어줄텐데\n",
    "        y = 10 / x[i]   # IndexError 발생\n",
    "except ZeroDivisionError as e :   \n",
    "    print('0으로 나눌 수 없습니다.')  \n",
    "    print(e)\n",
    "except IndexError as e :\n",
    "    print('인덱스 에러 발생')\n",
    "    print(e)"
   ]
  },
  {
   "cell_type": "code",
   "execution_count": 37,
   "id": "f127005d-fe00-4f2c-bc0f-3457bf422fc9",
   "metadata": {},
   "outputs": [
    {
     "name": "stdout",
     "output_type": "stream",
     "text": [
      "에러 없이 실행되었습니다.\n"
     ]
    }
   ],
   "source": [
    "# 예외 처리, else\n",
    "# else를 사용하면 에러가 발생되지 않았을 때 실행되는 부분을 작성할 수 있습니다.\n",
    "\n",
    "x = range(1, 5) # 1, 2, 3, 4\n",
    "\n",
    "try :\n",
    "    for i in range(4) : \n",
    "        y = 10 / x[i]   \n",
    "except ZeroDivisionError as e :   \n",
    "    print('0으로 나눌 수 없습니다.')  \n",
    "    print(e)\n",
    "except IndexError as e :\n",
    "    print('인덱스 에러 발생')\n",
    "    print(e)\n",
    "else :\n",
    "    print('에러 없이 실행되었습니다.')"
   ]
  },
  {
   "cell_type": "code",
   "execution_count": 46,
   "id": "cfbf12f2-fbde-472c-86ca-e71facc62710",
   "metadata": {},
   "outputs": [
    {
     "name": "stdin",
     "output_type": "stream",
     "text": [
      "정수 2개를 입력하세요.: 10 5\n"
     ]
    },
    {
     "name": "stdout",
     "output_type": "stream",
     "text": [
      "2\n",
      "프로그램을 종료합니다.\n"
     ]
    }
   ],
   "source": [
    "# 연습 문제\n",
    "\n",
    "try : \n",
    "    x, y = map(int, input('정수 2개를 입력하세요.:').split())\n",
    "    result = int(x/y)\n",
    "    \n",
    "except ValueError :\n",
    "    print('값을 잘못 입력하셨습니다.')\n",
    " \n",
    "except ZeroDivisionError :\n",
    "    print('0으로 나눌 수 없습니다.')\n",
    "  \n",
    "else : \n",
    "    print(result)\n",
    "    \n",
    "finally :\n",
    "    print('프로그램을 종료합니다.')\n",
    "    "
   ]
  },
  {
   "cell_type": "code",
   "execution_count": 44,
   "id": "3a345d47-4667-49f1-b1fe-d71689aa1ac0",
   "metadata": {},
   "outputs": [
    {
     "name": "stdout",
     "output_type": "stream",
     "text": [
      "무조건 실행됩니다.\n"
     ]
    },
    {
     "ename": "NameError",
     "evalue": "name 'KevError' is not defined",
     "output_type": "error",
     "traceback": [
      "\u001b[1;31m---------------------------------------------------------------------------\u001b[0m",
      "\u001b[1;31mNameError\u001b[0m                                 Traceback (most recent call last)",
      "\u001b[1;32m~\\AppData\\Local\\Temp\\ipykernel_18568\\1756007443.py\u001b[0m in \u001b[0;36m<module>\u001b[1;34m\u001b[0m\n\u001b[0;32m      3\u001b[0m \u001b[1;33m\u001b[0m\u001b[0m\n\u001b[0;32m      4\u001b[0m \u001b[1;32mtry\u001b[0m \u001b[1;33m:\u001b[0m\u001b[1;33m\u001b[0m\u001b[1;33m\u001b[0m\u001b[0m\n\u001b[1;32m----> 5\u001b[1;33m     \u001b[1;32mraise\u001b[0m \u001b[0mKevError\u001b[0m\u001b[1;33m\u001b[0m\u001b[1;33m\u001b[0m\u001b[0m\n\u001b[0m\u001b[0;32m      6\u001b[0m \u001b[1;32mfinally\u001b[0m \u001b[1;33m:\u001b[0m\u001b[1;33m\u001b[0m\u001b[1;33m\u001b[0m\u001b[0m\n\u001b[0;32m      7\u001b[0m     \u001b[0mprint\u001b[0m\u001b[1;33m(\u001b[0m\u001b[1;34m'무조건 실행됩니다.'\u001b[0m\u001b[1;33m)\u001b[0m\u001b[1;33m\u001b[0m\u001b[1;33m\u001b[0m\u001b[0m\n",
      "\u001b[1;31mNameError\u001b[0m: name 'KevError' is not defined"
     ]
    }
   ],
   "source": [
    "# 예외 처리, finally\n",
    "# try와 finally를 사용하면 프로그램에서 무조건 실행되는 부분을 작성할 수 있습니다.\n",
    "\n",
    "try : \n",
    "    raise KevError\n",
    "finally :\n",
    "    print('무조건 실행됩니다.')"
   ]
  },
  {
   "cell_type": "code",
   "execution_count": null,
   "id": "56f8a008-8607-4ce7-88ec-d30c7b656c18",
   "metadata": {},
   "outputs": [],
   "source": []
  }
 ],
 "metadata": {
  "kernelspec": {
   "display_name": "Python 3 (ipykernel)",
   "language": "python",
   "name": "python3"
  },
  "language_info": {
   "codemirror_mode": {
    "name": "ipython",
    "version": 3
   },
   "file_extension": ".py",
   "mimetype": "text/x-python",
   "name": "python",
   "nbconvert_exporter": "python",
   "pygments_lexer": "ipython3",
   "version": "3.9.13"
  }
 },
 "nbformat": 4,
 "nbformat_minor": 5
}
