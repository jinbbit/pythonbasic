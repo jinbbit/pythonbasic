{
 "cells": [
  {
   "cell_type": "code",
   "execution_count": 9,
   "id": "eeccc6b5-493b-4a7f-9c9b-96b97302201a",
   "metadata": {},
   "outputs": [
    {
     "name": "stdout",
     "output_type": "stream",
     "text": [
      "{75, 45, 15, 90, 60, 30}\n"
     ]
    }
   ],
   "source": [
    "# 연습 문제\n",
    "\n",
    "set_3 = {_ for _ in range (1,101) if _ % 3 == 0}\n",
    "set_5 = {_ for _ in range (1,101) if _ % 5 == 0}\n",
    "\n",
    "result_set = set.intersection(set_3, set_5)\n",
    "\n",
    "print(result_set)\n"
   ]
  },
  {
   "cell_type": "code",
   "execution_count": 13,
   "id": "3e2bd638-b037-480a-a500-b0f4e551eb9b",
   "metadata": {
    "tags": []
   },
   "outputs": [
    {
     "name": "stdout",
     "output_type": "stream",
     "text": [
      "['개인정보 조회', '구매 관리', '근태 관리', '시스템 관리', '인사 관리', '회계 관리']\n"
     ]
    }
   ],
   "source": [
    "# 연습 문제\n",
    "\n",
    "role_admin = (\"회계 관리\", \"인사 관리\", \"구매 관리\", \"시스템 관리\")\n",
    "role_hr = (\"인사 관리\", \"개인정보 조회\", \"회계 관리\", \"근태 관리\")\n",
    "role_user = (\"개인정보 조회\", \"근태 관리\")\n",
    "\n",
    "roles = list(set(role_admin + role_hr + role_user))\n",
    "roles.sort()\n",
    "print(roles)"
   ]
  },
  {
   "cell_type": "code",
   "execution_count": null,
   "id": "ea2f087c-18af-426f-b1e4-d31a3b0df1e5",
   "metadata": {},
   "outputs": [],
   "source": [
    "# 풀이\n",
    "\n",
    "role_admin = (\"회계 관리\", \"인사 관리\", \"구매 관리\", \"시스템 관리\")\n",
    "role_hr = (\"인사 관리\", \"개인정보 조회\", \"회계 관리\", \"근태 관리\")\n",
    "role_user = (\"개인정보 조회\", \"근태 관리\")\n",
    "\n",
    "roles = list(set(role_admin + role_hr + role_user))\n",
    "roles.sort()\n",
    "# sorted(객체) : 객체에 대해서 변경이 아니라 정렬한 값을 새롭게 반환\n",
    "# list.sort() : 리스트자체에 대해서 자체로 변경 !!!이 두개 차이!!!\n",
    "\n",
    "\n",
    "end_char = \",\"  # .join(roles) 해도됨\n",
    "\n",
    "for munu in menus : # 이게모야 \n",
    "\n",
    "print(roles)"
   ]
  },
  {
   "cell_type": "code",
   "execution_count": null,
   "id": "2d661a60-652f-4430-8a0c-b509f7dd85b4",
   "metadata": {},
   "outputs": [],
   "source": [
    "# 함수 (function)\n",
    "# 사진 참고\n",
    "# 인수(argument)가 인자(parameter)에 전달(함수 호출 : call)이 된다.\n",
    "# 반환값이 다시 호출한 곳으로 return ~~"
   ]
  },
  {
   "cell_type": "code",
   "execution_count": null,
   "id": "6451fa83-4176-4e2f-9565-6ed41799639a",
   "metadata": {},
   "outputs": [],
   "source": [
    "# 함수(Function)\n",
    "# 우리가 사용해온 print(), len(), list(), reversed() 등 이 모든 것들이 다 함수.\n",
    "# 한번 정의해두고 필요할 때마다 재사용할 수 있었쥐\n",
    "\n",
    "# 함수(Function)는 반복 사용되는 코드를 용도에 맞게 함수 바디에 모아두고 재사용 \n",
    "# 가능하도록 호출 가능하게 만든 것.\n",
    "\n",
    "# 코드의 중복을 줄일 수 있어서 유지보수에 좋음.\n",
    "# 코드의 목적에 맞게 사용할 수 있음/ 중복에서 오는 실수 줄임/ 재사용 가능\n",
    "\n"
   ]
  },
  {
   "cell_type": "code",
   "execution_count": null,
   "id": "61a4ad05-71f6-49f6-a2e7-381c26373d40",
   "metadata": {},
   "outputs": [],
   "source": [
    "# 함수의 정의 (define)\n",
    "# 함수는 미리 정의해둔 정의절을 실행해야 호출가능.\n",
    "\n",
    "      #snake_code???\n",
    "def 함수 _ 이름(위치_인자, 위치_인자2, *가변_위치, 키워드_인자, 키워드_인자2, **가변_키워드) :\n",
    "\"\"\" (string)        # 앞에는 위치들이 오고, 뒤에는 키워드들이 오넹\n",
    "Doc Striong을 적는 곳입니다.  // 첫줄엔 보통 'Doc String' : 함수에 대한 설명을 적어주는 곳\n",
    "                               어떤걸 적을지는 회사마다 다름.\n",
    "작성자 : 진진\n",
    "작성일자 : 2023.02.21\n",
    "\n",
    "\"\"\"                          // 이런 디테일 잘 살려서!!!!!포트폴리오 잘 만들어보세요!!!!!\n",
    "함수의 바디\n",
    "함수의 바디\n",
    "\n",
    "return 반환값"
   ]
  },
  {
   "cell_type": "code",
   "execution_count": 1,
   "id": "c408d7f3-ca9a-4a19-a875-f029f28ce426",
   "metadata": {},
   "outputs": [],
   "source": [
    "# 강사님 간단한 예쩨 설명\n",
    "\n",
    "def print_ten():\n",
    "    \"\"\"print(\"hello\")를 열번 출력합니다.\"\"\"\n",
    "    for _ in range(10):\n",
    "        print(\"hello\")"
   ]
  },
  {
   "cell_type": "code",
   "execution_count": 2,
   "id": "7f3dd9c0-b721-4259-811c-abcbbb9235c7",
   "metadata": {},
   "outputs": [
    {
     "name": "stdout",
     "output_type": "stream",
     "text": [
      "hello\n",
      "hello\n",
      "hello\n",
      "hello\n",
      "hello\n",
      "hello\n",
      "hello\n",
      "hello\n",
      "hello\n",
      "hello\n"
     ]
    }
   ],
   "source": [
    "print_ten()"
   ]
  },
  {
   "cell_type": "code",
   "execution_count": 3,
   "id": "acdb7db3-117f-4cf2-9a50-a064b6538d6a",
   "metadata": {},
   "outputs": [
    {
     "name": "stdout",
     "output_type": "stream",
     "text": [
      "print(\"hello\")를 열번 출력합니다.\n"
     ]
    }
   ],
   "source": [
    "print(print_ten.__doc__)   # Dog string확인"
   ]
  },
  {
   "cell_type": "code",
   "execution_count": 4,
   "id": "e99d999a-4bb4-4f2c-84db-0af864a29575",
   "metadata": {},
   "outputs": [
    {
     "name": "stdout",
     "output_type": "stream",
     "text": [
      "print(value, ..., sep=' ', end='\\n', file=sys.stdout, flush=False)\n",
      "\n",
      "Prints the values to a stream, or to sys.stdout by default.\n",
      "Optional keyword arguments:\n",
      "file:  a file-like object (stream); defaults to the current sys.stdout.\n",
      "sep:   string inserted between values, default a space.\n",
      "end:   string appended after the last value, default a newline.\n",
      "flush: whether to forcibly flush the stream.\n"
     ]
    }
   ],
   "source": [
    "print(print.__doc__)"
   ]
  },
  {
   "cell_type": "code",
   "execution_count": 5,
   "id": "e078ba54-d8dd-49db-b790-c37e7704ee83",
   "metadata": {},
   "outputs": [],
   "source": [
    "def print_ten(some_str):\n",
    "    \"\"\"print(\"hello\")를 열번 출력합니다.\"\"\"\n",
    "    for _ in range(10):\n",
    "        print(some_str)"
   ]
  },
  {
   "cell_type": "code",
   "execution_count": 6,
   "id": "b020e050-f12c-4a2f-84bb-5e0d6a99c4e8",
   "metadata": {},
   "outputs": [
    {
     "name": "stdout",
     "output_type": "stream",
     "text": [
      "문자열\n",
      "문자열\n",
      "문자열\n",
      "문자열\n",
      "문자열\n",
      "문자열\n",
      "문자열\n",
      "문자열\n",
      "문자열\n",
      "문자열\n"
     ]
    }
   ],
   "source": [
    "print_ten(\"문자열\")"
   ]
  },
  {
   "cell_type": "code",
   "execution_count": null,
   "id": "b26a173a-91a7-4f55-babd-4d288216b854",
   "metadata": {},
   "outputs": [],
   "source": [
    "# 함수의 정의 - 인자(parameter)\n",
    "# 함수(또는 메서드) 정의에서 함수가 받을 수 있는 변수.\n",
    "# 함수인자(인수 argument) 혹은 매개변수!! 라고 부름.\n",
    "# 인자는 함수 정의절(def~ )에서 소괄호() 안에 정의됩니다.\n",
    "# 5가지 종류\n",
    "\n",
    "1. 위치-키워드(positional or keyword) : 위치 혹은 키워드로 전달될 수 있는 인자.\n",
    "                                        매개변수의 기본 형태입니다.\n",
    "2. 위치 전용(positional-only) : / 문자를 기준으로 좌측에 위치한 인자.\n",
    "3. 키워드 전용(keyword-only) : * 문자를 기준으로 우측에 위치한 인자.\n",
    "4. 가변 위치(var positional) : 위치 매개변수 외에 추가적인 위치 매개변수를 개수에 상관없이\n",
    "                            받을 수 있다. 변수명 앞에 * 를 하나 붙여 표기\n",
    "5. 가변 키워드(var keyword) : 키워드 매개변수 외에 추가적인 키워드 매개변수를 개수에 상관없이\n",
    "                            받을 수 있다. 변수명 앞에 **를 두개 붙여 표기\n",
    "    dict_a = dict(key='value', key2='value2')\n",
    "                  (요 키 벨류 묶음으로 하나로 받는다!!!) -> 가변 키워드\n"
   ]
  },
  {
   "cell_type": "code",
   "execution_count": null,
   "id": "e7de3e63-c354-421b-a82b-f6f29b3587d2",
   "metadata": {},
   "outputs": [],
   "source": [
    "<Arguments? Parameter? 같은 것 아닌가요??>\n",
    "=> 다름!!!!\n",
    "- Parameters는 함수 정의절에서 사용하는 이름!!!\n",
    "- Arguments는 함수 호출할 때 함수에 전달하는 실제 값!!!\n",
    "따라서 Parameters는 어떤 종류의 Arguments를 받을지 정의합니다.\n",
    "\n",
    "# 밑 예제 사진!!!"
   ]
  },
  {
   "cell_type": "code",
   "execution_count": 10,
   "id": "96b6ba41-afb5-4bab-96ca-357e3fd67c97",
   "metadata": {},
   "outputs": [],
   "source": [
    "# 함수 정의\n",
    "              # 함수 정의절에 위치한 Parameters\n",
    "def greeting(name, age) : \n",
    "    print(f\"{name} 씨 안녕하세요. 약 {age * 365.25}일 되었습니다.\")"
   ]
  },
  {
   "cell_type": "code",
   "execution_count": 11,
   "id": "4bbcd7f8-6b5a-49a0-b820-ae812bea028d",
   "metadata": {},
   "outputs": [
    {
     "name": "stdout",
     "output_type": "stream",
     "text": [
      "파이썬 씨 안녕하세요. 약 11688.0일 되었습니다.\n"
     ]
    }
   ],
   "source": [
    "# 함수 호출\n",
    "        # 함수 호출부에 위치한 Arguments\n",
    "greeting(\"파이썬\", 32)"
   ]
  },
  {
   "cell_type": "code",
   "execution_count": null,
   "id": "c2b01ff5-f8e7-448c-85ee-b0aae0798c4d",
   "metadata": {},
   "outputs": [],
   "source": [
    "<함수의 정의 - 위치-키워드 인자(positional-or-keyword parameters)>\n",
    "\n",
    "위치 인수(positional arguments) 또는 키워드 인수(keyword arguments)를 받을 수 있는 \n",
    "인자(parameter)를 위치-키워드 인자(positional-or-keyword parameters)라고 합니다.\n",
    "\n",
    "아래 예제에서는 위치-키워드 인자가 위치 인수를 전달 받아 처리하고 있습니다."
   ]
  },
  {
   "cell_type": "code",
   "execution_count": 12,
   "id": "c370c5dd-7e87-4f6b-8066-8f474eafa8c8",
   "metadata": {},
   "outputs": [],
   "source": [
    "# 함수 정의\n",
    "\n",
    "def greeting(name, age) :\n",
    "    print(f\"{name} 씨 안녕하세요. 약 {age * 365.25}일 되었습니다.\")"
   ]
  },
  {
   "cell_type": "code",
   "execution_count": 13,
   "id": "f7e87166-012a-491e-80e8-439611e8c074",
   "metadata": {},
   "outputs": [
    {
     "name": "stdout",
     "output_type": "stream",
     "text": [
      "파이썬 씨 안녕하세요. 약 11688.0일 되었습니다.\n"
     ]
    }
   ],
   "source": [
    "# 함수 호출\n",
    "\n",
    "greeting(\"파이썬\", 32)"
   ]
  },
  {
   "cell_type": "code",
   "execution_count": null,
   "id": "1234044e-1acd-4ef8-a5a2-426dbe3e4a31",
   "metadata": {},
   "outputs": [],
   "source": [
    "<함수의 정의 - 위치-키워드 인자(positional-or-keyword parameters)>\n",
    "\n",
    "아래 예제에서 함수 정의절에 보면 위치-키워드 인자(positional-or-keyword parameters)가\n",
    "기본 값을 갖지 않습니다. 따라서 인수없이 함수를 호출하면 TypeError가 발생합니다."
   ]
  },
  {
   "cell_type": "code",
   "execution_count": 14,
   "id": "b6fe2e15-08c2-4f70-b448-8d70faf2dd1b",
   "metadata": {},
   "outputs": [],
   "source": [
    "# 함수 정의\n",
    "\n",
    "def greeting(name, age) :    # 기본값(default)가 설정되어 있지 않네!!\n",
    "    print(f\"{name} 씨 안녕하세요. 약 {age * 365.25}일 되었습니다.\")"
   ]
  },
  {
   "cell_type": "code",
   "execution_count": 15,
   "id": "31cf9b7d-2440-4a98-849c-429107af134a",
   "metadata": {},
   "outputs": [
    {
     "ename": "TypeError",
     "evalue": "greeting() missing 2 required positional arguments: 'name' and 'age'",
     "output_type": "error",
     "traceback": [
      "\u001b[1;31m---------------------------------------------------------------------------\u001b[0m",
      "\u001b[1;31mTypeError\u001b[0m                                 Traceback (most recent call last)",
      "\u001b[1;32m~\\AppData\\Local\\Temp\\ipykernel_5752\\2828206725.py\u001b[0m in \u001b[0;36m<module>\u001b[1;34m\u001b[0m\n\u001b[0;32m      1\u001b[0m \u001b[1;31m# 함수 호출\u001b[0m\u001b[1;33m\u001b[0m\u001b[1;33m\u001b[0m\u001b[0m\n\u001b[0;32m      2\u001b[0m \u001b[1;33m\u001b[0m\u001b[0m\n\u001b[1;32m----> 3\u001b[1;33m \u001b[0mgreeting\u001b[0m\u001b[1;33m(\u001b[0m\u001b[1;33m)\u001b[0m\u001b[1;33m\u001b[0m\u001b[1;33m\u001b[0m\u001b[0m\n\u001b[0m",
      "\u001b[1;31mTypeError\u001b[0m: greeting() missing 2 required positional arguments: 'name' and 'age'"
     ]
    }
   ],
   "source": [
    "# 함수 호출\n",
    "\n",
    "greeting()    # 인수(arguments)없이 호출하고 있습니다."
   ]
  },
  {
   "cell_type": "code",
   "execution_count": null,
   "id": "647228c2-bf7a-44a4-a44a-6c30c55c6841",
   "metadata": {},
   "outputs": [],
   "source": [
    "<함수의 정의 - 위치-키워드 인자(positional-or-keyword parameters)>\n",
    "\n",
    "기본 값이 없는 인수(parameters)에 위치 인수(positional arguments)를 순서와 관계없이 \n",
    "값을 전달하면 어떻게 될까요? 타입에 민감하게 동작하는 함수라면 값을 처리할 수 \n",
    "없겠죠? 에러를 발생시킵니다."
   ]
  },
  {
   "cell_type": "code",
   "execution_count": 16,
   "id": "39e5ed15-b5a9-4098-bd45-a4d0c3419ce9",
   "metadata": {},
   "outputs": [],
   "source": [
    "# 함수 정의\n",
    "\n",
    "def greeting(name, age) :    # 기본값(default)가 설정되어 있지 않네!!\n",
    "    print(f\"{name} 씨 안녕하세요. 약 {age * 365.25}일 되었습니다.\")"
   ]
  },
  {
   "cell_type": "code",
   "execution_count": 18,
   "id": "e4bc656b-1d64-4907-a80c-58bb1108bb3d",
   "metadata": {},
   "outputs": [
    {
     "ename": "TypeError",
     "evalue": "can't multiply sequence by non-int of type 'float'",
     "output_type": "error",
     "traceback": [
      "\u001b[1;31m---------------------------------------------------------------------------\u001b[0m",
      "\u001b[1;31mTypeError\u001b[0m                                 Traceback (most recent call last)",
      "\u001b[1;32m~\\AppData\\Local\\Temp\\ipykernel_5752\\3122206831.py\u001b[0m in \u001b[0;36m<module>\u001b[1;34m\u001b[0m\n\u001b[0;32m      1\u001b[0m \u001b[1;31m# 함수 호출\u001b[0m\u001b[1;33m\u001b[0m\u001b[1;33m\u001b[0m\u001b[0m\n\u001b[0;32m      2\u001b[0m \u001b[1;33m\u001b[0m\u001b[0m\n\u001b[1;32m----> 3\u001b[1;33m \u001b[0mgreeting\u001b[0m\u001b[1;33m(\u001b[0m\u001b[1;36m32\u001b[0m\u001b[1;33m,\u001b[0m \u001b[1;34m\"파이썬\"\u001b[0m\u001b[1;33m)\u001b[0m    \u001b[1;31m# 위치 인수를 순서를 상관앖고 호출하고 있습니다!\u001b[0m\u001b[1;33m\u001b[0m\u001b[1;33m\u001b[0m\u001b[0m\n\u001b[0m",
      "\u001b[1;32m~\\AppData\\Local\\Temp\\ipykernel_5752\\1419708902.py\u001b[0m in \u001b[0;36mgreeting\u001b[1;34m(name, age)\u001b[0m\n\u001b[0;32m      2\u001b[0m \u001b[1;33m\u001b[0m\u001b[0m\n\u001b[0;32m      3\u001b[0m \u001b[1;32mdef\u001b[0m \u001b[0mgreeting\u001b[0m\u001b[1;33m(\u001b[0m\u001b[0mname\u001b[0m\u001b[1;33m,\u001b[0m \u001b[0mage\u001b[0m\u001b[1;33m)\u001b[0m \u001b[1;33m:\u001b[0m    \u001b[1;31m# 기본값(default)가 설정되어 있지 않네!!\u001b[0m\u001b[1;33m\u001b[0m\u001b[1;33m\u001b[0m\u001b[0m\n\u001b[1;32m----> 4\u001b[1;33m     \u001b[0mprint\u001b[0m\u001b[1;33m(\u001b[0m\u001b[1;34mf\"{name} 씨 안녕하세요. 약 {age * 365.25}일 되었습니다.\"\u001b[0m\u001b[1;33m)\u001b[0m\u001b[1;33m\u001b[0m\u001b[1;33m\u001b[0m\u001b[0m\n\u001b[0m",
      "\u001b[1;31mTypeError\u001b[0m: can't multiply sequence by non-int of type 'float'"
     ]
    }
   ],
   "source": [
    "# 함수 호출\n",
    "\n",
    "greeting(32, \"파이썬\")    # 위치 인수를 순서를 상관앖고 호출하고 있습니다!"
   ]
  },
  {
   "cell_type": "code",
   "execution_count": null,
   "id": "df628fba-b2cb-464e-a586-175292743c40",
   "metadata": {},
   "outputs": [],
   "source": [
    "<함수의 정의 - 위치-키워드 인자(positional-or-keyword parameters)>\n",
    "\n",
    "아래 예제에서는 키워드 인수만으로 호출하고 있습니다. 키워드 인수 간에 순서는 상계 \n",
    "없습니다. 마치 딕셔너리와 같은 원리죠?"
   ]
  },
  {
   "cell_type": "code",
   "execution_count": null,
   "id": "6c42505e-5ac6-4f56-bf90-216654a499e6",
   "metadata": {},
   "outputs": [],
   "source": [
    "# 함수 정의\n",
    "\n",
    "def greeting(name, age) :  \n",
    "    print(f\"{name} 씨 안녕하세요. 약 {age * 365.25}일 되었습니다.\")"
   ]
  },
  {
   "cell_type": "code",
   "execution_count": 21,
   "id": "8e827938-52d6-44e1-9411-c2c52e72d0c0",
   "metadata": {},
   "outputs": [
    {
     "name": "stdout",
     "output_type": "stream",
     "text": [
      "파이썬 씨 안녕하세요. 약 11688.0일 되었습니다.\n"
     ]
    }
   ],
   "source": [
    "# 함수 호출\n",
    "\n",
    "greeting(age = 32, name = \"파이썬\")  # 키워드 인수를 활용해서 순서를 상관앖고 호출하고 있슘"
   ]
  },
  {
   "cell_type": "code",
   "execution_count": null,
   "id": "e46deaf4-899a-4c63-b279-e376671aa46c",
   "metadata": {},
   "outputs": [],
   "source": [
    "<함수의 호출 - 위치 인수와 키워드 인수>\n",
    "\n",
    "함수를 호출할 때 소괄호(()) 안에 위치 인수(positional arguments)를 먼저 작성하고 \n",
    "키워드 인수(keyword arguments)를 나중에 작성한다. 위치 인수는 순서에 영향을 받지만 \n",
    "키워드 인수는 순서에 상관없이 작성 가능하다."
   ]
  },
  {
   "cell_type": "code",
   "execution_count": 20,
   "id": "8e455608-45a3-4534-85da-633088c591eb",
   "metadata": {},
   "outputs": [
    {
     "ename": "SyntaxError",
     "evalue": "positional argument follows keyword argument (992366593.py, line 3)",
     "output_type": "error",
     "traceback": [
      "\u001b[1;36m  File \u001b[1;32m\"C:\\Users\\user\\AppData\\Local\\Temp\\ipykernel_5752\\992366593.py\"\u001b[1;36m, line \u001b[1;32m3\u001b[0m\n\u001b[1;33m    greeting(name = \"파이썬\", 32)\u001b[0m\n\u001b[1;37m                             ^\u001b[0m\n\u001b[1;31mSyntaxError\u001b[0m\u001b[1;31m:\u001b[0m positional argument follows keyword argument\n"
     ]
    }
   ],
   "source": [
    "# 함수 호출\n",
    "\n",
    "greeting(name = \"파이썬\", 32)   \n",
    "# positional argument를 먼저쓰고 keyword argument를 나중에 선엉한다!!"
   ]
  },
  {
   "cell_type": "code",
   "execution_count": null,
   "id": "03d10c0f-fb27-4df4-8a23-6a209a98a9e6",
   "metadata": {},
   "outputs": [],
   "source": [
    "<함수의 정의 - 위치-키워드 인자(positional-or-keyword parameters)>\n",
    "\n",
    "기본 값을 갖는 default parameter는 기본 기본 값을 갖지않는 non-default \n",
    "parameter보다 뒤에 작성해야 합니다."
   ]
  },
  {
   "cell_type": "code",
   "execution_count": 23,
   "id": "1fcbdcd7-6151-4ae1-b1de-50afdb9fa697",
   "metadata": {},
   "outputs": [
    {
     "ename": "SyntaxError",
     "evalue": "non-default argument follows default argument (3332018801.py, line 3)",
     "output_type": "error",
     "traceback": [
      "\u001b[1;36m  File \u001b[1;32m\"C:\\Users\\user\\AppData\\Local\\Temp\\ipykernel_5752\\3332018801.py\"\u001b[1;36m, line \u001b[1;32m3\u001b[0m\n\u001b[1;33m    def greeting(name = \"default\", age) :\u001b[0m\n\u001b[1;37m                                      ^\u001b[0m\n\u001b[1;31mSyntaxError\u001b[0m\u001b[1;31m:\u001b[0m non-default argument follows default argument\n"
     ]
    }
   ],
   "source": [
    "# 함수 정의\n",
    "                   # non-default parameter가 먼저 오고 default parameter를 선언해야한다\n",
    "def greeting(name = \"default\", age) :  \n",
    "    print(f\"{name} 씨 안녕하세요. 약 {age * 365.25}일 되었습니다.\")"
   ]
  },
  {
   "cell_type": "code",
   "execution_count": null,
   "id": "75c99f75-0614-48dc-8a60-9bd3efacb5fb",
   "metadata": {},
   "outputs": [],
   "source": [
    "<함수의 정의 - 위치 전용 인자(positional-only parameters)>\n",
    "\n",
    "위치 전용 인자(positional only parameter)는 오직 위치 인수(positional arguments)만 \n",
    "값의 전달이 가능합니다. 위치 전용 인자를 선언하는 방법은 슬래시(/)를 인자 값으로 \n",
    "넣고 좌측 부분에 위치 전용 인자를 선언하면 됩니다."
   ]
  },
  {
   "cell_type": "code",
   "execution_count": 24,
   "id": "3d063a87-34a5-4200-9168-02b1acd207bd",
   "metadata": {},
   "outputs": [],
   "source": [
    "# 함수 정의\n",
    "       \n",
    "def posonly(posonly, /) :\n",
    "                   # /를 인자로 위치시키면 그 왼편의 parameters는 \n",
    "                  # positional-only parameters가 됩니다\n",
    "    print(posonly)"
   ]
  },
  {
   "cell_type": "code",
   "execution_count": 25,
   "id": "3159714a-a433-41bb-a477-41e7b09b5b2d",
   "metadata": {},
   "outputs": [
    {
     "name": "stdout",
     "output_type": "stream",
     "text": [
      "값만 입력해야 합니다.\n"
     ]
    }
   ],
   "source": [
    "# 함수 호출\n",
    "posonly(\"값만 입력해야 합니다.\")"
   ]
  },
  {
   "cell_type": "code",
   "execution_count": null,
   "id": "9f27787f-f6bd-4a26-a9f6-7ec184898b8b",
   "metadata": {},
   "outputs": [],
   "source": [
    "<함수의 정의 - 위치 전용 인자(positional-only parameters)>\n",
    "\n",
    "위치 전용 인자(positional only parameter)에 키워드 인수(keyword arguments)를 \n",
    "전달하면 TypeError 오류가 발생됩니다."
   ]
  },
  {
   "cell_type": "code",
   "execution_count": 26,
   "id": "099b80fb-3eea-4fc3-95c6-99c71268549f",
   "metadata": {},
   "outputs": [],
   "source": [
    "# 함수 정의\n",
    "             # 얘 자체를 위치 전용 인자라고 하는구나!! / 왼편에 적는거~\n",
    "def posonly(posonly, /) :\n",
    "        print(posonly)"
   ]
  },
  {
   "cell_type": "code",
   "execution_count": 27,
   "id": "670735e1-782f-4a9b-b926-0a15b11b22ed",
   "metadata": {},
   "outputs": [
    {
     "ename": "TypeError",
     "evalue": "posonly() got some positional-only arguments passed as keyword arguments: 'posonly'",
     "output_type": "error",
     "traceback": [
      "\u001b[1;31m---------------------------------------------------------------------------\u001b[0m",
      "\u001b[1;31mTypeError\u001b[0m                                 Traceback (most recent call last)",
      "\u001b[1;32m~\\AppData\\Local\\Temp\\ipykernel_5752\\4174408566.py\u001b[0m in \u001b[0;36m<module>\u001b[1;34m\u001b[0m\n\u001b[0;32m      1\u001b[0m \u001b[1;31m# 함수 호출\u001b[0m\u001b[1;33m\u001b[0m\u001b[1;33m\u001b[0m\u001b[0m\n\u001b[1;32m----> 2\u001b[1;33m \u001b[0mposonly\u001b[0m\u001b[1;33m(\u001b[0m\u001b[0mposonly\u001b[0m \u001b[1;33m=\u001b[0m \u001b[1;34m\"키워드 인수로 전달하면 오류 발생!\"\u001b[0m\u001b[1;33m)\u001b[0m\u001b[1;33m\u001b[0m\u001b[1;33m\u001b[0m\u001b[0m\n\u001b[0m",
      "\u001b[1;31mTypeError\u001b[0m: posonly() got some positional-only arguments passed as keyword arguments: 'posonly'"
     ]
    }
   ],
   "source": [
    "# 함수 호출\n",
    "posonly(posonly = \"키워드 인수로 전달하면 오류 발생!\")"
   ]
  },
  {
   "cell_type": "code",
   "execution_count": null,
   "id": "3c61550b-7328-4fe6-9331-cc53ff338a6f",
   "metadata": {},
   "outputs": [],
   "source": [
    "<함수의 정의 - 키워드 전용 인자(keyword-only parameters)>\n",
    "\n",
    "키워드 전용 인자(keyword only parameter)도 기본값을 가질 수 있습니다. 이때 기본값을 \n",
    "갖는 인자에 상응하는 인수(arguments)는 생략할 수 있습니다."
   ]
  },
  {
   "cell_type": "code",
   "execution_count": 28,
   "id": "c4c4adfc-040a-4f70-8d1e-fd1facded5f1",
   "metadata": {},
   "outputs": [],
   "source": [
    "# 함수 정의\n",
    "\n",
    "def keyonly(*, keyonly = \"default\") :\n",
    "    print(keyonly)"
   ]
  },
  {
   "cell_type": "code",
   "execution_count": 29,
   "id": "39878cd9-a4a4-418c-ae33-325d1184c940",
   "metadata": {},
   "outputs": [
    {
     "name": "stdout",
     "output_type": "stream",
     "text": [
      "default\n"
     ]
    }
   ],
   "source": [
    "keyonly()"
   ]
  },
  {
   "cell_type": "code",
   "execution_count": null,
   "id": "c0d8aa45-6e90-4e55-9593-7d242e3c90d5",
   "metadata": {},
   "outputs": [],
   "source": []
  },
  {
   "cell_type": "code",
   "execution_count": null,
   "id": "d3e91bd3-842a-402c-8b5f-8d17a19a1af4",
   "metadata": {},
   "outputs": [],
   "source": [
    "<함수의 정의 - 가변-위치 인자(var-positional parameters))\n",
    "\n",
    "가변-위치 인자(var-positional parameters)는 명시된 인자 외에 추가적으로 위치 인수를 \n",
    "개수에 상관없이 유연하게 전달 받을 수 있습니다. 가변 변수로 사용할 변수명 앞에 *를 \n",
    "앞에 하나 붙여 표기합니다."
   ]
  },
  {
   "cell_type": "code",
   "execution_count": 30,
   "id": "6f685b02-abda-4cc9-b211-95a79cb2270f",
   "metadata": {},
   "outputs": [],
   "source": [
    "# 함수 정의\n",
    "                  \n",
    "def var_positional(*args):\n",
    "    print(type(args))\n",
    "    return sum([_ for _ in args])"
   ]
  },
  {
   "cell_type": "code",
   "execution_count": 31,
   "id": "aa19cef5-4950-40b8-831c-ca9cf22b50e2",
   "metadata": {},
   "outputs": [
    {
     "name": "stdout",
     "output_type": "stream",
     "text": [
      "<class 'tuple'>\n",
      "15\n"
     ]
    }
   ],
   "source": [
    "print(var_positional(1, 2, 3, 4, 5))   \n",
    "            # 위에 arags 명시된 인자 하나밖에 없었는데 추가적으로 인자를 받을 수 있다!"
   ]
  },
  {
   "cell_type": "code",
   "execution_count": null,
   "id": "529615b1-4935-4015-adcf-e2f0464e93d3",
   "metadata": {},
   "outputs": [],
   "source": [
    "<함수의 정의 - 가변-키워드 인자(var-keyword parameters)>\n",
    "\n",
    "가변-키워드 인자(var-keyword parameters)는 명시된 인자 외에 추가적으로 키워드 \n",
    "인수를 개수에 상관없이 유연하게 전달 받을 수 있습니다. 가변 변수로 사용할 변수명 \n",
    "앞에 *를 앞에 두개 붙여 표기합니다."
   ]
  },
  {
   "cell_type": "code",
   "execution_count": 35,
   "id": "5f60c63c-f82f-43b7-a640-7141b0ca249a",
   "metadata": {},
   "outputs": [],
   "source": [
    "# 함수 정의\n",
    "                  # 인자가 하나밖에 정의되지 않았는데 호출하는건 여러개야\n",
    "def var_keyword(**kwargs):  # KeyWord ARGumentS 여서 kwargs\n",
    "    print(type(kwargs))\n",
    "    return kwargs"
   ]
  },
  {
   "cell_type": "code",
   "execution_count": 36,
   "id": "5992683a-b185-41d3-ab55-5ff03aaa451c",
   "metadata": {},
   "outputs": [
    {
     "name": "stdout",
     "output_type": "stream",
     "text": [
      "<class 'dict'>\n",
      "{'key': 'value', 'key2': 'value2'}\n"
     ]
    }
   ],
   "source": [
    "# 함수 호출         # 인자가 하나밖에 정의되지 않았는데 호출하는건 두개\n",
    "print(var_keyword(key = \"value\", key2 = \"value2\")) # 키랑 벨류의 형태니까 딕셔너리형태!"
   ]
  },
  {
   "cell_type": "code",
   "execution_count": null,
   "id": "50906e0a-887d-478e-8434-746bc9a0ef4a",
   "metadata": {},
   "outputs": [],
   "source": [
    "<함수의 정의 - 가변-키워드 인자(var-keyword parameters)>\n",
    "\n",
    "\n",
    "가변-키워드 인자(var-keyword parameters)를 사용할 때도 해당 변수에 값을 전달하는 \n",
    "인수가 아예 없어도 함수가 동작하는데 문제 없도록 함수 바디를 작성하는 것이 \n",
    "좋습니다."
   ]
  },
  {
   "cell_type": "code",
   "execution_count": null,
   "id": "bc117caf-55a8-4a75-8e6d-7deb4752609e",
   "metadata": {},
   "outputs": [],
   "source": [
    "# 함수 정의\n",
    "                  \n",
    "def var_keyword(**kwargs):\n",
    "    print(type(kwargs))\n",
    "    return kwargs"
   ]
  },
  {
   "cell_type": "code",
   "execution_count": 37,
   "id": "9598319b-a5c4-40be-a64e-42a1e99456eb",
   "metadata": {},
   "outputs": [
    {
     "name": "stdout",
     "output_type": "stream",
     "text": [
      "<class 'dict'>\n",
      "{}\n"
     ]
    }
   ],
   "source": [
    "# 함수 호출      \n",
    "print(var_keyword())  # 가변-키워드 인자에 전달할 인수 없이 호출 가능\n",
    "                # 값이 없는 경우도 빈 딕셔너리로도 출력"
   ]
  },
  {
   "cell_type": "code",
   "execution_count": 60,
   "id": "3b136d33-ff9e-4e95-9f4c-be60a85c242a",
   "metadata": {},
   "outputs": [
    {
     "name": "stdout",
     "output_type": "stream",
     "text": [
      "반환 값: 80\n"
     ]
    }
   ],
   "source": [
    "# 연습 문제\n",
    "\n",
    "def plus_ten(n) :\n",
    "    return n+10\n",
    "\n",
    "print(\"반환 값:\", plus_ten(70))"
   ]
  }
 ],
 "metadata": {
  "kernelspec": {
   "display_name": "Python 3 (ipykernel)",
   "language": "python",
   "name": "python3"
  },
  "language_info": {
   "codemirror_mode": {
    "name": "ipython",
    "version": 3
   },
   "file_extension": ".py",
   "mimetype": "text/x-python",
   "name": "python",
   "nbconvert_exporter": "python",
   "pygments_lexer": "ipython3",
   "version": "3.9.13"
  }
 },
 "nbformat": 4,
 "nbformat_minor": 5
}
