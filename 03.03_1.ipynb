{
 "cells": [
  {
   "cell_type": "code",
   "execution_count": 8,
   "id": "fa0def8f-2221-41f1-9583-c6462f3c0039",
   "metadata": {},
   "outputs": [
    {
     "data": {
      "text/plain": [
       "3.42"
      ]
     },
     "execution_count": 8,
     "metadata": {},
     "output_type": "execute_result"
    }
   ],
   "source": [
    "# 연습 문제 1\n",
    "\n",
    "import numpy as np\n",
    "\n",
    "np.random.seed(0)  # seed 0 설정\n",
    "\n",
    "rolls = np.random.randint(1, 7, size=100)  # 주사위를 100번 던진 결과 생성\n",
    "\n",
    "rolls_mean = np.mean(rolls) # 주사위를 100번 던져서 나온 숫자들의 평균 계산\n",
    "\n",
    "rolls_mean"
   ]
  },
  {
   "cell_type": "code",
   "execution_count": 16,
   "id": "6184f88c-50dd-4f00-969e-d31f4f3f4d94",
   "metadata": {},
   "outputs": [
    {
     "data": {
      "text/plain": [
       "array([[ 8, 10, 12],\n",
       "       [14, 16, 18]])"
      ]
     },
     "execution_count": 16,
     "metadata": {},
     "output_type": "execute_result"
    }
   ],
   "source": [
    "# 연습 문제 2\n",
    "\n",
    "a1 = np.array([[1, 2, 3], [4, 5, 6]])\n",
    "a2 = np.array([[7, 8, 9], [10, 11, 12]])\n",
    "\n",
    "b = a1 + a2\n",
    "\n",
    "b"
   ]
  },
  {
   "cell_type": "code",
   "execution_count": 21,
   "id": "0fa6be91-1c16-455c-bfe5-d196271729a1",
   "metadata": {},
   "outputs": [
    {
     "data": {
      "text/plain": [
       "array([ 3,  6,  9, 12, 15, 18, 21, 24, 27])"
      ]
     },
     "execution_count": 21,
     "metadata": {},
     "output_type": "execute_result"
    }
   ],
   "source": [
    "# 연습 문제 3\n",
    "\n",
    "# 1부터 9까지의 정수 값을 갖는 1차원 ndarray 생성\n",
    "a = np.arange(1,10)\n",
    "\n",
    "# 3부터 27까지의 3의 배수를 갖는 ndarray 출력\n",
    "b = a * 3\n",
    "\n",
    "b"
   ]
  },
  {
   "cell_type": "code",
   "execution_count": 22,
   "id": "473ecf2e-6e09-47e3-8f80-33d3c27d00fc",
   "metadata": {},
   "outputs": [
    {
     "data": {
      "text/plain": [
       "array([0., 0., 0., 0., 1., 0., 0., 0., 0., 0.])"
      ]
     },
     "execution_count": 22,
     "metadata": {},
     "output_type": "execute_result"
    }
   ],
   "source": [
    "# 연습 문제 4\n",
    "\n",
    "a = np.zeros(10)\n",
    "a[4] = 1\n",
    "a"
   ]
  },
  {
   "cell_type": "code",
   "execution_count": 36,
   "id": "7d5127df-b63c-47e3-8626-d3d6f28a422e",
   "metadata": {},
   "outputs": [
    {
     "data": {
      "text/plain": [
       "array([49, 48, 47, 46, 45, 44, 43, 42, 41, 40, 39, 38, 37, 36, 35, 34, 33,\n",
       "       32, 31, 30, 29, 28, 27, 26, 25, 24, 23, 22, 21, 20, 19, 18, 17, 16,\n",
       "       15, 14, 13, 12, 11, 10,  9,  8,  7,  6,  5,  4,  3,  2,  1,  0])"
      ]
     },
     "execution_count": 36,
     "metadata": {},
     "output_type": "execute_result"
    }
   ],
   "source": [
    "# 연습 문제 5\n",
    "\n",
    "a = np.arange(50)\n",
    "\n",
    "a[::-1]"
   ]
  },
  {
   "cell_type": "code",
   "execution_count": 39,
   "id": "f6daf8f0-8269-402e-bd9c-88120ac56bf5",
   "metadata": {},
   "outputs": [
    {
     "data": {
      "text/plain": [
       "array([[['', '', ''],\n",
       "        ['', '', ''],\n",
       "        ['', '', '']],\n",
       "\n",
       "       [['', '', ''],\n",
       "        ['', '', ''],\n",
       "        ['', '', '']],\n",
       "\n",
       "       [['', '', ''],\n",
       "        ['', '', ''],\n",
       "        ['', '', '']]], dtype='<U10')"
      ]
     },
     "execution_count": 39,
     "metadata": {},
     "output_type": "execute_result"
    }
   ],
   "source": [
    "# 연습 문제 6\n",
    "\n",
    "a = np.empty((3,3,3) , dtype = '<U10') # 3x3x3 배열을 갖고, 최대 10글자 출력\n",
    "\n",
    "a"
   ]
  },
  {
   "cell_type": "code",
   "execution_count": 44,
   "id": "7d95773f-9c23-4c75-bd5b-1fe9c7d85737",
   "metadata": {},
   "outputs": [
    {
     "data": {
      "text/plain": [
       "array([[['', '', ''],\n",
       "        ['', '', ''],\n",
       "        ['', '', '']],\n",
       "\n",
       "       [['', '', ''],\n",
       "        ['', '', ''],\n",
       "        ['', '', '']],\n",
       "\n",
       "       [['', '', ''],\n",
       "        ['', '', ''],\n",
       "        ['', '', '']]], dtype='<U10')"
      ]
     },
     "execution_count": 44,
     "metadata": {},
     "output_type": "execute_result"
    }
   ],
   "source": [
    "# 연습 문제 6 해설\n",
    "\n",
    "a = np.zeros((3,3,3) , dtype = '<U10')\n",
    "\n",
    "a"
   ]
  },
  {
   "cell_type": "code",
   "execution_count": 45,
   "id": "ba3e5b71-b038-4b25-819a-d629cb2fed8d",
   "metadata": {},
   "outputs": [
    {
     "data": {
      "text/plain": [
       "array([[['playdata', 'playdata', 'playdata'],\n",
       "        ['playdata', 'playdata', 'playdata'],\n",
       "        ['playdata', 'playdata', 'playdata']],\n",
       "\n",
       "       [['playdata', 'playdata', 'playdata'],\n",
       "        ['playdata', 'playdata', 'playdata'],\n",
       "        ['playdata', 'playdata', 'playdata']],\n",
       "\n",
       "       [['playdata', 'playdata', 'playdata'],\n",
       "        ['playdata', 'playdata', 'playdata'],\n",
       "        ['playdata', 'playdata', 'playdata']]], dtype='<U10')"
      ]
     },
     "execution_count": 45,
     "metadata": {},
     "output_type": "execute_result"
    }
   ],
   "source": [
    "# 연습 문제 7\n",
    "\n",
    "a = np.full((3, 3, 3), \"playdata\", dtype = '<U10')\n",
    "\n",
    "a"
   ]
  },
  {
   "cell_type": "code",
   "execution_count": 55,
   "id": "3f370f86-27db-45ae-95c7-bcc9f72d5c31",
   "metadata": {},
   "outputs": [
    {
     "data": {
      "text/plain": [
       "array([[[ 2,  4,  6,  8, 10],\n",
       "        [12, 14, 16, 18, 20]],\n",
       "\n",
       "       [[22, 24, 26, 28, 30],\n",
       "        [32, 34, 36, 38, 40]]])"
      ]
     },
     "execution_count": 55,
     "metadata": {},
     "output_type": "execute_result"
    }
   ],
   "source": [
    "# 연습 문제 8\n",
    "\n",
    "# 1부터 40까지의 짝수를갖는 1차원 ndarray 생성 후 (2, 2, 5)으로 shape변경\n",
    "a = np.arange(2, 41, 2).reshape(2, 2, 5) \n",
    "a"
   ]
  },
  {
   "cell_type": "code",
   "execution_count": 57,
   "id": "4c186b21-9cee-4c8f-be0f-0827e05e79d8",
   "metadata": {},
   "outputs": [],
   "source": [
    "# 단위 행렬 만들기\n",
    "# 정사각\n",
    "# 기본 타입 float\n",
    "# dtype 인수를 이용해 타입 변경 가능\n"
   ]
  },
  {
   "cell_type": "code",
   "execution_count": 56,
   "id": "0418bbaf-48f9-4ac8-9c7a-4cc7717b3a16",
   "metadata": {},
   "outputs": [
    {
     "data": {
      "text/plain": [
       "array([[1, 0, 0, 0],\n",
       "       [0, 1, 0, 0],\n",
       "       [0, 0, 1, 0],\n",
       "       [0, 0, 0, 1]])"
      ]
     },
     "execution_count": 56,
     "metadata": {},
     "output_type": "execute_result"
    }
   ],
   "source": [
    "# 단위 행렬 만들기\n",
    "\n",
    "# 연습 문제 9\n",
    "\n",
    "\n",
    "matrix = np.eye(4, dtype = int) # 4X4 크기의 정수 타입 단위 행렬 생성\n",
    "matrix\n",
    "\n",
    "\n",
    "# matrix = np.identity(4, dtype=int) # 4X4 크기의 정수 타입 단위 행렬 생성\n",
    "# matrix"
   ]
  },
  {
   "cell_type": "code",
   "execution_count": null,
   "id": "e1e51c6b-be1e-43d8-a0c2-302b8f45e0e1",
   "metadata": {},
   "outputs": [],
   "source": [
    "# 넘파이 배열 데이터 타입 변경하기\n",
    "# astype() 메서드 사용\n",
    "\n",
    "ndarray.astype(dtype, order~~~~~\n"
   ]
  },
  {
   "cell_type": "code",
   "execution_count": 60,
   "id": "55f6af21-6aaf-445e-a00f-c18b11ed21f9",
   "metadata": {},
   "outputs": [
    {
     "data": {
      "text/plain": [
       "array([[[1., 1.],\n",
       "        [1., 1.],\n",
       "        [1., 1.]],\n",
       "\n",
       "       [[1., 1.],\n",
       "        [1., 1.],\n",
       "        [1., 1.]]])"
      ]
     },
     "execution_count": 60,
     "metadata": {},
     "output_type": "execute_result"
    }
   ],
   "source": [
    "a = np.ones((2, 3, 2))\n",
    "a"
   ]
  },
  {
   "cell_type": "code",
   "execution_count": 63,
   "id": "958add7a-77b9-46cb-9488-f869c7456197",
   "metadata": {},
   "outputs": [
    {
     "data": {
      "text/plain": [
       "array([[[1, 1],\n",
       "        [1, 1],\n",
       "        [1, 1]],\n",
       "\n",
       "       [[1, 1],\n",
       "        [1, 1],\n",
       "        [1, 1]]], dtype=int32)"
      ]
     },
     "execution_count": 63,
     "metadata": {},
     "output_type": "execute_result"
    }
   ],
   "source": [
    "a.astype(\"i\")"
   ]
  },
  {
   "cell_type": "code",
   "execution_count": 68,
   "id": "fa8b02ba-c545-42f2-8f83-8988b19821ac",
   "metadata": {},
   "outputs": [
    {
     "data": {
      "text/plain": [
       "array([[False,  True,  True],\n",
       "       [False,  True,  True],\n",
       "       [ True,  True,  True]])"
      ]
     },
     "execution_count": 68,
     "metadata": {},
     "output_type": "execute_result"
    }
   ],
   "source": [
    "# 넘파이 배열 데이터 타입 변경하기\n",
    "\n",
    "# 연습 문제 10\n",
    "\n",
    "np.random.seed(0) # seed 0으로 설정\n",
    "\n",
    "\n",
    "# 0과 1을 랜덤하게 9개 갖는 1차원 ndarray 생성\n",
    "a = np.random.randint(0, 2, 9)\n",
    "\n",
    "\n",
    "# 데이터 타입을 bool로 변경하고 모양을 (3,3)으로 변경\n",
    "a.astype(\"bool\").reshape(3, 3)\n",
    "\n"
   ]
  },
  {
   "cell_type": "code",
   "execution_count": 74,
   "id": "785b0f92-ceb5-4af8-923f-f8da5ebe39a9",
   "metadata": {},
   "outputs": [
    {
     "data": {
      "text/plain": [
       "array([5, 7, 6, 5, 4, 6, 4, 8, 9, 3])"
      ]
     },
     "execution_count": 74,
     "metadata": {},
     "output_type": "execute_result"
    }
   ],
   "source": [
    "# 연습 문제 11\n",
    "\n",
    "np.random.seed(0)  # seed 0으로 설정\n",
    "\n",
    "a = np.random.rand(10) # 0과 1사이의 실수 10개를 갖는 1차원 ndarray 생성\n",
    "\n",
    "b = (a * 10).astype(int) # 요소에 각 10을 곱하고 데이터타입 int로 변경\n",
    "\n",
    "b"
   ]
  },
  {
   "cell_type": "code",
   "execution_count": 88,
   "id": "16e95132-aa12-47c0-a389-e35fb1ca3d93",
   "metadata": {},
   "outputs": [
    {
     "data": {
      "text/plain": [
       "array([[1., 1., 1., 1., 1., 1., 1., 1., 1., 1.],\n",
       "       [1., 0., 0., 0., 0., 0., 0., 0., 0., 1.],\n",
       "       [1., 0., 0., 0., 0., 0., 0., 0., 0., 1.],\n",
       "       [1., 0., 0., 0., 0., 0., 0., 0., 0., 1.],\n",
       "       [1., 0., 0., 0., 0., 0., 0., 0., 0., 1.],\n",
       "       [1., 0., 0., 0., 0., 0., 0., 0., 0., 1.],\n",
       "       [1., 0., 0., 0., 0., 0., 0., 0., 0., 1.],\n",
       "       [1., 0., 0., 0., 0., 0., 0., 0., 0., 1.],\n",
       "       [1., 0., 0., 0., 0., 0., 0., 0., 0., 1.],\n",
       "       [1., 1., 1., 1., 1., 1., 1., 1., 1., 1.]])"
      ]
     },
     "execution_count": 88,
     "metadata": {},
     "output_type": "execute_result"
    }
   ],
   "source": [
    "# 연습 문제 12\n",
    "\n",
    "a = np.ones((10, 10))   # 10 x 10 행렬생성\n",
    "\n",
    "a[1:-1, 1:-1] = 0   # 슬라이싱을 사용해 테두리를 제외한 안쪽 값을 0으로 변경\n",
    "\n",
    "a"
   ]
  },
  {
   "cell_type": "code",
   "execution_count": 103,
   "id": "a135fc3e-a5b4-4eb5-b395-0ab919017524",
   "metadata": {},
   "outputs": [
    {
     "data": {
      "text/plain": [
       "array([[1., 1., 1., 1., 1., 1., 1., 1., 1., 1.],\n",
       "       [1., 0., 0., 0., 0., 0., 0., 0., 0., 1.],\n",
       "       [1., 0., 0., 0., 0., 0., 0., 0., 0., 1.],\n",
       "       [1., 0., 0., 0., 0., 0., 0., 0., 0., 1.],\n",
       "       [1., 0., 0., 0., 0., 0., 0., 0., 0., 1.],\n",
       "       [1., 0., 0., 0., 0., 0., 0., 0., 0., 1.],\n",
       "       [1., 0., 0., 0., 0., 0., 0., 0., 0., 1.],\n",
       "       [1., 0., 0., 0., 0., 0., 0., 0., 0., 1.],\n",
       "       [1., 0., 0., 0., 0., 0., 0., 0., 0., 1.],\n",
       "       [1., 1., 1., 1., 1., 1., 1., 1., 1., 1.]])"
      ]
     },
     "execution_count": 103,
     "metadata": {},
     "output_type": "execute_result"
    }
   ],
   "source": [
    "a = np.ones((10, 10)) \n",
    "a[1:9, 1:9] = 0\n",
    "a"
   ]
  },
  {
   "cell_type": "code",
   "execution_count": 105,
   "id": "c3fdaac3-d3df-44c4-abd7-e15bd4c7a966",
   "metadata": {},
   "outputs": [
    {
     "data": {
      "text/plain": [
       "array([[0., 0., 0., 0., 0., 0., 0., 0., 0., 0.],\n",
       "       [0., 1., 1., 1., 1., 1., 1., 1., 1., 0.],\n",
       "       [0., 1., 1., 1., 1., 1., 1., 1., 1., 0.],\n",
       "       [0., 1., 1., 1., 1., 1., 1., 1., 1., 0.],\n",
       "       [0., 1., 1., 1., 1., 1., 1., 1., 1., 0.],\n",
       "       [0., 1., 1., 1., 1., 1., 1., 1., 1., 0.],\n",
       "       [0., 1., 1., 1., 1., 1., 1., 1., 1., 0.],\n",
       "       [0., 1., 1., 1., 1., 1., 1., 1., 1., 0.],\n",
       "       [0., 1., 1., 1., 1., 1., 1., 1., 1., 0.],\n",
       "       [0., 0., 0., 0., 0., 0., 0., 0., 0., 0.]])"
      ]
     },
     "execution_count": 105,
     "metadata": {},
     "output_type": "execute_result"
    }
   ],
   "source": [
    "# 연습 문제 13\n",
    "\n",
    "a = np.zeros((10, 10))   \n",
    "\n",
    "a[1:-1, 1:-1] = 1   \n",
    "\n",
    "a"
   ]
  },
  {
   "cell_type": "code",
   "execution_count": 128,
   "id": "f595ef0e-f45a-4b30-ac3d-4ac67837fa68",
   "metadata": {},
   "outputs": [
    {
     "data": {
      "text/plain": [
       "array([[0., 0., 0., 0., 0., 0., 0., 0., 0., 0.],\n",
       "       [0., 1., 1., 1., 1., 1., 1., 1., 1., 0.],\n",
       "       [0., 1., 1., 1., 1., 1., 1., 1., 1., 0.],\n",
       "       [0., 1., 1., 1., 1., 1., 1., 1., 1., 0.],\n",
       "       [0., 1., 1., 1., 1., 1., 1., 1., 1., 0.],\n",
       "       [0., 1., 1., 1., 1., 1., 1., 1., 1., 0.],\n",
       "       [0., 1., 1., 1., 1., 1., 1., 1., 1., 0.],\n",
       "       [0., 1., 1., 1., 1., 1., 1., 1., 1., 0.],\n",
       "       [0., 1., 1., 1., 1., 1., 1., 1., 1., 0.],\n",
       "       [0., 0., 0., 0., 0., 0., 0., 0., 0., 0.]])"
      ]
     },
     "execution_count": 128,
     "metadata": {},
     "output_type": "execute_result"
    }
   ],
   "source": [
    "# 연습 문제 13\n",
    "\n",
    "a = np.ones((10, 10)) \n",
    "\n",
    "a[0,:] = 0    # 첫 번째 행을 0으로 할당\n",
    "a[-1:] = 0    # 마지막 행을 0으로 할당\n",
    "a[:,0] = 0    # 첫 번째 열을 0으로 할당\n",
    "a[:,-1] = 0   # 마지막 열을 0으로 할당\n",
    "\n",
    "a"
   ]
  },
  {
   "cell_type": "code",
   "execution_count": 129,
   "id": "ff9d5f0a-1895-43a0-9641-6190709cbe9e",
   "metadata": {},
   "outputs": [
    {
     "name": "stdout",
     "output_type": "stream",
     "text": [
      "[[0. 0. 0. 0. 0. 0. 0. 0. 0. 0.]\n",
      " [0. 1. 1. 1. 1. 1. 1. 1. 1. 0.]\n",
      " [0. 1. 1. 1. 1. 1. 1. 1. 1. 0.]\n",
      " [0. 1. 1. 1. 1. 1. 1. 1. 1. 0.]\n",
      " [0. 1. 1. 1. 1. 1. 1. 1. 1. 0.]\n",
      " [0. 1. 1. 1. 1. 1. 1. 1. 1. 0.]\n",
      " [0. 1. 1. 1. 1. 1. 1. 1. 1. 0.]\n",
      " [0. 1. 1. 1. 1. 1. 1. 1. 1. 0.]\n",
      " [0. 1. 1. 1. 1. 1. 1. 1. 1. 0.]\n",
      " [0. 0. 0. 0. 0. 0. 0. 0. 0. 0.]]\n"
     ]
    }
   ],
   "source": [
    "# 연습 문제 13 강사님 풀이\n",
    "\n",
    "a = np.ones((10, 10)) \n",
    "\n",
    "a[ : , [0,-1]] = 0\n",
    "\n",
    "a[[0,-1] , : ] = 0\n",
    "\n",
    "print(a)"
   ]
  },
  {
   "cell_type": "code",
   "execution_count": 175,
   "id": "e14cfc65-cdb8-4db5-919f-4104a6c71b97",
   "metadata": {},
   "outputs": [
    {
     "name": "stdout",
     "output_type": "stream",
     "text": [
      "[[1. 0. 1. 0. 1. 0. 1. 0.]\n",
      " [0. 1. 0. 1. 0. 1. 0. 1.]\n",
      " [1. 0. 1. 0. 1. 0. 1. 0.]\n",
      " [0. 1. 0. 1. 0. 1. 0. 1.]\n",
      " [1. 0. 1. 0. 1. 0. 1. 0.]\n",
      " [0. 1. 0. 1. 0. 1. 0. 1.]\n",
      " [1. 0. 1. 0. 1. 0. 1. 0.]\n",
      " [0. 1. 0. 1. 0. 1. 0. 1.]]\n"
     ]
    }
   ],
   "source": [
    "# 연습 문제 14\n",
    "\n",
    "a = np.ones((8,8))\n",
    "\n",
    "a[::2, 1::2] = 0  # 홀수 행의 짝수 열 요소를 0으로 변경\n",
    "a[1::2, ::2] = 0  # 짝수 행의 홀수 열 요소를 0으로 변경\n",
    "\n",
    "print(a)"
   ]
  },
  {
   "cell_type": "code",
   "execution_count": 176,
   "id": "7db4ded9-01c0-488c-8ba2-3d5446f74005",
   "metadata": {},
   "outputs": [
    {
     "name": "stdout",
     "output_type": "stream",
     "text": [
      "[[1. 0. 1. 0. 1. 0. 1. 0.]\n",
      " [0. 1. 0. 1. 0. 1. 0. 1.]\n",
      " [1. 0. 1. 0. 1. 0. 1. 0.]\n",
      " [0. 1. 0. 1. 0. 1. 0. 1.]\n",
      " [1. 0. 1. 0. 1. 0. 1. 0.]\n",
      " [0. 1. 0. 1. 0. 1. 0. 1.]\n",
      " [1. 0. 1. 0. 1. 0. 1. 0.]\n",
      " [0. 1. 0. 1. 0. 1. 0. 1.]]\n"
     ]
    }
   ],
   "source": [
    "# 연습 문제 14 강사님 풀이\n",
    "\n",
    "a = np.ones((8,8))\n",
    "\n",
    "a[1::2, ::2] = 0  # 짝수 행의 홀수 열 요소를 0으로 변경\n",
    "a[::2, 1::2] = 0  # 홀수 행의 짝수 열 요소를 0으로 변경\n",
    "\n",
    "print(a)"
   ]
  },
  {
   "cell_type": "code",
   "execution_count": 177,
   "id": "7f20a343-e6c5-4a61-a76e-82ddf265028b",
   "metadata": {},
   "outputs": [
    {
     "name": "stdout",
     "output_type": "stream",
     "text": [
      "[[0. 1. 0. 1. 0. 1. 0. 1.]\n",
      " [1. 0. 1. 0. 1. 0. 1. 0.]\n",
      " [0. 1. 0. 1. 0. 1. 0. 1.]\n",
      " [1. 0. 1. 0. 1. 0. 1. 0.]\n",
      " [0. 1. 0. 1. 0. 1. 0. 1.]\n",
      " [1. 0. 1. 0. 1. 0. 1. 0.]\n",
      " [0. 1. 0. 1. 0. 1. 0. 1.]\n",
      " [1. 0. 1. 0. 1. 0. 1. 0.]]\n"
     ]
    }
   ],
   "source": [
    "# 연습 문제 14 이건 반대네\n",
    "\n",
    "# 0로 채워진 8x8 배열 생성\n",
    "a = np.ones((8, 8))\n",
    "\n",
    "# 짝수 번째 행과 열의 요소를 1으로 변경\n",
    "a[::2, ::2] = 0  # 첫 번째 행, 세 번째 행, ...의 첫 번째 열, 세 번째 열, ... \n",
    "a[1::2, 1::2] = 0  # 두 번째 행, 네 번째 행, ...의 두 번째 열, 네 번째 열, ...\n",
    "\n",
    "# 배열 출력\n",
    "print(a)"
   ]
  },
  {
   "cell_type": "code",
   "execution_count": 185,
   "id": "83af814d-f3ea-4424-ad2c-ae2349298565",
   "metadata": {},
   "outputs": [
    {
     "ename": "TypeError",
     "evalue": "only integer scalar arrays can be converted to a scalar index",
     "output_type": "error",
     "traceback": [
      "\u001b[1;31m---------------------------------------------------------------------------\u001b[0m",
      "\u001b[1;31mTypeError\u001b[0m                                 Traceback (most recent call last)",
      "\u001b[1;32m~\\AppData\\Local\\Temp\\ipykernel_25688\\2798181055.py\u001b[0m in \u001b[0;36m<module>\u001b[1;34m\u001b[0m\n\u001b[0;32m      3\u001b[0m \u001b[0ma\u001b[0m \u001b[1;33m=\u001b[0m \u001b[0mnp\u001b[0m\u001b[1;33m.\u001b[0m\u001b[0marray\u001b[0m\u001b[1;33m(\u001b[0m\u001b[1;33m[\u001b[0m\u001b[1;33m[\u001b[0m\u001b[1;36m1\u001b[0m\u001b[1;33m,\u001b[0m \u001b[1;36m0\u001b[0m\u001b[1;33m]\u001b[0m\u001b[1;33m,\u001b[0m \u001b[1;33m[\u001b[0m\u001b[1;36m0\u001b[0m\u001b[1;33m,\u001b[0m \u001b[1;36m1\u001b[0m\u001b[1;33m]\u001b[0m\u001b[1;33m]\u001b[0m\u001b[1;33m)\u001b[0m\u001b[1;33m\u001b[0m\u001b[1;33m\u001b[0m\u001b[0m\n\u001b[0;32m      4\u001b[0m \u001b[1;33m\u001b[0m\u001b[0m\n\u001b[1;32m----> 5\u001b[1;33m \u001b[0mb\u001b[0m \u001b[1;33m=\u001b[0m \u001b[0mnp\u001b[0m\u001b[1;33m.\u001b[0m\u001b[0meye\u001b[0m\u001b[1;33m(\u001b[0m\u001b[0ma\u001b[0m\u001b[1;33m*\u001b[0m\u001b[1;36m4\u001b[0m\u001b[1;33m,\u001b[0m \u001b[0mdtype\u001b[0m \u001b[1;33m=\u001b[0m \u001b[0mint\u001b[0m \u001b[1;33m)\u001b[0m\u001b[1;33m\u001b[0m\u001b[1;33m\u001b[0m\u001b[0m\n\u001b[0m\u001b[0;32m      6\u001b[0m \u001b[1;33m\u001b[0m\u001b[0m\n\u001b[0;32m      7\u001b[0m \u001b[0ma\u001b[0m\u001b[1;33m\u001b[0m\u001b[1;33m\u001b[0m\u001b[0m\n",
      "\u001b[1;32m~\\anaconda3\\lib\\site-packages\\numpy\\lib\\twodim_base.py\u001b[0m in \u001b[0;36meye\u001b[1;34m(N, M, k, dtype, order, like)\u001b[0m\n\u001b[0;32m    212\u001b[0m     \u001b[1;32mif\u001b[0m \u001b[0mM\u001b[0m \u001b[1;32mis\u001b[0m \u001b[1;32mNone\u001b[0m\u001b[1;33m:\u001b[0m\u001b[1;33m\u001b[0m\u001b[1;33m\u001b[0m\u001b[0m\n\u001b[0;32m    213\u001b[0m         \u001b[0mM\u001b[0m \u001b[1;33m=\u001b[0m \u001b[0mN\u001b[0m\u001b[1;33m\u001b[0m\u001b[1;33m\u001b[0m\u001b[0m\n\u001b[1;32m--> 214\u001b[1;33m     \u001b[0mm\u001b[0m \u001b[1;33m=\u001b[0m \u001b[0mzeros\u001b[0m\u001b[1;33m(\u001b[0m\u001b[1;33m(\u001b[0m\u001b[0mN\u001b[0m\u001b[1;33m,\u001b[0m \u001b[0mM\u001b[0m\u001b[1;33m)\u001b[0m\u001b[1;33m,\u001b[0m \u001b[0mdtype\u001b[0m\u001b[1;33m=\u001b[0m\u001b[0mdtype\u001b[0m\u001b[1;33m,\u001b[0m \u001b[0morder\u001b[0m\u001b[1;33m=\u001b[0m\u001b[0morder\u001b[0m\u001b[1;33m)\u001b[0m\u001b[1;33m\u001b[0m\u001b[1;33m\u001b[0m\u001b[0m\n\u001b[0m\u001b[0;32m    215\u001b[0m     \u001b[1;32mif\u001b[0m \u001b[0mk\u001b[0m \u001b[1;33m>=\u001b[0m \u001b[0mM\u001b[0m\u001b[1;33m:\u001b[0m\u001b[1;33m\u001b[0m\u001b[1;33m\u001b[0m\u001b[0m\n\u001b[0;32m    216\u001b[0m         \u001b[1;32mreturn\u001b[0m \u001b[0mm\u001b[0m\u001b[1;33m\u001b[0m\u001b[1;33m\u001b[0m\u001b[0m\n",
      "\u001b[1;31mTypeError\u001b[0m: only integer scalar arrays can be converted to a scalar index"
     ]
    }
   ],
   "source": [
    "# 연습 문제 15\n",
    "\n",
    "a = np.array([[1, 0], [0, 1]])\n",
    "\n",
    "b = np.eye(, dtype = int )\n",
    "\n"
   ]
  },
  {
   "cell_type": "code",
   "execution_count": 190,
   "id": "aca9591d-0457-4b32-9232-dee96a094ee0",
   "metadata": {},
   "outputs": [
    {
     "data": {
      "text/plain": [
       "array([[1., 0., 1., 0., 1., 0., 1., 0.],\n",
       "       [0., 1., 0., 1., 0., 1., 0., 1.],\n",
       "       [1., 0., 1., 0., 1., 0., 1., 0.],\n",
       "       [0., 1., 0., 1., 0., 1., 0., 1.],\n",
       "       [1., 0., 1., 0., 1., 0., 1., 0.],\n",
       "       [0., 1., 0., 1., 0., 1., 0., 1.],\n",
       "       [1., 0., 1., 0., 1., 0., 1., 0.],\n",
       "       [0., 1., 0., 1., 0., 1., 0., 1.]])"
      ]
     },
     "execution_count": 190,
     "metadata": {},
     "output_type": "execute_result"
    }
   ],
   "source": [
    "np.tile(np.eye(2), (4, 4))"
   ]
  },
  {
   "cell_type": "code",
   "execution_count": 191,
   "id": "319006ca-6765-4b9d-a68b-6360574ccbae",
   "metadata": {},
   "outputs": [
    {
     "name": "stdout",
     "output_type": "stream",
     "text": [
      "[1 2 3 4]\n"
     ]
    }
   ],
   "source": [
    "# boolean indexing\n",
    "\n",
    "a = np.arange(1, 5)\n",
    "print(a)"
   ]
  },
  {
   "cell_type": "code",
   "execution_count": 193,
   "id": "2ee78243-d785-4ba7-8a21-b399d97e85d9",
   "metadata": {},
   "outputs": [
    {
     "name": "stdout",
     "output_type": "stream",
     "text": [
      "[False  True False  True]\n"
     ]
    }
   ],
   "source": [
    "even = np.array([True if i%2 == 0 else False for i in range(1, 5)])\n",
    "print(even)"
   ]
  },
  {
   "cell_type": "code",
   "execution_count": 194,
   "id": "4f220e90-1ef8-4277-b3aa-4e879313b4d4",
   "metadata": {},
   "outputs": [
    {
     "data": {
      "text/plain": [
       "array([2, 4])"
      ]
     },
     "execution_count": 194,
     "metadata": {},
     "output_type": "execute_result"
    }
   ],
   "source": [
    "a[even]"
   ]
  },
  {
   "cell_type": "code",
   "execution_count": 202,
   "id": "0b49f93e-932b-4157-b10b-d8417b860134",
   "metadata": {},
   "outputs": [
    {
     "name": "stdout",
     "output_type": "stream",
     "text": [
      "[ 0  1  2  3 -4 -5 -6  7  8  9 10]\n"
     ]
    }
   ],
   "source": [
    "# 연습 문제\n",
    "\n",
    "a = np.arange(11)\n",
    "\n",
    "a[(a > 3) & ( a < 7 )] *= -1    # 3 초과 7 미만인 숫자를 음수로 변경\n",
    "\n",
    "print(a)"
   ]
  },
  {
   "cell_type": "code",
   "execution_count": 234,
   "id": "27163d16-b70a-4376-a877-5e162d6d19a8",
   "metadata": {},
   "outputs": [
    {
     "ename": "SyntaxError",
     "evalue": "invalid syntax (917391436.py, line 5)",
     "output_type": "error",
     "traceback": [
      "\u001b[1;36m  File \u001b[1;32m\"C:\\Users\\user\\AppData\\Local\\Temp\\ipykernel_25688\\917391436.py\"\u001b[1;36m, line \u001b[1;32m5\u001b[0m\n\u001b[1;33m    b = np.array([True if 3 < i < 7 *= -1 else False for i in range(11)])\u001b[0m\n\u001b[1;37m                                    ^\u001b[0m\n\u001b[1;31mSyntaxError\u001b[0m\u001b[1;31m:\u001b[0m invalid syntax\n"
     ]
    }
   ],
   "source": [
    "# True if 어케써\n",
    "\n",
    "a = np.arange(11)\n",
    "\n",
    "b = np.array([True if 3 < i < 7 *= -1 else False for i in range(11)])\n",
    "\n",
    "print(b)"
   ]
  },
  {
   "cell_type": "code",
   "execution_count": 9,
   "id": "49cb5bf8-e770-41f0-9ebc-2a25993ae5dc",
   "metadata": {},
   "outputs": [
    {
     "name": "stdout",
     "output_type": "stream",
     "text": [
      "1683\n"
     ]
    }
   ],
   "source": [
    "# 연습 문제 \n",
    "# 1부터 100까지의 3의 배수를 갖는 1차원 ndarray를 생성하고 그 전체의 합을 구하세요.\n",
    "\n",
    "a = np.arange(1, 101) # 1부터 100까지의 정수 생성\n",
    "\n",
    "\n",
    "b = a[a % 3 == 0] # 3의 배수만 선택\n",
    "\n",
    "sum = np.sum(b) # 전체 합\n",
    "\n",
    "print(sum)\n"
   ]
  },
  {
   "cell_type": "code",
   "execution_count": 287,
   "id": "e8829f21-161b-4286-b6ea-f63ade9cc767",
   "metadata": {},
   "outputs": [
    {
     "name": "stdout",
     "output_type": "stream",
     "text": [
      "[0.1 0.2 0.3 0.4 0.5 0.6 0.7 0.8 0.9]\n"
     ]
    }
   ],
   "source": [
    "# 연습 문제\n",
    "# linspace()를 활용하여 다음과 같은 1차원 ndarray를 만들어보세요\n",
    "\n",
    "a = np.linspace(0.1, 0.9, 9)\n",
    "\n",
    "print(a)"
   ]
  },
  {
   "cell_type": "code",
   "execution_count": null,
   "id": "8817e4fd-4b54-4cfb-be29-aa2322807b91",
   "metadata": {
    "tags": []
   },
   "outputs": [],
   "source": [
    "# 연습 문제\n",
    "\n",
    " #1~45 중 중복 없이 6개 숫자 추출\n",
    "    # 복원추출 replace = True, 비복원 추출 replace = False\n",
    "    \n",
    "while True:\n",
    "    try:\n",
    "        num = int(input(\"로또 번호를 몇 개 생성하시겠습니까? \"))\n",
    "        if num <= 0:\n",
    "            raise ValueError(\"자연수만 입력해주세요.\")\n",
    "        break\n",
    "    except ValueError as e:\n",
    "        print(e)\n",
    "\n",
    "\n",
    "for i in range(num):\n",
    "    lotto_numbers.append(np.sort(np.random.choice(range(1, 46), size=6, replace=False)))\n",
    "\n",
    "\n",
    "numbers"
   ]
  },
  {
   "cell_type": "code",
   "execution_count": 285,
   "id": "f6272f59-fcde-470d-a9b3-38eb0c4c090c",
   "metadata": {},
   "outputs": [
    {
     "name": "stdin",
     "output_type": "stream",
     "text": [
      "로또 번호를 몇 개 생성하시겠습니까?  5\n"
     ]
    },
    {
     "name": "stdout",
     "output_type": "stream",
     "text": [
      "로또 번호 생성 결과:\n",
      "1\n",
      "12\n",
      "18\n",
      "26\n",
      "28\n",
      "38\n"
     ]
    }
   ],
   "source": [
    "\n",
    "while True:\n",
    "    try:\n",
    "        num = int(input(\"로또 번호를 몇 개 생성하시겠습니까? \"))\n",
    "        if num <= 0:\n",
    "            raise ValueError(\"자연수만 입력해주세요.\")\n",
    "        break\n",
    "    except ValueError as e:\n",
    "        print(e)\n",
    "\n",
    "lotto_numbers = np.sort(np.random.choice(range(1, 46), size=6, replace=False))\n",
    "\n",
    "\n",
    "print(\"로또 번호 생성 결과:\")\n",
    "for numbers in lotto_numbers:\n",
    "    print(numbers)"
   ]
  },
  {
   "cell_type": "code",
   "execution_count": 289,
   "id": "689119b9-eb4c-479c-920d-2128ed9aa7ca",
   "metadata": {},
   "outputs": [
    {
     "name": "stdin",
     "output_type": "stream",
     "text": [
      "자연수를 입력해주세요. 5\n"
     ]
    },
    {
     "name": "stdout",
     "output_type": "stream",
     "text": [
      "[ 1  4  5 23 34 35]\n",
      "[16 26 34 37 44 45]\n",
      "[ 4  5  6  9 25 31]\n",
      "[ 2  6 11 12 17 19]\n",
      "[10 20 23 25 35 44]\n"
     ]
    }
   ],
   "source": [
    "# 기영님 풀이\n",
    "\n",
    "while True:\n",
    "    n = input(\"자연수를 입력해주세요.\")\n",
    "    try:\n",
    "        for i in range(int(n)):\n",
    "            k = np.array([np.random.choice(np.arange(46), replace=False) for _ in range(6)])\n",
    "            print(np.sort(k))\n",
    "        break;\n",
    "    except ValueError:\n",
    "        print(\"자연수를 입력해주세요.\")"
   ]
  },
  {
   "cell_type": "code",
   "execution_count": 274,
   "id": "412a5cc6-2d17-4b70-88da-b1424951dc08",
   "metadata": {},
   "outputs": [
    {
     "name": "stdout",
     "output_type": "stream",
     "text": [
      "로또 번호 생성 결과:\n",
      "[ 1  7 19 32 33 35]\n",
      "[ 8 13 28 32 35 36]\n",
      "[10 22 26 28 31 43]\n",
      "[ 4 21 22 35 39 40]\n",
      "[ 6 10 15 27 32 34]\n",
      "[ 8 10 13 21 30 31]\n"
     ]
    }
   ],
   "source": [
    "lotto_numbers = []\n",
    "for i in range(num):\n",
    "    lotto_numbers.append(np.sort(np.random.choice(range(1, 46), size=6, replace=False)))\n",
    "\n",
    "print(\"로또 번호 생성 결과:\")\n",
    "for numbers in lotto_numbers:\n",
    "    print(numbers)\n"
   ]
  },
  {
   "cell_type": "code",
   "execution_count": 280,
   "id": "a2e97840-2fdf-4fe1-ae69-fc6a196e1b34",
   "metadata": {},
   "outputs": [
    {
     "ename": "IndentationError",
     "evalue": "expected an indented block (4236348581.py, line 3)",
     "output_type": "error",
     "traceback": [
      "\u001b[1;36m  File \u001b[1;32m\"C:\\Users\\user\\AppData\\Local\\Temp\\ipykernel_25688\\4236348581.py\"\u001b[1;36m, line \u001b[1;32m3\u001b[0m\n\u001b[1;33m    lotto_num = [] # 로또 번호가 담길 리스트형 변수\u001b[0m\n\u001b[1;37m    ^\u001b[0m\n\u001b[1;31mIndentationError\u001b[0m\u001b[1;31m:\u001b[0m expected an indented block\n"
     ]
    }
   ],
   "source": [
    "def make_lotto(count):\n",
    "    for i in range(count):\n",
    "    lotto_num = [] # 로또 번호가 담길 리스트형 변수\n",
    "\n",
    "    for j in range(6): # 6번 반복\n",
    "        lotto_num = np.random.choice(range(1,46),6,replace=False)\n",
    "        \n",
    "    lotto_num.sort() # 값 정렬\n",
    "    print(\"{}. 로또번호: {}\".format(i+1, lotto_num))\n",
    "\n",
    "\n",
    "count = int(input(\"로또 번호를 몇개 생성할까요?> \"))\n",
    "make_lotto(count)"
   ]
  },
  {
   "cell_type": "code",
   "execution_count": 8,
   "id": "eca87529-b9c1-4bd9-8ece-17ffab3390b2",
   "metadata": {},
   "outputs": [
    {
     "name": "stdin",
     "output_type": "stream",
     "text": [
      "로또 번호를 몇 개 생성하시겠습니까?  6\n"
     ]
    },
    {
     "data": {
      "text/plain": [
       "[array([13, 17, 22, 34, 39, 43]),\n",
       " array([ 1, 16, 17, 20, 30, 44]),\n",
       " array([ 1,  4, 13, 22, 42, 44]),\n",
       " array([ 3,  5, 23, 27, 36, 37]),\n",
       " array([13, 25, 27, 34, 37, 41]),\n",
       " array([ 2, 12, 13, 22, 30, 39])]"
      ]
     },
     "metadata": {},
     "output_type": "display_data"
    }
   ],
   "source": [
    "# 강사님 풀이\n",
    "\n",
    "import numpy as np\n",
    "\n",
    "while True:\n",
    "    try:\n",
    "        count = int(input(\"로또 번호를 몇 개 생성하시겠습니까? \"))\n",
    "        if count <= 0:\n",
    "            raise Error\n",
    "        numbers = np.arange(1, 46)\n",
    "        lottos = [np.sort(np.random.choice(numbers, 6,replace=False)) for _ in range(count)]\n",
    "        display(lottos) # 예쁘게 보여주기위한거\n",
    "        break\n",
    "    except ValueError :\n",
    "        print(\"자연수만 입력해주세요.\")\n",
    "        \n",
    "        "
   ]
  },
  {
   "cell_type": "code",
   "execution_count": 13,
   "id": "8946c3ba-5d8c-4a75-b164-86c151519d23",
   "metadata": {},
   "outputs": [
    {
     "name": "stdout",
     "output_type": "stream",
     "text": [
      "8\n"
     ]
    }
   ],
   "source": [
    "# 연습 문제  \n",
    "# for 반복문 사용\n",
    "\n",
    "resp_time = np.array([158, 85, 205, 24, 42, 175, 188, 149, 153, 171, 137, 55, 108,\n",
    "                      199, 177, 209, 218, 76, 103, 189, 110, 192, 136, 119, 4, 102,\n",
    "                      177, 212, 110, 37, 163, 32, 77, 22, 125, 184, 46, 139, 72,\n",
    "                      168, 133, 209, 148, 47, 102, 65, 160, 56, 11, 96, 169, 118,\n",
    "                      55, 135, 217, 49, 100, 85, 179, 15, 139, 199, 124, 142, 15,\n",
    "                      49, 168, 171, 168, 177, 147, 23, 199, 26, 51, 42, 90, 128,\n",
    "                      186, 169, 129, 70, 198, 111, 81, 150, 17, 177, 201, 10, 75,\n",
    "                      199, 55, 151, 183, 152, 119, 193, 110, 204])\n",
    "\n",
    "count = 0\n",
    "for i in resp_time:\n",
    "    if i > 200:\n",
    "        count += 1\n",
    "\n",
    "print(count)\n"
   ]
  },
  {
   "cell_type": "code",
   "execution_count": 15,
   "id": "b2097c16-5e1e-49ee-850a-74604d555659",
   "metadata": {},
   "outputs": [
    {
     "data": {
      "text/plain": [
       "8"
      ]
     },
     "execution_count": 15,
     "metadata": {},
     "output_type": "execute_result"
    }
   ],
   "source": [
    "# 연습 문제  \n",
    "# len 함수 사용\n",
    "\n",
    "resp_time = np.array([158, 85, 205, 24, 42, 175, 188, 149, 153, 171, 137, 55, 108,\n",
    "                      199, 177, 209, 218, 76, 103, 189, 110, 192, 136, 119, 4, 102,\n",
    "                      177, 212, 110, 37, 163, 32, 77, 22, 125, 184, 46, 139, 72,\n",
    "                      168, 133, 209, 148, 47, 102, 65, 160, 56, 11, 96, 169, 118,\n",
    "                      55, 135, 217, 49, 100, 85, 179, 15, 139, 199, 124, 142, 15,\n",
    "                      49, 168, 171, 168, 177, 147, 23, 199, 26, 51, 42, 90, 128,\n",
    "                      186, 169, 129, 70, 198, 111, 81, 150, 17, 177, 201, 10, 75,\n",
    "                      199, 55, 151, 183, 152, 119, 193, 110, 204])\n",
    "\n",
    "len(resp_time[resp_time>200])\n",
    "\n"
   ]
  },
  {
   "cell_type": "code",
   "execution_count": 16,
   "id": "d499f03a-2404-4c92-b8c6-e8156f4f97eb",
   "metadata": {},
   "outputs": [
    {
     "data": {
      "text/plain": [
       "8"
      ]
     },
     "execution_count": 16,
     "metadata": {},
     "output_type": "execute_result"
    }
   ],
   "source": [
    "# 연습 문제 강사님 풀이\n",
    "\n",
    "resp_time = np.array([158, 85, 205, 24, 42, 175, 188, 149, 153, 171, 137, 55, 108,\n",
    "                      199, 177, 209, 218, 76, 103, 189, 110, 192, 136, 119, 4, 102,\n",
    "                      177, 212, 110, 37, 163, 32, 77, 22, 125, 184, 46, 139, 72,\n",
    "                      168, 133, 209, 148, 47, 102, 65, 160, 56, 11, 96, 169, 118,\n",
    "                      55, 135, 217, 49, 100, 85, 179, 15, 139, 199, 124, 142, 15,\n",
    "                      49, 168, 171, 168, 177, 147, 23, 199, 26, 51, 42, 90, 128,\n",
    "                      186, 169, 129, 70, 198, 111, 81, 150, 17, 177, 201, 10, 75,\n",
    "                      199, 55, 151, 183, 152, 119, 193, 110, 204])\n",
    "\n",
    "\n",
    "(resp_time > 200).sum()\n"
   ]
  },
  {
   "cell_type": "code",
   "execution_count": 20,
   "id": "41ab04c7-284b-4196-9047-22ffcb3a7c2d",
   "metadata": {},
   "outputs": [
    {
     "name": "stdout",
     "output_type": "stream",
     "text": [
      "a: 71.5\n",
      "b: 131.0\n",
      "c: 175.5\n"
     ]
    }
   ],
   "source": [
    "import numpy as np\n",
    "\n",
    "resp_time = np.array([158, 85, 205, 24, 42, 175, 188, 149, 153, 171, 137, 55, 108,\n",
    "                      199, 177, 209, 218, 76, 103, 189, 110, 192, 136, 119, 4, 102,\n",
    "                      177, 212, 110, 37, 163, 32, 77, 22, 125, 184, 46, 139, 72,\n",
    "                      168, 133, 209, 148, 47, 102, 65, 160, 56, 11, 96, 169, 118,\n",
    "                      55, 135, 217, 49, 100, 85, 179, 15, 139, 199, 124, 142, 15,\n",
    "                      49, 168, 171, 168, 177, 147, 23, 199, 26, 51, 42, 90, 128,\n",
    "                      186, 169, 129, 70, 198, 111, 81, 150, 17, 177, 201, 10, 75,\n",
    "                      199, 55, 151, 183, 152, 119, 193, 110, 204])\n",
    "\n",
    "s = np.sort(resp_time)  # 데이터를 오름차순으로 정렬\n",
    "a = np.percentile(sorted_resp_time, 25)  # 제1사분위수 계산\n",
    "b = np.percentile(sorted_resp_time, 50)   # 제2사분위수 계산\n",
    "c = np.percentile(sorted_resp_time, 75)  # 제3사분위수 계산\n",
    "\n",
    "print(\"a:\", a)\n",
    "print(\"b:\", b)\n",
    "print(\"c:\", c)\n"
   ]
  },
  {
   "cell_type": "code",
   "execution_count": 27,
   "id": "b529c132-89b5-4d52-822b-26df497a898c",
   "metadata": {},
   "outputs": [
    {
     "name": "stdout",
     "output_type": "stream",
     "text": [
      "뽀로로가 81표로 반장으로 선출되었습니다.\n"
     ]
    }
   ],
   "source": [
    "# 진명님코드\n",
    "p = [\"뽀로로\", \"루피\", \"크롱\"]\n",
    "result = np.array([2, 1, 2, 2, 2, 2, 0, 2, 1, 1, 0, 0, 2, 0, 0, 1, 1, 2, 2, 2, 1, 1,\n",
    "                   1, 2, 0, 2, 2, 0, 1, 1, 0, 2, 1, 0, 1, 2, 0, 0, 1, 0, 1, 1, 1, 2,\n",
    "                   1, 1, 1, 0, 0, 0, 0, 1, 0, 0, 2, 0, 2, 2, 0, 0, 1, 1, 1, 0, 0, 2,\n",
    "                   2, 1, 0, 1, 2, 0, 2, 0, 0, 0, 2, 0, 0, 0, 0, 0, 1, 2, 1, 1, 2, 0,\n",
    "                   2, 0, 0, 0, 0, 2, 1, 2, 0, 2, 0, 0, 1, 0, 1, 2, 1, 2, 0, 2, 2, 1,\n",
    "                   2, 0, 0, 1, 1, 0, 1, 2, 1, 2, 0, 2, 2, 2, 2, 0, 2, 2, 0, 2, 0, 2,\n",
    "                   1, 1, 2, 1, 1, 0, 0, 1, 0, 0, 0, 2, 2, 0, 2, 0, 0, 0, 2, 0, 0, 0,\n",
    "                   2, 0, 1, 2, 1, 0, 2, 0, 0, 1, 2, 1, 1, 2, 2, 0, 0, 0, 0, 2, 2, 1,\n",
    "                   0, 1, 1, 2, 2, 1, 0, 0, 2, 0, 0, 0, 2, 0, 2, 2, 0, 2, 1, 0, 0, 2,\n",
    "                   0, 1])\n",
    "\n",
    "a25 = len(result[np.where(result == 0)])\n",
    "a26 = len(result[np.where(result == 1)])\n",
    "a27 = len(result[np.where(result == 2)])\n",
    "\n",
    "a28 = np.array([a25, a26, a27])\n",
    "a29 = np.bincount(result)\n",
    "a30 = np.argmax(a28)\n",
    "\n",
    "\n",
    "\n",
    "print(f\"{p[a29.argmax()]}가 {a29.max()}표로 반장으로 선출되었습니다.\")"
   ]
  },
  {
   "cell_type": "code",
   "execution_count": 45,
   "id": "ef535ae4-11f0-4de9-8053-fb8393db2bcb",
   "metadata": {},
   "outputs": [
    {
     "name": "stdout",
     "output_type": "stream",
     "text": [
      "뽀로로가 81표로 반장으로 선출되었습니다.\n"
     ]
    }
   ],
   "source": [
    "p = [\"뽀로로\", \"루피\", \"크롱\"]\n",
    "result = np.array([2, 1, 2, 2, 2, 2, 0, 2, 1, 1, 0, 0, 2, 0, 0, 1, 1, 2, 2, 2, 1, 1,\n",
    "                   1, 2, 0, 2, 2, 0, 1, 1, 0, 2, 1, 0, 1, 2, 0, 0, 1, 0, 1, 1, 1, 2,\n",
    "                   1, 1, 1, 0, 0, 0, 0, 1, 0, 0, 2, 0, 2, 2, 0, 0, 1, 1, 1, 0, 0, 2,\n",
    "                   2, 1, 0, 1, 2, 0, 2, 0, 0, 0, 2, 0, 0, 0, 0, 0, 1, 2, 1, 1, 2, 0,\n",
    "                   2, 0, 0, 0, 0, 2, 1, 2, 0, 2, 0, 0, 1, 0, 1, 2, 1, 2, 0, 2, 2, 1,\n",
    "                   2, 0, 0, 1, 1, 0, 1, 2, 1, 2, 0, 2, 2, 2, 2, 0, 2, 2, 0, 2, 0, 2,\n",
    "                   1, 1, 2, 1, 1, 0, 0, 1, 0, 0, 0, 2, 2, 0, 2, 0, 0, 0, 2, 0, 0, 0,\n",
    "                   2, 0, 1, 2, 1, 0, 2, 0, 0, 1, 2, 1, 1, 2, 2, 0, 0, 0, 0, 2, 2, 1,\n",
    "                   0, 1, 1, 2, 2, 1, 0, 0, 2, 0, 0, 0, 2, 0, 2, 2, 0, 2, 1, 0, 0, 2,\n",
    "                   0, 1])\n",
    "\n",
    "a = np.bincount(result)\n",
    "b = a.argmax()\n",
    "\n",
    "print(f\"{p[b]}가 {a.max()}표로 반장으로 선출되었습니다.\")"
   ]
  },
  {
   "cell_type": "code",
   "execution_count": 47,
   "id": "361a4612-991b-440c-a248-8204ff99d85b",
   "metadata": {},
   "outputs": [
    {
     "name": "stdout",
     "output_type": "stream",
     "text": [
      "뽀로로가 81표로 반장으로 선출되었습니다.\n"
     ]
    }
   ],
   "source": [
    " # 강사님 풀이\n",
    "    \n",
    "count = np.bincount(result, minlength = 3)\n",
    "winner_index = count.argmax()\n",
    "print(f\"{p[winner_index]}가 {count[winner_index]}표로 반장으로 선출되었습니다.\")"
   ]
  },
  {
   "cell_type": "code",
   "execution_count": null,
   "id": "1c829dc0-a675-469f-b8cb-7bb8750906af",
   "metadata": {},
   "outputs": [],
   "source": [
    "vote_count = np.zeros(3)\n",
    "\n",
    "for i in result:\n",
    "    vote_count[i] += 1\n",
    "\n",
    "for i in range(len(p)):\n",
    "    print(f\"{p[i]} 후보가 {vote_count[i]}표를 \n"
   ]
  }
 ],
 "metadata": {
  "kernelspec": {
   "display_name": "Python 3 (ipykernel)",
   "language": "python",
   "name": "python3"
  },
  "language_info": {
   "codemirror_mode": {
    "name": "ipython",
    "version": 3
   },
   "file_extension": ".py",
   "mimetype": "text/x-python",
   "name": "python",
   "nbconvert_exporter": "python",
   "pygments_lexer": "ipython3",
   "version": "3.9.13"
  }
 },
 "nbformat": 4,
 "nbformat_minor": 5
}
