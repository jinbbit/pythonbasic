{
 "cells": [
  {
   "cell_type": "code",
   "execution_count": null,
   "id": "533cdc01-22a5-47e8-8465-ee65deb17cf2",
   "metadata": {},
   "outputs": [],
   "source": [
    "# print(\"Hello world\")를 1,000번 출력하기\n",
    "# for 문 맛보기"
   ]
  },
  {
   "cell_type": "code",
   "execution_count": 2,
   "id": "1be76dc1-67f2-4f74-bb3d-e8663fd34d5d",
   "metadata": {},
   "outputs": [],
   "source": [
    "# 슬라이싱 복습\n",
    "\n",
    "a = [0, 1, 2, 3, 4, 5, 6, 7]"
   ]
  },
  {
   "cell_type": "code",
   "execution_count": 3,
   "id": "12fb9f4a-bd68-4314-b470-04d7b13b7aff",
   "metadata": {},
   "outputs": [
    {
     "data": {
      "text/plain": [
       "[0, 2, 4]"
      ]
     },
     "execution_count": 3,
     "metadata": {},
     "output_type": "execute_result"
    }
   ],
   "source": [
    "a[0: 5: 2]"
   ]
  },
  {
   "cell_type": "code",
   "execution_count": 8,
   "id": "e2a9f533-b097-41ce-88a3-61921c9c5f60",
   "metadata": {},
   "outputs": [
    {
     "data": {
      "text/plain": [
       "range(0, 8)"
      ]
     },
     "execution_count": 8,
     "metadata": {},
     "output_type": "execute_result"
    }
   ],
   "source": [
    "# range는 함수니까 \n",
    "# 함수를 호출할 때 소괄호를 사용한다.\n",
    "# 인수(arguments)가 여럿일 때 콤마로 구분한다.\n",
    "# range(시작하는 숫자(포함), 끝숫자(미포함), 증감)\n",
    "# range는 규칙된 숫자를 만드는데 특화되어 있다.\n",
    "range(0, 8, 1) #0부터 8미만까지 1씩 증가한다.\n",
    "#range(8)도 똑같은 결과/ 증감=1도 생략가능"
   ]
  },
  {
   "cell_type": "code",
   "execution_count": 9,
   "id": "0498a063-53ad-498c-b7d8-d84a4193e021",
   "metadata": {},
   "outputs": [
    {
     "name": "stdout",
     "output_type": "stream",
     "text": [
      "[0, 1, 2, 3, 4, 5, 6, 7]\n",
      "[0, 1, 2, 3, 4, 5, 6, 7]\n"
     ]
    }
   ],
   "source": [
    "print(list(range(0, 8, 1))) #iterable\n",
    "print(list(range(8)))"
   ]
  },
  {
   "cell_type": "code",
   "execution_count": 5,
   "id": "c8942568-a76d-4026-964d-5853b31a006c",
   "metadata": {},
   "outputs": [
    {
     "data": {
      "text/plain": [
       "[0, 1, 2, 3, 4, 5, 6, 7]"
      ]
     },
     "execution_count": 5,
     "metadata": {},
     "output_type": "execute_result"
    }
   ],
   "source": [
    "list(range(8)) # 반복이 가능한 객체가 왔을때 list로 변경 가능)"
   ]
  },
  {
   "cell_type": "code",
   "execution_count": null,
   "id": "4fe2053f-79e9-49c4-8108-446e67251ccb",
   "metadata": {},
   "outputs": [],
   "source": [
    "# list vs range 가 동작하는 큰 차이점 \n",
    "# list는 메모리상에 미리 다 만들어 놓음.\n",
    "# range는 필요할 때 메모리에 만듦."
   ]
  },
  {
   "cell_type": "code",
   "execution_count": null,
   "id": "f72fe7bf-6468-42e0-9eb1-80cac219c865",
   "metadata": {},
   "outputs": [],
   "source": [
    "#for문과 range 함수\n",
    "#range() 내장 함수는 연속된 ~~~~~~~~\n"
   ]
  },
  {
   "cell_type": "code",
   "execution_count": null,
   "id": "c5288f77-f46c-4578-b97f-25beb3986098",
   "metadata": {},
   "outputs": [],
   "source": [
    "# 여기서의 range는 0부터 999까지의 숫자를 생성한다.\n",
    "\n",
    "#for n in range(1000):\n",
    "#    print(\"hello\")\n",
    "\n",
    "#이거 실행하면 천번찍힘~~~~~~~~~~~~"
   ]
  }
 ],
 "metadata": {
  "kernelspec": {
   "display_name": "Python 3 (ipykernel)",
   "language": "python",
   "name": "python3"
  },
  "language_info": {
   "codemirror_mode": {
    "name": "ipython",
    "version": 3
   },
   "file_extension": ".py",
   "mimetype": "text/x-python",
   "name": "python",
   "nbconvert_exporter": "python",
   "pygments_lexer": "ipython3",
   "version": "3.9.13"
  }
 },
 "nbformat": 4,
 "nbformat_minor": 5
}
