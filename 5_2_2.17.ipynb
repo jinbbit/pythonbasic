{
 "cells": [
  {
   "cell_type": "code",
   "execution_count": 3,
   "id": "37c0332b-e495-477d-ac9c-bf1b42f33113",
   "metadata": {},
   "outputs": [
    {
     "name": "stdout",
     "output_type": "stream",
     "text": [
      "<class 'dict'>\n",
      "{'key': 'value'}\n"
     ]
    }
   ],
   "source": [
    "# 딕셔너리 자료형(Dictionary type)\n",
    "\n",
    "# 비 시퀀스 자료형!!!! => 순서가 없지 ->그래서 인덱스가 없구나~~~!! \n",
    "# 그 대신에 이 자료형은 고유한 키(key)값을 갖음.\n",
    "# key : value -> key-value pair\n",
    "# key 와 value가 1:1로 매칭됨 이걸 key-value pair라고 함\n",
    "\n",
    "# 중괄호{} 를 활용하여 딕셔너리 자료형을 생성할 수 있다.\n",
    "# 중괄호 안에는 key-value pair를 작성. 형태는 key:value\n",
    "# key-value pair는 각각 콤마(,)로 구분지어 요소로 등록!!\n",
    "\n",
    "# dictionary_variable = {key:value, key:value, ...}\n",
    "\n",
    "dic_var = {\"key\" : \"value\"}\n",
    "print(type(dic_var))\n",
    "print(dic_var)"
   ]
  },
  {
   "cell_type": "code",
   "execution_count": null,
   "id": "0637d02e-77e0-4061-af23-eb4ed29f3265",
   "metadata": {},
   "outputs": [],
   "source": [
    "\"\"\"\n",
    "() => tuple //시퀀스   : 순서가 있음. / 인덱스 ㅇㅇ~~\n",
    "[] => list  //시퀀스\n",
    "{} => dictionary_variable = {key:value, key:value, ...} //비시퀀스 : 순서x\n",
    "/인덱스 없는 대신 key값이 있지! "
   ]
  },
  {
   "cell_type": "code",
   "execution_count": 10,
   "id": "f34aee91-1078-4b57-834c-d601c3f70451",
   "metadata": {},
   "outputs": [
    {
     "name": "stdout",
     "output_type": "stream",
     "text": [
      "<class 'dict'>\n",
      "{'key': '화이팅'}\n"
     ]
    }
   ],
   "source": [
    "#딕셔너리 자료형에서 키는 중복해서 존재하지x\n",
    "#\n",
    "\n",
    "dic_var = {\"key\" : \"value\", \"key\" : \"화이팅\"}\n",
    "print(type(dic_var))\n",
    "print(dic_var)"
   ]
  },
  {
   "cell_type": "code",
   "execution_count": 11,
   "id": "3ab6760d-b4da-4f75-be14-be666ca97429",
   "metadata": {},
   "outputs": [
    {
     "name": "stdout",
     "output_type": "stream",
     "text": [
      "[<class 'str'>, <class 'int'>, <class 'float'>, <class 'tuple'>]\n"
     ]
    }
   ],
   "source": [
    "# 딕셔너리 자료형에서 키(key)는 문자열(str), 정수(int), 실수(float), 불(bool)\n",
    "# 튜플(tuple)을 사용할 수 있다.   // 불변!!!!!\n",
    "# 또 키에 이 자료형을 섞어서 사용해도 된다.\n",
    "\n",
    "# 단, 키에는 리스트(list), 딕셔너리(dictionary), 집합(set)을 사용할 수 X (가변!!)\n",
    "# 또 키(key)는 고유한 값을 가져야 한다. (인덱스에 겹치는 숫자가 없듯이)\n",
    "\n",
    "dic_var = {\"key\" : \"value\",\n",
    "           1 : \"value2\",\n",
    "           1.1 : \"value3\",\n",
    "           True : \"value4\",\n",
    "           (\"key\", 1, 1.1, True) : \"value2\"}\n",
    "\n",
    "print(list(map(type, dic_var.keys())))\n",
    "\n",
    "# 키값이 1과 True는 동일해 일단 값이 value4가 value로 !\n",
    "# bool(True)값이 1(int)와 같다\n",
    "# 그래서 결과가 4개만 나온거야\n",
    "# (1=True, 0=false)"
   ]
  },
  {
   "cell_type": "code",
   "execution_count": 12,
   "id": "4aa1f6e9-1a2a-4f45-b822-bc6cf6cfa4e4",
   "metadata": {},
   "outputs": [
    {
     "name": "stdout",
     "output_type": "stream",
     "text": [
      "[<class 'str'>, <class 'bool'>, <class 'float'>, <class 'tuple'>, <class 'list'>, <class 'dict'>, <class 'set'>]\n"
     ]
    }
   ],
   "source": [
    "# 딕셔너리 자료형 특징\n",
    "# 딕셔너리 자료형에서 값(value) 는 모든 자료형을 사용할 수 있다!!!!\n",
    "\n",
    "dic_var = {\"key\" : \"value\",\n",
    "           1 : 1,\n",
    "           1.1 : 1.1,\n",
    "           True : False,\n",
    "           (\"key\", 1, 1.1, True) : (\"key\", 1, 1.1, True),\n",
    "           \"list\" : [1, '가', 1.1, True, (1, '나')],\n",
    "           \"dict\" : {\"key\" : \"value\", \"key2\" : \"value2\"},\n",
    "           \"set\" : {\"key\", \"value\"}\n",
    "          }\n",
    "print(list(map(type, dic_var.values())))"
   ]
  },
  {
   "cell_type": "code",
   "execution_count": 24,
   "id": "d7595dbc-3c9a-43e0-a97c-b8018dfbf1ad",
   "metadata": {},
   "outputs": [
    {
     "ename": "SyntaxError",
     "evalue": "invalid syntax (2304124257.py, line 6)",
     "output_type": "error",
     "traceback": [
      "\u001b[1;36m  File \u001b[1;32m\"C:\\Users\\user\\AppData\\Local\\Temp\\ipykernel_5652\\2304124257.py\"\u001b[1;36m, line \u001b[1;32m6\u001b[0m\n\u001b[1;33m    print(type(empty_dict))   //빈{}만 쓰게되면 타입이 중괄호\u001b[0m\n\u001b[1;37m                                 ^\u001b[0m\n\u001b[1;31mSyntaxError\u001b[0m\u001b[1;31m:\u001b[0m invalid syntax\n"
     ]
    }
   ],
   "source": [
    "# 딕셔너리 자료형 - 빈 딕셔너리 생성하기\n",
    "# 비어있는 빈 딕셔너리를 만들 때는 중괄호{}만 쓰거나 인자 없이 dict() 함수를 사용하면됨.\n",
    "\n",
    "empty_dict = {}\n",
    "print(empty_dict)\n",
    "print(type(empty_dict))   //빈{}만 쓰게되면 타입이 중괄호"
   ]
  },
  {
   "cell_type": "code",
   "execution_count": 14,
   "id": "0d602790-229a-47e5-910f-ce826769da09",
   "metadata": {},
   "outputs": [
    {
     "ename": "SyntaxError",
     "evalue": "invalid syntax (660365324.py, line 3)",
     "output_type": "error",
     "traceback": [
      "\u001b[1;36m  File \u001b[1;32m\"C:\\Users\\user\\AppData\\Local\\Temp\\ipykernel_5652\\660365324.py\"\u001b[1;36m, line \u001b[1;32m3\u001b[0m\n\u001b[1;33m    print(type(empty_dict)) // #dict() 함수만 써도 타입은 중괄호\u001b[0m\n\u001b[1;37m                               ^\u001b[0m\n\u001b[1;31mSyntaxError\u001b[0m\u001b[1;31m:\u001b[0m invalid syntax\n"
     ]
    }
   ],
   "source": [
    "empty_dict = dict()\n",
    "print(empty_dict)\n",
    "print(type(empty_dict)) // #dict() 함수만 써도 타입은 중괄호"
   ]
  },
  {
   "cell_type": "code",
   "execution_count": 15,
   "id": "6b368427-b85e-4b40-b9d5-49d0da8a6b39",
   "metadata": {},
   "outputs": [
    {
     "name": "stdout",
     "output_type": "stream",
     "text": [
      "{'key': 'value', 'key2': 'value2', 'key3': 'value3'}\n"
     ]
    }
   ],
   "source": [
    "# 딕셔너리 자료형 - dict() 함수로 생성하기\n",
    "# dict() 함수에 키워드 인자값(-> print(,,,,,sep = \"\", end = \"\") 이런거!!)\n",
    "# 을 활용하면 딕셔너리를 만들 수 있다.\n",
    "# 함수에 사용하는 키워드 인자의 키워드 부분은 변수명처럼 따옴표('', \"\")를 \n",
    "# 사용하지 않습니다.\n",
    "\n",
    "dict_a = dict(key = \"value\", key2 = \"value2\", key3 = \"value3\")\n",
    "print(dict_a)\n",
    "\n",
    "# 그럼 딕트 함수는 숫자는 못써?\n",
    "# 그래서 밑에~~"
   ]
  },
  {
   "cell_type": "code",
   "execution_count": 16,
   "id": "ca1f4ab6-28bf-41d1-a6e2-8fd4644917c0",
   "metadata": {},
   "outputs": [
    {
     "data": {
      "text/plain": [
       "{'key': 'value', 'key2': 'value2'}"
      ]
     },
     "execution_count": 16,
     "metadata": {},
     "output_type": "execute_result"
    }
   ],
   "source": [
    "# 딕셔너리 자료형 - dict() 함수와 시퀀스 객체로 생성하기\n",
    "\n",
    "#리스트든 튜플이든 이런 구조로만 만들면됨\n",
    "\n",
    "dict([(\"key\", \"value\"), (\"key2\", \"value2\")])"
   ]
  },
  {
   "cell_type": "code",
   "execution_count": 17,
   "id": "7d0e9717-300c-4b2f-8063-6a4fd318cc6d",
   "metadata": {},
   "outputs": [
    {
     "name": "stdout",
     "output_type": "stream",
     "text": [
      "{'key': 'value', 'key2': 'value2', 'key3': 'value3'}\n"
     ]
    }
   ],
   "source": [
    "# 딕셔너리 자료형 - dict() 함수와 zip()함수로 생성하기\n",
    "# zip() 함수를 통하여 키와 값 한쌍을 갖는 튜플을 요소로 갖는 객체로\n",
    "# 딕셔너리 자료형을 생성할 수 있다.\n",
    "\n",
    "dict_b = dict(zip([\"key\", \"key2\", \"key3\"], [\"value\", \"value2\", \"value3\"]))\n",
    "\n",
    "print(dict_b)\n",
    "                   "
   ]
  },
  {
   "cell_type": "code",
   "execution_count": 18,
   "id": "713ace95-3916-4136-b54b-129c23d0b6b4",
   "metadata": {},
   "outputs": [
    {
     "name": "stdout",
     "output_type": "stream",
     "text": [
      "[('key1', 'value1'), ('key2', 'value2'), ('key3', 'value3')]\n"
     ]
    }
   ],
   "source": [
    "# 강사님 예제 (사진)\n",
    "\n",
    "keys = (\"key1\", \"key2\", \"key3\")\n",
    "values = (\"value1\", \"value2\", \"value3\")\n",
    "sam_list = []\n",
    "for index in range(len(keys)):\n",
    "    sam_list.append((keys[index], values[index]))\n",
    "print(sam_list)"
   ]
  },
  {
   "cell_type": "code",
   "execution_count": 19,
   "id": "867ce027-f576-4f3f-aad1-ede53c2211eb",
   "metadata": {},
   "outputs": [
    {
     "name": "stdout",
     "output_type": "stream",
     "text": [
      "{'key': 'value', 'key2': 'value2', 'key3': 'value3'}\n",
      "value\n"
     ]
    }
   ],
   "source": [
    "# 딕셔너리 자료형 - 키로 값에 접근하기\n",
    "\n",
    "# 인덱싱과 마찬가지! 다만, 인덱싱은 0이상의 정수를 활용하여 각 요소에 접근하지만 \n",
    "# 딕셔너리는 키!!!를 활용하여 해당 값에 접근!!\n",
    "\n",
    "print(dict_b)\n",
    "print(dict_b['key'])\n",
    "\n",
    "# 키 값을 가지고 요소(value)에 접근할 수 있다.\n"
   ]
  },
  {
   "cell_type": "code",
   "execution_count": 20,
   "id": "17cb8fda-4b9f-4d3e-8a42-60bd9a6e9bcd",
   "metadata": {},
   "outputs": [
    {
     "name": "stdout",
     "output_type": "stream",
     "text": [
      "{'key': 'value', 'key2': 'value2', 'key3': 'value3'}\n",
      "{'key': 'super value', 'key2': 'value2', 'key3': 'value3'}\n"
     ]
    }
   ],
   "source": [
    "# 딕셔너리 자료형 - 키로 값 변경하기\n",
    "\n",
    "print(dict_b)\n",
    "dict_b['key'] = \"super value\"\n",
    "print(dict_b)\n"
   ]
  },
  {
   "cell_type": "code",
   "execution_count": 21,
   "id": "ba7560ee-b675-4230-8cbb-9b9711138e6a",
   "metadata": {},
   "outputs": [
    {
     "name": "stdout",
     "output_type": "stream",
     "text": [
      "{'key': 'super value', 'key2': 'value2', 'key3': 'value3'}\n",
      "{'key': 'super value', 'key2': 'value2', 'key3': 'value3', 'new one': 'new value'}\n"
     ]
    }
   ],
   "source": [
    "# 딕셔너리 자료형 - 키와 값 추가하기\n",
    "\n",
    "print(dict_b)\n",
    "dict_b['new one'] = \"new value\"\n",
    "print(dict_b)\n",
    "\n",
    "# 얘도 마찬가지"
   ]
  },
  {
   "cell_type": "code",
   "execution_count": 22,
   "id": "5563b91d-d4f9-44e4-814b-3b3e644ec568",
   "metadata": {},
   "outputs": [
    {
     "name": "stdout",
     "output_type": "stream",
     "text": [
      "{'key': 'value', 'key2': 'value2', 'key3': 'value3'}\n"
     ]
    },
    {
     "ename": "KeyError",
     "evalue": "'없는 키'",
     "output_type": "error",
     "traceback": [
      "\u001b[1;31m---------------------------------------------------------------------------\u001b[0m",
      "\u001b[1;31mKeyError\u001b[0m                                  Traceback (most recent call last)",
      "\u001b[1;32m~\\AppData\\Local\\Temp\\ipykernel_5652\\924658090.py\u001b[0m in \u001b[0;36m<module>\u001b[1;34m\u001b[0m\n\u001b[0;32m      2\u001b[0m \u001b[1;33m\u001b[0m\u001b[0m\n\u001b[0;32m      3\u001b[0m \u001b[0mprint\u001b[0m\u001b[1;33m(\u001b[0m\u001b[0mdict_a\u001b[0m\u001b[1;33m)\u001b[0m\u001b[1;33m\u001b[0m\u001b[1;33m\u001b[0m\u001b[0m\n\u001b[1;32m----> 4\u001b[1;33m \u001b[0mprint\u001b[0m\u001b[1;33m(\u001b[0m\u001b[0mdict_a\u001b[0m\u001b[1;33m[\u001b[0m\u001b[1;34m'없는 키'\u001b[0m\u001b[1;33m]\u001b[0m\u001b[1;33m)\u001b[0m\u001b[1;33m\u001b[0m\u001b[1;33m\u001b[0m\u001b[0m\n\u001b[0m",
      "\u001b[1;31mKeyError\u001b[0m: '없는 키'"
     ]
    }
   ],
   "source": [
    "# 딕셔너리 자료형 - 없는 키에 접근하는 경우\n",
    "\n",
    "print(dict_a)\n",
    "print(dict_a['없는 키'])\n",
    "\n",
    "# 없는 키에 접근하면 key error가 발생하지"
   ]
  },
  {
   "cell_type": "code",
   "execution_count": 24,
   "id": "08c05c1f-d9ca-483b-96b2-c89e91e575ac",
   "metadata": {},
   "outputs": [
    {
     "name": "stdout",
     "output_type": "stream",
     "text": [
      "{'key': 'super value', 'key2': 'value2', 'key3': 'value3', 'new one': 'new value'}\n",
      "True\n"
     ]
    }
   ],
   "source": [
    "# 딕셔너리 자료형 - 특정 키가 딕셔너리 자료형에 있나 확인\n",
    "# 딕셔너리 자료형에서 특정 키가 존재하는 지 확인할 때  in연산자를 활용!!\n",
    "\n",
    "print(dict_b)\n",
    "print('key' in dict_b)\n",
    "\n",
    "# '값' in dict_b.value()"
   ]
  },
  {
   "cell_type": "code",
   "execution_count": 26,
   "id": "cb771043-0534-4936-bb51-497ed23a73c8",
   "metadata": {},
   "outputs": [
    {
     "name": "stdout",
     "output_type": "stream",
     "text": [
      "{'key': 'super value', 'key2': 'value2', 'key3': 'value3', 'new one': 'new value'}\n",
      "{'key': 'super value', 'key2': 'value2', 'key3': 'value3'}\n"
     ]
    }
   ],
   "source": [
    "# 딕셔너리 자료형 - 특정 키와 값의 쌍을 삭제하기\n",
    "\n",
    "print(dict_b)\n",
    "del dict_b['new one']\n",
    "print(dict_b)"
   ]
  },
  {
   "cell_type": "code",
   "execution_count": 27,
   "id": "46ae2673-8ba0-4034-93aa-22ba8acf67ca",
   "metadata": {},
   "outputs": [
    {
     "name": "stdout",
     "output_type": "stream",
     "text": [
      "{'key': 'super value', 'key2': 'value2', 'key3': 'value3'}\n"
     ]
    },
    {
     "data": {
      "text/plain": [
       "3"
      ]
     },
     "execution_count": 27,
     "metadata": {},
     "output_type": "execute_result"
    }
   ],
   "source": [
    "# 키와 값의 쌍 개수 구하기\n",
    "\n",
    "print(dict_b)\n",
    "len(dict_b)\n"
   ]
  },
  {
   "cell_type": "code",
   "execution_count": 64,
   "id": "b738837d-a40e-43de-bf83-80a8430adf54",
   "metadata": {},
   "outputs": [
    {
     "name": "stdin",
     "output_type": "stream",
     "text": [
      "과일 이름을 입력하세요 바나나\n"
     ]
    },
    {
     "name": "stdout",
     "output_type": "stream",
     "text": [
      "바나나 의 가격은 700원 입니다.\n"
     ]
    }
   ],
   "source": [
    "# 연습 문제\n",
    "\n",
    "n = input(\"과일 이름을 입력하세요\")\n",
    "\n",
    "dic_a = {'사과': '1000원', '바나나' : '700원', '오렌지' : '1500원','파인애플' : '2000원'}\n",
    "\n",
    "\n",
    "print(n,\"의 가격은\",dic_a[n],\"입니다.\") "
   ]
  },
  {
   "cell_type": "code",
   "execution_count": 69,
   "id": "9c8df76e-24a0-446b-a921-05ab283e80ae",
   "metadata": {},
   "outputs": [
    {
     "name": "stdin",
     "output_type": "stream",
     "text": [
      "과일 이름을 입력하세요 사과\n"
     ]
    },
    {
     "name": "stdout",
     "output_type": "stream",
     "text": [
      "사과의 가격은 1000원 입니다.\n"
     ]
    }
   ],
   "source": [
    "# 풀이\n",
    "\n",
    "dic_fruits = {'사과': '1000원', '바나나' : '700원', '오렌지' : '1500원','파인애플' : '2000원'}\n",
    "\n",
    "input_fruit = input(\"과일 이름을 입력하세요\")\n",
    "\n",
    "print(f\"{input_fruit}의 가격은 {dic_fruits[input_fruit]} 입니다.\")"
   ]
  },
  {
   "cell_type": "code",
   "execution_count": 87,
   "id": "675858f1-0fb0-4efb-951d-1ae7eb3c6832",
   "metadata": {},
   "outputs": [
    {
     "name": "stdin",
     "output_type": "stream",
     "text": [
      "이름을 기입해주세요. 뽀로로 루피 크롱 스누피\n",
      "몸무게를 입력해주세요. 20.4 16.2 22.3 5.2\n"
     ]
    },
    {
     "name": "stdout",
     "output_type": "stream",
     "text": [
      "{'뽀로로': '20.4', '루피': '16.2', '크롱': '22.3', '스누피': '5.2'}\n"
     ]
    }
   ],
   "source": [
    "# 연습 문제\n",
    "\n",
    "input_n = input(\"이름을 기입해주세요.\") .split(\" \")\n",
    "input_w = input(\"몸무게를 입력해주세요.\") .split(\" \")\n",
    "\n",
    "list(map(float,input_w))\n",
    "\n",
    "dict_v = dict(zip(input_n,input_w))\n",
    "print(dict_v)"
   ]
  },
  {
   "cell_type": "code",
   "execution_count": 102,
   "id": "da793a0c-077d-4e37-9738-6480dc47ea48",
   "metadata": {},
   "outputs": [
    {
     "name": "stdin",
     "output_type": "stream",
     "text": [
      "이름을 기입해주세요. 뽀로로 루피 크롱 스누피\n",
      "몸무게를 입력해주세요. 20.4 16.2 22.3 5.2\n"
     ]
    },
    {
     "name": "stdout",
     "output_type": "stream",
     "text": [
      "{'뽀로로': 20.4, '루피': 16.2, '크롱': 22.3, '스누피': 5.2}\n"
     ]
    }
   ],
   "source": [
    "# 연습 문제\n",
    "# 와진짜공부하자ㅠㅠㅠㅠㅠㅠㅠㅠ\n",
    "\n",
    "input_n = input(\"이름을 기입해주세요.\") .split(\" \")\n",
    "\n",
    "input_w = list(map(float,input(\"몸무게를 입력해주세요.\") .split(\" \")))\n",
    "\n",
    "dict_v = dict(zip(input_n,input_w))\n",
    "\n",
    "print(dict_v)"
   ]
  },
  {
   "cell_type": "code",
   "execution_count": null,
   "id": "6f50557c-ec3a-4b6c-8b15-3f79c44b916b",
   "metadata": {
    "tags": []
   },
   "outputs": [],
   "source": [
    "20.4 16.2 22.3 5.2\n",
    "\n",
    "뽀로로 루피 크롱 스누피"
   ]
  },
  {
   "cell_type": "code",
   "execution_count": 97,
   "id": "7c73f9d1-56a4-4865-a7bc-a1a49f8002e6",
   "metadata": {},
   "outputs": [
    {
     "name": "stdin",
     "output_type": "stream",
     "text": [
      "이름을 기입해주세요. 뽀로로 루피 크롱 스누피\n",
      "몸무게를 입력해주세요. 20.4 16.2 22.3 5.2\n"
     ]
    },
    {
     "name": "stdout",
     "output_type": "stream",
     "text": [
      "{'뽀로로': 20.4, '루피': 16.2, '크롱': 22.3, '스누피': 5.2}\n"
     ]
    }
   ],
   "source": [
    "input_n = input(\"이름을 기입해주세요.\") .split(\" \")\n",
    "\n",
    "input_w = map(float,input(\"몸무게를 입력해주세요.\") .split(\" \"))\n",
    "\n",
    "dict_v = dict(zip(input_n,input_w))\n",
    "print(dict_v)"
   ]
  },
  {
   "cell_type": "code",
   "execution_count": 101,
   "id": "12b6ea05-0299-43e7-a3c0-2f54ed8d45bf",
   "metadata": {},
   "outputs": [
    {
     "name": "stdin",
     "output_type": "stream",
     "text": [
      "이름을 입력하세요:  뽀로로 루피 크롱 스누피\n",
      "몸무게를 입력하세요:  20.4 16.2 22.3 5.2\n"
     ]
    },
    {
     "name": "stdout",
     "output_type": "stream",
     "text": [
      "{'뽀로로': 20.4, '루피': 16.2, '크롱': 22.3, '스누피': 5.2}\n"
     ]
    }
   ],
   "source": [
    "# 혜지언니코드\n",
    "\n",
    "#이름이랑 몸무게 입력받기\n",
    "name_list = input(\"이름을 입력하세요: \").split(' ')\n",
    "weight_list = input(\"몸무게를 입력하세요: \").split(' ')\n",
    "#이름과 몸무게 매칭 딕셔너리 만들기\n",
    "weight_dict = {name_list[i]: float(weight_list[i]) for i in range(len(name_list))}\n",
    "print(weight_dict)"
   ]
  },
  {
   "cell_type": "code",
   "execution_count": 103,
   "id": "9a5bef21-bfa4-4a28-9654-1029239bd7df",
   "metadata": {},
   "outputs": [
    {
     "name": "stdin",
     "output_type": "stream",
     "text": [
      "이름을 기입해주세요. 뽀로로 루피 크롱 스누피\n",
      "몸무게를 입력해주세요. 20.4 16.2 22.3 5.2\n"
     ]
    },
    {
     "name": "stdout",
     "output_type": "stream",
     "text": [
      "{'뽀로로': 20.4, '루피': 16.2, '크롱': 22.3, '스누피': 5.2}\n"
     ]
    }
   ],
   "source": [
    "# 풀이 # 동영상!!!!\n",
    "# 맵을 잘 모르겟으면\n",
    "# for i in (~~~~~) float~~~~~~~~~`하면되는데ㅠㅠㅠㅠㅠㅠㅠ\n",
    "# map이 하는 일은 float형을 하나하나 바꿔준거야\n",
    "\n",
    "input_n = input(\"이름을 기입해주세요.\") .split()\n",
    "\n",
    "input_w = map(float,input(\"몸무게를 입력해주세요.\") .split())\n",
    "\n",
    "dict_v = dict(zip(input_n,input_w))\n",
    "    # zip([\"뽀로로\",...],[20.4, 16.2, ...])\n",
    "    # dict(zip(names, weights))\n",
    "print(dict_v)"
   ]
  }
 ],
 "metadata": {
  "kernelspec": {
   "display_name": "Python 3 (ipykernel)",
   "language": "python",
   "name": "python3"
  },
  "language_info": {
   "codemirror_mode": {
    "name": "ipython",
    "version": 3
   },
   "file_extension": ".py",
   "mimetype": "text/x-python",
   "name": "python",
   "nbconvert_exporter": "python",
   "pygments_lexer": "ipython3",
   "version": "3.9.13"
  }
 },
 "nbformat": 4,
 "nbformat_minor": 5
}
