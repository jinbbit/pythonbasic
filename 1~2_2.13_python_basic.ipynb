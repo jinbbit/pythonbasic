{
 "cells": [
  {
   "cell_type": "code",
   "execution_count": 1,
   "id": "5656c9d5-d5f0-4324-a9d1-34465ddc360a",
   "metadata": {},
   "outputs": [
    {
     "name": "stdout",
     "output_type": "stream",
     "text": [
      "Hello, world!\n"
     ]
    }
   ],
   "source": [
    "print(\"Hello, world!\")"
   ]
  },
  {
   "cell_type": "code",
   "execution_count": 3,
   "id": "69f04d54-00a4-4f67-a2cb-5f265b5ccba6",
   "metadata": {
    "tags": []
   },
   "outputs": [
    {
     "name": "stdout",
     "output_type": "stream",
     "text": [
      "Hello, world!\n",
      "Hello, world!\n",
      "Python Programming\n"
     ]
    }
   ],
   "source": [
    "print(\"Hello, world!\")\n",
    "print(\"Hello, world!\")\n",
    "print(\"Python Programming\")"
   ]
  },
  {
   "cell_type": "code",
   "execution_count": 4,
   "id": "b1d6d609-9d74-4d20-9eca-8442abee39dc",
   "metadata": {},
   "outputs": [
    {
     "name": "stdout",
     "output_type": "stream",
     "text": [
      "89\n"
     ]
    }
   ],
   "source": [
    "print(13+(22-3)*4)"
   ]
  },
  {
   "cell_type": "code",
   "execution_count": 5,
   "id": "370ac312-2853-442c-a0f2-9f3fcc1166fd",
   "metadata": {},
   "outputs": [
    {
     "name": "stdout",
     "output_type": "stream",
     "text": [
      "23\n"
     ]
    }
   ],
   "source": [
    "print(13+22-3*4)"
   ]
  },
  {
   "cell_type": "code",
   "execution_count": 9,
   "id": "83e5f9d3-9b33-4ee4-9e8b-902445a3b1d9",
   "metadata": {},
   "outputs": [
    {
     "name": "stdout",
     "output_type": "stream",
     "text": [
      "28.2\n"
     ]
    }
   ],
   "source": [
    "print(13+((22-3)*4/5))"
   ]
  },
  {
   "cell_type": "code",
   "execution_count": 10,
   "id": "606044b0-4ad3-432e-afaa-c23b6a350b70",
   "metadata": {},
   "outputs": [
    {
     "data": {
      "text/plain": [
       "89"
      ]
     },
     "execution_count": 10,
     "metadata": {},
     "output_type": "execute_result"
    }
   ],
   "source": [
    "13+(22-3)*4"
   ]
  },
  {
   "cell_type": "code",
   "execution_count": 11,
   "id": "561f5017-4852-4700-814b-4003bd95b897",
   "metadata": {},
   "outputs": [
    {
     "data": {
      "text/plain": [
       "3"
      ]
     },
     "execution_count": 11,
     "metadata": {},
     "output_type": "execute_result"
    }
   ],
   "source": [
    "7//2"
   ]
  },
  {
   "cell_type": "code",
   "execution_count": 12,
   "id": "61078b14-8d9e-41b3-86d9-deb69694ac89",
   "metadata": {},
   "outputs": [
    {
     "data": {
      "text/plain": [
       "1"
      ]
     },
     "execution_count": 12,
     "metadata": {},
     "output_type": "execute_result"
    }
   ],
   "source": [
    "7%2"
   ]
  },
  {
   "cell_type": "code",
   "execution_count": 13,
   "id": "7bc2baa3-d97d-4335-8e02-e851ad2de6c2",
   "metadata": {},
   "outputs": [
    {
     "ename": "SyntaxError",
     "evalue": "invalid syntax (3049097464.py, line 1)",
     "output_type": "error",
     "traceback": [
      "\u001b[1;36m  File \u001b[1;32m\"C:\\Users\\user\\AppData\\Local\\Temp\\ipykernel_8052\\3049097464.py\"\u001b[1;36m, line \u001b[1;32m1\u001b[0m\n\u001b[1;33m    7%%2\u001b[0m\n\u001b[1;37m      ^\u001b[0m\n\u001b[1;31mSyntaxError\u001b[0m\u001b[1;31m:\u001b[0m invalid syntax\n"
     ]
    }
   ],
   "source": [
    "7%%2"
   ]
  },
  {
   "cell_type": "code",
   "execution_count": 14,
   "id": "86d90f88-d52c-4f34-81d3-b176aa8c0f86",
   "metadata": {},
   "outputs": [
    {
     "data": {
      "text/plain": [
       "128"
      ]
     },
     "execution_count": 14,
     "metadata": {},
     "output_type": "execute_result"
    }
   ],
   "source": [
    "2**7"
   ]
  },
  {
   "cell_type": "code",
   "execution_count": 15,
   "id": "d7622522-6154-41e0-aa65-673e0586d2d0",
   "metadata": {},
   "outputs": [
    {
     "data": {
      "text/plain": [
       "1.7320508075688772"
      ]
     },
     "execution_count": 15,
     "metadata": {},
     "output_type": "execute_result"
    }
   ],
   "source": [
    "3**(1/2)"
   ]
  },
  {
   "cell_type": "code",
   "execution_count": 18,
   "id": "d16b7089-1f91-4241-925c-0ae4a8d4947f",
   "metadata": {},
   "outputs": [
    {
     "data": {
      "text/plain": [
       "3"
      ]
     },
     "execution_count": 18,
     "metadata": {},
     "output_type": "execute_result"
    }
   ],
   "source": [
    "int(3.3) // 실수를 정수로 변환"
   ]
  },
  {
   "cell_type": "code",
   "execution_count": 19,
   "id": "b00edb55-d1bd-4f58-a710-7ad1056bafd6",
   "metadata": {},
   "outputs": [
    {
     "data": {
      "text/plain": [
       "2"
      ]
     },
     "execution_count": 19,
     "metadata": {},
     "output_type": "execute_result"
    }
   ],
   "source": [
    "int(5/2) # 실수를 정수로 변환"
   ]
  },
  {
   "cell_type": "code",
   "execution_count": 20,
   "id": "fc82d5d6-5244-4cbb-901e-687473d17a2a",
   "metadata": {},
   "outputs": [
    {
     "data": {
      "text/plain": [
       "104"
      ]
     },
     "execution_count": 20,
     "metadata": {},
     "output_type": "execute_result"
    }
   ],
   "source": [
    "int('104') #문자열을 정수로 변환"
   ]
  },
  {
   "cell_type": "code",
   "execution_count": 21,
   "id": "e0b0481a-0b28-4cf5-8aed-c85c4d27f12d",
   "metadata": {},
   "outputs": [
    {
     "data": {
      "text/plain": [
       "3.0"
      ]
     },
     "execution_count": 21,
     "metadata": {},
     "output_type": "execute_result"
    }
   ],
   "source": [
    "float(3) # 정수를 실수로 변환"
   ]
  },
  {
   "cell_type": "code",
   "execution_count": 22,
   "id": "c90acf7d-0f03-4f23-8fa9-f05101e3fc64",
   "metadata": {},
   "outputs": [
    {
     "data": {
      "text/plain": [
       "16.0"
      ]
     },
     "execution_count": 22,
     "metadata": {},
     "output_type": "execute_result"
    }
   ],
   "source": [
    "float(4*4) #정수를 실수로 변환"
   ]
  },
  {
   "cell_type": "code",
   "execution_count": 23,
   "id": "0ab0ee73-eb48-451d-9c11-68a18918e44a",
   "metadata": {},
   "outputs": [
    {
     "data": {
      "text/plain": [
       "3.14"
      ]
     },
     "execution_count": 23,
     "metadata": {},
     "output_type": "execute_result"
    }
   ],
   "source": [
    "float('3.14') #문자열을 실수로 변환"
   ]
  },
  {
   "cell_type": "code",
   "execution_count": 24,
   "id": "a9a5e854-44ab-4dda-9b3f-b99b3f28b360",
   "metadata": {},
   "outputs": [
    {
     "ename": "ValueError",
     "evalue": "invalid literal for int() with base 10: '문자열'",
     "output_type": "error",
     "traceback": [
      "\u001b[1;31m---------------------------------------------------------------------------\u001b[0m",
      "\u001b[1;31mValueError\u001b[0m                                Traceback (most recent call last)",
      "\u001b[1;32m~\\AppData\\Local\\Temp\\ipykernel_8052\\3993323336.py\u001b[0m in \u001b[0;36m<module>\u001b[1;34m\u001b[0m\n\u001b[1;32m----> 1\u001b[1;33m \u001b[0mint\u001b[0m\u001b[1;33m(\u001b[0m\u001b[1;34m'문자열'\u001b[0m\u001b[1;33m)\u001b[0m\u001b[1;33m\u001b[0m\u001b[1;33m\u001b[0m\u001b[0m\n\u001b[0m",
      "\u001b[1;31mValueError\u001b[0m: invalid literal for int() with base 10: '문자열'"
     ]
    }
   ],
   "source": [
    "int('문자열')"
   ]
  },
  {
   "cell_type": "code",
   "execution_count": 25,
   "id": "9373b8c6-a3b8-4ab1-babc-1958fe827f6c",
   "metadata": {},
   "outputs": [
    {
     "data": {
      "text/plain": [
       "7"
      ]
     },
     "execution_count": 25,
     "metadata": {},
     "output_type": "execute_result"
    }
   ],
   "source": [
    "int(0.2467*12+4.159)"
   ]
  },
  {
   "cell_type": "code",
   "execution_count": 41,
   "id": "fc5a4102-d054-4bcf-b1b2-bce2ad7fb3f7",
   "metadata": {},
   "outputs": [
    {
     "name": "stdout",
     "output_type": "stream",
     "text": [
      "가장 시끄러운 층은 = 7층\n"
     ]
    }
   ],
   "source": [
    "print(\"가장\",\"시끄러운\",\"층은\",\"=\",\"7층\")  "
   ]
  },
  {
   "cell_type": "code",
   "execution_count": 43,
   "id": "2ae10014-c66e-48a3-a218-49ec29604686",
   "metadata": {},
   "outputs": [
    {
     "name": "stdout",
     "output_type": "stream",
     "text": [
      "가장 시끄러운 층은 = 7 층\n"
     ]
    }
   ],
   "source": [
    "print(\"가장 시끄러운 층은 =\", int(0.2467*12+4.159),\"층\")\n"
   ]
  },
  {
   "cell_type": "code",
   "execution_count": 48,
   "id": "a5bb909f-b68d-4636-95b7-8513da3bfecd",
   "metadata": {},
   "outputs": [
    {
     "name": "stdout",
     "output_type": "stream",
     "text": [
      "냉장고 가격은 1272000 원 입니다.\n"
     ]
    }
   ],
   "source": [
    "print(\"냉장고 가격은\", int(53000*24), \"원 입니다.\")"
   ]
  },
  {
   "cell_type": "code",
   "execution_count": 69,
   "id": "4294dab5-6659-40a6-ae0a-2c8a5ec28945",
   "metadata": {},
   "outputs": [
    {
     "name": "stdout",
     "output_type": "stream",
     "text": [
      "냉장고 가격은 regrig_price 원 입니다.\n"
     ]
    }
   ],
   "source": [
    "refrig_price = 53000*24\n",
    "print(\"냉장고 가격은\", 'regrig_price',\"원 입니다.\")"
   ]
  },
  {
   "cell_type": "code",
   "execution_count": 55,
   "id": "cce4f205-b251-4ac2-bad4-ffab5809cec3",
   "metadata": {},
   "outputs": [
    {
     "data": {
      "text/plain": [
       "16500000.0"
      ]
     },
     "execution_count": 55,
     "metadata": {},
     "output_type": "execute_result"
    }
   ],
   "source": [
    "((250*20000*3)+(250*20000*3)*0.1)"
   ]
  },
  {
   "cell_type": "code",
   "execution_count": 68,
   "id": "c929f2bd-9a8b-427b-9c86-aaa33a1b1d4c",
   "metadata": {},
   "outputs": [
    {
     "name": "stdout",
     "output_type": "stream",
     "text": [
      "총 지불 해야 할 금액은 16500000 원 입니다.\n"
     ]
    }
   ],
   "source": [
    "people = 250  #내 풀이\n",
    "tax = (250*20000*3)*0.1\n",
    "\n",
    "print(\"총 지불 해야 할 금액은\",int((people*20000*3)+tax),\"원 입니다.\")"
   ]
  },
  {
   "cell_type": "code",
   "execution_count": 56,
   "id": "c1861e85-9529-4f5a-9c62-2f530217be9a",
   "metadata": {},
   "outputs": [
    {
     "name": "stdout",
     "output_type": "stream",
     "text": [
      "총 지불 해야 할 금액은 16500000 원 입니다.\n"
     ]
    }
   ],
   "source": [
    "people = 250    #강사님 풀이\n",
    "tax = 10/100\n",
    "print(\"총 지불 해야 할 금액은\", int(people*20000*3*(1+tax)),\"원 입니다.\")"
   ]
  },
  {
   "cell_type": "code",
   "execution_count": 57,
   "id": "8bfae1e8-b155-4fa5-a206-8b5d702767e2",
   "metadata": {},
   "outputs": [
    {
     "data": {
      "text/plain": [
       "12345000000.0"
      ]
     },
     "execution_count": 57,
     "metadata": {},
     "output_type": "execute_result"
    }
   ],
   "source": [
    "1.2345e10"
   ]
  },
  {
   "cell_type": "code",
   "execution_count": 58,
   "id": "5c8660c2-bb1f-4901-a057-dc6275985a9c",
   "metadata": {},
   "outputs": [
    {
     "data": {
      "text/plain": [
       "17"
      ]
     },
     "execution_count": 58,
     "metadata": {},
     "output_type": "execute_result"
    }
   ],
   "source": [
    "0b10001"
   ]
  },
  {
   "cell_type": "code",
   "execution_count": 59,
   "id": "439c8143-6d78-4525-b935-19725ec0d829",
   "metadata": {},
   "outputs": [
    {
     "data": {
      "text/plain": [
       "22"
      ]
     },
     "execution_count": 59,
     "metadata": {},
     "output_type": "execute_result"
    }
   ],
   "source": [
    "0b10110"
   ]
  },
  {
   "cell_type": "code",
   "execution_count": 60,
   "id": "02134a93-c40c-4276-a8b0-2155b6317018",
   "metadata": {},
   "outputs": [
    {
     "data": {
      "text/plain": [
       "'0b10001'"
      ]
     },
     "execution_count": 60,
     "metadata": {},
     "output_type": "execute_result"
    }
   ],
   "source": [
    "bin(17)"
   ]
  },
  {
   "cell_type": "code",
   "execution_count": 61,
   "id": "1f595fb6-6a21-4d8f-91a4-2400f9c8f4f0",
   "metadata": {},
   "outputs": [
    {
     "data": {
      "text/plain": [
       "'0b10110'"
      ]
     },
     "execution_count": 61,
     "metadata": {},
     "output_type": "execute_result"
    }
   ],
   "source": [
    "bin(22)"
   ]
  },
  {
   "cell_type": "code",
   "execution_count": 70,
   "id": "da256e99-37a8-4088-b0ce-fe5239ab4cbc",
   "metadata": {},
   "outputs": [
    {
     "data": {
      "text/plain": [
       "17"
      ]
     },
     "execution_count": 70,
     "metadata": {},
     "output_type": "execute_result"
    }
   ],
   "source": [
    "0o21 #숫자0과 알파벳 o(오) 8의1승 8의0승)"
   ]
  },
  {
   "cell_type": "code",
   "execution_count": 71,
   "id": "cd0ad939-a681-42a3-b028-91f6f9069b6b",
   "metadata": {},
   "outputs": [
    {
     "data": {
      "text/plain": [
       "31"
      ]
     },
     "execution_count": 71,
     "metadata": {},
     "output_type": "execute_result"
    }
   ],
   "source": [
    "0x1f #16진수 표기 ; 숫자0과 알파벳 x(엑스) / f=16의0승 "
   ]
  },
  {
   "cell_type": "code",
   "execution_count": 78,
   "id": "878c2813-4f1e-4313-a349-94614d677418",
   "metadata": {},
   "outputs": [
    {
     "name": "stdout",
     "output_type": "stream",
     "text": [
      "453.0\n"
     ]
    }
   ],
   "source": [
    "AP=380 #내 풀이\n",
    "print(float(AP*0.6)+225)"
   ]
  },
  {
   "cell_type": "code",
   "execution_count": 79,
   "id": "735dc68e-00da-4253-887e-6defb3e02689",
   "metadata": {},
   "outputs": [
    {
     "name": "stdout",
     "output_type": "stream",
     "text": [
      "453.0\n"
     ]
    }
   ],
   "source": [
    "ap = 380 #강사님 풀이\n",
    "print(ap*0.6+225)"
   ]
  },
  {
   "cell_type": "code",
   "execution_count": 80,
   "id": "14f85858-dfcb-4ef0-a9a0-4c13c192765c",
   "metadata": {},
   "outputs": [
    {
     "name": "stdout",
     "output_type": "stream",
     "text": [
      "30\n"
     ]
    }
   ],
   "source": [
    "# a 변수 선언 후 숫자 리터럴 10값을 할당\n",
    "a=10\n",
    "\n",
    "# a 변수 값에 20을 더한 결과를 다시 a에 할당\n",
    "a=a+20 ##뒤에 a+20 을 먼저 계산후에 a를 정의\n",
    "\n",
    "print(a)"
   ]
  },
  {
   "cell_type": "code",
   "execution_count": 82,
   "id": "d5d5d1d0-c70d-4452-95bd-1369d49115ec",
   "metadata": {},
   "outputs": [
    {
     "ename": "NameError",
     "evalue": "name 'a' is not defined",
     "output_type": "error",
     "traceback": [
      "\u001b[1;31m---------------------------------------------------------------------------\u001b[0m",
      "\u001b[1;31mNameError\u001b[0m                                 Traceback (most recent call last)",
      "\u001b[1;32m~\\AppData\\Local\\Temp\\ipykernel_8052\\1497285116.py\u001b[0m in \u001b[0;36m<module>\u001b[1;34m\u001b[0m\n\u001b[1;32m----> 1\u001b[1;33m \u001b[1;32mdel\u001b[0m \u001b[0ma\u001b[0m\u001b[1;33m\u001b[0m\u001b[1;33m\u001b[0m\u001b[0m\n\u001b[0m\u001b[0;32m      2\u001b[0m \u001b[0mprint\u001b[0m\u001b[1;33m(\u001b[0m\u001b[0ma\u001b[0m\u001b[1;33m)\u001b[0m\u001b[1;33m\u001b[0m\u001b[1;33m\u001b[0m\u001b[0m\n",
      "\u001b[1;31mNameError\u001b[0m: name 'a' is not defined"
     ]
    }
   ],
   "source": [
    "# a 변수 삭제 후  a 변수를 출력해보기\n",
    "del a\n",
    "print(a)    ##지워진 변수에 대해서는 사용할 수가 없구나!"
   ]
  },
  {
   "cell_type": "code",
   "execution_count": 83,
   "id": "39be3b69-7aba-4771-bd73-70e24943ea5f",
   "metadata": {},
   "outputs": [
    {
     "name": "stdout",
     "output_type": "stream",
     "text": [
      "10\n",
      "20\n"
     ]
    }
   ],
   "source": [
    "a=10\n",
    "\n",
    "#변수 a에 20 값을 더하고 할당하지 않았을 때\n",
    "a+20\n",
    "print(a) #10\n",
    "\n",
    "a += 10  # a= a+10과 같다 // a라는 값을 10만큼 늘리겠따\n",
    "print(a)"
   ]
  },
  {
   "cell_type": "code",
   "execution_count": 84,
   "id": "7cfdd70d-b896-4153-b8b8-d0772e2eedb1",
   "metadata": {},
   "outputs": [
    {
     "name": "stdout",
     "output_type": "stream",
     "text": [
      "None\n"
     ]
    }
   ],
   "source": [
    "a = None ##변수의 값을 없앨 땐 None을 할당하면 됩니다. (문자열'None'이 아닙니다.)\n",
    "           ##보통 다른 언어에서의 null(널)과 같습니다.\n",
    "\n",
    "print(a)"
   ]
  },
  {
   "cell_type": "code",
   "execution_count": 85,
   "id": "7994e88f-5c1d-48f2-a9ba-15ba597a3f5d",
   "metadata": {},
   "outputs": [
    {
     "data": {
      "text/plain": [
       "bool"
      ]
     },
     "execution_count": 85,
     "metadata": {},
     "output_type": "execute_result"
    }
   ],
   "source": [
    "type(True)"
   ]
  },
  {
   "cell_type": "code",
   "execution_count": 86,
   "id": "f73a7293-1e22-41c4-97ec-b2f387ab3d02",
   "metadata": {},
   "outputs": [
    {
     "data": {
      "text/plain": [
       "bool"
      ]
     },
     "execution_count": 86,
     "metadata": {},
     "output_type": "execute_result"
    }
   ],
   "source": [
    "type(False)"
   ]
  },
  {
   "cell_type": "code",
   "execution_count": 87,
   "id": "bdefa8c9-25f9-433a-a5f6-1fe25b389831",
   "metadata": {},
   "outputs": [
    {
     "ename": "NameError",
     "evalue": "name 'true' is not defined",
     "output_type": "error",
     "traceback": [
      "\u001b[1;31m---------------------------------------------------------------------------\u001b[0m",
      "\u001b[1;31mNameError\u001b[0m                                 Traceback (most recent call last)",
      "\u001b[1;32m~\\AppData\\Local\\Temp\\ipykernel_8052\\1822790664.py\u001b[0m in \u001b[0;36m<module>\u001b[1;34m\u001b[0m\n\u001b[1;32m----> 1\u001b[1;33m \u001b[0mtype\u001b[0m\u001b[1;33m(\u001b[0m\u001b[0mtrue\u001b[0m\u001b[1;33m)\u001b[0m\u001b[1;33m\u001b[0m\u001b[1;33m\u001b[0m\u001b[0m\n\u001b[0m",
      "\u001b[1;31mNameError\u001b[0m: name 'true' is not defined"
     ]
    }
   ],
   "source": [
    "type(true)"
   ]
  },
  {
   "cell_type": "code",
   "execution_count": 89,
   "id": "1ff60640-7177-4a79-9266-d644de49c5bd",
   "metadata": {
    "collapsed": true,
    "jupyter": {
     "outputs_hidden": true
    },
    "tags": []
   },
   "outputs": [
    {
     "ename": "NameError",
     "evalue": "name 'false' is not defined",
     "output_type": "error",
     "traceback": [
      "\u001b[1;31m---------------------------------------------------------------------------\u001b[0m",
      "\u001b[1;31mNameError\u001b[0m                                 Traceback (most recent call last)",
      "\u001b[1;32m~\\AppData\\Local\\Temp\\ipykernel_8052\\27329152.py\u001b[0m in \u001b[0;36m<module>\u001b[1;34m\u001b[0m\n\u001b[1;32m----> 1\u001b[1;33m \u001b[0mtype\u001b[0m\u001b[1;33m(\u001b[0m\u001b[0mfalse\u001b[0m\u001b[1;33m)\u001b[0m\u001b[1;33m\u001b[0m\u001b[1;33m\u001b[0m\u001b[0m\n\u001b[0m",
      "\u001b[1;31mNameError\u001b[0m: name 'false' is not defined"
     ]
    }
   ],
   "source": [
    "type(false)"
   ]
  },
  {
   "cell_type": "code",
   "execution_count": 3,
   "id": "e14e93af-03cf-4c5a-a7cb-b86bc7212c8c",
   "metadata": {},
   "outputs": [],
   "source": [
    "text3= 'don\\'t do that'\n",
    "text4= \"don't do that\""
   ]
  },
  {
   "cell_type": "code",
   "execution_count": 1,
   "id": "48aa5ce2-fd58-4001-a63e-763d1b556469",
   "metadata": {},
   "outputs": [
    {
     "name": "stdout",
     "output_type": "stream",
     "text": [
      "\"안녕?\"이라는 그 인사를 듣고 나는 '누구지?'라고 생각했다.\n"
     ]
    }
   ],
   "source": [
    "print('\"안녕?\"이라는 그 인사를 듣고 나는 \\'누구지?\\'라고 생각했다.')"
   ]
  },
  {
   "cell_type": "code",
   "execution_count": 91,
   "id": "c2675dc3-e1ab-4460-b758-5e75b54fa328",
   "metadata": {},
   "outputs": [
    {
     "name": "stdout",
     "output_type": "stream",
     "text": [
      "안녕하세요.\n",
      "나는 파이썬을 공부하고 있습니다.\n",
      "반갑습니다.\n",
      "\n"
     ]
    }
   ],
   "source": [
    "#20230214\n",
    "\n",
    "s4 = \"\"\"\\\n",
    "안녕하세요.\n",
    "나는 파이썬을 공부하고 있습니다.\n",
    "반갑습니다.\n",
    "\"\"\"\n",
    "print(s4)"
   ]
  },
  {
   "cell_type": "code",
   "execution_count": 2,
   "id": "d30df3cf-b28d-41c8-b5b6-37862024a446",
   "metadata": {},
   "outputs": [
    {
     "name": "stdout",
     "output_type": "stream",
     "text": [
      "안녕하세요.\n",
      "나는 파이썬을 공부하고 있습니다.\n",
      "반갑습니다. \n"
     ]
    }
   ],
   "source": [
    "s4 = \"\"\"\\    ##내풀이\n",
    "안녕하세요.\n",
    "나는 파이썬을 공부하고 있습니다.\n",
    "반갑습니다. \"\"\"\n",
    "print(s4)"
   ]
  },
  {
   "cell_type": "code",
   "execution_count": 23,
   "id": "3fe4ede9-97b3-4697-a43b-5a2a7ba1fd58",
   "metadata": {},
   "outputs": [
    {
     "name": "stdout",
     "output_type": "stream",
     "text": [
      "안녕하세요.\n",
      "나는 파이썬을 공부하고 있습니다.\n",
      "반갑습니다.\n"
     ]
    }
   ],
   "source": [
    "s4 = \"\"\"\\\n",
    "안녕하세요.\n",
    "나는 파이썬을 공부하고 있습니다.\n",
    "반갑습니다.\\\n",
    "\"\"\"\n",
    "print(s4)"
   ]
  },
  {
   "cell_type": "code",
   "execution_count": 36,
   "id": "cb1d0472-c0ea-4d2c-8ace-571993695abb",
   "metadata": {},
   "outputs": [
    {
     "name": "stdout",
     "output_type": "stream",
     "text": [
      "\"안녕하세요.\"\n",
      "나는 파이썬을 공부하고 있습니다.\n",
      "반갑습니다.\n"
     ]
    }
   ],
   "source": [
    "#내풀이\n",
    "s4 = \"\"\"\\\n",
    "\"안녕하세요.\"\n",
    "나는 파이썬을 공부하고 있습니다.\n",
    "반갑습니다.\\\n",
    "\"\"\"\n",
    "print(s4)"
   ]
  },
  {
   "cell_type": "code",
   "execution_count": 34,
   "id": "5d5fac93-88ab-43cb-8392-e1a25f2f28bc",
   "metadata": {},
   "outputs": [
    {
     "name": "stdout",
     "output_type": "stream",
     "text": [
      "\"안녕하세요.\"\n",
      "나는 파이썬을 공부하고 있습니다.\n",
      "반갑습니다.\n"
     ]
    }
   ],
   "source": [
    "#강사님풀이\n",
    "s4 = \"\"\"\\\n",
    "\"안녕하세요.\"\n",
    "나는 파이썬을 공부하고 있습니다.\n",
    "반갑습니다.\\\n",
    "\"\"\"\n",
    "print(s4)"
   ]
  },
  {
   "cell_type": "code",
   "execution_count": 24,
   "id": "109101b3-e8da-47ad-93d9-d984887f26ea",
   "metadata": {},
   "outputs": [
    {
     "name": "stdout",
     "output_type": "stream",
     "text": [
      "너무 너무 너무 너무 너무 너무 너무 파이썬 공부가 즐겁습니다.\n"
     ]
    }
   ],
   "source": [
    "print(\"너무 너무 너무 너무 너무 너무 너무 파이썬 공부가 즐겁습니다.\")"
   ]
  },
  {
   "cell_type": "code",
   "execution_count": 32,
   "id": "8d3431d2-8ea7-4d0e-a056-f807df563898",
   "metadata": {},
   "outputs": [
    {
     "name": "stdout",
     "output_type": "stream",
     "text": [
      "너무 너무 너무 너무 너무 너무 너무 너무 너무 너무 너무 너무 너무 너무 너무 너무 너무 너무 너무 너무 너무 너무 너무 너무 너무 너무 너무 너무 너무 너무 너무 너무 너무 너무 너무 너무 너무 너무 너무 너무 너무 너무 너무 너무 너무 너무 너무 너무 너무 너무 너무 너무 너무 너무 너무 너무 너무 너무 너무 너무 너무 너무 너무 너무 너무 너무 너무 너무 너무 너무 너무 너무 너무 너무 너무 너무 너무 너무 너무 너무 너무 너무 너무 너무 너무 너무 너무 너무 너무 너무 너무 너무 너무 너무 너무 너무 너무 너무 너무 너무 파이썬 공부가 즐겁습니다.\n"
     ]
    }
   ],
   "source": [
    "s6=\"너무 \"*100+\"파이썬 공부가 즐겁습니다.\"\n",
    "print(s6)"
   ]
  },
  {
   "cell_type": "code",
   "execution_count": 33,
   "id": "30e01757-e34e-4278-b6e9-b24b9452f8d8",
   "metadata": {},
   "outputs": [
    {
     "name": "stdout",
     "output_type": "stream",
     "text": [
      "P\n",
      "n\n",
      "n\n",
      "P\n"
     ]
    }
   ],
   "source": [
    "word='Python'\n",
    "#인덱스는 0부터 시작된다.\n",
    "print(word[0])\n",
    "print(word[5])\n",
    "#음수는 뒤에서부터 셉니다.\n",
    "print(word[-1])\n",
    "print(word[-6])\n"
   ]
  },
  {
   "cell_type": "code",
   "execution_count": 40,
   "id": "7fd3e800-a731-4db5-b165-e980ccd3a6db",
   "metadata": {},
   "outputs": [
    {
     "ename": "NameError",
     "evalue": "name 'world' is not defined",
     "output_type": "error",
     "traceback": [
      "\u001b[1;31m---------------------------------------------------------------------------\u001b[0m",
      "\u001b[1;31mNameError\u001b[0m                                 Traceback (most recent call last)",
      "\u001b[1;32m~\\AppData\\Local\\Temp\\ipykernel_13428\\3405290588.py\u001b[0m in \u001b[0;36m<module>\u001b[1;34m\u001b[0m\n\u001b[0;32m      1\u001b[0m \u001b[1;31m#인덱스 에러\u001b[0m\u001b[1;33m\u001b[0m\u001b[1;33m\u001b[0m\u001b[0m\n\u001b[0;32m      2\u001b[0m \u001b[0mword\u001b[0m \u001b[1;33m=\u001b[0m \u001b[1;34m'Python'\u001b[0m\u001b[1;33m\u001b[0m\u001b[1;33m\u001b[0m\u001b[0m\n\u001b[1;32m----> 3\u001b[1;33m \u001b[0mprint\u001b[0m\u001b[1;33m(\u001b[0m\u001b[0mworld\u001b[0m\u001b[1;33m[\u001b[0m\u001b[1;36m6\u001b[0m\u001b[1;33m]\u001b[0m\u001b[1;33m)\u001b[0m\u001b[1;33m\u001b[0m\u001b[1;33m\u001b[0m\u001b[0m\n\u001b[0m",
      "\u001b[1;31mNameError\u001b[0m: name 'world' is not defined"
     ]
    }
   ],
   "source": [
    "#인덱스 에러 \n",
    "word = 'Python'\n",
    "print(world[6])"
   ]
  },
  {
   "cell_type": "code",
   "execution_count": 45,
   "id": "efede592-25a3-46d3-9514-adb41fd54894",
   "metadata": {},
   "outputs": [
    {
     "name": "stdout",
     "output_type": "stream",
     "text": [
      "꺾\n"
     ]
    }
   ],
   "source": [
    "sentence = '중요한 것은 꺾이지 않는 마음'\n",
    "print(sentence[7])"
   ]
  },
  {
   "cell_type": "code",
   "execution_count": 48,
   "id": "fcf60e7a-4f98-42cc-a83b-b8369ee4f165",
   "metadata": {},
   "outputs": [
    {
     "name": "stdout",
     "output_type": "stream",
     "text": [
      "Py\n",
      "Py\n",
      "Py\n",
      "on\n",
      "on\n",
      "on\n",
      "yt\n",
      "yt\n"
     ]
    }
   ],
   "source": [
    "word = 'Python'\n",
    "print(word[0:2])\n",
    "print(word[:2])\n",
    "print(word[:-4])\n",
    "print(word[4:6]) #범위내에 없어도 오류 안남\n",
    "print(word[4:])\n",
    "print(word[-2:])\n",
    "print(word[1:3])\n",
    "print(word[-5:-3])"
   ]
  },
  {
   "cell_type": "code",
   "execution_count": 49,
   "id": "0d0817f7-9eee-4fb9-82b0-8326a3a42abf",
   "metadata": {},
   "outputs": [
    {
     "name": "stdout",
     "output_type": "stream",
     "text": [
      "\n"
     ]
    }
   ],
   "source": [
    "sentence = \"중요한 것은 꺾이지 않는 마음\"\n",
    "print(sentence[42:1])"
   ]
  },
  {
   "cell_type": "code",
   "execution_count": 50,
   "id": "94b7d047-9965-4cec-8350-7ec2ab0929e0",
   "metadata": {},
   "outputs": [
    {
     "name": "stdout",
     "output_type": "stream",
     "text": [
      "한 것은 꺾이지 않는 마음\n"
     ]
    }
   ],
   "source": [
    "print(sentence[2:42])"
   ]
  },
  {
   "cell_type": "code",
   "execution_count": 52,
   "id": "59c356ed-0892-44e6-b8f4-80b15b38b4d6",
   "metadata": {},
   "outputs": [
    {
     "name": "stdout",
     "output_type": "stream",
     "text": [
      "꺾이지 않는 마음\n"
     ]
    }
   ],
   "source": [
    "print(sentence[7:16])"
   ]
  },
  {
   "cell_type": "code",
   "execution_count": 74,
   "id": "2437be9b-1f1d-4440-810a-d662add1d53e",
   "metadata": {},
   "outputs": [
    {
     "name": "stdout",
     "output_type": "stream",
     "text": [
      "한요중\n"
     ]
    }
   ],
   "source": [
    "#증감하는거!!!\n",
    "print(sentence[2::-1])"
   ]
  },
  {
   "cell_type": "code",
   "execution_count": 76,
   "id": "8469d501-775b-40ca-a850-d12de647a4ca",
   "metadata": {},
   "outputs": [
    {
     "name": "stdout",
     "output_type": "stream",
     "text": [
      "한요중\n"
     ]
    }
   ],
   "source": [
    "#증감!!!!!!! -1로도 표현할 수도 있구나를 알자\n",
    "print(sentence[-14::-1])"
   ]
  },
  {
   "cell_type": "code",
   "execution_count": 82,
   "id": "97510c9f-0425-4c33-bcbd-006cc9468a27",
   "metadata": {},
   "outputs": [
    {
     "name": "stdout",
     "output_type": "stream",
     "text": [
      "한요중\n"
     ]
    }
   ],
   "source": [
    "#3미만이니까 2까지 추출하고 그다음 -1 증감\n",
    "print(sentence[:3][::-1])"
   ]
  },
  {
   "cell_type": "code",
   "execution_count": 83,
   "id": "60e3596f-1320-4c06-b8a7-4fac70b2a5ad",
   "metadata": {},
   "outputs": [
    {
     "ename": "TypeError",
     "evalue": "'str' object does not support item assignment",
     "output_type": "error",
     "traceback": [
      "\u001b[1;31m---------------------------------------------------------------------------\u001b[0m",
      "\u001b[1;31mTypeError\u001b[0m                                 Traceback (most recent call last)",
      "\u001b[1;32m~\\AppData\\Local\\Temp\\ipykernel_13428\\2896331821.py\u001b[0m in \u001b[0;36m<module>\u001b[1;34m\u001b[0m\n\u001b[0;32m      1\u001b[0m \u001b[1;31m#문자열 변경 불가 예제(인덱스)\u001b[0m\u001b[1;33m\u001b[0m\u001b[1;33m\u001b[0m\u001b[0m\n\u001b[1;32m----> 2\u001b[1;33m \u001b[0msentence\u001b[0m\u001b[1;33m[\u001b[0m\u001b[1;36m0\u001b[0m\u001b[1;33m]\u001b[0m \u001b[1;33m=\u001b[0m \u001b[1;34m\"한\"\u001b[0m\u001b[1;33m\u001b[0m\u001b[1;33m\u001b[0m\u001b[0m\n\u001b[0m",
      "\u001b[1;31mTypeError\u001b[0m: 'str' object does not support item assignment"
     ]
    }
   ],
   "source": [
    "#문자열 변경 불가 예제(인덱스)\n",
    "#error 보면 문자열 str은 변경 불가인걸 알 수 있음.\n",
    "sentence[0] = \"한\""
   ]
  },
  {
   "cell_type": "code",
   "execution_count": 85,
   "id": "57798ca6-f5f2-46c1-9fbf-fe56fa984233",
   "metadata": {},
   "outputs": [
    {
     "ename": "TypeError",
     "evalue": "'str' object does not support item assignment",
     "output_type": "error",
     "traceback": [
      "\u001b[1;31m---------------------------------------------------------------------------\u001b[0m",
      "\u001b[1;31mTypeError\u001b[0m                                 Traceback (most recent call last)",
      "\u001b[1;32m~\\AppData\\Local\\Temp\\ipykernel_13428\\1324983552.py\u001b[0m in \u001b[0;36m<module>\u001b[1;34m\u001b[0m\n\u001b[0;32m      1\u001b[0m \u001b[1;31m#문자열 변경 불가 예제(슬라이싱)\u001b[0m\u001b[1;33m\u001b[0m\u001b[1;33m\u001b[0m\u001b[0m\n\u001b[0;32m      2\u001b[0m \u001b[1;31m#error 메시지를 보면 str 객체는 할당을 지원하지 않는다 함.\u001b[0m\u001b[1;33m\u001b[0m\u001b[1;33m\u001b[0m\u001b[0m\n\u001b[1;32m----> 3\u001b[1;33m \u001b[0msentence\u001b[0m\u001b[1;33m[\u001b[0m\u001b[1;36m0\u001b[0m\u001b[1;33m:\u001b[0m\u001b[1;36m3\u001b[0m\u001b[1;33m]\u001b[0m \u001b[1;33m=\u001b[0m \u001b[1;34m\"대단한\"\u001b[0m\u001b[1;33m\u001b[0m\u001b[1;33m\u001b[0m\u001b[0m\n\u001b[0m\u001b[0;32m      4\u001b[0m \u001b[1;31m#요소의 갯수가 동일해야함/ 겟수도 틀리면 오류\u001b[0m\u001b[1;33m\u001b[0m\u001b[1;33m\u001b[0m\u001b[0m\n",
      "\u001b[1;31mTypeError\u001b[0m: 'str' object does not support item assignment"
     ]
    }
   ],
   "source": [
    "#문자열 변경 불가 예제(슬라이싱)\n",
    "#error 메시지를 보면 str 객체는 할당을 지원하지 않는다 함.\n",
    "sentence[0:3] = \"대단한\" \n",
    "#요소의 갯수가 동일해야함/ 겟수도 틀리면 오류"
   ]
  },
  {
   "cell_type": "code",
   "execution_count": 88,
   "id": "d2dc2a14-789a-49ed-93c6-d5faec596e12",
   "metadata": {},
   "outputs": [
    {
     "name": "stdout",
     "output_type": "stream",
     "text": [
      "대단한 것은 꺾이지 않는 마음\n"
     ]
    }
   ],
   "source": [
    "#문자열은 불변이랬는데, 문자열 변경하고 싶을땐?\n",
    "sentence = \"중요한 것은 꺾이지 않는 마음\"\n",
    "sentence = \"대단한\" + sentence[3:]\n",
    "print(sentence)"
   ]
  },
  {
   "cell_type": "code",
   "execution_count": 89,
   "id": "dc2b4597-b3d2-4b23-a386-8e7f50c1146f",
   "metadata": {},
   "outputs": [
    {
     "name": "stdout",
     "output_type": "stream",
     "text": [
      "재밌어요재밌어요재밌어요재밌어요재밌어요재밌어요재밌어요재밌어요재밌어요재밌어요\n"
     ]
    }
   ],
   "source": [
    "#시퀀스의 크기 \n",
    "#len(시퀀스변수명)함수 사용하면 쉽게 앎\n",
    "\n",
    "s7 = '재밌어요' *10\n",
    "print(s7)"
   ]
  },
  {
   "cell_type": "code",
   "execution_count": 90,
   "id": "90092579-19a8-4120-8d4a-a55c111d707d",
   "metadata": {},
   "outputs": [],
   "source": [
    "#리스트(list)\n",
    "#파이썬언어에서 가장 융통성 있는 자료형 중 하나\n",
    "#가변(mutable)의 특성을 갖기에 수정 용이\n",
    "#서로 다른 형의 항목들을 포함할 수 있음 [str, itn, float, obj...] etc\n",
    "#리스트와 배열은 다르다!!!"
   ]
  },
  {
   "cell_type": "code",
   "execution_count": 95,
   "id": "5530d58f-a42a-479a-9b96-4e0855184dff",
   "metadata": {},
   "outputs": [
    {
     "name": "stdout",
     "output_type": "stream",
     "text": [
      "[1, 4, 27, 16, 25]\n"
     ]
    }
   ],
   "source": [
    "#리스트 생성\n",
    "#대괄호 안에 각 요소들을 콤마구분자로 활용해서 입력\n",
    "#인덱싱, 슬라이싱 여러가지 활용가능\n",
    "\n",
    "squares = [1**2, 2**2, 3**3, 4**2, 5**2]\n",
    "print(squares)"
   ]
  },
  {
   "cell_type": "code",
   "execution_count": 96,
   "id": "c86f3369-0c6e-40a4-8153-c69bb6304fda",
   "metadata": {},
   "outputs": [
    {
     "name": "stdout",
     "output_type": "stream",
     "text": [
      "1\n",
      "25\n"
     ]
    }
   ],
   "source": [
    "#인덱싱을 통해 해당하는 항목을 반환 받습니다.\n",
    "print(squares[0])\n",
    "print(squares[-1])"
   ]
  },
  {
   "cell_type": "code",
   "execution_count": 97,
   "id": "50aae584-d0e2-4cf0-871a-e917b66e1d21",
   "metadata": {},
   "outputs": [
    {
     "name": "stdout",
     "output_type": "stream",
     "text": [
      "[27, 16, 25]\n"
     ]
    }
   ],
   "source": [
    "#슬라이싱을 통해 해당하는 항목을 반환 받습니다.\n",
    "print(squares[-3:])"
   ]
  },
  {
   "cell_type": "code",
   "execution_count": 98,
   "id": "0d1d26d7-be0e-4d0f-aad9-9311f1a31ac9",
   "metadata": {},
   "outputs": [
    {
     "name": "stdout",
     "output_type": "stream",
     "text": [
      "[1, 4, 27, 16, 25, 36, 49, 64, 81, 100]\n"
     ]
    }
   ],
   "source": [
    "# +를 통해 이어붙일 수 있다.\n",
    "print(squares + [36, 49, 64, 81, 100])"
   ]
  },
  {
   "cell_type": "code",
   "execution_count": 99,
   "id": "42849e3d-41de-4e00-bba8-3d5607174b4c",
   "metadata": {},
   "outputs": [
    {
     "name": "stdout",
     "output_type": "stream",
     "text": [
      "['a', 'b', 'c', 'd', 'e', 'a', 'b', 'c', 'd', 'e', 'a', 'b', 'c', 'd', 'e']\n"
     ]
    }
   ],
   "source": [
    "#리스트는 곱하기를 통해 요소를 반복할 수 있다.\n",
    "letters = ['a', 'b', 'c', 'd', 'e']\n",
    "print(letters *3)"
   ]
  },
  {
   "cell_type": "code",
   "execution_count": 102,
   "id": "bbde8bea-962b-4a51-9d94-247bd8c3246d",
   "metadata": {},
   "outputs": [
    {
     "name": "stdout",
     "output_type": "stream",
     "text": [
      "[1, 8, 27, 64, 125]\n"
     ]
    }
   ],
   "source": [
    "#리스트는 가변(mutable) 특징을 갖음. 따라서 각 요소의 값 변경 가능\n",
    "#인덱싱과 슬라이싱 통해서 값 수정\n",
    "\n",
    "cubes = [1, 8, 27, 65, 125] #65가 아니라 64가 올바른 값이자나\n",
    "cubes[3] = 4**3 #인덱싱을 통해 값 변경\n",
    "print(cubes)"
   ]
  },
  {
   "cell_type": "code",
   "execution_count": 103,
   "id": "541f3dfe-724f-4af8-b2b7-1e60ec70b3e6",
   "metadata": {},
   "outputs": [
    {
     "name": "stdout",
     "output_type": "stream",
     "text": [
      "['a', 'b', 'C', 'D', 'E']\n"
     ]
    }
   ],
   "source": [
    "letters[2:5] = [\"C\", \"D\", \"E\"]\n",
    "print(letters)"
   ]
  },
  {
   "cell_type": "code",
   "execution_count": 104,
   "id": "9a56cdd0-1d70-4475-adb4-14269b8a8e18",
   "metadata": {},
   "outputs": [
    {
     "name": "stdout",
     "output_type": "stream",
     "text": [
      "5\n"
     ]
    }
   ],
   "source": [
    "#리스크의 크기 계산\n",
    "#리스트크기, 즉 리스트 요소의 개수는 len(리스트변수)을 통해서 구함\n",
    "\n",
    "letters = ['a', 'b', 'c', 'd', 'e']\n",
    "print(len(letters))"
   ]
  },
  {
   "cell_type": "code",
   "execution_count": 105,
   "id": "b680e94c-c0b5-4e56-a64c-a82126f7a8e3",
   "metadata": {},
   "outputs": [
    {
     "name": "stdout",
     "output_type": "stream",
     "text": [
      "[['a', 'b', 'c'], [1, 2, 3]]\n"
     ]
    }
   ],
   "source": [
    "#리스트 안에 리스트\n",
    "#리스트 안에 리스트에 인덱싱으로 접근 가능\n",
    "\n",
    "a = ['a', 'b', 'c']\n",
    "n = [1, 2, 3]\n",
    "x = [a, n]\n",
    "print(x)"
   ]
  },
  {
   "cell_type": "code",
   "execution_count": 106,
   "id": "9282495d-d3ac-4825-b6a3-6f10fac469e8",
   "metadata": {},
   "outputs": [
    {
     "name": "stdout",
     "output_type": "stream",
     "text": [
      "['a', 'b', 'c']\n"
     ]
    }
   ],
   "source": [
    "print(x[0])"
   ]
  },
  {
   "cell_type": "code",
   "execution_count": 107,
   "id": "a51f9a5a-0eb6-4993-8e83-7fd09e25a959",
   "metadata": {},
   "outputs": [
    {
     "name": "stdout",
     "output_type": "stream",
     "text": [
      "b\n"
     ]
    }
   ],
   "source": [
    "print(x[0][1])\n",
    "# x 리스트 안에 두번째~"
   ]
  },
  {
   "cell_type": "code",
   "execution_count": 108,
   "id": "8c2179a5-622f-427c-a496-05fa40ee6fc5",
   "metadata": {},
   "outputs": [
    {
     "name": "stdout",
     "output_type": "stream",
     "text": [
      "True\n",
      "False\n"
     ]
    }
   ],
   "source": [
    "#리스트에 특정 요소가 있는 지 궁금할 때!!\n",
    "#시퀀스 자료형은 in이라는 키워드를 통해 내부요소(item)에 포함 여부를 확인할 수 있다.\n",
    "# True와 False  즉  bool literal 이 결과로 나옴\n",
    "\n",
    "numbers = [1, 2, 3, 4, 5, 6, 7]\n",
    "print(5 in numbers)\n",
    "print(10 in numbers)"
   ]
  },
  {
   "cell_type": "code",
   "execution_count": 131,
   "id": "86994c2a-74c2-406c-a093-9024ee165bd5",
   "metadata": {},
   "outputs": [
    {
     "name": "stdout",
     "output_type": "stream",
     "text": [
      "True\n"
     ]
    }
   ],
   "source": [
    "#연습문제\n",
    "# [국어, 영어, 한국사, 선택 교과1, 선택 교과2]\n",
    "scores = [88, 73, 89, 59, 77]\n",
    "\n",
    "print(scores[0]>=60) "
   ]
  },
  {
   "cell_type": "code",
   "execution_count": 128,
   "id": "28e48b5f-3581-4f69-aae4-230146c53a43",
   "metadata": {},
   "outputs": [
    {
     "name": "stdout",
     "output_type": "stream",
     "text": [
      "False\n"
     ]
    }
   ],
   "source": [
    "#위 연습문제 풀이\n",
    "\n",
    "scores = [88, 73, 89, 59, 77]\n",
    "print(scores[0] >= 60 and scores[1] >= 60 and scores[2] >= 60 and scores[3] >= 60 and scores[4] >= 60)"
   ]
  },
  {
   "cell_type": "code",
   "execution_count": 129,
   "id": "f1457167-4019-4f7b-9edf-e4b9f111b127",
   "metadata": {},
   "outputs": [
    {
     "name": "stdout",
     "output_type": "stream",
     "text": [
      "True\n"
     ]
    }
   ],
   "source": [
    "#위 연습문제 풀이 \n",
    "#[3]제외하면 True 나오나 확인\n",
    "\n",
    "scores = [88, 73, 89, 59, 77]\n",
    "print(scores[0] >= 60 and scores[1] >= 60 and scores[2] >= 60 and scores[4] >= 60)"
   ]
  },
  {
   "cell_type": "code",
   "execution_count": null,
   "id": "0f7cee5b-0b8c-4cbf-909d-8f25a868047a",
   "metadata": {},
   "outputs": [],
   "source": [
    "#리스트 메서드"
   ]
  },
  {
   "cell_type": "code",
   "execution_count": 132,
   "id": "33556327-b67f-4bb3-91b1-40ce71f2050f",
   "metadata": {},
   "outputs": [
    {
     "name": "stdout",
     "output_type": "stream",
     "text": [
      "[1, 2, 3, 4, 5, 6, 7, 8]\n"
     ]
    }
   ],
   "source": [
    "#리스트 맨 뒤에 요소 추가하기\n",
    "#리스트.append(요소) -> 리스트에 요소를 추가합니다.\n",
    "#요소의 순서는 맨 뒤로 추가됩니다.\n",
    "\n",
    "numbers = [1, 2, 3, 4, 5, 6, 7]\n",
    "numbers.append(8)\n",
    "print(numbers)"
   ]
  },
  {
   "cell_type": "code",
   "execution_count": 145,
   "id": "2eacb0ea-ae7b-45c9-9b82-8aa63cd015c1",
   "metadata": {},
   "outputs": [
    {
     "name": "stdout",
     "output_type": "stream",
     "text": [
      "[0, 1, 2, 3, 0, 4, 0, 5, 6, 7, 0]\n"
     ]
    }
   ],
   "source": [
    "numbers = [1, 2, 3, 4, 5, 6, 7]\n",
    "numbers.insert(0,0)\n",
    "numbers.insert(4,0)\n",
    "numbers.insert(6,0)\n",
    "numbers.insert(len(numbers),0)\n",
    "print(numbers)"
   ]
  },
  {
   "cell_type": "code",
   "execution_count": 161,
   "id": "fcadaf34-9cae-4071-a2b8-5c81c8070e05",
   "metadata": {},
   "outputs": [
    {
     "name": "stdout",
     "output_type": "stream",
     "text": [
      "[0, 1, 2, 3, 0, 4, 0, 5, 6, 7, 0]\n"
     ]
    }
   ],
   "source": [
    "#리스트에 요소를 원하는 인덱스에 추가하기\n",
    "#리스트.insert(인덱스, 요소) -> 리스트에 요소를 추가합니다. 요소의 순서는 맨 뒤로 추가.\n",
    "numbers = [1, 2, 3, 4, 5, 6, 7]\n",
    "numbers.insert(0,0)\n",
    "numbers.insert(4,0)\n",
    "numbers.insert(6,0)\n",
    "numbers.insert(len(numbers),0)\n",
    "print(numbers)\n",
    "\n",
    "########이거 값 왜이렇게 자꾸 늘어나냐\n",
    "#numbers = [1, 2, 3, 4, 5, 6, 7] 이거때문인데 다시봐봐"
   ]
  },
  {
   "cell_type": "code",
   "execution_count": 162,
   "id": "c4beed67-ca8a-445e-96f1-d0851a9c1014",
   "metadata": {},
   "outputs": [
    {
     "name": "stdout",
     "output_type": "stream",
     "text": [
      "[0, 1, 2, 3, 0, 4, 0, 5, 6, 7, 0, 9, 10, 11]\n"
     ]
    }
   ],
   "source": [
    "#extend는 리스트 합치는거! append는 요소 하나 추가하는거\n",
    "numbers.extend([9,10,11])\n",
    "print(numbers)\n",
    "\n",
    "########얘도 마찬가지"
   ]
  },
  {
   "cell_type": "code",
   "execution_count": null,
   "id": "e139cce2-a6a3-4246-ace5-1bcccff6903d",
   "metadata": {},
   "outputs": [],
   "source": [
    "#리스트에 요소를 원하는 인덱스에 추가하기\n",
    "#리스트.remove(인자) -> 인자와 리스트에 동일한 요소를 제거.\n",
    "#여럿일 경우 젤 먼저 발견된 것 부터"
   ]
  },
  {
   "cell_type": "code",
   "execution_count": 163,
   "id": "7b1c8281-6938-4ebb-88bd-603bdfb557fa",
   "metadata": {},
   "outputs": [
    {
     "name": "stdout",
     "output_type": "stream",
     "text": [
      "11\n"
     ]
    }
   ],
   "source": [
    "#리스트 맨 마지막 요소를 반환하고 제거하기\n",
    "#리스트.pop() -> 리스트 제일 마지막 요소(리스트[-1])를 리스트에서 제거.\n",
    "#제거한 요소는 반환\n",
    "\n",
    "print(numbers.pop())"
   ]
  },
  {
   "cell_type": "code",
   "execution_count": 164,
   "id": "16c7a3b6-2e9f-459c-87ac-003126da13b2",
   "metadata": {},
   "outputs": [
    {
     "name": "stdout",
     "output_type": "stream",
     "text": [
      "[0, 1, 2, 3, 0, 4, 0, 5, 6, 7, 0, 9, 10]\n"
     ]
    }
   ],
   "source": [
    "print(numbers)\n"
   ]
  },
  {
   "cell_type": "code",
   "execution_count": null,
   "id": "b2abbf75-dedb-4d19-9b64-171c68dd5171",
   "metadata": {},
   "outputs": [],
   "source": [
    "#리스트에서 인자와 같은 값의 요소 인덱스 조회하기\n",
    "#리스트.index(인자) - >리스트엥서 숩서대로 인자와 요소가 같은 것을 찾아."
   ]
  },
  {
   "cell_type": "code",
   "execution_count": 165,
   "id": "74276ad0-e259-4dbd-b3e6-264995776f64",
   "metadata": {},
   "outputs": [
    {
     "name": "stdout",
     "output_type": "stream",
     "text": [
      "4\n"
     ]
    }
   ],
   "source": [
    "#리스트에서 인자와 같은 값이 요소의 총 개수 조회하기\n",
    "#리스트.count(인자) -> 리스트에서 인자와 요소가 같은 것을 찾아.\n",
    "#총 개수를 구해서 반환\n",
    "print(numbers.count(0))\n",
    "\n",
    "#####왜 답 3? 위에랑 연결"
   ]
  },
  {
   "cell_type": "code",
   "execution_count": 166,
   "id": "bad4fdf8-2c53-4413-9600-bafe63e57bc0",
   "metadata": {},
   "outputs": [
    {
     "name": "stdout",
     "output_type": "stream",
     "text": [
      "[0, 0, 0, 0, 1, 2, 3, 4, 5, 6, 7, 9, 10]\n"
     ]
    }
   ],
   "source": [
    "#리스트 요소 정렬하기\n",
    "#리스트.sort() -> 리스트 요소를 오름차순으로 정렬\n",
    "\n",
    "numbers.sort()\n",
    "print(numbers)\n",
    "\n",
    "###0은 또 왜"
   ]
  },
  {
   "cell_type": "code",
   "execution_count": 167,
   "id": "3dc8d703-012b-4cd4-976b-bd8032a17725",
   "metadata": {},
   "outputs": [
    {
     "name": "stdout",
     "output_type": "stream",
     "text": [
      "[8, 4, 2, 1, 2, 7]\n"
     ]
    }
   ],
   "source": [
    "#리스트 요소 정렬하기\n",
    "#리스트.reverse() -> 리스트 요소를 반대 방향으로 재정렬\n",
    "\n",
    "reverse_test = [7, 2, 1, 2, 4, 8]\n",
    "reverse_test.reverse()\n",
    "print(reverse_test)"
   ]
  },
  {
   "cell_type": "code",
   "execution_count": 169,
   "id": "0923461d-e9b2-466a-b3ec-a20f6c090c5c",
   "metadata": {
    "tags": []
   },
   "outputs": [
    {
     "name": "stdout",
     "output_type": "stream",
     "text": [
      "[3, 4, 5, 6, 7]\n",
      "7\n",
      "[3, 4, 5, 6]\n",
      "6\n",
      "5\n",
      "[3, 4]\n"
     ]
    }
   ],
   "source": [
    "#리스트를 Stack처럼 활용하기\n",
    "#Stack은 후입선출(Last In First Out) 구조\n",
    "#Stack에서 자료를 꺼낼 때 pop()으로만 꺼내서 Stack 자료 구조처럼 활용\n",
    "\n",
    "stack = [3, 4, 5]\n",
    "stack.append(6)\n",
    "stack.append(7)\n",
    "print(stack)\n",
    "\n",
    "print(stack.pop())\n",
    "\n",
    "print(stack)\n",
    "\n",
    "print(stack.pop())\n",
    "\n",
    "print(stack.pop())\n",
    "\n",
    "print(stack)"
   ]
  },
  {
   "cell_type": "code",
   "execution_count": 171,
   "id": "b69b5e58-0d52-427c-b807-8538ece7dabf",
   "metadata": {},
   "outputs": [],
   "source": [
    "#튜플(tuple)\n",
    "#리스트와 거의 같지만, 수정이 붋가!!!! 튜플은 불변(immutable)\n",
    "#튜플은 소괄호 사이에 요소들을 콤마로 구분지어 작성. 소괄호 생략 가능\n",
    "#튜플변수명 = (항목1, 항목2, 항목3, ...)"
   ]
  },
  {
   "cell_type": "code",
   "execution_count": 172,
   "id": "9183df31-284d-4b40-adb6-135933093821",
   "metadata": {},
   "outputs": [
    {
     "ename": "TypeError",
     "evalue": "'tuple' object does not support item assignment",
     "output_type": "error",
     "traceback": [
      "\u001b[1;31m---------------------------------------------------------------------------\u001b[0m",
      "\u001b[1;31mTypeError\u001b[0m                                 Traceback (most recent call last)",
      "\u001b[1;32m~\\AppData\\Local\\Temp\\ipykernel_13428\\2175104859.py\u001b[0m in \u001b[0;36m<module>\u001b[1;34m\u001b[0m\n\u001b[0;32m      2\u001b[0m \u001b[1;33m\u001b[0m\u001b[0m\n\u001b[0;32m      3\u001b[0m \u001b[0mtuple_variable\u001b[0m \u001b[1;33m=\u001b[0m \u001b[1;33m(\u001b[0m\u001b[1;36m1\u001b[0m\u001b[1;33m,\u001b[0m \u001b[1;36m2\u001b[0m\u001b[1;33m,\u001b[0m \u001b[1;36m3\u001b[0m\u001b[1;33m,\u001b[0m \u001b[1;36m4\u001b[0m\u001b[1;33m,\u001b[0m \u001b[1;36m5\u001b[0m\u001b[1;33m,\u001b[0m \u001b[1;34m\"hello\"\u001b[0m\u001b[1;33m)\u001b[0m\u001b[1;33m\u001b[0m\u001b[1;33m\u001b[0m\u001b[0m\n\u001b[1;32m----> 4\u001b[1;33m \u001b[0mtuple_variable\u001b[0m\u001b[1;33m[\u001b[0m\u001b[1;36m0\u001b[0m\u001b[1;33m]\u001b[0m \u001b[1;33m=\u001b[0m \u001b[1;36m0\u001b[0m\u001b[1;33m\u001b[0m\u001b[1;33m\u001b[0m\u001b[0m\n\u001b[0m",
      "\u001b[1;31mTypeError\u001b[0m: 'tuple' object does not support item assignment"
     ]
    }
   ],
   "source": [
    "#튜플(tuple)\n",
    "\n",
    "tuple_variable = (1, 2, 3, 4, 5, \"hello\")\n",
    "tuple_variable[0] = 0\n",
    "\n",
    "#error 이유 : 튜플타입은 재할당 할 수 없다. 요소 변경 불가능!!"
   ]
  },
  {
   "cell_type": "code",
   "execution_count": 176,
   "id": "62013f4b-72f9-46c2-a4c2-cda78fe8bfe7",
   "metadata": {},
   "outputs": [
    {
     "ename": "SyntaxError",
     "evalue": "cannot delete function call (3314636412.py, line 3)",
     "output_type": "error",
     "traceback": [
      "\u001b[1;36m  File \u001b[1;32m\"C:\\Users\\user\\AppData\\Local\\Temp\\ipykernel_13428\\3314636412.py\"\u001b[1;36m, line \u001b[1;32m3\u001b[0m\n\u001b[1;33m    del tuple_variable(1)\u001b[0m\n\u001b[1;37m        ^\u001b[0m\n\u001b[1;31mSyntaxError\u001b[0m\u001b[1;31m:\u001b[0m cannot delete function call\n"
     ]
    }
   ],
   "source": [
    "#error이유 : 튜플 수정, 삭제 다 불가능!!\n",
    "\n",
    "del tuple_variable(1)"
   ]
  },
  {
   "cell_type": "code",
   "execution_count": 175,
   "id": "37f23aa2-6b5c-4ad6-9dd1-c81d6f7f66dc",
   "metadata": {},
   "outputs": [
    {
     "name": "stdout",
     "output_type": "stream",
     "text": [
      "<class 'tuple'>\n",
      "('음', '오', '아', '예')\n"
     ]
    }
   ],
   "source": [
    "#튜플은 소괄호 생략가능하나 권고하진 않음.\n",
    "\n",
    "t_v2 = \"음\", \"오\", \"아\", \"예\"\n",
    "print(type(t_v2))\n",
    "print(t_v2)"
   ]
  },
  {
   "cell_type": "code",
   "execution_count": 3,
   "id": "bd2a5432-75d7-43fd-acef-270e1efc9d71",
   "metadata": {},
   "outputs": [
    {
     "name": "stdout",
     "output_type": "stream",
     "text": [
      "text1\n",
      "text2\n"
     ]
    }
   ],
   "source": [
    "#변수 여럿에 동시 할당하기(Unpacking)\n",
    "s1, s2 = (\"text1\", \"text2\")         #s1=t(0) s2=t(1) 이렇게할걸 한줄로 간단히 표현\n",
    "\n",
    "print(s1)\n",
    "print(s2)"
   ]
  },
  {
   "cell_type": "code",
   "execution_count": 4,
   "id": "e90daf5f-ffa9-453f-a0c3-a901362fdfb5",
   "metadata": {},
   "outputs": [
    {
     "name": "stdout",
     "output_type": "stream",
     "text": [
      "이렇게 리스트도 가능합니다.\n"
     ]
    }
   ],
   "source": [
    "#변수 여럿에 동시 할당하기(Unpacking)\n",
    "#튜플 외에 다른 시퀀스 자료형도 unpacking 가능\n",
    "# '다른 시퀀스 자료형'-> 연속 값\n",
    "\n",
    "s3, s4, s5 = [\"이렇게\", \"리스트도\", \"가능합니다.\"]\n",
    "print(s3, s4, s5)"
   ]
  },
  {
   "cell_type": "code",
   "execution_count": 5,
   "id": "85c1cf03-d6e1-4175-82a9-cdaef056b0d3",
   "metadata": {},
   "outputs": [
    {
     "name": "stdout",
     "output_type": "stream",
     "text": [
      "문 자 열 도\n"
     ]
    }
   ],
   "source": [
    "s6, s7, s8, s9 = \"문자열도\"\n",
    "print(s6, s7, s8, s9)"
   ]
  },
  {
   "cell_type": "code",
   "execution_count": 8,
   "id": "a51502f7-2203-4a85-a812-b9c70ec56759",
   "metadata": {},
   "outputs": [
    {
     "name": "stdin",
     "output_type": "stream",
     "text": [
      "Message 17171771\n"
     ]
    }
   ],
   "source": [
    "#파이썬 입력 사용해보기\n",
    "#input(\"메시지\") -> return 사용자가 입력한 값(str)\n",
    "\n",
    "input_value = input(\"Message\")"
   ]
  },
  {
   "cell_type": "code",
   "execution_count": 9,
   "id": "779c0638-779b-419b-9cc0-09dcf2492876",
   "metadata": {},
   "outputs": [
    {
     "name": "stdout",
     "output_type": "stream",
     "text": [
      "input_value: 17171771 \n",
      "type: <class 'str'>\n"
     ]
    }
   ],
   "source": [
    "print(\"input_value:\", input_value, \"\\ntype:\", type(input_value))"
   ]
  },
  {
   "cell_type": "code",
   "execution_count": 2,
   "id": "d3a906d7-298a-422a-82f2-af169e10bfc1",
   "metadata": {},
   "outputs": [
    {
     "ename": "NameError",
     "evalue": "name 'input_value' is not defined",
     "output_type": "error",
     "traceback": [
      "\u001b[1;31m---------------------------------------------------------------------------\u001b[0m",
      "\u001b[1;31mNameError\u001b[0m                                 Traceback (most recent call last)",
      "\u001b[1;32m~\\AppData\\Local\\Temp\\ipykernel_7408\\1165478679.py\u001b[0m in \u001b[0;36m<module>\u001b[1;34m\u001b[0m\n\u001b[1;32m----> 1\u001b[1;33m \u001b[0minput_value\u001b[0m \u001b[1;33m=\u001b[0m \u001b[0mint\u001b[0m\u001b[1;33m(\u001b[0m\u001b[0minput_value\u001b[0m\u001b[1;33m)\u001b[0m\u001b[1;33m\u001b[0m\u001b[1;33m\u001b[0m\u001b[0m\n\u001b[0m\u001b[0;32m      2\u001b[0m \u001b[1;33m\u001b[0m\u001b[0m\n\u001b[0;32m      3\u001b[0m \u001b[0mprint\u001b[0m\u001b[1;33m(\u001b[0m\u001b[1;34m\"input_value:\"\u001b[0m\u001b[1;33m,\u001b[0m \u001b[0minput_value\u001b[0m\u001b[1;33m,\u001b[0m \u001b[1;34m\"\\ntype:\"\u001b[0m\u001b[1;33m,\u001b[0m \u001b[0mtype\u001b[0m\u001b[1;33m(\u001b[0m\u001b[0minput_value\u001b[0m\u001b[1;33m)\u001b[0m\u001b[1;33m)\u001b[0m\u001b[1;33m\u001b[0m\u001b[1;33m\u001b[0m\u001b[0m\n",
      "\u001b[1;31mNameError\u001b[0m: name 'input_value' is not defined"
     ]
    }
   ],
   "source": [
    "input_value = int(input_value)\n",
    "\n",
    "print(\"input_value:\", input_value, \"\\ntype:\", type(input_value))\n"
   ]
  },
  {
   "cell_type": "code",
   "execution_count": 4,
   "id": "b4c831a5-adbe-4e0f-b6fc-dbdb361f36d8",
   "metadata": {},
   "outputs": [
    {
     "ename": "ValueError",
     "evalue": "invalid literal for int() with base 10: '정수 외에 다른 값을 입력해보세요.'",
     "output_type": "error",
     "traceback": [
      "\u001b[1;31m---------------------------------------------------------------------------\u001b[0m",
      "\u001b[1;31mValueError\u001b[0m                                Traceback (most recent call last)",
      "\u001b[1;32m~\\AppData\\Local\\Temp\\ipykernel_7408\\61904359.py\u001b[0m in \u001b[0;36m<module>\u001b[1;34m\u001b[0m\n\u001b[1;32m----> 1\u001b[1;33m \u001b[0minput_value2\u001b[0m \u001b[1;33m=\u001b[0m \u001b[0mint\u001b[0m\u001b[1;33m(\u001b[0m\u001b[1;34m\"정수 외에 다른 값을 입력해보세요.\"\u001b[0m\u001b[1;33m)\u001b[0m\u001b[1;33m\u001b[0m\u001b[1;33m\u001b[0m\u001b[0m\n\u001b[0m\u001b[0;32m      2\u001b[0m \u001b[0minput_value2\u001b[0m \u001b[1;33m=\u001b[0m \u001b[0mfloat\u001b[0m\u001b[1;33m(\u001b[0m\u001b[0minput_value2\u001b[0m\u001b[1;33m)\u001b[0m\u001b[1;33m\u001b[0m\u001b[1;33m\u001b[0m\u001b[0m\n\u001b[0;32m      3\u001b[0m \u001b[0mprint\u001b[0m\u001b[1;33m(\u001b[0m\u001b[0minput_value2\u001b[0m\u001b[1;33m)\u001b[0m\u001b[1;33m\u001b[0m\u001b[1;33m\u001b[0m\u001b[0m\n",
      "\u001b[1;31mValueError\u001b[0m: invalid literal for int() with base 10: '정수 외에 다른 값을 입력해보세요.'"
     ]
    }
   ],
   "source": [
    "input_value2 = int(\"정수 외에 다른 값을 입력해보세요.\")\n",
    "input_value2 = float(input_value2)\n",
    "print(input_value2)"
   ]
  },
  {
   "cell_type": "code",
   "execution_count": null,
   "id": "0754a412-7543-433a-b6b5-232185612d8a",
   "metadata": {},
   "outputs": [],
   "source": []
  }
 ],
 "metadata": {
  "kernelspec": {
   "display_name": "Python 3 (ipykernel)",
   "language": "python",
   "name": "python3"
  },
  "language_info": {
   "codemirror_mode": {
    "name": "ipython",
    "version": 3
   },
   "file_extension": ".py",
   "mimetype": "text/x-python",
   "name": "python",
   "nbconvert_exporter": "python",
   "pygments_lexer": "ipython3",
   "version": "3.9.13"
  },
  "toc-autonumbering": true,
  "toc-showmarkdowntxt": false
 },
 "nbformat": 4,
 "nbformat_minor": 5
}
