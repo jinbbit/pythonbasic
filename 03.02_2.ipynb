{
 "cells": [
  {
   "cell_type": "code",
   "execution_count": 2,
   "id": "3d79d655-2a9c-4a2c-acb5-66f0ca3db6e7",
   "metadata": {},
   "outputs": [],
   "source": [
    "import numpy as np"
   ]
  },
  {
   "cell_type": "code",
   "execution_count": 3,
   "id": "11c6ef89-935a-4f84-a253-4227d89c31e0",
   "metadata": {},
   "outputs": [
    {
     "data": {
      "text/plain": [
       "array([[[ 0,  1],\n",
       "        [ 2,  3],\n",
       "        [ 4,  5],\n",
       "        [ 6,  7],\n",
       "        [ 8,  9]],\n",
       "\n",
       "       [[10, 11],\n",
       "        [12, 13],\n",
       "        [14, 15],\n",
       "        [16, 17],\n",
       "        [18, 19]]])"
      ]
     },
     "execution_count": 3,
     "metadata": {},
     "output_type": "execute_result"
    }
   ],
   "source": [
    "x = np.arange(20).reshape(2, 5, -1)\n",
    "x"
   ]
  },
  {
   "cell_type": "code",
   "execution_count": 4,
   "id": "0eae068f-ca0d-4942-aa51-717e5d8c9875",
   "metadata": {},
   "outputs": [
    {
     "data": {
      "text/plain": [
       "0"
      ]
     },
     "execution_count": 4,
     "metadata": {},
     "output_type": "execute_result"
    }
   ],
   "source": [
    "x.min()"
   ]
  },
  {
   "cell_type": "code",
   "execution_count": 5,
   "id": "54ee0b2c-b5ab-4e05-b9e3-5928cc6c9838",
   "metadata": {},
   "outputs": [
    {
     "data": {
      "text/plain": [
       "0"
      ]
     },
     "execution_count": 5,
     "metadata": {},
     "output_type": "execute_result"
    }
   ],
   "source": [
    "np.min(x)"
   ]
  },
  {
   "cell_type": "code",
   "execution_count": 6,
   "id": "350deea5-88e8-418b-a333-73e7117b70ec",
   "metadata": {},
   "outputs": [
    {
     "data": {
      "text/plain": [
       "array([[0, 1],\n",
       "       [2, 3],\n",
       "       [4, 5],\n",
       "       [6, 7],\n",
       "       [8, 9]])"
      ]
     },
     "execution_count": 6,
     "metadata": {},
     "output_type": "execute_result"
    }
   ],
   "source": [
    "# 연산 대상이 2차원 이상일 때에는 axis 키워드 인수를 사용할 수 있습니다.\n",
    "\n",
    "x.min(axis = 0)"
   ]
  },
  {
   "cell_type": "code",
   "execution_count": 7,
   "id": "9d38288e-ad60-4369-a5b8-ddf0a75621b2",
   "metadata": {},
   "outputs": [
    {
     "data": {
      "text/plain": [
       "array([[ 0,  1],\n",
       "       [10, 11]])"
      ]
     },
     "execution_count": 7,
     "metadata": {},
     "output_type": "execute_result"
    }
   ],
   "source": [
    "np.min(x, axis = 1)"
   ]
  },
  {
   "cell_type": "code",
   "execution_count": 8,
   "id": "449f89dd-60ac-4d67-b64d-402039cd3727",
   "metadata": {},
   "outputs": [
    {
     "data": {
      "text/plain": [
       "array([[ 0,  2,  4,  6,  8],\n",
       "       [10, 12, 14, 16, 18]])"
      ]
     },
     "execution_count": 8,
     "metadata": {},
     "output_type": "execute_result"
    }
   ],
   "source": [
    "x.min(axis = 2)"
   ]
  },
  {
   "cell_type": "code",
   "execution_count": 12,
   "id": "85b25fd8-c904-4fee-b1d8-424e79cc1ab1",
   "metadata": {},
   "outputs": [
    {
     "data": {
      "text/plain": [
       "array([[[ 0,  1],\n",
       "        [ 2,  3],\n",
       "        [ 4,  5],\n",
       "        [ 6,  7],\n",
       "        [ 8,  9]],\n",
       "\n",
       "       [[10, 11],\n",
       "        [12, 13],\n",
       "        [14, 15],\n",
       "        [16, 17],\n",
       "        [18, 19]]])"
      ]
     },
     "execution_count": 12,
     "metadata": {},
     "output_type": "execute_result"
    }
   ],
   "source": [
    "# argmin() 메서드는 해당 배열의 제일 작은 값의 인덱스를 반환합니다. \n",
    "\n",
    "x = np.arange(20).reshape(2, 5, -1)\n",
    "x"
   ]
  },
  {
   "cell_type": "code",
   "execution_count": 13,
   "id": "5804a3d7-b07b-4437-8971-d367f046f975",
   "metadata": {},
   "outputs": [
    {
     "data": {
      "text/plain": [
       "0"
      ]
     },
     "execution_count": 13,
     "metadata": {},
     "output_type": "execute_result"
    }
   ],
   "source": [
    "x.argmin()"
   ]
  },
  {
   "cell_type": "code",
   "execution_count": 14,
   "id": "6d29ddae-8771-4387-9eba-1c2241e802c6",
   "metadata": {},
   "outputs": [
    {
     "data": {
      "text/plain": [
       "0"
      ]
     },
     "execution_count": 14,
     "metadata": {},
     "output_type": "execute_result"
    }
   ],
   "source": [
    "np.argmin(x)"
   ]
  },
  {
   "cell_type": "code",
   "execution_count": 15,
   "id": "972f159f-b894-408b-a50c-a58efd0d9c4f",
   "metadata": {},
   "outputs": [
    {
     "data": {
      "text/plain": [
       "array([[0, 0],\n",
       "       [0, 0],\n",
       "       [0, 0],\n",
       "       [0, 0],\n",
       "       [0, 0]], dtype=int64)"
      ]
     },
     "execution_count": 15,
     "metadata": {},
     "output_type": "execute_result"
    }
   ],
   "source": [
    "# 연산 대상이 2차원이상일 때에는 axis 키워드 인수를 사용할 수 있습니다.\n",
    "\n",
    "x.argmin(axis = 0)"
   ]
  },
  {
   "cell_type": "code",
   "execution_count": 16,
   "id": "f74195bf-dd5e-4404-ae4b-5f8edf85fba3",
   "metadata": {},
   "outputs": [
    {
     "data": {
      "text/plain": [
       "array([[0, 0],\n",
       "       [0, 0]], dtype=int64)"
      ]
     },
     "execution_count": 16,
     "metadata": {},
     "output_type": "execute_result"
    }
   ],
   "source": [
    "np.argmin(x, axis = 1)"
   ]
  },
  {
   "cell_type": "code",
   "execution_count": 17,
   "id": "01b94ef7-ae5f-46fb-a47c-58c9f645b258",
   "metadata": {},
   "outputs": [
    {
     "data": {
      "text/plain": [
       "array([[0, 0, 0, 0, 0],\n",
       "       [0, 0, 0, 0, 0]], dtype=int64)"
      ]
     },
     "execution_count": 17,
     "metadata": {},
     "output_type": "execute_result"
    }
   ],
   "source": [
    "x.argmin(axis = 2)"
   ]
  },
  {
   "cell_type": "code",
   "execution_count": 18,
   "id": "bcb40f9b-6423-4fa0-9c91-47efc0cea7d3",
   "metadata": {},
   "outputs": [
    {
     "data": {
      "text/plain": [
       "array([[[ 0,  1],\n",
       "        [ 2,  3],\n",
       "        [ 4,  5],\n",
       "        [ 6,  7],\n",
       "        [ 8,  9]],\n",
       "\n",
       "       [[10, 11],\n",
       "        [12, 13],\n",
       "        [14, 15],\n",
       "        [16, 17],\n",
       "        [18, 19]]])"
      ]
     },
     "execution_count": 18,
     "metadata": {},
     "output_type": "execute_result"
    }
   ],
   "source": [
    "# max() 메서드는 해당 배열의 제일 큰 값의 결과를 반환합니다.\n",
    "\n",
    "x = np.arange(20).reshape(2, 5, -1)\n",
    "x"
   ]
  },
  {
   "cell_type": "code",
   "execution_count": 19,
   "id": "e55c043b-7374-4859-b18a-13edd570d154",
   "metadata": {},
   "outputs": [
    {
     "data": {
      "text/plain": [
       "19"
      ]
     },
     "execution_count": 19,
     "metadata": {},
     "output_type": "execute_result"
    }
   ],
   "source": [
    "x.max()"
   ]
  },
  {
   "cell_type": "code",
   "execution_count": 20,
   "id": "8b4c6c63-eb65-4253-9989-7481438b019b",
   "metadata": {},
   "outputs": [
    {
     "data": {
      "text/plain": [
       "19"
      ]
     },
     "execution_count": 20,
     "metadata": {},
     "output_type": "execute_result"
    }
   ],
   "source": [
    "np.max(x)"
   ]
  },
  {
   "cell_type": "code",
   "execution_count": 21,
   "id": "a623f7c4-937e-42fe-bb3b-a73bb09d8fe9",
   "metadata": {},
   "outputs": [
    {
     "data": {
      "text/plain": [
       "array([[10, 11],\n",
       "       [12, 13],\n",
       "       [14, 15],\n",
       "       [16, 17],\n",
       "       [18, 19]])"
      ]
     },
     "execution_count": 21,
     "metadata": {},
     "output_type": "execute_result"
    }
   ],
   "source": [
    "# 연산 대상이 2차원 이상일 때에는 axis 키워드 인수를 사용할 수 있습니다.\n",
    "\n",
    "x.max(axis = 0)"
   ]
  },
  {
   "cell_type": "code",
   "execution_count": 22,
   "id": "1ae4ffb4-94b9-4d0a-b523-0c142352d08d",
   "metadata": {},
   "outputs": [
    {
     "data": {
      "text/plain": [
       "array([[ 8,  9],\n",
       "       [18, 19]])"
      ]
     },
     "execution_count": 22,
     "metadata": {},
     "output_type": "execute_result"
    }
   ],
   "source": [
    "np.max(x, axis = 1)"
   ]
  },
  {
   "cell_type": "code",
   "execution_count": 23,
   "id": "0e782106-a446-4b03-8b1f-7a79cc0d4da5",
   "metadata": {},
   "outputs": [
    {
     "data": {
      "text/plain": [
       "array([[ 1,  3,  5,  7,  9],\n",
       "       [11, 13, 15, 17, 19]])"
      ]
     },
     "execution_count": 23,
     "metadata": {},
     "output_type": "execute_result"
    }
   ],
   "source": [
    "x.max(axis = 2)"
   ]
  },
  {
   "cell_type": "code",
   "execution_count": 24,
   "id": "96ab93a2-e979-4c8f-a930-64d1a0d5c6d7",
   "metadata": {},
   "outputs": [
    {
     "data": {
      "text/plain": [
       "array([[[ 0,  1],\n",
       "        [ 2,  3],\n",
       "        [ 4,  5],\n",
       "        [ 6,  7],\n",
       "        [ 8,  9]],\n",
       "\n",
       "       [[10, 11],\n",
       "        [12, 13],\n",
       "        [14, 15],\n",
       "        [16, 17],\n",
       "        [18, 19]]])"
      ]
     },
     "execution_count": 24,
     "metadata": {},
     "output_type": "execute_result"
    }
   ],
   "source": [
    "# argmax() 메서드는 해당 배열의 제일 큰 값의 인덱스를 반환합니다.\n",
    "\n",
    "x = np.arange(20).reshape(2, 5, -1)\n",
    "x"
   ]
  },
  {
   "cell_type": "code",
   "execution_count": 25,
   "id": "62639404-ec48-40e9-af42-b1a4ce36f276",
   "metadata": {},
   "outputs": [
    {
     "data": {
      "text/plain": [
       "19"
      ]
     },
     "execution_count": 25,
     "metadata": {},
     "output_type": "execute_result"
    }
   ],
   "source": [
    "x.argmax()"
   ]
  },
  {
   "cell_type": "code",
   "execution_count": 26,
   "id": "4fe8c8bb-74c4-4a65-9bbe-1c903eb7e966",
   "metadata": {},
   "outputs": [
    {
     "data": {
      "text/plain": [
       "19"
      ]
     },
     "execution_count": 26,
     "metadata": {},
     "output_type": "execute_result"
    }
   ],
   "source": [
    "np.argmax(x)"
   ]
  },
  {
   "cell_type": "code",
   "execution_count": 27,
   "id": "d9cae464-df67-450d-86d0-09afd69ef054",
   "metadata": {},
   "outputs": [
    {
     "data": {
      "text/plain": [
       "array([[1, 1],\n",
       "       [1, 1],\n",
       "       [1, 1],\n",
       "       [1, 1],\n",
       "       [1, 1]], dtype=int64)"
      ]
     },
     "execution_count": 27,
     "metadata": {},
     "output_type": "execute_result"
    }
   ],
   "source": [
    "# 연산 대상이 2차원 이상일 때에는 axis 키워드 인수를 사용할 수 있습니다.\n",
    "\n",
    "x.argmax(axis = 0)"
   ]
  },
  {
   "cell_type": "code",
   "execution_count": 28,
   "id": "e28963c1-65fc-45bf-9644-4b5c15fcaee6",
   "metadata": {},
   "outputs": [
    {
     "data": {
      "text/plain": [
       "array([[4, 4],\n",
       "       [4, 4]], dtype=int64)"
      ]
     },
     "execution_count": 28,
     "metadata": {},
     "output_type": "execute_result"
    }
   ],
   "source": [
    "np.argmax(x, axis = 1)"
   ]
  },
  {
   "cell_type": "code",
   "execution_count": 29,
   "id": "ac7a7491-d21a-483c-8e24-3499ae0c4e55",
   "metadata": {},
   "outputs": [
    {
     "data": {
      "text/plain": [
       "array([[1, 1, 1, 1, 1],\n",
       "       [1, 1, 1, 1, 1]], dtype=int64)"
      ]
     },
     "execution_count": 29,
     "metadata": {},
     "output_type": "execute_result"
    }
   ],
   "source": [
    "x.argmax(axis = 2)"
   ]
  },
  {
   "cell_type": "code",
   "execution_count": 38,
   "id": "4b109d41-abc1-4cba-bda2-9f43a6b60b6a",
   "metadata": {},
   "outputs": [
    {
     "data": {
      "text/plain": [
       "array([[[37, 78],\n",
       "        [ 4, 62],\n",
       "        [49, 75],\n",
       "        [14, 66],\n",
       "        [75, 46]],\n",
       "\n",
       "       [[90, 82],\n",
       "        [74, 32],\n",
       "        [82, 87],\n",
       "        [49, 17],\n",
       "        [70, 33]]])"
      ]
     },
     "execution_count": 38,
     "metadata": {},
     "output_type": "execute_result"
    }
   ],
   "source": [
    "# 강사님 예\n",
    "\n",
    "import numpy as np\n",
    "import random\n",
    "test = np.array([random.randint(1, 99) for _ in range(20)]).reshape(2, 5, -1)\n",
    "test"
   ]
  },
  {
   "cell_type": "code",
   "execution_count": 39,
   "id": "64910a31-b47e-4c63-b9d2-ffad0d170888",
   "metadata": {},
   "outputs": [
    {
     "data": {
      "text/plain": [
       "array([[37, 78],\n",
       "       [ 4, 32],\n",
       "       [49, 75],\n",
       "       [14, 17],\n",
       "       [70, 33]])"
      ]
     },
     "execution_count": 39,
     "metadata": {},
     "output_type": "execute_result"
    }
   ],
   "source": [
    "np.min(test, axis = 0)"
   ]
  },
  {
   "cell_type": "code",
   "execution_count": 40,
   "id": "dd9ca4e8-8110-4f81-9c35-a7cb9593db10",
   "metadata": {},
   "outputs": [
    {
     "data": {
      "text/plain": [
       "array([[ 4, 46],\n",
       "       [49, 17]])"
      ]
     },
     "execution_count": 40,
     "metadata": {},
     "output_type": "execute_result"
    }
   ],
   "source": [
    "np.min(test, axis = 1)"
   ]
  },
  {
   "cell_type": "code",
   "execution_count": 41,
   "id": "b6f62fc6-1f3c-4d27-9e27-e757dfff10e0",
   "metadata": {},
   "outputs": [
    {
     "data": {
      "text/plain": [
       "array([[37,  4, 49, 14, 46],\n",
       "       [82, 32, 82, 17, 33]])"
      ]
     },
     "execution_count": 41,
     "metadata": {},
     "output_type": "execute_result"
    }
   ],
   "source": [
    "np.min(test, axis = 2)"
   ]
  },
  {
   "cell_type": "code",
   "execution_count": 49,
   "id": "571e6aae-1168-484e-be47-27376d23cb4c",
   "metadata": {},
   "outputs": [],
   "source": [
    "# <<차원 축소 연산 - mean(), median(), np.all(), np.any()>>\n",
    "\n",
    "x = np.array([1, 2, 3, 1])"
   ]
  },
  {
   "cell_type": "code",
   "execution_count": 43,
   "id": "3defb1e9-c76c-4335-83b4-d47ce7652247",
   "metadata": {},
   "outputs": [
    {
     "data": {
      "text/plain": [
       "1.75"
      ]
     },
     "execution_count": 43,
     "metadata": {},
     "output_type": "execute_result"
    }
   ],
   "source": [
    "# mean() : 평균\n",
    "x.mean()"
   ]
  },
  {
   "cell_type": "code",
   "execution_count": 44,
   "id": "94a257fa-8987-4cf0-b80e-1ab6e7c6ac42",
   "metadata": {},
   "outputs": [
    {
     "data": {
      "text/plain": [
       "1.5"
      ]
     },
     "execution_count": 44,
     "metadata": {},
     "output_type": "execute_result"
    }
   ],
   "source": [
    "# median() : 중앙값\n",
    "np.median(x)"
   ]
  },
  {
   "cell_type": "code",
   "execution_count": 47,
   "id": "60e7a692-f9f6-450c-bcf2-41de9368b8c5",
   "metadata": {},
   "outputs": [
    {
     "data": {
      "text/plain": [
       "False"
      ]
     },
     "execution_count": 50,
     "metadata": {},
     "output_type": "execute_result"
    }
   ],
   "source": [
    "# np.all()은 배열 요소가 모두 True일 때 True를 반환합니다.\n",
    "# (하나라도 False면 False입니다.)\n",
    "np.all([True, True, False])"
   ]
  },
  {
   "cell_type": "code",
   "execution_count": 48,
   "id": "8e0a0464-f2d4-4148-8932-c1ba02f1cacb",
   "metadata": {},
   "outputs": [
    {
     "data": {
      "text/plain": [
       "True"
      ]
     },
     "execution_count": 51,
     "metadata": {},
     "output_type": "execute_result"
    }
   ],
   "source": [
    "# np.any()는 배열 요소가 하나라도 True면 True를 반환합니다.\n",
    "# (전부 False면 False입니다.)\n",
    "np.any([True, True, False])"
   ]
  },
  {
   "cell_type": "code",
   "execution_count": 53,
   "id": "c9bf9578-26d2-49cd-9e32-6a575cfadb4f",
   "metadata": {},
   "outputs": [],
   "source": [
    "# <<차원 축소 연산 - np.any(), np.all()>>\n",
    "# np.any()의 요소가 단 하나라도 True이면 True를, 모두 False일 때는 False를 반환합니다.\n",
    "\n",
    "# np.all()은 모든 요소가 True이면 True를, 하나라도 False일 때는 False를 반환합니다.\n",
    "\n",
    "a = np.array([1, 2, 3, 2])\n",
    "b = np.array([2, 2, 3, 2])\n",
    "c = np.array([6, 4, 4, 5])"
   ]
  },
  {
   "cell_type": "code",
   "execution_count": 54,
   "id": "067a2846-6ba1-4d9c-8b11-7a4e5dac8894",
   "metadata": {},
   "outputs": [
    {
     "data": {
      "text/plain": [
       "True"
      ]
     },
     "execution_count": 54,
     "metadata": {},
     "output_type": "execute_result"
    }
   ],
   "source": [
    "((a <= b) & (b <= c)).all()"
   ]
  },
  {
   "cell_type": "code",
   "execution_count": 59,
   "id": "84e9875d-5ab9-4631-aec7-389eecf644f3",
   "metadata": {},
   "outputs": [
    {
     "data": {
      "text/plain": [
       "array([[0, 0, 0, ..., 0, 0, 0],\n",
       "       [0, 0, 0, ..., 0, 0, 0],\n",
       "       [0, 0, 0, ..., 0, 0, 0],\n",
       "       ...,\n",
       "       [0, 0, 0, ..., 0, 0, 0],\n",
       "       [0, 0, 0, ..., 0, 0, 0],\n",
       "       [0, 0, 0, ..., 0, 0, 0]], dtype=int64)"
      ]
     },
     "execution_count": 59,
     "metadata": {},
     "output_type": "execute_result"
    }
   ],
   "source": [
    "# 100 x 100 행렬 안에 다 0일 때\n",
    "\n",
    "a = np.zeros((100, 100), dtype=np.int64)\n",
    "a"
   ]
  },
  {
   "cell_type": "code",
   "execution_count": 60,
   "id": "6667c2de-5560-42c8-a0a0-82b419942e59",
   "metadata": {},
   "outputs": [
    {
     "data": {
      "text/plain": [
       "False"
      ]
     },
     "execution_count": 60,
     "metadata": {},
     "output_type": "execute_result"
    }
   ],
   "source": [
    "np.any(a != 0)  # a 가 0이 아니다?!"
   ]
  },
  {
   "cell_type": "code",
   "execution_count": 61,
   "id": "0b4db4d4-1771-4b86-82fe-3ee60ac29938",
   "metadata": {},
   "outputs": [
    {
     "data": {
      "text/plain": [
       "True"
      ]
     },
     "execution_count": 61,
     "metadata": {},
     "output_type": "execute_result"
    }
   ],
   "source": [
    "np.all(a == a) "
   ]
  },
  {
   "cell_type": "code",
   "execution_count": 62,
   "id": "3f9006dc-d530-4074-9f83-d670504e2c68",
   "metadata": {},
   "outputs": [],
   "source": [
    "# 연습문제\n",
    "\n",
    "practice = np.array([[1.1, 7.1, 8.0, 2.1, 6.5, 7.2], \n",
    "                     [2.7, 5.2, 3.3, 9.0, 7.7, 2.8],\n",
    "                     [0.7, 8.8, 4.2, 8.9, 4.3, 7.4],\n",
    "                     [8.2, 1.1, 5.4, 2.9, 6.9, 0.2],\n",
    "                     [7.4, 4.8, 2.7, 3.1, 2.8, 8.9]])\n"
   ]
  },
  {
   "cell_type": "code",
   "execution_count": 73,
   "id": "e47cccb4-516f-4fbb-9101-71849167553c",
   "metadata": {},
   "outputs": [
    {
     "data": {
      "text/plain": [
       "9.0"
      ]
     },
     "execution_count": 73,
     "metadata": {},
     "output_type": "execute_result"
    }
   ],
   "source": [
    "# 1. 전체의 최대값\n",
    "\n",
    "practice.max()"
   ]
  },
  {
   "cell_type": "code",
   "execution_count": 74,
   "id": "b59f8c90-2d4e-4bad-b2d7-67f3b56eba8f",
   "metadata": {},
   "outputs": [
    {
     "data": {
      "text/plain": [
       "array([20.1, 27. , 23.6, 26. , 28.2, 26.5])"
      ]
     },
     "execution_count": 74,
     "metadata": {},
     "output_type": "execute_result"
    }
   ],
   "source": [
    "# 2. 행 간의 합\n",
    "\n",
    "practice.sum(axis = 0)"
   ]
  },
  {
   "cell_type": "code",
   "execution_count": 75,
   "id": "4c531824-ca27-4c5a-ab01-07cc22602dcf",
   "metadata": {},
   "outputs": [
    {
     "data": {
      "text/plain": [
       "array([8.2, 8.8, 8. , 9. , 7.7, 8.9])"
      ]
     },
     "execution_count": 75,
     "metadata": {},
     "output_type": "execute_result"
    }
   ],
   "source": [
    "# 3. 행 간의 최대값\n",
    "\n",
    "practice.max(axis = 0)"
   ]
  },
  {
   "cell_type": "code",
   "execution_count": 76,
   "id": "7fd03b16-96c4-42f2-9e95-19e5887b342e",
   "metadata": {},
   "outputs": [
    {
     "data": {
      "text/plain": [
       "array([5.33333333, 5.11666667, 5.71666667, 4.11666667, 4.95      ])"
      ]
     },
     "execution_count": 76,
     "metadata": {},
     "output_type": "execute_result"
    }
   ],
   "source": [
    "# 4. 열 간의 평균\n",
    "\n",
    "practice.mean(axis = 1)"
   ]
  },
  {
   "cell_type": "code",
   "execution_count": 77,
   "id": "3a8b53d5-a7bf-4a55-927f-aedbcba655bc",
   "metadata": {},
   "outputs": [
    {
     "data": {
      "text/plain": [
       "array([1.1, 2.7, 0.7, 0.2, 2.7])"
      ]
     },
     "execution_count": 77,
     "metadata": {},
     "output_type": "execute_result"
    }
   ],
   "source": [
    "# 5. 열 간의 최소값\n",
    "practice.min(axis = 1)"
   ]
  },
  {
   "cell_type": "code",
   "execution_count": 78,
   "id": "931c4e63-8225-465e-9e68-c03dad6dc970",
   "metadata": {},
   "outputs": [],
   "source": [
    "# 정렬\n",
    "\n"
   ]
  },
  {
   "cell_type": "code",
   "execution_count": 82,
   "id": "c808f11d-7773-437f-8381-dfb44cc42c09",
   "metadata": {},
   "outputs": [
    {
     "data": {
      "text/plain": [
       "array([2, 3, 1, 0], dtype=int64)"
      ]
     },
     "execution_count": 82,
     "metadata": {},
     "output_type": "execute_result"
    }
   ],
   "source": [
    "# 만약 자료를 정렬하는 것이 아니라 순서만 알고 싶다면 argsort 명령을 사용합니다.\n",
    "\n",
    "a = np.array([42, 38, 12, 25])   # 오름차순으로 인덱스 가져온 것\n",
    "j = np.argsort(a)   # 순서대로 인덱스 가져온 것\n",
    "j   # [42]=0, [38]=1, [12]=2, [25]=3"
   ]
  },
  {
   "cell_type": "code",
   "execution_count": 83,
   "id": "f7ac81e0-16e2-48d8-a6ec-bb28e2798d91",
   "metadata": {},
   "outputs": [
    {
     "data": {
      "text/plain": [
       "array([12, 25, 38, 42])"
      ]
     },
     "execution_count": 83,
     "metadata": {},
     "output_type": "execute_result"
    }
   ],
   "source": [
    "a[j]"
   ]
  },
  {
   "cell_type": "code",
   "execution_count": 84,
   "id": "bb41aa44-2998-46be-b171-438c0d01ef2d",
   "metadata": {},
   "outputs": [
    {
     "data": {
      "text/plain": [
       "array([12, 25, 38, 42])"
      ]
     },
     "execution_count": 84,
     "metadata": {},
     "output_type": "execute_result"
    }
   ],
   "source": [
    "np.sort(a)"
   ]
  },
  {
   "cell_type": "code",
   "execution_count": 85,
   "id": "42fdd980-4d83-4a61-8ce7-9f6fa5ed63e9",
   "metadata": {},
   "outputs": [
    {
     "data": {
      "text/plain": [
       "array([[1, 2],\n",
       "       [3, 4],\n",
       "       [5, 6]])"
      ]
     },
     "execution_count": 85,
     "metadata": {},
     "output_type": "execute_result"
    }
   ],
   "source": [
    "# 고급 인덱싱 - 인덱스 배열을 사용한 인덱싱\n",
    "\n",
    "a = np.array([[1,2],[3,4],[5,6]])\n",
    "a\n"
   ]
  },
  {
   "cell_type": "code",
   "execution_count": 89,
   "id": "e7af8477-0981-4c6f-afd7-fe9d7ed9e463",
   "metadata": {},
   "outputs": [
    {
     "name": "stdout",
     "output_type": "stream",
     "text": [
      "[1 4 5]\n"
     ]
    }
   ],
   "source": [
    "print(a[[0,1,2], [0,1,0]])"
   ]
  },
  {
   "cell_type": "code",
   "execution_count": 90,
   "id": "bdf62262-6b3c-497b-9d6a-d0d8b10c4a05",
   "metadata": {},
   "outputs": [
    {
     "data": {
      "text/plain": [
       "array([[1, 2],\n",
       "       [3, 4],\n",
       "       [5, 6]])"
      ]
     },
     "execution_count": 90,
     "metadata": {},
     "output_type": "execute_result"
    }
   ],
   "source": [
    "# 강사님 추가설명\n",
    "\n",
    "a = np.arange(1,7).reshape(3,2)\n",
    "a"
   ]
  },
  {
   "cell_type": "code",
   "execution_count": 92,
   "id": "3151dc04-0fec-4a6f-b91e-bdcc5eee5637",
   "metadata": {},
   "outputs": [
    {
     "data": {
      "text/plain": [
       "array([1, 4, 5])"
      ]
     },
     "execution_count": 92,
     "metadata": {},
     "output_type": "execute_result"
    }
   ],
   "source": [
    "a[[0,1,2], [0,1,0]]   # 1행의 1열, 2행의 2열, 3행의 1열"
   ]
  },
  {
   "cell_type": "code",
   "execution_count": 93,
   "id": "73830c21-767d-4c6b-ae1a-2ecf71961a2c",
   "metadata": {},
   "outputs": [
    {
     "data": {
      "text/plain": [
       "array([[1, 2],\n",
       "       [3, 4],\n",
       "       [5, 6]])"
      ]
     },
     "execution_count": 93,
     "metadata": {},
     "output_type": "execute_result"
    }
   ],
   "source": [
    "# 슬라이싱 범위도 결국 인덱스 배열이라고 생각하면 됩니다.\n",
    "\n",
    "a = np.array([[1,2],[3,4],[5,6]])\n",
    "a"
   ]
  },
  {
   "cell_type": "code",
   "execution_count": 96,
   "id": "a5a25c5b-a887-4075-b10e-7d5e0bc0190c",
   "metadata": {},
   "outputs": [
    {
     "name": "stdout",
     "output_type": "stream",
     "text": [
      "[[1 2 1]\n",
      " [3 4 3]\n",
      " [5 6 5]]\n"
     ]
    }
   ],
   "source": [
    "print(a[:, [0,1,0]]) # 전체(0,1,2)행에 대해서 [0,1,0] 범위를 갖는거\n",
    "# 1행의 [0,1,0]\n",
    "# 2행의 [0,1,0]\n",
    "# 3행의 [0,1,0]"
   ]
  },
  {
   "cell_type": "code",
   "execution_count": 98,
   "id": "1c0e5dfa-3f5c-4ded-97f6-89ec8be965c2",
   "metadata": {},
   "outputs": [
    {
     "data": {
      "text/plain": [
       "array([[5, 6, 5],\n",
       "       [3, 4, 3],\n",
       "       [1, 2, 1]])"
      ]
     },
     "execution_count": 98,
     "metadata": {},
     "output_type": "execute_result"
    }
   ],
   "source": [
    "a[::-1, [0,1,0]]"
   ]
  },
  {
   "cell_type": "code",
   "execution_count": 106,
   "id": "337abb04-10b3-4f16-a370-a91e92ee498c",
   "metadata": {},
   "outputs": [
    {
     "data": {
      "text/plain": [
       "array([[  1,   2,   3,   4],\n",
       "       [ 46,  99, 100,  71],\n",
       "       [ 81,  59,  90, 100]])"
      ]
     },
     "execution_count": 106,
     "metadata": {},
     "output_type": "execute_result"
    }
   ],
   "source": [
    "# 연습 문제\n",
    "\n",
    "scores = np.array([[1, 2, 3, 4], # 학번\n",
    "                   [46, 99, 100, 71], # 영어\n",
    "                   [81, 59, 90, 100]]) # 수학\n",
    "\n",
    "scores\n"
   ]
  },
  {
   "cell_type": "code",
   "execution_count": 107,
   "id": "2d9adafc-7a05-4c93-897f-35ef28e09514",
   "metadata": {},
   "outputs": [
    {
     "data": {
      "text/plain": [
       "array([0, 3, 1, 2], dtype=int64)"
      ]
     },
     "execution_count": 107,
     "metadata": {},
     "output_type": "execute_result"
    }
   ],
   "source": [
    "en = np.argsort(scores[1,:])\n",
    "\n",
    "en"
   ]
  },
  {
   "cell_type": "code",
   "execution_count": 111,
   "id": "49dfb2e5-68ad-46bd-b446-23ec5352da0b",
   "metadata": {},
   "outputs": [
    {
     "data": {
      "text/plain": [
       "array([[  1,   4,   2,   3],\n",
       "       [ 46,  71,  99, 100],\n",
       "       [ 81, 100,  59,  90]])"
      ]
     },
     "execution_count": 111,
     "metadata": {},
     "output_type": "execute_result"
    }
   ],
   "source": [
    "scores[:, en]"
   ]
  },
  {
   "cell_type": "code",
   "execution_count": 112,
   "id": "8b5f61b9-4182-4535-bb6c-75f30a00f236",
   "metadata": {},
   "outputs": [],
   "source": [
    "# 기술통계\n",
    "# 넘파이는 다음과 같은 데이터 집합에 대해 간단한 통계를 계산하는 함수를 제공. \n",
    "# 이러한 값들을 통틀어 기술 통계(descriptive statistics)라고 합니다.\n"
   ]
  },
  {
   "cell_type": "code",
   "execution_count": null,
   "id": "f5aaa1bb-7d10-4ca4-8ea6-ceb00c470c50",
   "metadata": {},
   "outputs": [],
   "source": [
    "# 표본 평균\n",
    "np.mean()\n",
    "\n",
    "# 표본 분산\n",
    "np.var()\n",
    "\n",
    "# 표본 표준편차\n",
    "np.std()\n",
    "\n",
    "# 최대값\n",
    "np.max()\n",
    "\n",
    "# 최소값\n",
    "np.min()\n",
    "\n",
    "# 중앙값\n",
    "np.median()"
   ]
  },
  {
   "cell_type": "code",
   "execution_count": null,
   "id": "445b086c-5263-4305-a1b3-5c1e0aa07d05",
   "metadata": {},
   "outputs": [],
   "source": [
    "# 사분위수\n",
    "1사분위수는 25%\n",
    "np.median() 중앙값은 2사분위 50"
   ]
  },
  {
   "cell_type": "code",
   "execution_count": 116,
   "id": "d4df69f1-6bb8-45c8-83e6-b3019255669c",
   "metadata": {},
   "outputs": [],
   "source": [
    "# 난수 발생과 카운팅\n",
    "\n",
    "# 시드 설정하기\n"
   ]
  },
  {
   "cell_type": "code",
   "execution_count": 125,
   "id": "84693f08-e868-4923-959b-1842cef2354e",
   "metadata": {},
   "outputs": [],
   "source": [
    "# 시드 설정하기\n",
    "\n",
    "np.random.seed(0)"
   ]
  },
  {
   "cell_type": "code",
   "execution_count": 126,
   "id": "19eef78e-e839-47ce-b409-70061af9c1ec",
   "metadata": {},
   "outputs": [
    {
     "data": {
      "text/plain": [
       "array([0.5488135 , 0.71518937, 0.60276338, 0.54488318, 0.4236548 ])"
      ]
     },
     "execution_count": 126,
     "metadata": {},
     "output_type": "execute_result"
    }
   ],
   "source": [
    "np.random.rand(5)"
   ]
  },
  {
   "cell_type": "code",
   "execution_count": 127,
   "id": "80eb86a5-1bcb-4917-a4ed-c67a1b716cb0",
   "metadata": {},
   "outputs": [
    {
     "data": {
      "text/plain": [
       "array([0.64589411, 0.43758721, 0.891773  , 0.96366276, 0.38344152,\n",
       "       0.79172504, 0.52889492, 0.56804456, 0.92559664, 0.07103606])"
      ]
     },
     "execution_count": 127,
     "metadata": {},
     "output_type": "execute_result"
    }
   ],
   "source": [
    "np.random.rand(10)"
   ]
  },
  {
   "cell_type": "code",
   "execution_count": 128,
   "id": "17d0bdc5-bf9f-4a88-b5b0-2aef5c7540a1",
   "metadata": {},
   "outputs": [
    {
     "data": {
      "text/plain": [
       "array([0.0871293 , 0.0202184 , 0.83261985, 0.77815675, 0.87001215,\n",
       "       0.97861834, 0.79915856, 0.46147936, 0.78052918, 0.11827443])"
      ]
     },
     "execution_count": 128,
     "metadata": {},
     "output_type": "execute_result"
    }
   ],
   "source": [
    "np.random.rand(10)"
   ]
  },
  {
   "cell_type": "code",
   "execution_count": 135,
   "id": "66c0c805-cbbe-499f-81e7-18bb05f5e6a0",
   "metadata": {},
   "outputs": [],
   "source": [
    "# 시드 재설정\n",
    "np.random.seed(0)"
   ]
  },
  {
   "cell_type": "code",
   "execution_count": 136,
   "id": "fc8d6353-7c0a-4521-85d7-a2609f13c428",
   "metadata": {},
   "outputs": [
    {
     "data": {
      "text/plain": [
       "array([0.5488135 , 0.71518937, 0.60276338, 0.54488318, 0.4236548 ])"
      ]
     },
     "execution_count": 136,
     "metadata": {},
     "output_type": "execute_result"
    }
   ],
   "source": [
    "np.random.rand(5)"
   ]
  },
  {
   "cell_type": "code",
   "execution_count": 137,
   "id": "429dbcfe-a072-4e72-8526-a65a9824af89",
   "metadata": {},
   "outputs": [
    {
     "data": {
      "text/plain": [
       "array([0.64589411, 0.43758721, 0.891773  , 0.96366276, 0.38344152,\n",
       "       0.79172504, 0.52889492, 0.56804456, 0.92559664, 0.07103606])"
      ]
     },
     "execution_count": 137,
     "metadata": {},
     "output_type": "execute_result"
    }
   ],
   "source": [
    "np.random.rand(10)"
   ]
  },
  {
   "cell_type": "code",
   "execution_count": 138,
   "id": "4cb64b48-9aee-4de1-84ca-2973723cbc5c",
   "metadata": {},
   "outputs": [
    {
     "data": {
      "text/plain": [
       "array([0.0871293 , 0.0202184 , 0.83261985, 0.77815675, 0.87001215,\n",
       "       0.97861834, 0.79915856, 0.46147936, 0.78052918, 0.11827443])"
      ]
     },
     "execution_count": 138,
     "metadata": {},
     "output_type": "execute_result"
    }
   ],
   "source": [
    "np.random.rand(10) \n",
    "# 시드 한번만 설정하면 랜덤이어도 똑같은 수가 나온다.\n",
    "# 랜덤도 같아"
   ]
  },
  {
   "cell_type": "code",
   "execution_count": 141,
   "id": "5b2edb82-d4a5-475c-95b9-b4ccb0b93c67",
   "metadata": {},
   "outputs": [
    {
     "data": {
      "text/plain": [
       "array([0, 1, 2, 3, 4, 5, 6, 7, 8, 9])"
      ]
     },
     "execution_count": 141,
     "metadata": {},
     "output_type": "execute_result"
    }
   ],
   "source": [
    "# 데이터의 순서 바꾸기\n",
    "# shuffle 함수 \n",
    "# shuffle 함수도 자체 변환(in-place) 함수로 한 번 사용하면 변수의 값이 바뀝니다. 사용에 주의해야 합니다\n",
    "\n",
    "x = np.arange(10)\n",
    "x"
   ]
  },
  {
   "cell_type": "code",
   "execution_count": 142,
   "id": "e152a665-9f7a-42e8-9931-4a09a6c178b6",
   "metadata": {},
   "outputs": [
    {
     "data": {
      "text/plain": [
       "array([3, 6, 1, 8, 5, 0, 9, 4, 7, 2])"
      ]
     },
     "execution_count": 142,
     "metadata": {},
     "output_type": "execute_result"
    }
   ],
   "source": [
    "np.random.shuffle(x)\n",
    "x"
   ]
  },
  {
   "cell_type": "code",
   "execution_count": 144,
   "id": "35809550-e22a-49f9-afbf-7555a9257b7a",
   "metadata": {},
   "outputs": [],
   "source": [
    "# 데이터 샘플링\n",
    "# choice 함수 사용\n",
    "\n",
    "# choice 함수는 다음과 같은 인수를 가질 수 있습니다.\n",
    "# numpy.random.choice(a, size=None, replace=True, p=None)\n",
    "\n",
    "# ● a : 배열이면 원래의 데이터, 정수이면 arange(a) 명령으로 데이터 생성\n",
    "# ● size : 정수. 샘플 숫자.\n",
    "# ● replace : 불리언. True이면 한번 선택한 데이터를 다시 선택 가능.\n",
    "# ● p : 배열. 각 데이터가 선택될 수 있는 확률"
   ]
  },
  {
   "cell_type": "code",
   "execution_count": 148,
   "id": "36f602fe-fe66-49e7-8baf-16e276c9c332",
   "metadata": {},
   "outputs": [
    {
     "data": {
      "text/plain": [
       "array([0, 3, 2, 4, 1])"
      ]
     },
     "execution_count": 148,
     "metadata": {},
     "output_type": "execute_result"
    }
   ],
   "source": [
    "np.random.choice(5, 5, replace=False) # shuffle 명령과 같음.\n",
    "                        # 5개 만들고 5개 뽑았는데 랜덤하게 뽑았으니까"
   ]
  },
  {
   "cell_type": "code",
   "execution_count": 149,
   "id": "091817f2-4d95-42cc-9ee8-a2c76f099787",
   "metadata": {},
   "outputs": [
    {
     "data": {
      "text/plain": [
       "array([0, 1, 4])"
      ]
     },
     "execution_count": 149,
     "metadata": {},
     "output_type": "execute_result"
    }
   ],
   "source": [
    "np.random.choice(5, 3, replace=False)"
   ]
  },
  {
   "cell_type": "code",
   "execution_count": 151,
   "id": "626c34be-59c4-4e23-ac4f-6a6390e1cda1",
   "metadata": {},
   "outputs": [
    {
     "data": {
      "text/plain": [
       "array([3, 4, 4, 4, 0, 4, 3, 2, 0, 1])"
      ]
     },
     "execution_count": 151,
     "metadata": {},
     "output_type": "execute_result"
    }
   ],
   "source": [
    "np.random.choice(5, 10) # 반복해서 10개 선택"
   ]
  },
  {
   "cell_type": "code",
   "execution_count": 152,
   "id": "af1c673e-3b11-4a7e-9fdb-28d780a789de",
   "metadata": {},
   "outputs": [
    {
     "data": {
      "text/plain": [
       "array([3, 3, 3, 0, 3, 3, 3, 3, 3, 0])"
      ]
     },
     "execution_count": 152,
     "metadata": {},
     "output_type": "execute_result"
    }
   ],
   "source": [
    "np.random.choice(5, 10, p=[0.1, 0, 0.3, 0.6, 0]) \n",
    "                        # 선택 확률을 다르게 해서 10개"
   ]
  },
  {
   "cell_type": "code",
   "execution_count": null,
   "id": "1d43c052-7557-4f4d-9ae6-69e0ec08cc78",
   "metadata": {},
   "outputs": [],
   "source": [
    "# 난수 생성\n",
    "\n",
    "넘파이의 random 서브패키지는 이외에도 난수를 생성하는 다양한 함수를 제공합니다. 그 \n",
    "중 가장 간단하고 많이 사용되는 것은 다음 3가지 함수입니다.\n",
    "● rand: 0부터 1사이의 균일 분포\n",
    "● randn: 표준 정규 분포\n",
    "● randint: 균일 분포의 정수 난수\n"
   ]
  },
  {
   "cell_type": "code",
   "execution_count": 156,
   "id": "0710639b-77f1-4604-8484-5704e322ec82",
   "metadata": {},
   "outputs": [
    {
     "data": {
      "text/plain": [
       "array([0.36980809, 0.14644176, 0.56961841, 0.70373728, 0.28847644,\n",
       "       0.43328806, 0.75610669, 0.39609828, 0.89603839, 0.63892108])"
      ]
     },
     "execution_count": 156,
     "metadata": {},
     "output_type": "execute_result"
    }
   ],
   "source": [
    "# 난수 생성\n",
    "\n",
    "np.random.rand(10)  # 1차원"
   ]
  },
  {
   "cell_type": "code",
   "execution_count": 161,
   "id": "c84b71e2-f682-48d5-8dcb-1f610f3d790b",
   "metadata": {},
   "outputs": [
    {
     "data": {
      "text/plain": [
       "array([[0.33898512, 0.17949026, 0.1709866 , 0.46345098, 0.87457296],\n",
       "       [0.94411975, 0.60825287, 0.59665541, 0.78364425, 0.5000263 ],\n",
       "       [0.05037006, 0.69909807, 0.9923964 , 0.26726254, 0.67909062]])"
      ]
     },
     "execution_count": 161,
     "metadata": {},
     "output_type": "execute_result"
    }
   ],
   "source": [
    "np.random.rand(3, 5) # 2차원 ; 3 x 5행렬"
   ]
  },
  {
   "cell_type": "code",
   "execution_count": 159,
   "id": "fff21796-7d6e-48d7-ae38-f70e2f6f8865",
   "metadata": {},
   "outputs": [
    {
     "data": {
      "text/plain": [
       "array([-0.25579069, -0.71438561, -0.50083877,  0.05564534, -0.48896178,\n",
       "       -0.37992245,  0.25973465, -1.68134864, -0.91679481, -0.1192241 ])"
      ]
     },
     "execution_count": 159,
     "metadata": {},
     "output_type": "execute_result"
    }
   ],
   "source": [
    "# randn 함수는 기댓값(mean)이 0이고 표준편차가 1인 표준 정규 분포(standard normal distribution)를 따르는 난수를 생성합니다. \n",
    "# 인수 사용법은 rand 명령과 같습니다.\n",
    "\n",
    "np.random.randn(10)"
   ]
  },
  {
   "cell_type": "code",
   "execution_count": 160,
   "id": "5d6163eb-c233-4f5e-83a8-dd847e8d8449",
   "metadata": {},
   "outputs": [
    {
     "data": {
      "text/plain": [
       "array([[-0.44627728, -2.14335544,  0.01003777, -0.55822259,  0.48090565],\n",
       "       [-0.57414201, -0.2524676 ,  1.03984679, -0.02347953,  0.08942229],\n",
       "       [-0.59432737, -0.10569679,  0.74279571, -0.75498153, -0.13828271]])"
      ]
     },
     "execution_count": 160,
     "metadata": {},
     "output_type": "execute_result"
    }
   ],
   "source": [
    "np.random.randn(3, 5)"
   ]
  },
  {
   "cell_type": "code",
   "execution_count": null,
   "id": "a92e0879-8ad4-4317-bd0f-5faecf90a065",
   "metadata": {},
   "outputs": [],
   "source": [
    "randint 함수는 다음과 같은 인수를 가집니다.\n",
    "numpy.random.randint(low, high=None, size=None)\n",
    "만약 high를 입력하지 않으면 0과 low사이의 숫자를, high를 입력하면 low와 high는 \n",
    "사이의 숫자를 출력합니다. \n",
    "size는 난수의 개수입니다.\n",
    "high의 범위는 포함하지 않습니다."
   ]
  },
  {
   "cell_type": "code",
   "execution_count": 164,
   "id": "0cd40861-6572-4a86-b512-5ecdcac233c5",
   "metadata": {},
   "outputs": [
    {
     "data": {
      "text/plain": [
       "array([2, 5, 7, 7, 6, 1, 6, 7, 2, 3])"
      ]
     },
     "execution_count": 164,
     "metadata": {},
     "output_type": "execute_result"
    }
   ],
   "source": [
    "np.random.randint(10, size = 10)\n",
    "                # row만 썼어 그럼 0과 low사이의 숫자만"
   ]
  },
  {
   "cell_type": "code",
   "execution_count": 165,
   "id": "dcaf0eb1-2150-4652-bb89-bf3555664e8b",
   "metadata": {},
   "outputs": [
    {
     "data": {
      "text/plain": [
       "array([11, 19, 15, 19, 19, 12, 10, 19, 11, 19])"
      ]
     },
     "execution_count": 165,
     "metadata": {},
     "output_type": "execute_result"
    }
   ],
   "source": [
    "np.random.randint(10, 20, size = 10)\n"
   ]
  },
  {
   "cell_type": "code",
   "execution_count": 166,
   "id": "b6111b2e-3850-4ad8-90d0-156164d98a88",
   "metadata": {},
   "outputs": [
    {
     "data": {
      "text/plain": [
       "array([[10, 16, 10, 14, 18],\n",
       "       [14, 13, 13, 18, 18],\n",
       "       [17, 10, 13, 18, 17]])"
      ]
     },
     "execution_count": 166,
     "metadata": {},
     "output_type": "execute_result"
    }
   ],
   "source": [
    "np.random.randint(10, 20, size = (3, 5))\n"
   ]
  },
  {
   "cell_type": "code",
   "execution_count": 173,
   "id": "ef8ef17a-4738-4ac7-b8fa-c2ce973de71b",
   "metadata": {},
   "outputs": [],
   "source": [
    "# 연습 문제\n",
    "\n",
    "np.random.seed(0)"
   ]
  },
  {
   "cell_type": "code",
   "execution_count": 174,
   "id": "8faf1a5d-5009-47b1-a8c3-cbf1d5bf737b",
   "metadata": {},
   "outputs": [],
   "source": [
    "a = np.random.randint(0, 2, size = 100)"
   ]
  },
  {
   "cell_type": "code",
   "execution_count": 175,
   "id": "c8d2ab4b-cd2b-4f58-98f2-32d417e91683",
   "metadata": {},
   "outputs": [
    {
     "data": {
      "text/plain": [
       "0.56"
      ]
     },
     "execution_count": 175,
     "metadata": {},
     "output_type": "execute_result"
    }
   ],
   "source": [
    "np.mean(a)"
   ]
  },
  {
   "cell_type": "code",
   "execution_count": 180,
   "id": "83fc2ab6-1352-4d7f-a15e-6b7931253ff0",
   "metadata": {},
   "outputs": [
    {
     "data": {
      "text/plain": [
       "0.56"
      ]
     },
     "execution_count": 180,
     "metadata": {},
     "output_type": "execute_result"
    }
   ],
   "source": [
    "# 기영님\n",
    "np.random.seed(0)\n",
    "k = [np.random.randint(0, 2) for _ in range(100) ]\n",
    "np.mean(k)"
   ]
  },
  {
   "cell_type": "code",
   "execution_count": 181,
   "id": "d2c503a7-2e2c-46ae-b844-a8fea751045c",
   "metadata": {},
   "outputs": [
    {
     "data": {
      "text/plain": [
       "0.56"
      ]
     },
     "execution_count": 181,
     "metadata": {},
     "output_type": "execute_result"
    }
   ],
   "source": [
    "# 강사님\n",
    "np.random.seed(0)\n",
    "res = np.random.randint(0, 2, 100)\n",
    "res.sum() / len(res)\n",
    "  # 앞면의 개수 / 길이"
   ]
  },
  {
   "cell_type": "code",
   "execution_count": null,
   "id": "a9147b64-d2c5-4cf9-8241-7cb737e311b9",
   "metadata": {},
   "outputs": [],
   "source": []
  }
 ],
 "metadata": {
  "kernelspec": {
   "display_name": "Python 3 (ipykernel)",
   "language": "python",
   "name": "python3"
  },
  "language_info": {
   "codemirror_mode": {
    "name": "ipython",
    "version": 3
   },
   "file_extension": ".py",
   "mimetype": "text/x-python",
   "name": "python",
   "nbconvert_exporter": "python",
   "pygments_lexer": "ipython3",
   "version": "3.9.13"
  }
 },
 "nbformat": 4,
 "nbformat_minor": 5
}
