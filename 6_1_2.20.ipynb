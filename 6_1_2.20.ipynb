{
 "cells": [
  {
   "cell_type": "code",
   "execution_count": null,
   "id": "b5c57d50-fe6c-47f7-8b42-76485145b0f0",
   "metadata": {},
   "outputs": [],
   "source": [
    "# 저번주 처음부터 얕은 복사까지 복습 쭉~~~(9:00 - 11:00)"
   ]
  },
  {
   "cell_type": "code",
   "execution_count": 1,
   "id": "292781d6-c222-4f13-95b8-8018722ab221",
   "metadata": {},
   "outputs": [
    {
     "name": "stdout",
     "output_type": "stream",
     "text": [
      "False\n"
     ]
    }
   ],
   "source": [
    "# 깊은 복사 (Deep copy)\n",
    "\n",
    "\n",
    "# deepcopy()를 위해서 copy 라이브러리를 필요로 합니다.\n",
    "# import를 통해서 copy라는걸 가져온거고\n",
    "# deepcopy를 할수있구나 -> 안에 있는 것까지 새롭게 복사하는게 딥카피\n",
    "\n",
    "import copy\n",
    "list_n = [[9, 10], [11, 12]]\n",
    "list_o = copy.deepcopy(list_n)\n",
    "print(list_n[0] is list_o)"
   ]
  },
  {
   "cell_type": "code",
   "execution_count": 2,
   "id": "09d80efd-f54e-49d4-9155-3fb01bffcce2",
   "metadata": {},
   "outputs": [
    {
     "data": {
      "text/plain": [
       "False"
      ]
     },
     "execution_count": 2,
     "metadata": {},
     "output_type": "execute_result"
    }
   ],
   "source": [
    "# 강사님 예제\n",
    "l1 = [1, 2, [3, 4]]\n",
    "l2 = l1.copy()\n",
    "\n",
    "l1 is l2"
   ]
  },
  {
   "cell_type": "code",
   "execution_count": 3,
   "id": "aa9b33c3-69f6-4523-b638-fbc07166cfa3",
   "metadata": {},
   "outputs": [
    {
     "data": {
      "text/plain": [
       "True"
      ]
     },
     "execution_count": 3,
     "metadata": {},
     "output_type": "execute_result"
    }
   ],
   "source": [
    "l1[-1] is l2[-1]"
   ]
  },
  {
   "cell_type": "code",
   "execution_count": 4,
   "id": "b5fa86d5-af0a-4e47-96b1-fb9b0c2be165",
   "metadata": {},
   "outputs": [
    {
     "data": {
      "text/plain": [
       "False"
      ]
     },
     "execution_count": 4,
     "metadata": {},
     "output_type": "execute_result"
    }
   ],
   "source": [
    "l3 = [5, 6]\n",
    "l4 = l3[:]\n",
    "\n",
    "l3 is l4"
   ]
  },
  {
   "cell_type": "code",
   "execution_count": 5,
   "id": "c765624c-b847-41f9-98de-f0112b909656",
   "metadata": {},
   "outputs": [
    {
     "data": {
      "text/plain": [
       "False"
      ]
     },
     "execution_count": 5,
     "metadata": {},
     "output_type": "execute_result"
    }
   ],
   "source": [
    "l5 = [7, 8, (9, 10)]  # 리스트가 지금 3개의 요소로 되어있는건 알지?? \n",
    "l6 = l5.copy() \n",
    "\n",
    "l5 is l6   # 저 위에 (9, 10)을 완전히 카피하고 싶다! 그게 딮카피!!!!!!!!!"
   ]
  },
  {
   "cell_type": "code",
   "execution_count": 6,
   "id": "a5eba757-b33e-4321-a417-20a026e93e19",
   "metadata": {},
   "outputs": [
    {
     "data": {
      "text/plain": [
       "True"
      ]
     },
     "execution_count": 6,
     "metadata": {},
     "output_type": "execute_result"
    }
   ],
   "source": [
    "l5[-1] is l6[-1]"
   ]
  },
  {
   "cell_type": "code",
   "execution_count": null,
   "id": "b194911f-5211-4970-991d-a1774427a8ff",
   "metadata": {},
   "outputs": [],
   "source": [
    "# deepcopy 대상 리스트 값을 바꿔보겠씀댜\n",
    "\n",
    "list_n[0][1] = 999"
   ]
  },
  {
   "cell_type": "code",
   "execution_count": null,
   "id": "9b76d8a5-90e8-46ce-bf36-8497ee47048f",
   "metadata": {},
   "outputs": [],
   "source": [
    "# 리스트 컴프리헨션\n",
    "\n",
    "# for 문과 if문이 동시에 있는 리스트 컴프리헨션 동작순서입니댜\n",
    "\n",
    "# 1. 반복가능한 객체(iterable)로부터 값을 하나 꺼내와서 조건식에 넣습니다.\n",
    "# 2. 조건식이 True이면 변수를 활용해서 표현식(expression)을 실행합니다.\n",
    "#    (이때 변수는 활용할 수도 활용하지 않을 수도 있습니다.)\n",
    "# 3. 조건식이 False이면 1번부터 다시 시작합니다.\n",
    "# 4. 표현식 결과 값을 리스트 요소에 넣습니다. \n",
    "# 5. 반복가능한 객체(iterable)로부터 값이 없을 때까지 1~3 과정을 반복합니다.\n",
    "# list_variable = [ expression for 변수 in iterable if 조건식 ]\n",
    "                                                    # 조건식이 True일때만 \n",
    "                                                   # expression 이 만들어져"
   ]
  },
  {
   "cell_type": "code",
   "execution_count": 7,
   "id": "3a81f8cb-940c-43b4-8729-06c85ff08ff2",
   "metadata": {},
   "outputs": [
    {
     "name": "stdout",
     "output_type": "stream",
     "text": [
      "[0, 3, 6, 9]\n"
     ]
    }
   ],
   "source": [
    "# 리스트 컴프리헨션\n",
    "# 반복 가능한 객체를 꺼내 조건문에 부합하는 것만 변수에 담아 표현식의 결과를 \n",
    "# 리스트의 요소에 담아  list_p 변수에 담았습니다.\n",
    "# 처음엔 복잡해보여도 익숙해지면 더 편리!!\n",
    "\n",
    "list_p = [i for i in range(10) if i % 3 == 0]\n",
    "print(list_p)"
   ]
  },
  {
   "cell_type": "code",
   "execution_count": null,
   "id": "7b877d64-de4a-4589-941f-5e36429ad4ec",
   "metadata": {},
   "outputs": [],
   "source": [
    "# 리스트 컴프리헨션에 for문을 여러개 작성할 수 있다.\n",
    "# 그럴 때 동작 순서는 우측에서 좌측 방향으로!!\n",
    "\n",
    "# [expression for 변수 in iterable for 변수 in iterable]\n",
    "\n",
    "#   일반적인 파이썬의 중첩for문   =>  for 변수 in iterable : \n",
    "#                                     for 변수 in iterable :\n",
    "#                                         expression   \n",
    "\n",
    "# 실행 순서 사진참고"
   ]
  },
  {
   "cell_type": "code",
   "execution_count": null,
   "id": "4f06eb7c-f98d-4115-a697-90343423bd06",
   "metadata": {},
   "outputs": [],
   "source": [
    "# 리스트 컴프리헨션은 여러 줄로 입력해도 됩니다.\n",
    "\n",
    "# [expression for 변수 in iterable\n",
    "#             for 변수 in iterable        //for문 두개까지는 그냥 써도 되는데\n",
    "#             for 변수 in iterable        //더 많아지면 나눠지는게 좋다.\n",
    "#             for 변수 in iterable]"
   ]
  },
  {
   "cell_type": "code",
   "execution_count": 8,
   "id": "57969691-be3b-4c3a-8c45-e214f42e68cc",
   "metadata": {},
   "outputs": [
    {
     "name": "stdout",
     "output_type": "stream",
     "text": [
      "1\n",
      "2\n",
      "3\n",
      "4\n",
      "5\n",
      "3\n",
      "4\n"
     ]
    }
   ],
   "source": [
    "# 중첩 리스트 사용하기\n",
    "# 리스트는 수학의 배열과 다르다!!!\n",
    "\n",
    "            #하나의 요소구나\n",
    "easy_list = [[1, 2, 3, 4, 5], [3, 4]]\n",
    "            # [0]               [1]     의 인덱싱을 갖는구나\n",
    "for item in easy_list : \n",
    "    for i in item :\n",
    "        print(i)"
   ]
  },
  {
   "cell_type": "code",
   "execution_count": 9,
   "id": "7368ab07-742d-4422-8037-a33141aafb8a",
   "metadata": {},
   "outputs": [
    {
     "name": "stdout",
     "output_type": "stream",
     "text": [
      "1\n",
      "2\n",
      "3\n",
      "4\n",
      "5\n",
      "3\n",
      "4\n"
     ]
    }
   ],
   "source": [
    "# 중첩 리스트 사용하기\n",
    "# while문으로 looping을 해도 동일\n",
    "\n",
    "easy_list = [[1, 2, 3, 4, 5], [3, 4]]\n",
    "i = 0 # easy_list 인덱스용\n",
    "\n",
    "while i < len(easy_list):    # 안에 있는 길이에 따라서 루핑!\n",
    "    j = 0           # easy_list[0], easy_list[1] 인덱스용\n",
    "    while j < len(easy_list[i]):  # 꺼내온게 list라는걸 알아서 \n",
    "        print(easy_list[i][j])   # while문이 돌때마다 j는 0이 돼, 1일때도 다시 0이 돼\n",
    "        j += 1                       # i가 [1]일땐 위에 [3,4]자나 길이는 그럼 2니까 0~1\n",
    "    i += 1"
   ]
  },
  {
   "cell_type": "code",
   "execution_count": null,
   "id": "d5cb25f4-7a03-4d9b-8439-8b8deea540b0",
   "metadata": {},
   "outputs": [],
   "source": [
    "# 튜플에서 쓰는건 확 줄어드는 구나\n",
    "# index, count 두개만~~~~~~"
   ]
  },
  {
   "cell_type": "code",
   "execution_count": null,
   "id": "839e327f-212a-46d3-a2fe-8708e6334150",
   "metadata": {},
   "outputs": [],
   "source": [
    "# 빈 튜플(empty tuple)\n",
    "\n",
    "empty_tuple = tuple()\n",
    "print(em\n",
    "      \n",
    "쓰다맘~"
   ]
  },
  {
   "cell_type": "code",
   "execution_count": null,
   "id": "7f42931f-a8f4-4614-b32e-5c6e9a46005a",
   "metadata": {},
   "outputs": [],
   "source": [
    "# 제너레이터 컴프리헨션\n",
    "# 은 참고로만 알고있쟈~~"
   ]
  },
  {
   "cell_type": "code",
   "execution_count": 18,
   "id": "6cc11678-1c63-440b-b3ea-93c90009e89d",
   "metadata": {},
   "outputs": [],
   "source": [
    "gen = (i for i in range(10))"
   ]
  },
  {
   "cell_type": "code",
   "execution_count": 19,
   "id": "566a8d11-1fbb-4cc3-af36-cc253ff43fd9",
   "metadata": {},
   "outputs": [
    {
     "data": {
      "text/plain": [
       "generator"
      ]
     },
     "execution_count": 19,
     "metadata": {},
     "output_type": "execute_result"
    }
   ],
   "source": [
    "type(gen)  # 미리 만들지 않고 필요할때마다 만들어주는거~~제너레이터~~"
   ]
  },
  {
   "cell_type": "code",
   "execution_count": 20,
   "id": "cab40856-3576-4027-99bd-d58c1cd3127c",
   "metadata": {},
   "outputs": [],
   "source": [
    "tup = tuple(i for i in range(10))"
   ]
  },
  {
   "cell_type": "code",
   "execution_count": 15,
   "id": "9abb6371-c6a2-40e3-9c5b-652b3b53baed",
   "metadata": {},
   "outputs": [
    {
     "data": {
      "text/plain": [
       "tuple"
      ]
     },
     "execution_count": 15,
     "metadata": {},
     "output_type": "execute_result"
    }
   ],
   "source": [
    "type(tup)"
   ]
  },
  {
   "cell_type": "code",
   "execution_count": 21,
   "id": "5983e86c-a3e1-47f7-bd40-4d3475e73761",
   "metadata": {},
   "outputs": [],
   "source": [
    "lis = list(i for i in range(10))"
   ]
  },
  {
   "cell_type": "code",
   "execution_count": 22,
   "id": "1bf05fdc-1747-418f-aeb6-ea90af2cf329",
   "metadata": {},
   "outputs": [
    {
     "data": {
      "text/plain": [
       "list"
      ]
     },
     "execution_count": 22,
     "metadata": {},
     "output_type": "execute_result"
    }
   ],
   "source": [
    "type(lis)"
   ]
  },
  {
   "cell_type": "code",
   "execution_count": 46,
   "id": "5cb0fcc7-e15d-49a9-80f2-5558b4ab6b17",
   "metadata": {},
   "outputs": [
    {
     "name": "stdout",
     "output_type": "stream",
     "text": [
      "['alpha', 'bravo', 'delta', 'hotel', 'india']\n"
     ]
    }
   ],
   "source": [
    "# 연습 문제\n",
    "# 리스트에서 특정 요소만 뽑아내기\n",
    "\n",
    "a = ['alpha', 'bravo', 'charlie', 'delta', 'echo', 'foxrot', 'golf', 'hotel', 'india']\n",
    "b = [ n for n in a if len(n) == 5 ]\n",
    "print(b)"
   ]
  },
  {
   "cell_type": "code",
   "execution_count": 47,
   "id": "34bd89e1-487f-47dd-a0f6-2c6c0cf7fb96",
   "metadata": {},
   "outputs": [
    {
     "name": "stdout",
     "output_type": "stream",
     "text": [
      "['alpha', 'bravo', 'delta', 'hotel', 'india']\n"
     ]
    }
   ],
   "source": [
    "# 풀이\n",
    "# [변수 for 변수 in 리스트 if len (변수) == 5]\n",
    "              # 여기서 리스트는 a \n",
    "    \n",
    "a = ['alpha', 'bravo', 'charlie', 'delta', 'echo', 'foxrot', 'golf', 'hotel', 'india']\n",
    "b = [ s for s in a if len(s) == 5 ]\n",
    "        # 순서 사진 참고!!!!!\n",
    "print(b)"
   ]
  },
  {
   "cell_type": "code",
   "execution_count": 49,
   "id": "b1755afb-ca5c-4f30-9cba-df4715744ab0",
   "metadata": {},
   "outputs": [
    {
     "name": "stdin",
     "output_type": "stream",
     "text": [
      "정수 두 개를 입력하세요 : 99 1\n"
     ]
    }
   ],
   "source": [
    "# 연습 문제\n",
    "\n",
    "n = input(\"정수 두 개를 입력하세요 :\").split(\" \")\n",
    "\n",
    "if \n",
    "\n",
    "    \n",
    "else: \n",
    "\n",
    "\n",
    "\n",
    "x.pop(1)\n",
    "x.pop(-2)\n",
    "\n",
    "print(x)\n",
    "\n",
    "와 진짜공부해야겠다ㅠㅠㅠㅠㅠㅠ"
   ]
  },
  {
   "cell_type": "code",
   "execution_count": 68,
   "id": "295e36a7-4f15-46ec-b11e-c1ed66ed3be3",
   "metadata": {},
   "outputs": [
    {
     "name": "stdin",
     "output_type": "stream",
     "text": [
      "정수 두 개를 입력하세요 : 1 10\n"
     ]
    },
    {
     "name": "stdout",
     "output_type": "stream",
     "text": [
      "[2, 8, 16, 32, 64, 128, 256, 1024]\n"
     ]
    }
   ],
   "source": [
    "# 연습 문제\n",
    "\n",
    "while True :\n",
    "    a, b = map(int, input(\"정수 두 개를 입력하세요 :\").split(\" \"))\n",
    "\n",
    "    if a < 1 or a > 20 :\n",
    "        print(\"첫번째 값의 범위는 1~20입니다.\")\n",
    "        continue\n",
    "    elif b < 10 or b > 30 :\n",
    "        print(\"두번째 값의 범위는 10~30입니다.\")\n",
    "        continue\n",
    "    elif a >= b :\n",
    "        print(\"첫번째 입력값은 두번째 입력 값보다 작게 입력하세요.\")\n",
    "        continue\n",
    "    else:\n",
    "        break\n",
    "\n",
    "x = [2**i for i in range(a,b+1)]\n",
    "\n",
    "del x[1]\n",
    "del x[-2]\n",
    "\n",
    "\n",
    "print(x)"
   ]
  },
  {
   "cell_type": "code",
   "execution_count": null,
   "id": "2c0fd1ae-825c-44e4-97b2-76a74e859c33",
   "metadata": {},
   "outputs": [],
   "source": [
    "# 풀이\n",
    "\n",
    "not 1 <= n <= 20 ; 이렇게 해도됨\n",
    "\n",
    "del x[1]\n",
    "del x[len(x) - 2]\n",
    "\n",
    "# 2의 거듭제곱 리스트 생성\n",
    "# 리스트의 두 번째 요소와 뒤에서 두 번째 요소 삭제"
   ]
  },
  {
   "cell_type": "code",
   "execution_count": 80,
   "id": "dd5935d3-cf15-42b6-9a09-2d9b25d475ae",
   "metadata": {},
   "outputs": [
    {
     "name": "stdout",
     "output_type": "stream",
     "text": [
      "2부터 입력하신 수 까지의 모든 소수를 찾는 프로그램입니다.\n"
     ]
    },
    {
     "name": "stdin",
     "output_type": "stream",
     "text": [
      "찾는 범위를 입력하세요: 100\n"
     ]
    },
    {
     "name": "stdout",
     "output_type": "stream",
     "text": [
      "2 3 5 7 11 13 17 \n",
      "19 23 29 31 37 41 43 \n",
      "47 53 59 61 67 71 73 \n",
      "79 83 89 97 \n"
     ]
    }
   ],
   "source": [
    "# 연습 문제 # 소수구하는 방법 이해좀~~~~\n",
    "\n",
    "print(\"2부터 입력하신 수 까지의 모든 소수를 찾는 프로그램입니다.\")\n",
    "\n",
    "n = int(input(\"찾는 범위를 입력하세요:\"))\n",
    "\n",
    "count = 0\n",
    "for i in range(2, n+1):\n",
    "    prime = True\n",
    "    for j in range(2, int(i ** 0.5) + 1):\n",
    "        if i % j == 0:\n",
    "            prime = False\n",
    "            break\n",
    "            \n",
    "    if prime :\n",
    "        print(i, end=' ')\n",
    "        count += 1\n",
    "        if count % 7 == 0:\n",
    "            print()\n",
    "print()\n"
   ]
  },
  {
   "cell_type": "code",
   "execution_count": null,
   "id": "24f7b8c7-ad2d-4acc-b2cb-e141a0591a23",
   "metadata": {},
   "outputs": [],
   "source": [
    "# 소수 찾기\n",
    "\n",
    "if n < 2 :\n",
    "    return False\n",
    "for i in range(2, int(n ** 0.5) + 1):\n",
    "    if n % i == 0 :\n",
    "        return False\n",
    "    return True"
   ]
  },
  {
   "cell_type": "code",
   "execution_count": 83,
   "id": "50f60dc0-75f1-4e53-a09e-5009e5dcde82",
   "metadata": {},
   "outputs": [
    {
     "name": "stdout",
     "output_type": "stream",
     "text": [
      "2부터 입력하신 수 까지의 모든 소수를 찾는 프로그램입니다.\n"
     ]
    },
    {
     "name": "stdin",
     "output_type": "stream",
     "text": [
      "찾는 범위를 입력하세요:  95\n"
     ]
    },
    {
     "name": "stdout",
     "output_type": "stream",
     "text": [
      "2 3 5 7 11 13 17 \n",
      "19 23 29 31 37 41 43 \n",
      "47 53 59 61 67 71 73 \n",
      "79 83 89 \n"
     ]
    }
   ],
   "source": [
    "# 다른 풀이 이것도 위에랑 같이 나오는데 왜 맞지? 이해좀\n",
    "\n",
    "print(\"2부터 입력하신 수 까지의 모든 소수를 찾는 프로그램입니다.\")\n",
    "n = int(input(\"찾는 범위를 입력하세요: \"))\n",
    "\n",
    "count = 0\n",
    "\n",
    "for i in range(2, n+1):\n",
    "    prime = True\n",
    "    for j in range(2, i):\n",
    "        if i%j == 0:\n",
    "            prime = False\n",
    "            break\n",
    "            \n",
    "    if prime :\n",
    "        print(i, end = ' ')\n",
    "        count += 1\n",
    "        if count % 7 == 0:\n",
    "            print()\n",
    "print()"
   ]
  },
  {
   "cell_type": "code",
   "execution_count": 84,
   "id": "bac9cd7c-5281-49e6-9cee-f248a0889555",
   "metadata": {},
   "outputs": [
    {
     "name": "stdout",
     "output_type": "stream",
     "text": [
      "2부터 입력하신 수 까지의 모든 소수를 찾는 프로그램입니다.\n"
     ]
    },
    {
     "name": "stdin",
     "output_type": "stream",
     "text": [
      "찾는 범위를 입력하세요:  100\n"
     ]
    },
    {
     "name": "stdout",
     "output_type": "stream",
     "text": [
      "2 3 5 7 11 13 17 \n",
      "19 23 29 31 37 41 43 \n",
      "47 53 59 61 67 71 73 \n",
      "79 83 89 97 "
     ]
    }
   ],
   "source": [
    "# 풀이\n",
    "\n",
    "print(\"2부터 입력하신 수 까지의 모든 소수를 찾는 프로그램입니다.\")\n",
    "n = int(input(\"찾는 범위를 입력하세요: \"))\n",
    "\n",
    "i  = 2\n",
    "line = 0\n",
    "while i <= n :   # 나눌숫자가 2부터 입력한 숫자까지\n",
    "    j = 2\n",
    "    while j <= i :  # 2부터 쭉 나눠봐\n",
    "        if i % j == 0 :  # 나눠떨어지는 순간에 더이상 나눌필요가 없찌\n",
    "            break\n",
    "        j += 1\n",
    "        \n",
    "    if i == j :   # 그때 내자신과 나누는 숫자를 비교했\n",
    "        print(i, end = ' ') \n",
    "        line = line + 1\n",
    "        if line == 7 :\n",
    "            line = 0\n",
    "            print()\n",
    "    i += 1"
   ]
  },
  {
   "cell_type": "code",
   "execution_count": null,
   "id": "01c32508-dbcf-451e-b0f9-f6df4fda6de9",
   "metadata": {},
   "outputs": [],
   "source": []
  }
 ],
 "metadata": {
  "kernelspec": {
   "display_name": "Python 3 (ipykernel)",
   "language": "python",
   "name": "python3"
  },
  "language_info": {
   "codemirror_mode": {
    "name": "ipython",
    "version": 3
   },
   "file_extension": ".py",
   "mimetype": "text/x-python",
   "name": "python",
   "nbconvert_exporter": "python",
   "pygments_lexer": "ipython3",
   "version": "3.9.13"
  }
 },
 "nbformat": 4,
 "nbformat_minor": 5
}
