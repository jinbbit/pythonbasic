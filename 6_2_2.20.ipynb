{
 "cells": [
  {
   "cell_type": "code",
   "execution_count": 3,
   "id": "52e9df64-e6de-4141-9bc7-6d585602feb0",
   "metadata": {},
   "outputs": [
    {
     "name": "stdout",
     "output_type": "stream",
     "text": [
      "[50, 24, 27, 29, 28, 38, 28, 14, 36, 19]\n"
     ]
    }
   ],
   "source": [
    "# random 라이브러리\n",
    "# 임의의 수를 생성할 때 사용하는 표준 라이브러리\n",
    "\n",
    "# random.randint(시작 정수, 끝 정수) 함수를 활용하면 시작 정수(포함)부터 끝정수(포함)까지 \n",
    "# 범위의 난수를 생성할 수 있다.\n",
    "\n",
    "import random\n",
    "random_list = [random.randint(1, 50) for _ in range(10)]\n",
    "print(random_list)"
   ]
  },
  {
   "cell_type": "code",
   "execution_count": 23,
   "id": "fe0998ee-a331-4fe7-aedc-c4fd6d64aa84",
   "metadata": {},
   "outputs": [
    {
     "name": "stdout",
     "output_type": "stream",
     "text": [
      "13\n"
     ]
    },
    {
     "name": "stdin",
     "output_type": "stream",
     "text": [
      "숫자 하나를 입력해주세요 :  1\n"
     ]
    },
    {
     "name": "stdout",
     "output_type": "stream",
     "text": [
      "그보다 큽니다.\n"
     ]
    },
    {
     "name": "stdin",
     "output_type": "stream",
     "text": [
      "숫자 하나를 입력해주세요 :  2\n"
     ]
    },
    {
     "name": "stdout",
     "output_type": "stream",
     "text": [
      "그보다 큽니다.\n"
     ]
    },
    {
     "name": "stdin",
     "output_type": "stream",
     "text": [
      "숫자 하나를 입력해주세요 :  3\n"
     ]
    },
    {
     "name": "stdout",
     "output_type": "stream",
     "text": [
      "그보다 큽니다.\n"
     ]
    },
    {
     "name": "stdin",
     "output_type": "stream",
     "text": [
      "숫자 하나를 입력해주세요 :  4\n"
     ]
    },
    {
     "name": "stdout",
     "output_type": "stream",
     "text": [
      "그보다 큽니다.\n"
     ]
    },
    {
     "name": "stdin",
     "output_type": "stream",
     "text": [
      "숫자 하나를 입력해주세요 :  13\n"
     ]
    },
    {
     "name": "stdout",
     "output_type": "stream",
     "text": [
      "맞췄습니다!\n",
      "총 5 번만에 맞추셨습니다.\n"
     ]
    }
   ],
   "source": [
    "# 연습 문제\n",
    "\n",
    "import random\n",
    "random_n = random.randint(1, 100)\n",
    "print(random_n)\n",
    "\n",
    "c=0\n",
    "while True : \n",
    "    n = int(input(\"숫자 하나를 입력해주세요 : \"))\n",
    "    c += 1                                     # 이거 위치 진자 진ㅉㅑ....\n",
    "    if n == random_n :\n",
    "        print(\"맞췄습니다!\")\n",
    "        print(\"총\", c , \"번만에 맞추셨습니다.\")\n",
    "        break\n",
    "            \n",
    "    elif n > random_n :\n",
    "        print(\"그보다 작습니다.\")\n",
    "    elif n < random_n :\n",
    "         print(\"그보다 큽니다.\")\n",
    "        \n",
    "    else : \n",
    "         print(\"1~100사이의 숫자를 입력하세요.\")"
   ]
  },
  {
   "cell_type": "code",
   "execution_count": null,
   "id": "6b84efd9-9450-43d4-b684-e46f32e06710",
   "metadata": {
    "tags": []
   },
   "outputs": [],
   "source": [
    "# 풀이\n",
    "\n",
    "import random\n",
    "\n",
    "target_number = random.randint(1, 100)\n",
    "input_values = []\n",
    "\n"
   ]
  },
  {
   "cell_type": "code",
   "execution_count": null,
   "id": "b7e29098-aa6c-4290-b083-09566852327f",
   "metadata": {},
   "outputs": [],
   "source": [
    "# 세트 자료형 (Set)\n",
    "# 수학의 집합과 set 자료형은 맥락이 같습니다.\n",
    "# 딕셔너리처럼 {} 중괄호를 사용해서 생성\n",
    "# 비시퀀스 형인데, 이 말은 순서가 없다라는 거지~~~~\n",
    "# 세트 자료형은 인덱스를 갖지 않습니다."
   ]
  },
  {
   "cell_type": "code",
   "execution_count": 24,
   "id": "affd8752-48c4-48fa-8575-cfdb5e938517",
   "metadata": {},
   "outputs": [
    {
     "name": "stdout",
     "output_type": "stream",
     "text": [
      "<class 'dict'>\n"
     ]
    }
   ],
   "source": [
    "# 세트 자료형(Set) - 빈 세트 생성하기\n",
    "\n",
    "# {} 는 빈 딕셔너리 객체를 만듭니다.\n",
    "print(type({}))"
   ]
  },
  {
   "cell_type": "code",
   "execution_count": 25,
   "id": "5d263daf-b707-4407-a059-1f2e0053dbdb",
   "metadata": {},
   "outputs": [
    {
     "name": "stdout",
     "output_type": "stream",
     "text": [
      "set()\n"
     ]
    }
   ],
   "source": [
    "print(set())"
   ]
  },
  {
   "cell_type": "code",
   "execution_count": null,
   "id": "9caec753-9977-4dd0-8aaa-02c47f63efcb",
   "metadata": {},
   "outputs": [],
   "source": [
    "# 세트 자료형(Set) 컴프리헨션\n",
    "\n",
    "set_variable = {expression for 변수 in iterable if 조건식}\n",
    "                                                   ->True일때만"
   ]
  },
  {
   "cell_type": "code",
   "execution_count": 26,
   "id": "ea895215-446f-42de-8548-0eacc4e8caeb",
   "metadata": {},
   "outputs": [
    {
     "name": "stdout",
     "output_type": "stream",
     "text": [
      "set() <class 'set'>\n"
     ]
    }
   ],
   "source": [
    "# 세트 자료형(Set) - 세트에 값 넣는 방법\n",
    "# 세트 메서드로 add()가 있습니다.\n",
    "# 세트자료형.add(요소)\n",
    "# add(요소)메서드는 한 번에 하나의 값만 넣을 수 있다.\n",
    "\n",
    "# 아래 예제에선 같은 값을 5차례 반복해서 넣고 있습니다. 하지만 중복된 요소는 없쮜\n",
    "\n",
    "set_variable = set()\n",
    "print(set_variable, type(set_variable))"
   ]
  },
  {
   "cell_type": "code",
   "execution_count": 27,
   "id": "77224de4-ee94-4589-adeb-763e21d98748",
   "metadata": {},
   "outputs": [
    {
     "name": "stdout",
     "output_type": "stream",
     "text": [
      "{1}\n"
     ]
    }
   ],
   "source": [
    "# 정수 1 값을 set_variable에 5차례 넣습니다.\n",
    "[set_variable.add(1) for _ in range(5)]   \n",
    "#  -> for _ in range(5) :\n",
    "#      뭐야 두줄이었는데 이렇게쓰는게 더 편한데뭐여써\n",
    "\n",
    "# 출력하면 중복된 값 없이 요소를 갖는 걸 볼 수 있습니다.\n",
    "print(set_variable)"
   ]
  },
  {
   "cell_type": "code",
   "execution_count": 28,
   "id": "b8041eb2-53c6-4b75-bd40-4a944690d799",
   "metadata": {},
   "outputs": [
    {
     "name": "stdout",
     "output_type": "stream",
     "text": [
      "{1}\n"
     ]
    },
    {
     "ename": "KeyError",
     "evalue": "9",
     "output_type": "error",
     "traceback": [
      "\u001b[1;31m---------------------------------------------------------------------------\u001b[0m",
      "\u001b[1;31mKeyError\u001b[0m                                  Traceback (most recent call last)",
      "\u001b[1;32m~\\AppData\\Local\\Temp\\ipykernel_2844\\1452314682.py\u001b[0m in \u001b[0;36m<module>\u001b[1;34m\u001b[0m\n\u001b[0;32m      4\u001b[0m \u001b[1;33m\u001b[0m\u001b[0m\n\u001b[0;32m      5\u001b[0m \u001b[0mprint\u001b[0m\u001b[1;33m(\u001b[0m\u001b[0mset_variable\u001b[0m\u001b[1;33m)\u001b[0m\u001b[1;33m\u001b[0m\u001b[1;33m\u001b[0m\u001b[0m\n\u001b[1;32m----> 6\u001b[1;33m \u001b[0mset_variable\u001b[0m\u001b[1;33m.\u001b[0m\u001b[0mremove\u001b[0m\u001b[1;33m(\u001b[0m\u001b[1;36m9\u001b[0m\u001b[1;33m)\u001b[0m\u001b[1;33m\u001b[0m\u001b[1;33m\u001b[0m\u001b[0m\n\u001b[0m\u001b[0;32m      7\u001b[0m \u001b[0mprint\u001b[0m\u001b[1;33m(\u001b[0m\u001b[0mset_variable\u001b[0m\u001b[1;33m)\u001b[0m\u001b[1;33m\u001b[0m\u001b[1;33m\u001b[0m\u001b[0m\n",
      "\u001b[1;31mKeyError\u001b[0m: 9"
     ]
    }
   ],
   "source": [
    "# 세트 자료형(Set) - 요소 삭제하기 remove()\n",
    "# 세트 자료형.remove(요소)\n",
    "# remove() 메서드는 삭제하려는 요소가 없다면 KeyError를 발생시킨다.\n",
    "\n",
    "print(set_variable)\n",
    "set_variable.remove(9)\n",
    "print(set_variable)\n",
    "\n",
    "\n",
    "# 위에 예제 안써서 에러떠"
   ]
  },
  {
   "cell_type": "code",
   "execution_count": null,
   "id": "cd9785c9-3876-4672-aae5-5ae9837f3d15",
   "metadata": {},
   "outputs": [],
   "source": [
    "# 세트 자료형(Set) - 요소 삭제하기 discard()\n",
    "# 세트 자료형.discard(요소)\n"
   ]
  },
  {
   "cell_type": "code",
   "execution_count": null,
   "id": "5e9dccf2-8acd-4b31-a942-0dd4e8cb786d",
   "metadata": {},
   "outputs": [],
   "source": [
    "# 세트 자료형(Set) - 요소 임의 삭제하기 pop()\n",
    "# 요소를 랜덤하게 삭제하는 메서드는 pop()\n",
    "# 순서를 보장하진 않는다.\n",
    "# 완전 랜덤은 또 아니야\n",
    "# 세트 자료형 내에서 더 이상 삭제할 요소가 없다면 KeyError를 발생시켜\n",
    "\n"
   ]
  },
  {
   "cell_type": "code",
   "execution_count": null,
   "id": "26472a80-b2d3-4593-a270-d657fbcbeb1a",
   "metadata": {},
   "outputs": [],
   "source": [
    "# 세트 자료형(Set) - 요소 전체 삭제하기 clear()\n",
    "# 요소 전체를 삭제하는 메서드는 clear()\n",
    "# 세트 자료형(Set).clear()"
   ]
  },
  {
   "cell_type": "code",
   "execution_count": null,
   "id": "7d8e4cc6-07dd-4dae-8782-9228d124bfab",
   "metadata": {},
   "outputs": [],
   "source": [
    "# 세트 자료형(Set) - 요소 개수(크기) 구하기 len()\n",
    "\n"
   ]
  },
  {
   "cell_type": "code",
   "execution_count": 29,
   "id": "b5a57e85-e536-41e0-b130-ef2c072f6538",
   "metadata": {},
   "outputs": [
    {
     "name": "stdout",
     "output_type": "stream",
     "text": [
      "A: {1, 2, 3, 4} \n",
      "B {2, 4, 5}\n",
      "set.union(A, B): {1, 2, 3, 4, 5}\n",
      "A | B: {1, 2, 3, 4, 5}\n"
     ]
    }
   ],
   "source": [
    "# 세트 자료형(Set) - 합집합 : union() 혹은 Vertical bar(|) // 버티칼바:엔터위\n",
    "# set.union(세트 자료형1, 세트 자료형2)의 형태로 사용\n",
    "# 세트 자료형 1과 세트 자료형 2의 값을 합친 것에서 중복 제거.\n",
    "# 세트 자료형1 | 세트 자료형2 처럼 사용 가능함.\n",
    "\n",
    "A = {_ for _ in range(1, 5)}\n",
    "B = {_ for _ in range(2, 6) if _ != 3}\n",
    "print(\"A:\", A, \"\\nB\", B)\n",
    "print(\"set.union(A, B):\", set.union(A, B))\n",
    "print(\"A | B:\", A | B)"
   ]
  },
  {
   "cell_type": "code",
   "execution_count": 30,
   "id": "942e874b-3638-4f47-840f-0fbdbbb26f65",
   "metadata": {},
   "outputs": [
    {
     "name": "stdout",
     "output_type": "stream",
     "text": [
      "A: {1, 2, 3, 4} \n",
      "B {2, 4, 5}\n",
      "set.intersection(A, B): {2, 4}\n",
      "A & B: {2, 4}\n"
     ]
    }
   ],
   "source": [
    "# 세트 자료형(Set) - 교집합: intersection() 혹은 &\n",
    "# set.intersection(세트 자료형1, 세트 자료형2)의 형태로 사용\n",
    "# 세트 자료형1 & 세트 자료형2\n",
    "\n",
    "A = {_ for _ in range(1, 5)}\n",
    "B = {_ for _ in range(2, 6) if _ != 3}\n",
    "print(\"A:\", A, \"\\nB\", B)\n",
    "print(\"set.intersection(A, B):\", set.intersection(A, B))\n",
    "print(\"A & B:\", A & B)"
   ]
  },
  {
   "cell_type": "code",
   "execution_count": 31,
   "id": "796b535d-cb7a-4c04-bfd2-fb452fac8009",
   "metadata": {},
   "outputs": [
    {
     "name": "stdout",
     "output_type": "stream",
     "text": [
      "A: {1, 2, 3, 4} \n",
      "B {2, 4, 5}\n",
      "set.difference(A, B): {1, 3}\n",
      "A - B: {1, 3}\n"
     ]
    }
   ],
   "source": [
    "# 세트 자료형(Set) - 차집합 : difference() 혹은 - \n",
    "\n",
    "A = {_ for _ in range(1, 5)}\n",
    "B = {_ for _ in range(2, 6) if _ != 3}\n",
    "print(\"A:\", A, \"\\nB\", B)\n",
    "print(\"set.difference(A, B):\", set.difference(A, B))\n",
    "print(\"A - B:\", A - B)"
   ]
  },
  {
   "cell_type": "code",
   "execution_count": 32,
   "id": "d3b84344-d091-40ed-904b-f865735d775a",
   "metadata": {},
   "outputs": [
    {
     "name": "stdout",
     "output_type": "stream",
     "text": [
      "A: {1, 2, 3, 4} \n",
      "B {2, 4, 5}\n",
      "set.symmetric_difference(A, B): {1, 3, 5}\n",
      "A ^ B: {1, 3, 5}\n"
     ]
    }
   ],
   "source": [
    "# 세트 자료형(Set) - 대칭차집합 : symmetric_difference() 혹은 ^\n",
    "\n",
    "A = {_ for _ in range(1, 5)}\n",
    "B = {_ for _ in range(2, 6) if _ != 3}\n",
    "print(\"A:\", A, \"\\nB\", B)\n",
    "print(\"set.symmetric_difference(A, B):\", set.symmetric_difference(A, B))\n",
    "print(\"A ^ B:\", A ^ B)"
   ]
  },
  {
   "cell_type": "code",
   "execution_count": 33,
   "id": "561f3af7-9d57-42de-84ce-c612c4f11237",
   "metadata": {},
   "outputs": [
    {
     "name": "stdout",
     "output_type": "stream",
     "text": [
      "A: {1, 2, 3, 4} \n",
      "B {2, 4, 5}\n",
      "A.update(B): {1, 2, 3, 4, 5}\n"
     ]
    }
   ],
   "source": [
    "# 세트 자료형(Set) - update() 혹은 |=\n",
    "\n",
    "A = {_ for _ in range(1, 5)}\n",
    "B = {_ for _ in range(2, 6) if _ != 3}\n",
    "print(\"A:\", A, \"\\nB\", B)\n",
    "A.update(B)  # A |= B 와 같습니다.  A가 B로 변경!! in-place 라고도 함!!!!\n",
    "print(\"A.update(B):\", A)"
   ]
  },
  {
   "cell_type": "code",
   "execution_count": 34,
   "id": "ad4cd0ae-77ea-4994-9209-0d1181368b24",
   "metadata": {},
   "outputs": [
    {
     "name": "stdout",
     "output_type": "stream",
     "text": [
      "A: {1, 2, 3, 4} \n",
      "B {2, 4, 5}\n",
      "A.intersection_update(B): {2, 4}\n"
     ]
    }
   ],
   "source": [
    "# 세트 자료형(Set) - intersection_update() 혹은 &=\n",
    "\n",
    "A = {_ for _ in range(1, 5)}\n",
    "B = {_ for _ in range(2, 6) if _ != 3}\n",
    "print(\"A:\", A, \"\\nB\", B)\n",
    "A.intersection_update(B)  # A &= B 와 같습니다. \n",
    "print(\"A.intersection_update(B):\", A)   # 교집합 결과가 직접적으로 반영이된다."
   ]
  },
  {
   "cell_type": "code",
   "execution_count": 35,
   "id": "24d65159-8489-4d59-a73c-665824e2bee8",
   "metadata": {},
   "outputs": [
    {
     "name": "stdout",
     "output_type": "stream",
     "text": [
      "A: {1, 2, 3, 4} \n",
      "B {2, 4, 5}\n",
      "A.difference_update(B): {1, 3}\n"
     ]
    }
   ],
   "source": [
    "# 세트 자료형(Set) - difference_update() 혹은 -=\n",
    "\n",
    "A = {_ for _ in range(1, 5)}\n",
    "B = {_ for _ in range(2, 6) if _ != 3}\n",
    "print(\"A:\", A, \"\\nB\", B)\n",
    "A.difference_update(B)  # A -= B 와 같습니다. \n",
    "print(\"A.difference_update(B):\", A)  "
   ]
  },
  {
   "cell_type": "code",
   "execution_count": 36,
   "id": "19d89fb6-9ddb-4250-8046-59a18f63ac48",
   "metadata": {},
   "outputs": [
    {
     "name": "stdout",
     "output_type": "stream",
     "text": [
      "A: {1, 2, 3, 4} \n",
      "B {2, 4, 5}\n",
      "A.symmetric_difference_update(B): {1, 3, 5}\n"
     ]
    }
   ],
   "source": [
    "# 세트 자료형(Set) - symmetric_difference_update() 혹은 ^=\n",
    "\n",
    "A = {_ for _ in range(1, 5)}\n",
    "B = {_ for _ in range(2, 6) if _ != 3}\n",
    "print(\"A:\", A, \"\\nB\", B)\n",
    "A.symmetric_difference_update(B)  # A ^= B 와 같습니다. \n",
    "print(\"A.symmetric_difference_update(B):\", A)  "
   ]
  },
  {
   "cell_type": "code",
   "execution_count": 39,
   "id": "3ced0635-0889-4b1b-a648-fc979296e9e0",
   "metadata": {},
   "outputs": [
    {
     "name": "stdout",
     "output_type": "stream",
     "text": [
      "A: {0, 1, 2} \n",
      "B {0, 1, 2}\n",
      "A.issubset(B): True\n"
     ]
    }
   ],
   "source": [
    "# 세트 자료형(Set) - 부분집합 issubset()\n",
    "\n",
    "A = {_ for _ in range(0, 3)}\n",
    "B = {_ for _ in range(0, 3)}\n",
    "print(\"A:\", A, \"\\nB\", B)\n",
    "print(\"A.issubset(B):\", A.issubset(B))  "
   ]
  },
  {
   "cell_type": "code",
   "execution_count": 41,
   "id": "f8340a37-c82b-4794-a90a-924b844c1ed6",
   "metadata": {},
   "outputs": [
    {
     "name": "stdout",
     "output_type": "stream",
     "text": [
      "A: {0, 1, 2} \n",
      "B {0, 1}\n",
      "B.issubset(A): True\n"
     ]
    }
   ],
   "source": [
    "A = {_ for _ in range(0, 3)}\n",
    "B = {_ for _ in range(0, 2)}\n",
    "print(\"A:\", A, \"\\nB\", B)\n",
    "print(\"B.issubset(A):\", B.issubset(A))  "
   ]
  },
  {
   "cell_type": "code",
   "execution_count": 42,
   "id": "57862c9d-cb52-455a-a66b-8f89b29fbcff",
   "metadata": {},
   "outputs": [
    {
     "name": "stdout",
     "output_type": "stream",
     "text": [
      "A: {0, 1, 2} \n",
      "B {0, 1}\n",
      "B.issupperset(A): False\n"
     ]
    }
   ],
   "source": [
    "A = {_ for _ in range(0, 3)}\n",
    "B = {_ for _ in range(0, 2)}\n",
    "print(\"A:\", A, \"\\nB\", B)\n",
    "print(\"B.issupperset(A):\", B.issuperset(A))  "
   ]
  },
  {
   "cell_type": "code",
   "execution_count": 51,
   "id": "4075db46-4102-485b-bc63-2ba286a6269b",
   "metadata": {},
   "outputs": [
    {
     "name": "stdout",
     "output_type": "stream",
     "text": [
      "A : {0, 1, 2} \n",
      "B : {0, 1}\n",
      "A.issupperset(B) : True\n"
     ]
    }
   ],
   "source": [
    "A = {_ for _ in range(0, 3)}\n",
    "B = {_ for _ in range(0, 2)}\n",
    "print(\"A :\", A, \"\\nB :\", B)\n",
    "print(\"A.issupperset(B) :\", A.issuperset(B)) "
   ]
  },
  {
   "cell_type": "code",
   "execution_count": 52,
   "id": "1e1e3403-3c97-46d3-a13a-9384b14e0f8d",
   "metadata": {},
   "outputs": [
    {
     "name": "stdout",
     "output_type": "stream",
     "text": [
      "A: {0, 1, 2} \n",
      "B : {0, 1, 2}\n",
      "A > B : False\n",
      "A < B : False\n"
     ]
    }
   ],
   "source": [
    "# 세트 자료형(Set) - 진부분집합과 진상위집합 >. <\n",
    "\n",
    "A = {_ for _ in range(0, 3)}\n",
    "B = {_ for _ in range(0, 3)}\n",
    "print(\"A:\", A, \"\\nB :\", B)\n",
    "print(\"A > B :\", A > B )\n",
    "print(\"A < B :\", A < B )"
   ]
  },
  {
   "cell_type": "code",
   "execution_count": 48,
   "id": "14b45e61-a993-4412-9bc4-a77611dfbb82",
   "metadata": {},
   "outputs": [
    {
     "name": "stdout",
     "output_type": "stream",
     "text": [
      "A: {0, 1, 2} \n",
      "B {0, 1}\n",
      "A > B : True\n",
      "A < B : False\n"
     ]
    }
   ],
   "source": [
    "A = {_ for _ in range(0, 3)}\n",
    "B = {_ for _ in range(0, 2)}\n",
    "print(\"A:\", A, \"\\nB\", B)\n",
    "print(\"A > B :\", A > B )\n",
    "print(\"A < B :\", A < B )"
   ]
  },
  {
   "cell_type": "code",
   "execution_count": 53,
   "id": "cd115c7c-af0a-4765-b874-f7b7250311e4",
   "metadata": {},
   "outputs": [
    {
     "name": "stdout",
     "output_type": "stream",
     "text": [
      "A: {0, 1, 2} \n",
      "B : {0, 1, 2}\n",
      "A == B : True\n"
     ]
    }
   ],
   "source": [
    "# 세트 자료형(Set) - 같다 ==\n",
    "\n",
    "A = {_ for _ in range(0, 3)}\n",
    "B = {_ for _ in range(0, 3)}\n",
    "print(\"A:\", A, \"\\nB :\", B)\n",
    "print(\"A == B :\", A == B )"
   ]
  },
  {
   "cell_type": "code",
   "execution_count": 54,
   "id": "5e3205c0-8235-4021-ac03-f77b1d4d8556",
   "metadata": {},
   "outputs": [
    {
     "name": "stdout",
     "output_type": "stream",
     "text": [
      "A : {0, 1, 2} \n",
      "B : {3, 4, 5}\n",
      "A.isdisjoint(B) : True\n"
     ]
    }
   ],
   "source": [
    "\n",
    "A = {_ for _ in range(0, 3)}\n",
    "B = {_ for _ in range(3, 6)}\n",
    "print(\"A :\", A, \"\\nB :\", B)\n",
    "print(\"A.isdisjoint(B) :\", A.isdisjoint(B)) "
   ]
  },
  {
   "cell_type": "code",
   "execution_count": 55,
   "id": "9c1aac11-3dcb-4ebc-bbdc-c4f5013cdf27",
   "metadata": {},
   "outputs": [
    {
     "name": "stdout",
     "output_type": "stream",
     "text": [
      "{1, 2, 3, 4}\n"
     ]
    }
   ],
   "source": [
    "# 연습 문제\n",
    "\n",
    "list_sample = [1, 2, 2, 3, 3, 3, 4, 4, 4, 4]\n",
    "\n",
    "print(set(list_sample))"
   ]
  },
  {
   "cell_type": "code",
   "execution_count": null,
   "id": "6739b730-e7c9-48a5-a614-c827c8df459e",
   "metadata": {},
   "outputs": [],
   "source": []
  }
 ],
 "metadata": {
  "kernelspec": {
   "display_name": "Python 3 (ipykernel)",
   "language": "python",
   "name": "python3"
  },
  "language_info": {
   "codemirror_mode": {
    "name": "ipython",
    "version": 3
   },
   "file_extension": ".py",
   "mimetype": "text/x-python",
   "name": "python",
   "nbconvert_exporter": "python",
   "pygments_lexer": "ipython3",
   "version": "3.9.13"
  }
 },
 "nbformat": 4,
 "nbformat_minor": 5
}
