{
 "cells": [
  {
   "cell_type": "code",
   "execution_count": null,
   "id": "6b181bbc-076a-4c77-8d65-d5863c429cb2",
   "metadata": {},
   "outputs": [],
   "source": [
    "# 연습 문제 for\n",
    "\n",
    "for i in range(1,11,1):\n",
    "    print(i, end = \" \")\n",
    "    "
   ]
  },
  {
   "cell_type": "code",
   "execution_count": 42,
   "id": "c75998a5-ef1e-4c84-a828-5a47f14e61ae",
   "metadata": {},
   "outputs": [
    {
     "name": "stdout",
     "output_type": "stream",
     "text": [
      "1 2 3 4 5 6 7 8 9 10 "
     ]
    }
   ],
   "source": [
    "# 연습 문제 while\n",
    "\n",
    "i = 1\n",
    "while i <= 10:\n",
    "    print(i, end =\" \")\n",
    "    i += 1"
   ]
  },
  {
   "cell_type": "code",
   "execution_count": 43,
   "id": "efd8bf32-610b-40ca-adec-fabf34bd7c5a",
   "metadata": {
    "tags": []
   },
   "outputs": [
    {
     "name": "stdout",
     "output_type": "stream",
     "text": [
      "79.0\n"
     ]
    }
   ],
   "source": [
    "class_a = (70, 60, 55, 75, 95, 90, 80, 80, 85, 100)\n",
    "\n",
    "i=0\n",
    "\n",
    "result = 0\n",
    "\n",
    "while i < len(class_a):\n",
    "\n",
    "    result = result + class_a[i]\n",
    "\n",
    "    avg = result / len(class_a)\n",
    "\n",
    "    i += 1\n",
    "\n",
    "print(avg) \n"
   ]
  },
  {
   "cell_type": "code",
   "execution_count": 48,
   "id": "91fc5425-4ce8-45ea-9f60-29949a54500d",
   "metadata": {},
   "outputs": [
    {
     "name": "stdout",
     "output_type": "stream",
     "text": [
      "79.0\n"
     ]
    }
   ],
   "source": [
    "class_a = (70, 60, 55, 75, 95, 90, 80, 80, 85, 100)\n",
    "\n",
    "\n",
    "result = 0\n",
    "i=0\n",
    "\n",
    "while i < len(class_a):\n",
    "    result += class_a[i]\n",
    "    i += 1\n",
    "    \n",
    "    avg = result / len(class_a)\n",
    "\n",
    "print(avg) \n"
   ]
  },
  {
   "cell_type": "code",
   "execution_count": 45,
   "id": "0fec99bd-2b50-4a3c-aa1c-fcbf92c9ebfc",
   "metadata": {},
   "outputs": [
    {
     "name": "stdout",
     "output_type": "stream",
     "text": [
      "79.0\n"
     ]
    }
   ],
   "source": [
    "class_a = (70, 60, 55, 75, 95, 90, 80, 80, 85, 100)\n",
    "\n",
    "i=0\n",
    "\n",
    "result = 0\n",
    "\n",
    "while i < len(class_a):\n",
    "\n",
    "    result = result + class_a[i]\n",
    "    i += 1\n",
    "    avg = result / len(class_a)\n",
    "\n",
    "\n",
    "print(avg) \n"
   ]
  },
  {
   "cell_type": "code",
   "execution_count": 51,
   "id": "f052b5a2-6c47-4e15-afae-6cc8ed9ca6da",
   "metadata": {},
   "outputs": [
    {
     "name": "stdout",
     "output_type": "stream",
     "text": [
      "0\t1\t2\t3\t4\t5\t6\t7\t8\t9\t10\t11\t12\t13\t14\t15\t16\t17\t18\t19\t20\t21\t22\t23\t24\t25\t26\t27\t28\t29\t30\t31\t32\t33\t34\t35\t36\t37\t38\t39\t40\t41\t42\t43\t44\t45\t46\t47\t48\t49\t50\t51\t52\t53\t54\t55\t56\t57\t58\t59\t60\t61\t62\t63\t64\t65\t66\t67\t68\t69\t70\t71\t72\t73\t74\t75\t76\t77\t78\t79\t80\t81\t82\t83\t84\t85\t86\t87\t88\t89\t90\t91\t92\t93\t94\t95\t96\t97\t98\t99\t100\t"
     ]
    }
   ],
   "source": [
    "# break문\n",
    "\n",
    "# 1000회 반복\n",
    "for _ in range(10000):\n",
    "    print(_, end=\"\\t\")\n",
    "    if _ == 100:\n",
    "        break"
   ]
  },
  {
   "cell_type": "code",
   "execution_count": 67,
   "id": "b59f754a-46fb-43fd-b882-c70e3e14be4f",
   "metadata": {},
   "outputs": [
    {
     "name": "stdout",
     "output_type": "stream",
     "text": [
      "5050\n"
     ]
    }
   ],
   "source": [
    "# 연습 문제\n",
    "\n",
    "\n",
    "i = 0\n",
    "total = 0\n",
    "\n",
    "while True : \n",
    "\n",
    "    i += 1\n",
    "    total += i\n",
    "\n",
    "    if i == 100:\n",
    "        break\n",
    "        \n",
    "print(total)"
   ]
  },
  {
   "cell_type": "code",
   "execution_count": 71,
   "id": "7ad0ecf4-5d13-48d4-81de-b3850b4f2e3a",
   "metadata": {},
   "outputs": [
    {
     "name": "stdout",
     "output_type": "stream",
     "text": [
      "5050\n"
     ]
    }
   ],
   "source": [
    "# 풀이\n",
    "\n",
    "\n",
    "i = 0\n",
    "total = 0\n",
    "\n",
    "while True : \n",
    "    total += i\n",
    "    i += 1\n",
    "\n",
    "    if i > 100 : break\n",
    "        \n",
    "print(total)"
   ]
  },
  {
   "cell_type": "code",
   "execution_count": 70,
   "id": "b903dc0a-6046-43ba-9c60-bccb66e20689",
   "metadata": {},
   "outputs": [
    {
     "name": "stdin",
     "output_type": "stream",
     "text": [
      "q를 입력하면 종료됩니다. 진짜?\n",
      "q를 입력하면 종료됩니다. 정말?\n",
      "q를 입력하면 종료됩니다. q\n"
     ]
    },
    {
     "name": "stdout",
     "output_type": "stream",
     "text": [
      "프로그램을 종료합니다.\n"
     ]
    }
   ],
   "source": [
    "# while문 - 무한 루프의 활용\n",
    "\n",
    "while True:\n",
    "    input_value = input(\"q를 입력하면 종료됩니다.\")\n",
    "    if input_value == \"q\" : break\n",
    "    \n",
    "print(\"프로그램을 종료합니다.\")"
   ]
  },
  {
   "cell_type": "code",
   "execution_count": null,
   "id": "8b0a3e48-4317-4aee-8967-5e48917f03f9",
   "metadata": {},
   "outputs": [],
   "source": [
    "# 연습 문제\n",
    "\n"
   ]
  },
  {
   "cell_type": "code",
   "execution_count": 72,
   "id": "80a34e24-5e78-48ee-811e-66afd4c70db2",
   "metadata": {},
   "outputs": [
    {
     "name": "stdout",
     "output_type": "stream",
     "text": [
      "1\t3\t5\t7\t9\t11\t13\t15\t17\t19\t21\t23\t25\t27\t29\t31\t33\t35\t37\t39\t41\t43\t45\t47\t49\t51\t53\t55\t57\t59\t61\t63\t65\t67\t69\t71\t73\t75\t77\t79\t81\t83\t85\t87\t89\t91\t93\t95\t97\t99\t"
     ]
    }
   ],
   "source": [
    "# continue\n",
    "# 제어흐름을 유지하고, continue가 실행된 반복 횟수의 코드 실행만 건너뛴다!\n",
    "# //break : 아예 for/if 문을 빠져나간다!!\n",
    "# //continue : 이부분만 건너뛰고 다시!\n",
    "\n",
    "for i in range(100): # 0~99까지 증가하면서 100번 반복\n",
    "    if i%2 ==0:      # i를 2로 나누었을 때 나머지가 0이면 짝수\n",
    "        continue     # 아래코드를 실행하지 않고 건너뜀\n",
    "    print(i, end=\"\\t\")"
   ]
  },
  {
   "cell_type": "code",
   "execution_count": null,
   "id": "8e25c3ee-508f-4621-9670-54fb6aa45537",
   "metadata": {},
   "outputs": [],
   "source": [
    "# 쓰다 맘\n",
    "\n",
    "i = 0\n",
    "while i < 100:\n",
    "    i += 1\n",
    "    if i % 2 == 0:\n",
    "        continue\n",
    "        break\n"
   ]
  },
  {
   "cell_type": "code",
   "execution_count": 87,
   "id": "fee35c30-175f-4573-9f49-86f9fae4fc55",
   "metadata": {},
   "outputs": [
    {
     "name": "stdin",
     "output_type": "stream",
     "text": [
      "시작하는 정수 입력: 1\n",
      "끝나는 정수 입력: 10\n"
     ]
    },
    {
     "name": "stdout",
     "output_type": "stream",
     "text": [
      "1 부터 10 까지의 합은 55 입니다.\n"
     ]
    }
   ],
   "source": [
    "# 연습 문제 for\n",
    "\n",
    "n = int(input(\"시작하는 정수 입력:\"))\n",
    "m = int(input(\"끝나는 정수 입력:\"))\n",
    "\n",
    "result = 0\n",
    "for i in range(n,m+1):\n",
    "    result += i\n",
    "\n",
    "print (n,\"부터\", m, \"까지의 합은\",result,\"입니다.\")"
   ]
  },
  {
   "cell_type": "code",
   "execution_count": 79,
   "id": "0a3f9d16-ad6c-4417-9aec-d39deb06989a",
   "metadata": {
    "collapsed": true,
    "jupyter": {
     "outputs_hidden": true
    },
    "tags": []
   },
   "outputs": [
    {
     "name": "stdin",
     "output_type": "stream",
     "text": [
      "정수 a값을 입력하세요:  1\n",
      "정수 b값을 입력하세요:  40\n"
     ]
    },
    {
     "name": "stdout",
     "output_type": "stream",
     "text": [
      "1부터 40까지의 정수의 합은 820이다\n"
     ]
    }
   ],
   "source": [
    "# 추가~~\n",
    "\n",
    "a = int(input('정수 a값을 입력하세요: '))\n",
    "b = int(input('정수 b값을 입력하세요: '))\n",
    "\n",
    "if a > b:\n",
    "    a, b = b, a #a와 b 순서 바꿈, 오름차순 정리\n",
    "\n",
    "sum = 0 #sum 초기화\n",
    "for i in range(a, b+1):\n",
    "    sum += i\n",
    "\n",
    "print(f'{a}부터 {b}까지의 정수의 합은 {sum}이다')"
   ]
  },
  {
   "cell_type": "code",
   "execution_count": 89,
   "id": "30b97282-6585-4e8c-ab73-775e7ec272ab",
   "metadata": {},
   "outputs": [
    {
     "name": "stdout",
     "output_type": "stream",
     "text": [
      "1+2+3+4+5+6+7+8+9+10+11+12+13+14+15+16+17+18+19+20+21+22+23+24+25+26+27+28+29+30+31+32+33+34+35+36+37+38+39+40 = 820\n"
     ]
    }
   ],
   "source": [
    "# for 추가 ++ 우리 앞에서 했던거넹\n",
    "\n",
    "#sum 초기화\n",
    "sum = 0\n",
    "\n",
    "for i in range(a, b):\n",
    "    print(f'{i}+', end='')\n",
    "    sum += i #sum=sum+i\n",
    "\n",
    "print(f'{b} = ', end='')\n",
    "sum += b #sum=sum+b\n",
    "print(sum)"
   ]
  },
  {
   "cell_type": "code",
   "execution_count": 86,
   "id": "bb5cf3d4-7b01-42ac-973f-177477d0bd9d",
   "metadata": {},
   "outputs": [
    {
     "name": "stdin",
     "output_type": "stream",
     "text": [
      "시작하는 정수 입력: 1\n",
      "끝나는 정수 입력: 10\n"
     ]
    },
    {
     "ename": "KeyboardInterrupt",
     "evalue": "",
     "output_type": "error",
     "traceback": [
      "\u001b[1;31m---------------------------------------------------------------------------\u001b[0m",
      "\u001b[1;31mKeyboardInterrupt\u001b[0m                         Traceback (most recent call last)",
      "\u001b[1;32m~\\AppData\\Local\\Temp\\ipykernel_9648\\2032446179.py\u001b[0m in \u001b[0;36m<module>\u001b[1;34m\u001b[0m\n\u001b[0;32m      9\u001b[0m \u001b[1;32mwhile\u001b[0m \u001b[1;32mTrue\u001b[0m \u001b[1;33m:\u001b[0m\u001b[1;33m\u001b[0m\u001b[1;33m\u001b[0m\u001b[0m\n\u001b[0;32m     10\u001b[0m     \u001b[0mresult\u001b[0m \u001b[1;33m=\u001b[0m \u001b[0mn\u001b[0m\u001b[1;33m+\u001b[0m\u001b[1;36m1\u001b[0m\u001b[1;33m\u001b[0m\u001b[1;33m\u001b[0m\u001b[0m\n\u001b[1;32m---> 11\u001b[1;33m     \u001b[0mi\u001b[0m \u001b[1;33m+=\u001b[0m \u001b[1;36m1\u001b[0m\u001b[1;33m\u001b[0m\u001b[1;33m\u001b[0m\u001b[0m\n\u001b[0m\u001b[0;32m     12\u001b[0m \u001b[1;33m\u001b[0m\u001b[0m\n\u001b[0;32m     13\u001b[0m \u001b[0mprint\u001b[0m \u001b[1;33m(\u001b[0m\u001b[0mn\u001b[0m\u001b[1;33m,\u001b[0m\u001b[1;34m\"부터\"\u001b[0m\u001b[1;33m,\u001b[0m \u001b[1;36m10\u001b[0m\u001b[1;33m,\u001b[0m \u001b[1;34m\"까지의 합은\"\u001b[0m\u001b[1;33m,\u001b[0m\u001b[0mresult\u001b[0m\u001b[1;33m,\u001b[0m\u001b[1;34m\"입니다.\"\u001b[0m\u001b[1;33m)\u001b[0m\u001b[1;33m\u001b[0m\u001b[1;33m\u001b[0m\u001b[0m\n",
      "\u001b[1;31mKeyboardInterrupt\u001b[0m: "
     ]
    }
   ],
   "source": [
    "# 연습 문제 while\n",
    "\n",
    "n = int(input(\"시작하는 정수 입력:\"))\n",
    "m = int(input(\"끝나는 정수 입력:\"))\n",
    "\n",
    "i = 0\n",
    "result = 0\n",
    "\n",
    "while True :\n",
    "    result = n+1\n",
    "    i += 1\n",
    "\n",
    "print (n,\"부터\", 10, \"까지의 합은\",result,\"입니다.\")\n",
    "\n",
    "\n",
    "# 왜 실행이 안되지? 일단 i 값부터 안줬고, 조건문도 못했고~~"
   ]
  },
  {
   "cell_type": "code",
   "execution_count": 88,
   "id": "3ee41d99-38a5-4ed7-8a39-dafdbc09b67f",
   "metadata": {},
   "outputs": [
    {
     "name": "stdin",
     "output_type": "stream",
     "text": [
      "시작하는 정수 입력: 1\n",
      "끝나는 정수 입력: 10\n"
     ]
    },
    {
     "name": "stdout",
     "output_type": "stream",
     "text": [
      "1 부터 10 까지의 합은 55 입니다.\n"
     ]
    }
   ],
   "source": [
    "# 연습 문제 while 풀이\n",
    "\n",
    "n = int(input(\"시작하는 정수 입력:\"))\n",
    "m = int(input(\"끝나는 정수 입력:\"))\n",
    "\n",
    "i = n\n",
    "result = 0\n",
    "\n",
    "while i <= m:\n",
    "    result += i\n",
    "    i += 1\n",
    "\n",
    "print (n,\"부터\", 10, \"까지의 합은\",result,\"입니다.\")"
   ]
  },
  {
   "cell_type": "code",
   "execution_count": null,
   "id": "856740ae-754c-4a0b-b06c-9e65d8f5add2",
   "metadata": {},
   "outputs": [],
   "source": []
  }
 ],
 "metadata": {
  "kernelspec": {
   "display_name": "Python 3 (ipykernel)",
   "language": "python",
   "name": "python3"
  },
  "language_info": {
   "codemirror_mode": {
    "name": "ipython",
    "version": 3
   },
   "file_extension": ".py",
   "mimetype": "text/x-python",
   "name": "python",
   "nbconvert_exporter": "python",
   "pygments_lexer": "ipython3",
   "version": "3.9.13"
  }
 },
 "nbformat": 4,
 "nbformat_minor": 5
}
