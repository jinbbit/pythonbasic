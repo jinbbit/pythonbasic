{
 "cells": [
  {
   "cell_type": "code",
   "execution_count": null,
   "id": "4c1439e1-3295-4d85-b2c6-a276b662eb07",
   "metadata": {},
   "outputs": [],
   "source": [
    "<데이터 수집>\n",
    "기초 지식, API\n",
    "\n",
    "코딩을 통해 자동화된 방식으로 데이터 추출\n",
    "\n",
    "API란?\n",
    "통신할 수 있도록 하는 인터페이스의 일종\n"
   ]
  },
  {
   "cell_type": "code",
   "execution_count": null,
   "id": "878f4007-2bc4-4c13-992f-16592ba125ab",
   "metadata": {},
   "outputs": [],
   "source": [
    "API와 서버\n",
    "\n",
    "서버 - software -> service(DBMS) #localhost\n",
    "     - hardware\n",
    "    \n",
    "    \n",
    "물리적인 관점에서의 서버는 단순히 성능이 좋고 용량도 큰 빠른 컴퓨터.\n",
    "일반적으로 서버에는 모니터, 키보드, 마우스 연결 x\n",
    "서버에 원격으로 접속해서 작업\n",
    "\n",
    "서버는 모든 작업에 할용.\n",
    "ex)서버에 데이터를 저장, 서버를 통해 이메일을 주고받고 웹 서비스\n",
    "\n",
    "소프트웨어 개발자가 프로그램을 작성하고 서버에 복사해 실행하면\n",
    "서버로서 동작하게 됩니다."
   ]
  },
  {
   "cell_type": "code",
   "execution_count": null,
   "id": "7ca23232-7113-4805-972e-947360be7c93",
   "metadata": {},
   "outputs": [],
   "source": [
    "API 정의 및 가치\n",
    "\n",
    "웹 사이트는 사용자인 사람에게 초점을 맞춰서 설계.\n",
    "즉, 시각적 정보를 제공하고 사용자의 제어에 따라 원하는 페이지로 이동가능.\n",
    "\n"
   ]
  },
  {
   "cell_type": "code",
   "execution_count": null,
   "id": "0c55a302-ed6d-4206-a556-361092db381e",
   "metadata": {},
   "outputs": [],
   "source": [
    "사전에 알아둬야 할 것들\n",
    "1. HTTP 통신 -> server와 통신\n",
    "2. 사용되는 콘텐츠 타입 -> server 에서 제공\n",
    "3. 예상 응답을 포함하는 일련의 정의 및 프로토콜 -> server에서 제공"
   ]
  },
  {
   "cell_type": "code",
   "execution_count": null,
   "id": "6b7ac153-c1ab-4171-b59f-a7c42ba242c5",
   "metadata": {},
   "outputs": [],
   "source": [
    "<HTTP (Hyper Text Transfer Protocol)>\n",
    "HTTP는 네트워크 통신을 하기위한 하나의 표준화된 약속\n",
    "클라이언트 -요청(request)-> 원하는 데이터를 서버에 호출\n",
    "서버 -요청처리 -> 그에 대한 결과를 응답(reponse)\n",
    "\n"
   ]
  },
  {
   "cell_type": "code",
   "execution_count": null,
   "id": "233762f3-3c34-466f-adf4-e7b21c4bf76b",
   "metadata": {},
   "outputs": [],
   "source": [
    "HTTP 통신에서 Requessts Methods\n",
    "                        \n",
    "get - 조회  \n",
    "post - 데이터 전달\n",
    "delete - 삭제\n",
    "put - 생성 or 덮어쓰기\n",
    "patch - 부분변경\n",
    "등 다양한 종류\n",
    "\n",
    "이 중 API 통신에 주로 사용되는 것은 get 방식. 이것만 자세히 다룸\n",
    "\n",
    "get방식은 주로 Resource 조회의 용도!\n",
    "서버에 요청을 보낼 때 파라미터 같은걸 추가해서 보내기도 하는데 \n",
    "이때 쿼리 스트링을 활용\n",
    "(참고로 get방식이 처음 고안될 때 body(값)가 없었고, 현재는 경우에 따라 각기다름)\n",
    "\n",
    "//전통의 get방식은 url을 통해서 \n",
    "지금은 body가 생겼기도함"
   ]
  },
  {
   "cell_type": "code",
   "execution_count": null,
   "id": "e77dc745-dd5c-4d22-aece-ebdd74862892",
   "metadata": {},
   "outputs": [],
   "source": [
    "Query String\n",
    "\n",
    "쿼리스트링은 uri에서 물음표를 붙이고 사용되는 부분으로 attribute=value의 형태로 \n",
    "작성합니다. 여러 개의 parameter를 작성할 땐 &를 구분자로 사용하여 작성할 수 \n",
    "있습니다.\n",
    "\n",
    "URI(Uniform Resource Identifier)\n",
    "\n",
    "URI는 인터넷에 있는 자원을 나타내는 유일한 주소.\n",
    "URI는 아래와 같은 형태로 나타낼 수 있다.\n",
    "\n",
    "scheme:[//[user[:password]@]host[:port]][/path][?query][#fragment]"
   ]
  },
  {
   "cell_type": "code",
   "execution_count": null,
   "id": "66302ccd-0286-4c1a-8f62-31b0ed137b8c",
   "metadata": {},
   "outputs": [],
   "source": [
    "응답 콘텐츠 형식(Content-Type)\n",
    "\n",
    "API로 통신할 때 주로 사용하는 콘텐츠 타입은 json과 xml이 있습니다.\n",
    "\n",
    "JSON(제이슨, JavaScript Object Notation)    // 딕셔너리랑 차이점은? 제이슨은 \n",
    "- Attribute-Value pair로 구성되어 있습니다.\n",
    "- Serializable value(직렬화)입니다.              // 직렬화된 값!! 전송하기 편함!!\n",
    "\n",
    "XML(eXtensible Markup Language)\n",
    "- 다목적 마크업 언어(태그 등을 이용하여 문서나 데이터의 구조를 명기하는 언어)\n",
    "입니다.\n"
   ]
  },
  {
   "cell_type": "code",
   "execution_count": null,
   "id": "aeb59ab9-8737-41dc-984d-278594952f54",
   "metadata": {},
   "outputs": [],
   "source": [
    "직렬화(serialization)와 역직렬화(deserialization)\n",
    "\n",
    "직렬화(serialization) : 전송을 위해 객체를 연속된 바이트로 변경하는 것\n",
    "역직렬화(deserialization) : 바이트로 변경된 것을 다시 객체로 만드는 과정\n",
    "\n",
    "serial이란 것은 연속적인 것을 의미합니다.\n",
    "\n"
   ]
  },
  {
   "cell_type": "code",
   "execution_count": null,
   "id": "4f519c90-821b-4283-9a65-e1fffafd95f7",
   "metadata": {},
   "outputs": [],
   "source": [
    "네트워크 통신\n",
    "\n",
    "패킷(packet) 단위로 분할되어 전달\n",
    " \n",
    "         컴퓨터 통신 연결은 단순히 바이트, \n",
    "         문자열, 비트를 독립적으로 연속하여 \n",
    "                 데이터를 전송\n",
    "PC(Client) -------------------------->  Server\n",
    "\n"
   ]
  },
  {
   "cell_type": "code",
   "execution_count": null,
   "id": "2620296f-4992-4efd-831e-e01f39a91f7a",
   "metadata": {},
   "outputs": [],
   "source": [
    "파싱(Parsing)\n",
    "\n",
    "컴퓨터 과학에서 파싱((syntactic) parsing)은 일련의 문자열을 의미있는 토큰(token)으로 \n",
    "분해하고 이들로 이루어진 파스 트리(parse tree)를 만드는 과정을 말합니다.\n",
    "\n",
    "하나의 예를 들면 네트워크를 통해 전달받은 문자열을 콘텐츠 타입에 따라 의미있는 \n",
    "단위로 분해하고 이를 다시 객체로서 활용할 수 있도록 하는 것을 의미합니다."
   ]
  },
  {
   "cell_type": "code",
   "execution_count": null,
   "id": "de838caf-4986-4d41-88fe-2d2e38980d39",
   "metadata": {},
   "outputs": [],
   "source": [
    "***정리***\n",
    "\n",
    "API를 통해 데이터를 받으려면 HTTP 통신을 활용해야 한다. \n",
    "API 통신에 필요한 요청 방식이 Document를 통해 제공되며, \n",
    "우리는 그에 규격에 적합하게 요청을 작성하여 호출해야 합니다.\n",
    "\n",
    "API 방식에서 요청을 보낼 때 주로 HTTP Request method로 get 방식을 사용하며, \n",
    "API 서버가 처리하는데 필요한 parameters를 query string에 추가하여 보냅니다. \n",
    "정상적인 호출 후에는 서버에서 응답을 보내오는데, 우리는 그것을 활용하여 \n",
    "데이터를 수집할 수 있습니다."
   ]
  },
  {
   "cell_type": "code",
   "execution_count": null,
   "id": "250f0433-c7cf-4a88-848d-b8f8c2c1632e",
   "metadata": {},
   "outputs": [],
   "source": [
    " ***앞에 다 까먹어도 이것은 기억해!!***\n",
    "    \n",
    "API의 문서     \n",
    "\n",
    "문서에 작성된 내용에는 API의 호출 방법, 제공하는 데이터 형식, 각 매개변수, 세부 정보, \n",
    "사용자 권한, 속도 제한 등 정보가 제공됩니다.\n",
    "\n",
    "API 서버에 제대로 된 데이터를 받기 위해선 시간을 들여 해당 문서를 파악하고 익히는 \n",
    "것이 중요하다고 할 수 있습니다.\n",
    "\n"
   ]
  },
  {
   "cell_type": "code",
   "execution_count": null,
   "id": "4ee92c91-1f0c-4b37-8440-95d84790e6f7",
   "metadata": {},
   "outputs": [],
   "source": [
    "API는 경우에 따라 무료로도 제공되며, 반대로 유료로도 제공됩니다.\n",
    "대표적인 무료 API를 소개합니다.\n",
    "- 공공데이터포털: https://www.data.go.kr\n",
    "- 문화데이터 광장: https://www.culture.go.kr/data/main/main.do#main\n",
    "- 공간정보 오픈플랫폼: https://www.vworld.kr/dev/v4api.do\n",
    "- 금융감독원 오픈 API: https://opendart.fss.or.kr/\n",
    "- 네이버 오픈 API: https://developers.naver.com/products/intro/plan/plan.md\n",
    "- 카카오 디벨로퍼: https://developers.kakao.com/tool\n",
    "- 서울 열린데이터 광장: https://data.seoul.go.kr/together/guide/useGuide.do\n",
    "- 한국은행 Open API: https://ecos.bok.or.kr/api/#/"
   ]
  },
  {
   "cell_type": "code",
   "execution_count": null,
   "id": "238216a9-348c-40f1-a2fb-823de5d02c9d",
   "metadata": {},
   "outputs": [],
   "source": [
    "API를 사용해서 데이터를 불러오는 방법\n",
    "API로 데이터를 불러오는 단계를 정리해봤습니다.\n",
    "1. API 제공하는 문서를 읽고 이해하기\n",
    "2. API 서버와의 통신에 필요한 requests를 하기\n",
    "3. 수신한 데이터를 활용하여 데이터셋 생성하기"
   ]
  },
  {
   "cell_type": "code",
   "execution_count": null,
   "id": "ecee7317-6ebe-4024-8039-7a799ba19368",
   "metadata": {},
   "outputs": [],
   "source": [
    "Github에서 제공하는 API 활용해보기\n",
    "지금부터는 Github API를 활용하여 데이터를 불러오는 실습을 할 예정입니다.\n",
    "제일 처음 해야 하는 일이 document 페이지로 이동해서 해당 API에 대한 정보를 \n",
    "습득하는 것입니다. 아래 List public repositories에 대한 API Document의 링크를 \n",
    "준비해두었습니다.\n",
    "https://docs.github.com/en/rest/repos/repos?apiVersion=2022-11-28#list-public-re\n",
    "positories"
   ]
  },
  {
   "cell_type": "code",
   "execution_count": null,
   "id": "55b1f018-d31e-4c84-91a4-6257639e88bd",
   "metadata": {},
   "outputs": [],
   "source": []
  }
 ],
 "metadata": {
  "kernelspec": {
   "display_name": "Python 3 (ipykernel)",
   "language": "python",
   "name": "python3"
  },
  "language_info": {
   "codemirror_mode": {
    "name": "ipython",
    "version": 3
   },
   "file_extension": ".py",
   "mimetype": "text/x-python",
   "name": "python",
   "nbconvert_exporter": "python",
   "pygments_lexer": "ipython3",
   "version": "3.9.13"
  }
 },
 "nbformat": 4,
 "nbformat_minor": 5
}
