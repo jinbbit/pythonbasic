{
 "cells": [
  {
   "cell_type": "code",
   "execution_count": null,
   "id": "081350c4-3833-4765-98ee-ca63440f6a72",
   "metadata": {},
   "outputs": [],
   "source": [
    "<<< 객체지향(Object Oriented) 프로그래밍 >>>\n",
    "\n",
    "현실 세계의 복잡한 문제를 처리하는데 유용함.\n",
    "기능을 개선하고 발전시킬 때도 해당 클래스만 수정하면 되므로 \n",
    "큰 프로젝트의 유지보수에도 매우 효율적.\n",
    "\n",
    "객체가 가진 데이터 => 클래스의 속성(Attribute) \n",
    "객체가 갖는 기능 => 메서드(Method)\n",
    "\n"
   ]
  },
  {
   "cell_type": "code",
   "execution_count": null,
   "id": "4cf04bab-faa5-4f0c-b49b-fc69d688eea3",
   "metadata": {},
   "outputs": [],
   "source": [
    "< 클래스(Class) >\n",
    "\n",
    "클래스 = 사용자 정의 객체를 만들기 위한 주형(설계)\n",
    "클래스 안에 메서드가 있다~\n",
    "\n",
    "      # 클래스명으로 주로 PascalCase(UpperCamelCase)를 씁니다.\n",
    "      # 단어와단어를 대문자를 사이에 두고 구분\n",
    "      # 이렇게쓰면 클래스구나 알수있게~~\n",
    "      # 표준인거지 다르게 쓸 수도 있다.\n",
    "      # 소괄호는 쓸 수도 있는데, '상속'이라는거에~ 여기선 설명 no\n",
    "class ClassName :\n",
    "    det method_name(self):\n",
    "        method_body\n",
    "        \n",
    "    class_body\n",
    "    ...\n",
    "    "
   ]
  },
  {
   "cell_type": "code",
   "execution_count": 4,
   "id": "d90d30ab-3cc0-4ba4-9c65-f7c12b5fbe9a",
   "metadata": {},
   "outputs": [
    {
     "name": "stdout",
     "output_type": "stream",
     "text": [
      "<class 'int'>\n",
      "<class 'list'>\n",
      "<class 'dict'>\n"
     ]
    }
   ],
   "source": [
    "# 클래스(Class)\n",
    "# 지금까지 사용해온 int, list, dict 등도 클래스\n",
    "\n",
    "number = int(10)\n",
    "print(type(number))\n",
    "\n",
    "num_list = list(range(10))\n",
    "print(type(num_list))\n",
    "\n",
    "num_dick = dict (key = \"value\", key2 = \"value2\")\n",
    "print(type(num_dick))"
   ]
  },
  {
   "cell_type": "code",
   "execution_count": null,
   "id": "6f4d8bd2-fd67-4981-a73c-b9311ea40dbe",
   "metadata": {},
   "outputs": [],
   "source": [
    "< 객체(Objet)? 인스턴스(Instance)?? >\n",
    "\n",
    "객체 : 객체를 언급할 때 단어 하나만 활용할 때\n",
    "인스턴스 : 특성 클래스로부터 만들어진 실체\n",
    "\n",
    "ex) 인스턴스의 경우 '리스트 클래스로 만들어진 인스턴스다'라고 말할 수 있다.\n",
    "부르는 구체적인 것은 조금 달라도 결국 둘 같은 말!\n",
    "\n",
    "인스턴스의 생성은 클래스명 오른편에 소괄호()를 붙여서 만듦\n",
    "instance_variable = ClassName()"
   ]
  },
  {
   "cell_type": "code",
   "execution_count": null,
   "id": "c560d949-41c0-4731-aca9-48c6d978fdcf",
   "metadata": {},
   "outputs": [],
   "source": [
    "< 메서드(Method) >\n",
    "\n",
    "매서드 : 클래스 바디 안에서 정의되는 함수\n",
    "클래스의 인스턴스의 어트리뷰트(attribute)로서 호출되면, 그 메서드는 첫 번째 인사로~~"
   ]
  },
  {
   "cell_type": "code",
   "execution_count": null,
   "id": "703673cf-0387-43ee-9ccf-ee01e5654a7a",
   "metadata": {},
   "outputs": [],
   "source": [
    "< 클래스 속성(Attribute) >\n",
    "__init__ 메서드 안에서 self.속성에 값을 할당하면 만들어짐."
   ]
  },
  {
   "cell_type": "code",
   "execution_count": 7,
   "id": "3911ac11-5c6c-4393-91e1-b134bef441ed",
   "metadata": {},
   "outputs": [
    {
     "ename": "SyntaxError",
     "evalue": "invalid syntax (925417042.py, line 1)",
     "output_type": "error",
     "traceback": [
      "\u001b[1;36m  File \u001b[1;32m\"C:\\Users\\user\\AppData\\Local\\Temp\\ipykernel_2892\\925417042.py\"\u001b[1;36m, line \u001b[1;32m1\u001b[0m\n\u001b[1;33m    Class Person:\u001b[0m\n\u001b[1;37m          ^\u001b[0m\n\u001b[1;31mSyntaxError\u001b[0m\u001b[1;31m:\u001b[0m invalid syntax\n"
     ]
    }
   ],
   "source": [
    "Class Person:\n",
    "    def __init__(self) : \n",
    "        self.hello = \"안녕하세요.:\"\n",
    "        \n",
    "    def greeting(self) : \n",
    "        print(self.hello)\n",
    "        \n",
    "print(james.Person : \n",
    "print(james.greeting : "
   ]
  },
  {
   "cell_type": "code",
   "execution_count": null,
   "id": "2225300e-8236-42f9-9bb3-42692c769f70",
   "metadata": {},
   "outputs": [],
   "source": []
  }
 ],
 "metadata": {
  "kernelspec": {
   "display_name": "Python 3 (ipykernel)",
   "language": "python",
   "name": "python3"
  },
  "language_info": {
   "codemirror_mode": {
    "name": "ipython",
    "version": 3
   },
   "file_extension": ".py",
   "mimetype": "text/x-python",
   "name": "python",
   "nbconvert_exporter": "python",
   "pygments_lexer": "ipython3",
   "version": "3.9.13"
  }
 },
 "nbformat": 4,
 "nbformat_minor": 5
}
