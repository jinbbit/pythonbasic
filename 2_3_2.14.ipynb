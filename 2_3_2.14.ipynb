{
 "cells": [
  {
   "cell_type": "code",
   "execution_count": 10,
   "id": "de58b053-cc13-4612-a59c-0b017dfbe9cd",
   "metadata": {},
   "outputs": [
    {
     "name": "stdin",
     "output_type": "stream",
     "text": [
      "이름을 입력하시오: 엔코아\n"
     ]
    },
    {
     "name": "stdout",
     "output_type": "stream",
     "text": [
      "엔코아 씨, 안녕하세요?\n",
      "파이썬에 오신 것을 환영합니다.\n"
     ]
    },
    {
     "name": "stdin",
     "output_type": "stream",
     "text": [
      "첫 번째 정수를 입력하세요: 300\n",
      "두 번째 정수를 입력하세요: 400\n"
     ]
    },
    {
     "name": "stdout",
     "output_type": "stream",
     "text": [
      "300 과 400 의 합은 700 입니다.\n"
     ]
    }
   ],
   "source": [
    "input_value = input(\"이름을 입력하시오:\")\n",
    "\n",
    "print((input_value),\"씨, 안녕하세요?\")\n",
    "\n",
    "print(\"파이썬에 오신 것을 환영합니다.\")\n",
    "\n",
    "a = input(\"첫 번째 정수를 입력하세요:\")\n",
    "\n",
    "b = input(\"두 번째 정수를 입력하세요:\")\n",
    "\n",
    "c = int(a)+int(b)\n",
    "\n",
    "print(a,\"과\", b,\"의 합은\", c, \"입니다.\")"
   ]
  },
  {
   "cell_type": "code",
   "execution_count": 36,
   "id": "2c7ce3f7-6b76-4c07-a4c0-43bec35b6d78",
   "metadata": {},
   "outputs": [
    {
     "name": "stdin",
     "output_type": "stream",
     "text": [
      "경기장은 어디입니까? 고척\n",
      "이긴 팀은 어디입니까? KT\n",
      "진팀은 어디입니까? LG\n",
      "우수 선수는 누구입니까? 강백호\n",
      "스코어는 몇대몇입니까? 10:9\n"
     ]
    },
    {
     "name": "stdout",
     "output_type": "stream",
     "text": [
      "\n",
      "[속보]  KT 가 10:9 로 승리...\n",
      "오늘 고척 경기장에서 야구 경기가 있었습니다.\n",
      "KT와 LG는 치열한 공방전을 펼쳤습니다.\n",
      "이 경기에서 강백호 가 맹활약을 했습니다.\n",
      "그 끝내 KT 가 LG 를 10:9 로 승리하였습니다.\n",
      "기사 끝\n"
     ]
    }
   ],
   "source": [
    "where = input(\"경기장은 어디입니까?\")\n",
    "winner = input(\"이긴 팀은 어디입니까?\")\n",
    "loser = input(\"진팀은 어디입니까?\")\n",
    "who = input(\"우수 선수는 누구입니까?\")\n",
    "score = input(\"스코어는 몇대몇입니까?\")\n",
    "\n",
    "print(\"\\n[속보] \", winner,\"가\", score, \"로 승리...\")\n",
    "print(\"오늘\", where,\"경기장에서 야구 경기가 있었습니다.\")\n",
    "print(\"KT와 LG는 치열한 공방전을 펼쳤습니다.\")\n",
    "print(\"이 경기에서\", who, \"가 맹활약을 했습니다.\")\n",
    "print(\"그 끝내\", winner,\"가\", loser, \"를\", score,\"로 승리하였습니다.\")\n",
    "print(\"기사 끝\")"
   ]
  },
  {
   "cell_type": "code",
   "execution_count": 34,
   "id": "0215cfae-4224-44b5-8205-77f6a7d6dfcd",
   "metadata": {},
   "outputs": [
    {
     "name": "stdout",
     "output_type": "stream",
     "text": [
      "<class 'list'>\n",
      "['1', '2', '3']\n"
     ]
    }
   ],
   "source": [
    "#입력 값을 여려 개의 변수에 저장하기\n",
    "#한번에 두 개의 입력을 받기 위해 문자열(str) 의 split() 함수 활용!\n",
    "\n",
    "result = '1,2,3' .split(',')\n",
    "print(type(result))\n",
    "print(result)"
   ]
  }
 ],
 "metadata": {
  "kernelspec": {
   "display_name": "Python 3 (ipykernel)",
   "language": "python",
   "name": "python3"
  },
  "language_info": {
   "codemirror_mode": {
    "name": "ipython",
    "version": 3
   },
   "file_extension": ".py",
   "mimetype": "text/x-python",
   "name": "python",
   "nbconvert_exporter": "python",
   "pygments_lexer": "ipython3",
   "version": "3.9.13"
  }
 },
 "nbformat": 4,
 "nbformat_minor": 5
}
