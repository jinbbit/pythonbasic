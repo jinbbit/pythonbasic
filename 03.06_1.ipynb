{
 "cells": [
  {
   "cell_type": "markdown",
   "id": "2e530775-0994-43fe-8fe9-4a997e4c0980",
   "metadata": {},
   "source": [
    "# Pandas(Panel Datas)란 (1)\n",
    "\n",
    "Pandas는 주로 데이터 분석에 사용됩니다.\n",
    "\n",
    "대부분의 데이터는 시계열(series)이나 표(table)의 형태로 나타낼 수 있습니다. Pandas\n",
    "패키지는 이러한 데이터를 다루기 위한 Series 클래스와 DataFrame 클래스를 제공합니다.\n",
    "\n",
    "숫자 테이블과 시계열 을 조작하기 위한 데이터 구조 와 연산을 제공합니다."
   ]
  },
  {
   "cell_type": "code",
   "execution_count": 4,
   "id": "a26c0fba-95d3-4252-8426-81aadf813a81",
   "metadata": {},
   "outputs": [],
   "source": [
    "import pandas as pd"
   ]
  },
  {
   "cell_type": "markdown",
   "id": "4b097956-ed13-4a81-b0ad-fb1cde996657",
   "metadata": {},
   "source": [
    "- 다음 예제는 각 도시의 2015년 인구 데이터를 Series로 만들어보겠습니다.\n",
    "- 우리는 자리수가 긴 숫자의 경우에 쉽게 읽기 위해 콤마로 3자리씩 끊어 표기합니다.\n",
    "- 파이썬에서도 이처럼 사용할 수 있는 방법이 있습니다. 아래 예제처럼 언더바를 숫자\n",
    "사이사이 넣을 수 있습니다."
   ]
  },
  {
   "cell_type": "code",
   "execution_count": 29,
   "id": "bb184d37-83c0-4ff0-8f6d-f281ef09dea5",
   "metadata": {},
   "outputs": [
    {
     "data": {
      "text/plain": [
       "서울    9904312\n",
       "부산    3448737\n",
       "인천    2890451\n",
       "대구    2466052\n",
       "dtype: int64"
      ]
     },
     "execution_count": 29,
     "metadata": {},
     "output_type": "execute_result"
    }
   ],
   "source": [
    "# Series 생성하기\n",
    "    \n",
    "s = pd.Series([9_904_312, 3_448_737, 2_890_451, 2_466_052],\n",
    "              index = [\"서울\", \"부산\", \"인천\", \"대구\"])\n",
    "              \n",
    "s"
   ]
  },
  {
   "cell_type": "code",
   "execution_count": 9,
   "id": "aca9f2d9-de95-4c9f-9dd0-7233f42cdc94",
   "metadata": {},
   "outputs": [
    {
     "data": {
      "text/plain": [
       "0    10\n",
       "1    20\n",
       "2    30\n",
       "3    40\n",
       "4    50\n",
       "5    60\n",
       "6    70\n",
       "7    80\n",
       "8    90\n",
       "dtype: int64"
      ]
     },
     "execution_count": 9,
     "metadata": {},
     "output_type": "execute_result"
    }
   ],
   "source": [
    "# 연습 문제\n",
    "# 다음과 같이 10, 20, 30, 40, 50, 60, 70, 80, 90의 값을 갖는 Series를 생성해보세요.\n",
    "\n",
    "ex = pd.Series(list(range(10, 100, 10)))\n",
    "ex"
   ]
  },
  {
   "cell_type": "markdown",
   "id": "d4e5c812-611b-47e7-ae94-5d29e4492b49",
   "metadata": {},
   "source": [
    "### < Series 생성하기 >\n",
    "- 만약 index를 지정하지 않고 Series를 만들면 Series의 index는 0부터 시작하는 정수 값이 됩니다."
   ]
  },
  {
   "cell_type": "code",
   "execution_count": 12,
   "id": "4d5f64f7-c21d-490a-8c48-c9a58b5e3326",
   "metadata": {},
   "outputs": [
    {
     "data": {
      "text/plain": [
       "0    10\n",
       "1    11\n",
       "2    12\n",
       "3    13\n",
       "dtype: int64"
      ]
     },
     "execution_count": 12,
     "metadata": {},
     "output_type": "execute_result"
    }
   ],
   "source": [
    "pd.Series(range(10, 14))"
   ]
  },
  {
   "cell_type": "markdown",
   "id": "bb6f292d-c2e2-44b4-9c1c-ef69f00e6772",
   "metadata": {},
   "source": [
    "- Series의 index는 index 속성으로 접근할 수 있다.\n",
    "- eries의 value는 1차원 배열(ndarray)\n",
    "이며 values 속성으로 접근할 수 있습니다."
   ]
  },
  {
   "cell_type": "code",
   "execution_count": 13,
   "id": "b838b612-c1cd-4cb1-94f4-a8257c19b6f7",
   "metadata": {},
   "outputs": [
    {
     "data": {
      "text/plain": [
       "Index(['서울', '부산', '인천', '대구'], dtype='object')"
      ]
     },
     "execution_count": 13,
     "metadata": {},
     "output_type": "execute_result"
    }
   ],
   "source": [
    "s.index"
   ]
  },
  {
   "cell_type": "code",
   "execution_count": 107,
   "id": "6da727a7-09d9-43b7-be53-fcfb261fe499",
   "metadata": {},
   "outputs": [
    {
     "data": {
      "text/plain": [
       "array([9904312, 3448737, 2890451, 2466052], dtype=int64)"
      ]
     },
     "execution_count": 107,
     "metadata": {},
     "output_type": "execute_result"
    }
   ],
   "source": [
    "s.values   #dic => .values()"
   ]
  },
  {
   "cell_type": "markdown",
   "id": "d6fea393-827e-4f16-9815-8147fae61b89",
   "metadata": {},
   "source": [
    "### 연습 문제\n",
    "앞선 연습 문제에서 만든 Series 객체의 값 중 50보다 큰 값의 개수를 구해보세요."
   ]
  },
  {
   "cell_type": "code",
   "execution_count": 108,
   "id": "1a63fea0-dcb9-448e-8b9d-8ecd79799d5f",
   "metadata": {},
   "outputs": [
    {
     "data": {
      "text/plain": [
       "4"
      ]
     },
     "execution_count": 108,
     "metadata": {},
     "output_type": "execute_result"
    }
   ],
   "source": [
    "sum(ex.values > 50)   # true가 1이고 false가 0이니까 true값들을 다 더하면 4개라는거"
   ]
  },
  {
   "cell_type": "code",
   "execution_count": 16,
   "id": "8a6ca593-8de1-46d7-a74d-eda0e35918c6",
   "metadata": {},
   "outputs": [
    {
     "data": {
      "text/plain": [
       "array([False, False, False, False, False,  True,  True,  True,  True])"
      ]
     },
     "execution_count": 16,
     "metadata": {},
     "output_type": "execute_result"
    }
   ],
   "source": [
    "ex.values > 50"
   ]
  },
  {
   "cell_type": "markdown",
   "id": "301a783e-93f4-4637-bf23-c8695fe1342d",
   "metadata": {},
   "source": [
    "### < Series 생성하기 >\n",
    "- name 속성을 이용하여 Series 데이터에 이름을 붙일 수 있습니다. \n",
    "- index.name 속성으로\n",
    "Series의 index에도 이름을 붙일 수 있습니다."
   ]
  },
  {
   "cell_type": "code",
   "execution_count": 17,
   "id": "18e32f46-cd8f-40e7-a213-8053484ef165",
   "metadata": {},
   "outputs": [
    {
     "data": {
      "text/plain": [
       "도시\n",
       "서울    9904312\n",
       "부산    3448737\n",
       "인천    2890451\n",
       "대구    2466052\n",
       "Name: 인구, dtype: int64"
      ]
     },
     "execution_count": 17,
     "metadata": {},
     "output_type": "execute_result"
    }
   ],
   "source": [
    "s.name = \"인구\"\n",
    "s.index.name = \"도시\"\n",
    "s"
   ]
  },
  {
   "cell_type": "markdown",
   "id": "d67848f6-b22e-4e92-81a0-a1ccd054c3f1",
   "metadata": {},
   "source": [
    "### < Series 생성하기 >\n",
    "\n",
    "- Series 객체를 만들 때 data에 dict를 사용해보겠습니다. 아래 예제에서는 dict와 동일하게\n",
    "index를 적용하고 있습니다. 만들어진 Series 객체를 조회해보면 그 값이 정상적으로\n",
    "조회되는 것을 확인할 수 있습니다."
   ]
  },
  {
   "cell_type": "code",
   "execution_count": 18,
   "id": "c518a2a6-607f-49e8-9d01-cc5bd45e1cae",
   "metadata": {},
   "outputs": [
    {
     "data": {
      "text/plain": [
       "a    1\n",
       "b    2\n",
       "c    3\n",
       "dtype: int64"
      ]
     },
     "execution_count": 18,
     "metadata": {},
     "output_type": "execute_result"
    }
   ],
   "source": [
    "d = {'a' : 1, 'b' : 2, 'c' : 3}\n",
    "ser = pd.Series(data=d, index = ['a', 'b', 'c'])\n",
    "ser"
   ]
  },
  {
   "cell_type": "markdown",
   "id": "12f2e64a-1625-4faf-9a0e-9a9272c85449",
   "metadata": {},
   "source": [
    "- 이번에는 dict의 key와 Series 객체의 index를 다르게 설정해보겠습니다.\n",
    "data가 dict일 때 index가 최초에 dict의 key로 만들어집니다. 그 후 Series는 index\n",
    "키워드로 전달받은 인수로 index를재할당합니다. 그래서 밑에 예제와 같이 Series 객체의\n",
    "값이 NaN의 결과를 출력하는 것을 확인할 수 있습니다."
   ]
  },
  {
   "cell_type": "code",
   "execution_count": 19,
   "id": "38397fb9-f316-445b-b197-04c36a20b8bf",
   "metadata": {},
   "outputs": [
    {
     "data": {
      "text/plain": [
       "x   NaN\n",
       "y   NaN\n",
       "z   NaN\n",
       "dtype: float64"
      ]
     },
     "execution_count": 19,
     "metadata": {},
     "output_type": "execute_result"
    }
   ],
   "source": [
    "d = {'a' : 1, 'b' : 2, 'c' : 3}\n",
    "ser = pd.Series(data=d, index = ['x', 'y', 'z'])\n",
    "ser"
   ]
  },
  {
   "cell_type": "markdown",
   "id": "717cb6ef-b936-4fe5-b146-56dd6ef8294c",
   "metadata": {},
   "source": [
    "### < Series 생성하기 >\n",
    "- index 지정 없이 dict 객체만 가지고 Series를 만들 수도 있습니다. \n",
    "- dic의 key가 index로\n",
    "사용되는 것을 확인할 수 있습니다."
   ]
  },
  {
   "cell_type": "code",
   "execution_count": 21,
   "id": "a969ac60-3c2f-4f16-93cc-7a614b6d8fb9",
   "metadata": {},
   "outputs": [
    {
     "data": {
      "text/plain": [
       "서울    9904312\n",
       "부산    3448737\n",
       "인천    2890451\n",
       "대구    2466052\n",
       "dtype: int64"
      ]
     },
     "execution_count": 21,
     "metadata": {},
     "output_type": "execute_result"
    }
   ],
   "source": [
    "s2 = pd.Series({\"서울\" : 9_904_312, \n",
    "                \"부산\" : 3_448_737, \n",
    "                \"인천\" : 2_890_451, \n",
    "                \"대구\" : 2_466_052})\n",
    "s2"
   ]
  },
  {
   "cell_type": "markdown",
   "id": "fd6a823a-4f67-4347-8500-bafb71a35fda",
   "metadata": {},
   "source": [
    "### 연습문제\n",
    "사회 점수가 다음과 같을 때 이름을 index로 하고 점수를 values로 하는 Series를\n",
    "만들어보세요.\n",
    "\n",
    "이름   사회 점수\n",
    "\n",
    "철수 88\n",
    "\n",
    "영희 95\n",
    "\n",
    "길동 100\n",
    "\n",
    "몽룡 67"
   ]
  },
  {
   "cell_type": "code",
   "execution_count": 22,
   "id": "70c6f7b9-3d83-4176-8691-4d0451064963",
   "metadata": {},
   "outputs": [
    {
     "data": {
      "text/plain": [
       "철수     88\n",
       "영희     95\n",
       "길동    100\n",
       "몽룡     67\n",
       "dtype: int64"
      ]
     },
     "execution_count": 22,
     "metadata": {},
     "output_type": "execute_result"
    }
   ],
   "source": [
    "scores = {\"철수\" : 88,\n",
    "          \"영희\" : 95,\n",
    "          \"길동\" : 100,\n",
    "          \"몽룡\" : 67}\n",
    "\n",
    "a = pd.Series(scores)\n",
    "\n",
    "a"
   ]
  },
  {
   "cell_type": "markdown",
   "id": "695ecaeb-73e7-4c7f-806f-7816e2ae8c43",
   "metadata": {},
   "source": [
    "### < Series index를 속성처럼 활용하기 >\n",
    "- 만약 label 값이 공백 없는 문자열인 경우에는 index label이 속성인것처럼 마침표(.)를\n",
    "활용하여 해당 index 값에 접근할 수도 있습니다."
   ]
  },
  {
   "cell_type": "code",
   "execution_count": 24,
   "id": "482b7304-44bc-43f0-bcf9-c08e0ba28b1a",
   "metadata": {},
   "outputs": [
    {
     "data": {
      "text/plain": [
       "a    1\n",
       "b    2\n",
       "c    3\n",
       "dtype: int64"
      ]
     },
     "execution_count": 24,
     "metadata": {},
     "output_type": "execute_result"
    }
   ],
   "source": [
    "d = {'a' : 1, 'b' : 2, 'c' : 3}\n",
    "ser = pd.Series(data=d, index = ['a', 'b', 'c'])\n",
    "ser"
   ]
  },
  {
   "cell_type": "code",
   "execution_count": 25,
   "id": "68b064cb-2d01-435f-b1f2-2aad1942602d",
   "metadata": {},
   "outputs": [
    {
     "data": {
      "text/plain": [
       "(1, 2, 3)"
      ]
     },
     "execution_count": 25,
     "metadata": {},
     "output_type": "execute_result"
    }
   ],
   "source": [
    "ser.a, ser.b, ser.c"
   ]
  },
  {
   "cell_type": "markdown",
   "id": "043bde7e-fce2-450b-84f7-aeb2dcec3bf4",
   "metadata": {},
   "source": [
    "### < Series의 특징 >\n",
    "- Series 객체는 index label을 키(key)로 사용하기에 딕셔너리 자료형과 비슷한 특징을\n",
    "갖습니다. 그래서 Series를 딕셔너리와 같은 방식으로 사용할 수 있게 구현해놨습니다.\n",
    "예를 들어 in 연산도 가능하고, items() 메서드를 사용해서 for문 루프를 돌려 각 요소의\n",
    "키(key)와 값(value)에 접근할 수도 있습니다."
   ]
  },
  {
   "cell_type": "code",
   "execution_count": 26,
   "id": "6e549ba9-77f7-4292-8ec7-cd4e4e79a876",
   "metadata": {},
   "outputs": [
    {
     "data": {
      "text/plain": [
       "True"
      ]
     },
     "execution_count": 26,
     "metadata": {},
     "output_type": "execute_result"
    }
   ],
   "source": [
    "\"서울\" in s"
   ]
  },
  {
   "cell_type": "code",
   "execution_count": 27,
   "id": "75d0281e-d8c3-4ec5-a862-4293bf07b5c8",
   "metadata": {},
   "outputs": [
    {
     "name": "stderr",
     "output_type": "stream",
     "text": [
      "<>:1: SyntaxWarning: \"is\" with a literal. Did you mean \"==\"?\n",
      "<>:1: SyntaxWarning: \"is\" with a literal. Did you mean \"==\"?\n",
      "C:\\Users\\user\\AppData\\Local\\Temp\\ipykernel_22848\\1522194341.py:1: SyntaxWarning: \"is\" with a literal. Did you mean \"==\"?\n",
      "  \"대전\" is s\n"
     ]
    },
    {
     "data": {
      "text/plain": [
       "False"
      ]
     },
     "execution_count": 27,
     "metadata": {},
     "output_type": "execute_result"
    }
   ],
   "source": [
    "\"대전\" is s"
   ]
  },
  {
   "cell_type": "code",
   "execution_count": 35,
   "id": "99ab5a40-a42d-41d6-b4bf-c7f1524f6b8d",
   "metadata": {},
   "outputs": [
    {
     "name": "stdout",
     "output_type": "stream",
     "text": [
      "서울, 9904312\n",
      "부산, 3448737\n",
      "인천, 2890451\n",
      "대구, 2466052\n"
     ]
    }
   ],
   "source": [
    "for m, n in s.items() : \n",
    "    print(f\"{m}, {n}\")"
   ]
  },
  {
   "cell_type": "markdown",
   "id": "f7ad719c-3147-4116-95b7-b7b5460651de",
   "metadata": {},
   "source": [
    "### 연습 문제\n",
    "도시의 인구가 300만이 넘는 곳을 찾아 다음과 같이 출력해보세요.\n",
    "- for문과 items() 메서드를 활용하세요."
   ]
  },
  {
   "cell_type": "code",
   "execution_count": 36,
   "id": "edd0265c-06ba-49d9-8f3f-c4355527ef04",
   "metadata": {},
   "outputs": [
    {
     "name": "stdout",
     "output_type": "stream",
     "text": [
      "서울의 인구는 300만이 넘습니다.\n",
      "부산의 인구는 300만이 넘습니다.\n"
     ]
    }
   ],
   "source": [
    "for m, n in s.items() : \n",
    "    if n > 3_000_000 :\n",
    "        print(f\"{m}의 인구는 300만이 넘습니다.\")"
   ]
  },
  {
   "cell_type": "markdown",
   "id": "03276935-5142-428a-979f-bcee37db327f",
   "metadata": {},
   "source": [
    "### < Series 연산하기 >\n",
    "- 넘파이 배열처럼 Series도 벡터화 연산을 할\n",
    "수 있습니다. \n",
    "다만 연산은 Series의\n",
    "value에만 적용되며 index 값은 변하지\n",
    "않는다. 예를 들어 인구 숫자를 백만 단위로\n",
    "만들기 위해 Series 객체를 1,000,000 으로\n",
    "나누어도 index label에는 영향을 미치지\n",
    "않는 것을 볼 수 있다."
   ]
  },
  {
   "cell_type": "code",
   "execution_count": 38,
   "id": "14b52db0-afe3-4b66-be9f-8ec224952805",
   "metadata": {},
   "outputs": [
    {
     "data": {
      "text/plain": [
       "서울    9904312\n",
       "부산    3448737\n",
       "인천    2890451\n",
       "대구    2466052\n",
       "dtype: int64"
      ]
     },
     "execution_count": 38,
     "metadata": {},
     "output_type": "execute_result"
    }
   ],
   "source": [
    "s"
   ]
  },
  {
   "cell_type": "code",
   "execution_count": 39,
   "id": "5b17e6a8-155d-44da-98d0-57e0fc480208",
   "metadata": {},
   "outputs": [
    {
     "data": {
      "text/plain": [
       "서울    9.904312\n",
       "부산    3.448737\n",
       "인천    2.890451\n",
       "대구    2.466052\n",
       "dtype: float64"
      ]
     },
     "execution_count": 39,
     "metadata": {},
     "output_type": "execute_result"
    }
   ],
   "source": [
    "s / 1_000_000"
   ]
  },
  {
   "cell_type": "markdown",
   "id": "65a4069a-5e3e-42e3-b4c7-42b069896977",
   "metadata": {},
   "source": [
    "### < Series 인덱싱 >\n",
    "- Series는 넘파이 배열에서 가능한 index 방법 이외에도 index label을 이용한 인덱싱도 할\n",
    "수 있습니다. \n",
    "- 배열 인덱싱이나 index label을 이용한 슬라이싱(slicing)도 가능합니다."
   ]
  },
  {
   "cell_type": "code",
   "execution_count": 40,
   "id": "c9c0f426-5576-4207-92ef-823ae9bb483f",
   "metadata": {},
   "outputs": [
    {
     "data": {
      "text/plain": [
       "서울    9904312\n",
       "부산    3448737\n",
       "인천    2890451\n",
       "대구    2466052\n",
       "dtype: int64"
      ]
     },
     "execution_count": 40,
     "metadata": {},
     "output_type": "execute_result"
    }
   ],
   "source": [
    "s"
   ]
  },
  {
   "cell_type": "code",
   "execution_count": 44,
   "id": "146ea527-68ed-4350-a07d-7c1a33cef15e",
   "metadata": {},
   "outputs": [
    {
     "data": {
      "text/plain": [
       "(2890451, 3448737)"
      ]
     },
     "execution_count": 44,
     "metadata": {},
     "output_type": "execute_result"
    }
   ],
   "source": [
    "s[2], s[\"부산\"]"
   ]
  },
  {
   "cell_type": "code",
   "execution_count": 42,
   "id": "0438ffaf-210b-4914-b0ef-11958aa70655",
   "metadata": {},
   "outputs": [
    {
     "data": {
      "text/plain": [
       "(2466052, 2466052)"
      ]
     },
     "execution_count": 42,
     "metadata": {},
     "output_type": "execute_result"
    }
   ],
   "source": [
    "s[3], s[\"대구\"]"
   ]
  },
  {
   "cell_type": "markdown",
   "id": "eb01de8e-8a58-4923-94a0-b7fa0d447f91",
   "metadata": {},
   "source": [
    "- 배열 인덱싱을 하면 부분적인 값을 가지는 Series 자료형을 반환합니다. 자료의 순서를 \n",
    "바꾸거나 특정한 자료만 취사 선택할 수 있습니다."
   ]
  },
  {
   "cell_type": "code",
   "execution_count": 43,
   "id": "07518b52-4f9c-42e8-8a9b-355ed3577e03",
   "metadata": {},
   "outputs": [
    {
     "data": {
      "text/plain": [
       "서울    9904312\n",
       "대구    2466052\n",
       "부산    3448737\n",
       "dtype: int64"
      ]
     },
     "execution_count": 43,
     "metadata": {},
     "output_type": "execute_result"
    }
   ],
   "source": [
    "s[[0, 3, 1]]"
   ]
  },
  {
   "cell_type": "code",
   "execution_count": 45,
   "id": "a3e1fca5-011a-42ef-b9e9-ba01307ab199",
   "metadata": {},
   "outputs": [
    {
     "data": {
      "text/plain": [
       "서울    9904312\n",
       "대구    2466052\n",
       "부산    3448737\n",
       "dtype: int64"
      ]
     },
     "execution_count": 45,
     "metadata": {},
     "output_type": "execute_result"
    }
   ],
   "source": [
    "s[[\"서울\", \"대구\", \"부산\"]]"
   ]
  },
  {
   "cell_type": "markdown",
   "id": "4e4bad8f-427d-497b-92d9-84ad273638be",
   "metadata": {},
   "source": [
    "### < Series 인덱싱 >\n",
    "\n",
    "-  하나의 값을 시리즈 형태로 가져오고 싶으면 다음과 같이 값이 하나인 리스트로\n",
    "인덱싱하여 작성할 수 있습니다."
   ]
  },
  {
   "cell_type": "code",
   "execution_count": 110,
   "id": "daba09cd-1b06-4b0d-9514-d6ddaa19b20b",
   "metadata": {},
   "outputs": [
    {
     "data": {
      "text/plain": [
       "도시\n",
       "서울    9904312\n",
       "Name: 인구, dtype: int64"
      ]
     },
     "execution_count": 110,
     "metadata": {},
     "output_type": "execute_result"
    }
   ],
   "source": [
    "s[[0]] # 리스트로 감싸줘서 0에 대한 시리즈를 가져올 수 있었음."
   ]
  },
  {
   "cell_type": "code",
   "execution_count": 48,
   "id": "6bcb28cf-0f85-4e49-af59-48fe34e5b4f6",
   "metadata": {},
   "outputs": [
    {
     "data": {
      "text/plain": [
       "인천    2890451\n",
       "dtype: int64"
      ]
     },
     "execution_count": 48,
     "metadata": {},
     "output_type": "execute_result"
    }
   ],
   "source": [
    "# 연습 문제\n",
    "# 인천의 인덱스와 값을 시리즈로 조회해보세요.\n",
    "\n",
    "s[[\"인천\"]]"
   ]
  },
  {
   "cell_type": "markdown",
   "id": "a1c23afc-0231-4c39-ac97-1bbe32015732",
   "metadata": {},
   "source": [
    "### < Series 슬라이싱 >\n",
    "\n",
    "- 슬라이싱을 해도 부분적인 Series를 반환합니다. 이 때 문자열 label을 이용한 슬라이싱을\n",
    "하는 경우에는 숫자 인덱싱과 달리 콜론(:) 기호 뒤에 오는 값도 결과에 포함되므로\n",
    "주의해야 합니다."
   ]
  },
  {
   "cell_type": "code",
   "execution_count": 50,
   "id": "f7aa3db2-a3ee-49e0-a3f3-75e10db41487",
   "metadata": {},
   "outputs": [
    {
     "data": {
      "text/plain": [
       "서울    9904312\n",
       "부산    3448737\n",
       "인천    2890451\n",
       "대구    2466052\n",
       "dtype: int64"
      ]
     },
     "execution_count": 50,
     "metadata": {},
     "output_type": "execute_result"
    }
   ],
   "source": [
    "s"
   ]
  },
  {
   "cell_type": "code",
   "execution_count": 51,
   "id": "d153e49f-f2b7-49c0-9f69-68730b7ae022",
   "metadata": {},
   "outputs": [
    {
     "data": {
      "text/plain": [
       "부산    3448737\n",
       "인천    2890451\n",
       "dtype: int64"
      ]
     },
     "execution_count": 51,
     "metadata": {},
     "output_type": "execute_result"
    }
   ],
   "source": [
    "s[1 : 3]   # 두번째(1)부터 세번째 (2)까지 (네번째(3) 미포함)"
   ]
  },
  {
   "cell_type": "code",
   "execution_count": 53,
   "id": "6fc15356-bd47-4c81-adfb-69a954ecff2d",
   "metadata": {},
   "outputs": [
    {
     "data": {
      "text/plain": [
       "부산    3448737\n",
       "인천    2890451\n",
       "대구    2466052\n",
       "dtype: int64"
      ]
     },
     "execution_count": 53,
     "metadata": {},
     "output_type": "execute_result"
    }
   ],
   "source": [
    "s[\"부산\" : \"대구\" ]  # 부산(1)에서 대구(3)까지!! (대구도 포함!!!)"
   ]
  },
  {
   "cell_type": "markdown",
   "id": "25a6c8a9-f1f2-4203-97d6-e5c36ee762cb",
   "metadata": {},
   "source": [
    "### < Series index 기반 연산 >\n",
    "\n",
    "- 이번에는 2015년도와 2010년의 인구\n",
    "증가를 계산해 보겠습니다. 두 개의\n",
    "Series의 차이를 구하면 됩니다. 두\n",
    "Series에 대해 연산을 하는 경우\n",
    "index가 같은 데이터에 대해서만\n",
    "차이를 구합니다.\n",
    "대구와 대전의 경우에는 2010년\n",
    "자료와 2015년 자료가 모두 존재하지\n",
    "않기 때문에 계산이 불가능하므로\n",
    "NaN(Not a Number)이라는 값을\n",
    "가지게 됩니다."
   ]
  },
  {
   "cell_type": "code",
   "execution_count": 56,
   "id": "83bea8c6-8a98-44ba-9ce5-d69279a08586",
   "metadata": {},
   "outputs": [
    {
     "data": {
      "text/plain": [
       "도시\n",
       "서울    9904312\n",
       "부산    3448737\n",
       "인천    2890451\n",
       "대구    2466052\n",
       "Name: 인구, dtype: int64"
      ]
     },
     "execution_count": 56,
     "metadata": {},
     "output_type": "execute_result"
    }
   ],
   "source": [
    "s = pd.Series([9904312, 3448737, 2890451, 2466052],\n",
    "              index = [\"서울\", \"부산\", \"인천\", \"대구\"])\n",
    "              \n",
    "s.name = \"인구\"\n",
    "s.index.name = \"도시\"\n",
    "s"
   ]
  },
  {
   "cell_type": "code",
   "execution_count": 63,
   "id": "b6d4a00e-021b-44e6-9cf5-c1afb120a860",
   "metadata": {},
   "outputs": [
    {
     "data": {
      "text/plain": [
       "서울    9631482\n",
       "부산    3393191\n",
       "인천    2632035\n",
       "대전    1490158\n",
       "dtype: int64"
      ]
     },
     "execution_count": 63,
     "metadata": {},
     "output_type": "execute_result"
    }
   ],
   "source": [
    "s2 = pd.Series({\"서울\" : 9631482, \n",
    "                \"부산\" : 3393191, \n",
    "                \"인천\" : 2632035, \n",
    "                \"대전\" : 1490158})\n",
    "s2"
   ]
  },
  {
   "cell_type": "code",
   "execution_count": 65,
   "id": "3e854b0e-1bb7-4c3f-a021-a890a9b91009",
   "metadata": {},
   "outputs": [
    {
     "data": {
      "text/plain": [
       "대구         NaN\n",
       "대전         NaN\n",
       "부산     55546.0\n",
       "서울    272830.0\n",
       "인천    258416.0\n",
       "dtype: float64"
      ]
     },
     "execution_count": 65,
     "metadata": {},
     "output_type": "execute_result"
    }
   ],
   "source": [
    "ds = s - s2\n",
    "ds\n",
    "\n",
    "# NaN 값이 float 자료형에서만 표현 가능하므로 다른 계산 결과도 모두 \n",
    "# float 자료형이 되었다점에 주의해야 합니다."
   ]
  },
  {
   "cell_type": "markdown",
   "id": "40a14b9a-24c3-448b-adf4-5f0845c27bce",
   "metadata": {},
   "source": [
    "### < Series에서 값이 NaN인지 확인 >\n",
    "- Series의 값이 NaN이면 True NaN이 아니면\n",
    "False인 bool type의 Series를 구하려면\n",
    "isnull() 메서드를 사용하면 됩니다."
   ]
  },
  {
   "cell_type": "code",
   "execution_count": 67,
   "id": "a7728362-8aa8-4dcb-bcc3-787edb8595db",
   "metadata": {},
   "outputs": [
    {
     "data": {
      "text/plain": [
       "대구         NaN\n",
       "대전         NaN\n",
       "부산     55546.0\n",
       "서울    272830.0\n",
       "인천    258416.0\n",
       "dtype: float64"
      ]
     },
     "execution_count": 67,
     "metadata": {},
     "output_type": "execute_result"
    }
   ],
   "source": [
    "ds"
   ]
  },
  {
   "cell_type": "code",
   "execution_count": 66,
   "id": "99f3ef8a-9626-4de3-b346-5d81e2a97db0",
   "metadata": {},
   "outputs": [
    {
     "data": {
      "text/plain": [
       "대구     True\n",
       "대전     True\n",
       "부산    False\n",
       "서울    False\n",
       "인천    False\n",
       "dtype: bool"
      ]
     },
     "execution_count": 66,
     "metadata": {},
     "output_type": "execute_result"
    }
   ],
   "source": [
    "ds.isnull()"
   ]
  },
  {
   "cell_type": "markdown",
   "id": "a4fa391f-49ad-4714-be2d-79f6a194d37a",
   "metadata": {},
   "source": [
    "### < Series에서 값이 NaN이 아닌지 확인 >\n",
    "- Series의 값이 NaN이 아니면 True\n",
    "NaN이면 False 값을 갖는 bool type의\n",
    "Series를 구하려면 notnull() 메서드를\n",
    "사용하면 됩니다."
   ]
  },
  {
   "cell_type": "code",
   "execution_count": 68,
   "id": "ef9af973-4c34-4cbf-8d42-8177289192e7",
   "metadata": {},
   "outputs": [
    {
     "data": {
      "text/plain": [
       "대구         NaN\n",
       "대전         NaN\n",
       "부산     55546.0\n",
       "서울    272830.0\n",
       "인천    258416.0\n",
       "dtype: float64"
      ]
     },
     "execution_count": 68,
     "metadata": {},
     "output_type": "execute_result"
    }
   ],
   "source": [
    "ds"
   ]
  },
  {
   "cell_type": "code",
   "execution_count": 69,
   "id": "ab9f0e9b-b620-4827-bc03-2c9c9d9eaff7",
   "metadata": {},
   "outputs": [
    {
     "data": {
      "text/plain": [
       "대구    False\n",
       "대전    False\n",
       "부산     True\n",
       "서울     True\n",
       "인천     True\n",
       "dtype: bool"
      ]
     },
     "execution_count": 69,
     "metadata": {},
     "output_type": "execute_result"
    }
   ],
   "source": [
    "ds.notnull()"
   ]
  },
  {
   "cell_type": "markdown",
   "id": "f0703239-2604-4cc7-8a21-105eff3450b9",
   "metadata": {},
   "source": [
    "### < Series에서 NaN이 아닌 값만 인덱싱으로 구하기 >\n",
    "- notnull() 메서드로 구한 True / False 값을\n",
    "갖는 시리즈를 활용하여 NaN인 값을\n",
    "배제한 Series 객체를 인덱싱하여 만들 수\n",
    "있습니다."
   ]
  },
  {
   "cell_type": "code",
   "execution_count": 70,
   "id": "d39a1775-7c04-4104-b6b2-1f607f97d5d5",
   "metadata": {},
   "outputs": [
    {
     "data": {
      "text/plain": [
       "대구    False\n",
       "대전    False\n",
       "부산     True\n",
       "서울     True\n",
       "인천     True\n",
       "dtype: bool"
      ]
     },
     "execution_count": 70,
     "metadata": {},
     "output_type": "execute_result"
    }
   ],
   "source": [
    "ds.notnull()"
   ]
  },
  {
   "cell_type": "code",
   "execution_count": 111,
   "id": "002fef34-ef4a-4311-b7e2-5dfd7af72d40",
   "metadata": {},
   "outputs": [
    {
     "data": {
      "text/plain": [
       "부산     55546.0\n",
       "서울    272830.0\n",
       "인천    258416.0\n",
       "dtype: float64"
      ]
     },
     "execution_count": 111,
     "metadata": {},
     "output_type": "execute_result"
    }
   ],
   "source": [
    "ds[ds.notnull()]  # True인 값에 대해서만 출력 => bool타입의 인덱싱의 방법"
   ]
  },
  {
   "cell_type": "markdown",
   "id": "d2a1faa5-5223-471e-8d0c-57ece59c5f8c",
   "metadata": {},
   "source": [
    "### < Series에서 NaN이 아닌 값 구하기 >\n",
    "\n",
    "- 마찬가지로 NaN 값인 것을 배제하고 2010년 대비 2015년 인구 증가율(%)은 다음과\n",
    "같이 구할 수 있습니다."
   ]
  },
  {
   "cell_type": "code",
   "execution_count": 72,
   "id": "afad9731-db5d-4563-8e1f-3a50a8cc17ba",
   "metadata": {},
   "outputs": [
    {
     "data": {
      "text/plain": [
       "도시\n",
       "서울    9904312\n",
       "부산    3448737\n",
       "인천    2890451\n",
       "대구    2466052\n",
       "Name: 인구, dtype: int64"
      ]
     },
     "execution_count": 72,
     "metadata": {},
     "output_type": "execute_result"
    }
   ],
   "source": [
    "s #2015년 도시별 인구"
   ]
  },
  {
   "cell_type": "code",
   "execution_count": 73,
   "id": "fda3e6fb-33a6-40df-a61d-8baee85a02b1",
   "metadata": {},
   "outputs": [
    {
     "data": {
      "text/plain": [
       "서울    9631482\n",
       "부산    3393191\n",
       "인천    2632035\n",
       "대전    1490158\n",
       "dtype: int64"
      ]
     },
     "execution_count": 73,
     "metadata": {},
     "output_type": "execute_result"
    }
   ],
   "source": [
    "s2 # 2010년 도시별 인구"
   ]
  },
  {
   "cell_type": "code",
   "execution_count": 75,
   "id": "e234938e-940a-4847-8fb1-09caa05c94bc",
   "metadata": {},
   "outputs": [
    {
     "data": {
      "text/plain": [
       "부산    1.636984\n",
       "서울    2.832690\n",
       "인천    9.818107\n",
       "dtype: float64"
      ]
     },
     "execution_count": 75,
     "metadata": {},
     "output_type": "execute_result"
    }
   ],
   "source": [
    "rs = ( s - s2 ) / s2 * 100 # 2010 -> 2015 인구증가율\n",
    "rs = rs[rs.notnull()]  # NaN인 값을 배제한 Series 객체를 인덱싱\n",
    "rs"
   ]
  },
  {
   "cell_type": "markdown",
   "id": "2fec10e2-d8f3-413e-a98f-802917c4ab1e",
   "metadata": {},
   "source": [
    "### < 연습 문제 >\n",
    "2010년 대비 2015년 인구 증가를 구하세요.(NaN 값인 것을 배제) 인구수 증가가 가장\n",
    "많은 도시의 이름과 증가한 인구수를 Series 객체로 출력해보세요."
   ]
  },
  {
   "cell_type": "code",
   "execution_count": 77,
   "id": "09a1823e-eab3-490d-8cdf-3f8e2c6954db",
   "metadata": {},
   "outputs": [
    {
     "data": {
      "text/plain": [
       "대구         NaN\n",
       "대전         NaN\n",
       "부산     55546.0\n",
       "서울    272830.0\n",
       "인천    258416.0\n",
       "dtype: float64"
      ]
     },
     "execution_count": 77,
     "metadata": {},
     "output_type": "execute_result"
    }
   ],
   "source": [
    "ds = s - s2  # 2010 -> 2015 인구증가\n",
    "ds"
   ]
  },
  {
   "cell_type": "code",
   "execution_count": 79,
   "id": "827cf983-0b90-4603-8c1d-355f925c4abd",
   "metadata": {},
   "outputs": [
    {
     "data": {
      "text/plain": [
       "부산     55546.0\n",
       "서울    272830.0\n",
       "인천    258416.0\n",
       "dtype: float64"
      ]
     },
     "execution_count": 79,
     "metadata": {},
     "output_type": "execute_result"
    }
   ],
   "source": [
    "ds = ds[ds.notnull()] # NaN인 값을 배제한 Series 객체를 인덱싱\n",
    "ds"
   ]
  },
  {
   "cell_type": "code",
   "execution_count": 83,
   "id": "658f7eeb-a0a7-4116-9c44-c349840cdf25",
   "metadata": {},
   "outputs": [
    {
     "data": {
      "text/plain": [
       "서울    272830.0\n",
       "dtype: float64"
      ]
     },
     "execution_count": 83,
     "metadata": {},
     "output_type": "execute_result"
    }
   ],
   "source": [
    "ds[[ds.values.argmax()]] # 최대값의 위치 찾고 Series 객체로 출력"
   ]
  },
  {
   "cell_type": "code",
   "execution_count": 112,
   "id": "791e5154-0ad4-49f1-ad8b-d0bac9011e47",
   "metadata": {},
   "outputs": [
    {
     "data": {
      "text/plain": [
       "1"
      ]
     },
     "execution_count": 112,
     "metadata": {},
     "output_type": "execute_result"
    }
   ],
   "source": [
    "ds.argmax()"
   ]
  },
  {
   "cell_type": "code",
   "execution_count": 116,
   "id": "56b255ff-b70f-49ef-b22d-abdb97c7cc86",
   "metadata": {},
   "outputs": [
    {
     "data": {
      "text/plain": [
       "272830.0"
      ]
     },
     "execution_count": 116,
     "metadata": {},
     "output_type": "execute_result"
    }
   ],
   "source": [
    "ds[ds.argmax()]"
   ]
  },
  {
   "cell_type": "code",
   "execution_count": 117,
   "id": "dc6db138-a1c3-46ea-9321-20f5bd9d9438",
   "metadata": {},
   "outputs": [
    {
     "data": {
      "text/plain": [
       "서울    272830.0\n",
       "dtype: float64"
      ]
     },
     "execution_count": 117,
     "metadata": {},
     "output_type": "execute_result"
    }
   ],
   "source": [
    "ds[[ds.argmax()]]"
   ]
  },
  {
   "cell_type": "markdown",
   "id": "57e15599-3a45-409c-b117-53cbe9c68ff4",
   "metadata": {},
   "source": [
    "### < Series 데이터 추가, 갱신, 삭제 >\n",
    "- 딕셔너리 때와 비슷하게 인덱싱을 경우에 맞춰 사용하면 데이터를 추가(add)하거나\n",
    "갱신(update)할 수 있습니다.\n",
    "- 기존에 있는 index에 값을 할당하면 갱신됩니다.\n",
    "- 예제는 데이터 갱신의 예제입니다."
   ]
  },
  {
   "cell_type": "markdown",
   "id": "e80d3255-c82c-4ad2-8c79-79a178ef0177",
   "metadata": {},
   "source": [
    "rs   # 인구 증가율(%)"
   ]
  },
  {
   "cell_type": "code",
   "execution_count": 88,
   "id": "56814ee0-2c94-4ac4-9fde-4a60791daddd",
   "metadata": {},
   "outputs": [
    {
     "data": {
      "text/plain": [
       "부산    1.630000\n",
       "서울    2.832690\n",
       "인천    9.818107\n",
       "dtype: float64"
      ]
     },
     "execution_count": 88,
     "metadata": {},
     "output_type": "execute_result"
    }
   ],
   "source": [
    "rs[\"부산\"] = 1.63\n",
    "rs"
   ]
  },
  {
   "cell_type": "markdown",
   "id": "084aa1a6-9ab6-47de-b338-db21765f4819",
   "metadata": {},
   "source": [
    "### < 연습 문제 >\n",
    "앞의 예제의 Series 객체의 값을 다음과 같이 수정하세요.\n",
    "- 서울: 2.83\n",
    "- 인천: 9.82"
   ]
  },
  {
   "cell_type": "code",
   "execution_count": 91,
   "id": "b78b57fd-f2bd-42ce-ac8e-51cc6352271c",
   "metadata": {},
   "outputs": [
    {
     "data": {
      "text/plain": [
       "부산    1.63\n",
       "서울    2.83\n",
       "인천    9.82\n",
       "dtype: float64"
      ]
     },
     "execution_count": 91,
     "metadata": {},
     "output_type": "execute_result"
    }
   ],
   "source": [
    "rs[\"서울\",\"인천\"] = 2.83, 9.82\n",
    "rs"
   ]
  },
  {
   "cell_type": "markdown",
   "id": "83df6b2e-a8cc-4724-b055-c40f87654625",
   "metadata": {},
   "source": [
    "### < Series 데이터 추가, 갱신, 삭제 >\n",
    "- 없는 index에 값을 할당하면 Series에 데이터가 추가(add)됩니다. \n",
    "\n",
    "아래 예제에서 “대구\"라는 index는 현재 없는데 그 index에 값을 1.41 할당하여 데이터를 추가하고\n",
    "있습니다."
   ]
  },
  {
   "cell_type": "code",
   "execution_count": 92,
   "id": "8d259c84-9fc8-4b8a-8d54-c02140e9e918",
   "metadata": {},
   "outputs": [
    {
     "data": {
      "text/plain": [
       "부산    1.63\n",
       "서울    2.83\n",
       "인천    9.82\n",
       "dtype: float64"
      ]
     },
     "execution_count": 92,
     "metadata": {},
     "output_type": "execute_result"
    }
   ],
   "source": [
    "rs"
   ]
  },
  {
   "cell_type": "code",
   "execution_count": 93,
   "id": "40b366bc-a91e-46ba-8f62-da64ae3346c6",
   "metadata": {},
   "outputs": [
    {
     "data": {
      "text/plain": [
       "부산    1.63\n",
       "서울    2.83\n",
       "인천    9.82\n",
       "대구    1.41\n",
       "dtype: float64"
      ]
     },
     "execution_count": 93,
     "metadata": {},
     "output_type": "execute_result"
    }
   ],
   "source": [
    "rs[\"대구\"] = 1.41\n",
    "rs"
   ]
  },
  {
   "cell_type": "markdown",
   "id": "0d0e5311-b8b9-4916-912a-d0424806bbc8",
   "metadata": {},
   "source": [
    "### < Series 데이터 추가, 갱신, 삭제 >\n",
    "- 데이터를 삭제할 때도 딕셔너리처럼 del 명령을 사용합니다. \n",
    "\n",
    "아래 예제에서는 “서울\" 이라는 index에 접근하여 del 명령을 사용하여 데이터를 삭제하고 있습니다."
   ]
  },
  {
   "cell_type": "code",
   "execution_count": 94,
   "id": "35329441-82e5-4274-b9c1-2024c2b38454",
   "metadata": {},
   "outputs": [
    {
     "data": {
      "text/plain": [
       "부산    1.63\n",
       "서울    2.83\n",
       "인천    9.82\n",
       "대구    1.41\n",
       "dtype: float64"
      ]
     },
     "execution_count": 94,
     "metadata": {},
     "output_type": "execute_result"
    }
   ],
   "source": [
    "rs"
   ]
  },
  {
   "cell_type": "code",
   "execution_count": 95,
   "id": "07242ad9-3014-42c1-9c61-525367f5a24a",
   "metadata": {},
   "outputs": [
    {
     "data": {
      "text/plain": [
       "부산    1.63\n",
       "인천    9.82\n",
       "대구    1.41\n",
       "dtype: float64"
      ]
     },
     "execution_count": 95,
     "metadata": {},
     "output_type": "execute_result"
    }
   ],
   "source": [
    "del rs[\"서울\"]\n",
    "rs"
   ]
  },
  {
   "cell_type": "markdown",
   "id": "81671145-3568-4c94-99bb-d7be9e9e64bc",
   "metadata": {},
   "source": [
    "### < 연습 문제 >\n",
    "- 아래 fin1과 fin2_value, fin2_index를 활용하여 Series 객체 ser_finance1,\n",
    "ser_finance2를 만들어보세요.\n"
   ]
  },
  {
   "cell_type": "code",
   "execution_count": 96,
   "id": "6475766c-374a-4498-ac55-e7d1e457522f",
   "metadata": {},
   "outputs": [],
   "source": [
    "fin1 = {\"카카오\":60010, \"삼성전자\":61000, \"LG전자\": 90000}\n",
    "fin2_value = [60200, 61200, 200100]\n",
    "fin2_index = [\"카카오\", \"삼성전자\", \"네이버\"]"
   ]
  },
  {
   "cell_type": "code",
   "execution_count": 97,
   "id": "3059c817-adfe-4fe2-bd68-5e935d048c96",
   "metadata": {},
   "outputs": [
    {
     "name": "stdout",
     "output_type": "stream",
     "text": [
      "카카오     60010\n",
      "삼성전자    61000\n",
      "LG전자    90000\n",
      "dtype: int64\n"
     ]
    }
   ],
   "source": [
    "ser_finace1 = pd.Series(fin1)\n",
    "print(ser_finace1)"
   ]
  },
  {
   "cell_type": "code",
   "execution_count": 99,
   "id": "368acf1b-0ec1-45de-bd5c-73879362e84d",
   "metadata": {},
   "outputs": [
    {
     "name": "stdout",
     "output_type": "stream",
     "text": [
      "카카오      60200\n",
      "삼성전자     61200\n",
      "네이버     200100\n",
      "dtype: int64\n"
     ]
    }
   ],
   "source": [
    "ser_finace2 = pd.Series(fin2_value, fin2_index)\n",
    "print(ser_finace2)"
   ]
  },
  {
   "cell_type": "markdown",
   "id": "c9862716-6d23-47a3-b4fd-f5a78c68e192",
   "metadata": {},
   "source": [
    "### < 연습 문제 >\n",
    "- 앞서 만든 두 Series 객체를 활용하여 사칙 연산을 각각 수행해보세요. \n",
    "- 사칙연산 중\n",
    "NaN 값을 갖는 항목과 dtype을 각각 확인해보세요.\n",
    "- 왜 해당 dtype이 나오는지 설명하세요."
   ]
  },
  {
   "cell_type": "code",
   "execution_count": 100,
   "id": "a9109835-3c14-42e5-807e-b3f6c8377cc2",
   "metadata": {},
   "outputs": [
    {
     "data": {
      "text/plain": [
       "LG전자      NaN\n",
       "네이버       NaN\n",
       "삼성전자   -200.0\n",
       "카카오    -190.0\n",
       "dtype: float64"
      ]
     },
     "execution_count": 100,
     "metadata": {},
     "output_type": "execute_result"
    }
   ],
   "source": [
    "ser_finace1 - ser_finace2"
   ]
  },
  {
   "cell_type": "code",
   "execution_count": 101,
   "id": "dffb7e6d-4189-4092-860f-c2d138f103b0",
   "metadata": {},
   "outputs": [
    {
     "data": {
      "text/plain": [
       "LG전자         NaN\n",
       "네이버          NaN\n",
       "삼성전자    122200.0\n",
       "카카오     120210.0\n",
       "dtype: float64"
      ]
     },
     "execution_count": 101,
     "metadata": {},
     "output_type": "execute_result"
    }
   ],
   "source": [
    "ser_finace1 + ser_finace2"
   ]
  },
  {
   "cell_type": "code",
   "execution_count": 102,
   "id": "ac25f079-4b94-401e-b6ab-fdafbd27d7ff",
   "metadata": {},
   "outputs": [
    {
     "data": {
      "text/plain": [
       "LG전자             NaN\n",
       "네이버              NaN\n",
       "삼성전자    3.733200e+09\n",
       "카카오     3.612602e+09\n",
       "dtype: float64"
      ]
     },
     "execution_count": 102,
     "metadata": {},
     "output_type": "execute_result"
    }
   ],
   "source": [
    "ser_finace1 * ser_finace2"
   ]
  },
  {
   "cell_type": "code",
   "execution_count": 103,
   "id": "ad086ac8-c7f8-4501-83ea-7aef4ad96e0e",
   "metadata": {},
   "outputs": [
    {
     "data": {
      "text/plain": [
       "LG전자         NaN\n",
       "네이버          NaN\n",
       "삼성전자    0.996732\n",
       "카카오     0.996844\n",
       "dtype: float64"
      ]
     },
     "execution_count": 103,
     "metadata": {},
     "output_type": "execute_result"
    }
   ],
   "source": [
    "ser_finace1 / ser_finace2"
   ]
  },
  {
   "cell_type": "markdown",
   "id": "9a0a47a5-fde9-40f2-87ae-cf33473b0757",
   "metadata": {},
   "source": [
    "### < 연습 문제 >\n",
    "- 아래의 연산 결과 중 NaN 값이 없게 Series 객체를 출력해보세요.\n",
    "\n",
    "result = ser_finace1 - ser_finace2"
   ]
  },
  {
   "cell_type": "code",
   "execution_count": 105,
   "id": "4411521f-eb63-479d-917b-9f2aca3256b4",
   "metadata": {},
   "outputs": [
    {
     "data": {
      "text/plain": [
       "LG전자      NaN\n",
       "네이버       NaN\n",
       "삼성전자   -200.0\n",
       "카카오    -190.0\n",
       "dtype: float64"
      ]
     },
     "execution_count": 105,
     "metadata": {},
     "output_type": "execute_result"
    }
   ],
   "source": [
    "result = ser_finace1 - ser_finace2\n",
    "result"
   ]
  },
  {
   "cell_type": "code",
   "execution_count": 106,
   "id": "9b374718-68a6-49a4-93ad-b7f5bbda3326",
   "metadata": {},
   "outputs": [
    {
     "data": {
      "text/plain": [
       "삼성전자   -200.0\n",
       "카카오    -190.0\n",
       "dtype: float64"
      ]
     },
     "execution_count": 106,
     "metadata": {},
     "output_type": "execute_result"
    }
   ],
   "source": [
    "result = ser_finace1 - ser_finace2\n",
    "result[result.notnull()]"
   ]
  }
 ],
 "metadata": {
  "kernelspec": {
   "display_name": "Python 3 (ipykernel)",
   "language": "python",
   "name": "python3"
  },
  "language_info": {
   "codemirror_mode": {
    "name": "ipython",
    "version": 3
   },
   "file_extension": ".py",
   "mimetype": "text/x-python",
   "name": "python",
   "nbconvert_exporter": "python",
   "pygments_lexer": "ipython3",
   "version": "3.9.13"
  }
 },
 "nbformat": 4,
 "nbformat_minor": 5
}
