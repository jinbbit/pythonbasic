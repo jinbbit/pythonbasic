{
 "cells": [
  {
   "cell_type": "code",
   "execution_count": null,
   "id": "5aeed94f-cd3c-4ceb-a915-c738ae52ef5b",
   "metadata": {},
   "outputs": [],
   "source": [
    "# range() 함수\n",
    "# 연속되는 숫자 요소들을 만들 때 활용하면 좋음.\n",
    "# 슬라이싱과 구조 비슷. 다만, range()의 경우 함수의 형태로 쓰기때문에 소괄호 안에 구분자는 당연히 콤마!!(,)\n",
    "# 시작 인덱스는 포함(이상), 끝 인덱스는 불포함(미만)\n",
    "# 시작 인덱스(default=0)와 증감크기(default=1)는 생략 가능.\n",
    "# range변수 = range(시작, 끝, 증감크기) <- 함수의 구조도 프로그래밍할 때 계속 사용\n",
    "# 시퀀스자료형변수[시작:끝:증감크기]    <- 슬라이싱 구조 꼭 기억!!!\n"
   ]
  },
  {
   "cell_type": "code",
   "execution_count": 3,
   "id": "d963de99-e80a-4d7e-806b-143f97bfa346",
   "metadata": {},
   "outputs": [
    {
     "data": {
      "text/plain": [
       "[0, 1, 2, 3, 4, 5, 6, 7]"
      ]
     },
     "execution_count": 3,
     "metadata": {},
     "output_type": "execute_result"
    }
   ],
   "source": [
    "list(range(8))"
   ]
  },
  {
   "cell_type": "code",
   "execution_count": 4,
   "id": "67aa0fc3-daf3-4cd8-a55f-7b7fb7873550",
   "metadata": {},
   "outputs": [
    {
     "data": {
      "text/plain": [
       "range(0, 8)"
      ]
     },
     "execution_count": 4,
     "metadata": {},
     "output_type": "execute_result"
    }
   ],
   "source": [
    "range(8)"
   ]
  },
  {
   "cell_type": "code",
   "execution_count": 5,
   "id": "6bf1189f-b9c1-4323-864b-0f45b2abdf0e",
   "metadata": {},
   "outputs": [
    {
     "data": {
      "text/plain": [
       "[0, 1, 2, 3, 4, 5, 6, 7]"
      ]
     },
     "execution_count": 5,
     "metadata": {},
     "output_type": "execute_result"
    }
   ],
   "source": [
    "list(range(0, 8, 1))"
   ]
  },
  {
   "cell_type": "code",
   "execution_count": 8,
   "id": "3f44084d-d856-4154-8242-ca113c2f02b4",
   "metadata": {},
   "outputs": [
    {
     "name": "stdout",
     "output_type": "stream",
     "text": [
      "[2, 4, 6, 8, 10, 12, 14, 16, 18, 20, 22, 24, 26, 28, 30, 32, 34, 36, 38, 40, 42, 44, 46, 48, 50, 52, 54, 56, 58, 60, 62, 64, 66, 68, 70, 72, 74, 76, 78, 80, 82, 84, 86, 88, 90, 92, 94, 96, 98]\n"
     ]
    }
   ],
   "source": [
    "# range() 함수로 list 생성하기\n",
    "# 연ㄴ속되는 정수를 생성할 때 range() 내장함수 <-(build-in)를 사용하면 편리!\n",
    "\n",
    "even_number = list(range(2, 100, 2))    #100미만의 짝수를 만드는데 이렇게 만들면 편하지\n",
    "print(even_number)\n"
   ]
  },
  {
   "cell_type": "code",
   "execution_count": 13,
   "id": "f0d0217c-c61e-440a-a9c4-10b781dc7c04",
   "metadata": {},
   "outputs": [],
   "source": [
    "# rnage() 함수 특징\n",
    "# range()가 돌려준 객체는 마치 리스트인 것처럼 동작하지만, 사실 리스트와는 다름.\n",
    "# **객체 => 실제 존재하는 것!!! (메모리)**\n",
    "\n",
    "# range 객체는 interate(반복)할 때 원하는 시퀀스 항목(요소)들을 순서대로 요소를 돌려주는 객체이지만, 메모리 공간에 할당하여 미리 모든 요소들을 만들어 두는 것이 아니라 필요할 때 그때그때 다음 요소를 만들어 반환하기에 공간 효율적이다.\n",
    "# range(3) -> 0, 1, 2 (그때 그때 하나씩!)\n",
    "# list는 메모리상에 1,2,3,4가 있다면(미리 일을 처리하고 기다리다가 요청할 때마다 주는거)\n",
    "# range는 미리 안만들어놓고 그때 그때! 그래서 공간 효율적."
   ]
  },
  {
   "cell_type": "code",
   "execution_count": null,
   "id": "d158e48e-83eb-448a-b425-82ee27fe65eb",
   "metadata": {},
   "outputs": [],
   "source": [
    "# for문\n",
    "\n",
    "# 파이썬의 for문은 시퀀스 자료형(iterable)의 항목들을 순서대로 요소(elements)를 하나씩 순서대로 꺼내쓰는거!\n",
    "# 반복문 만들때 활용하면 좋음.\n",
    "# 혹은 iterable(객체)를 루핑(순서대로 다 꺼낸다)할 때 좋음.\n",
    "# 반복 횟수가 정해져 있을 때 주로 사용. (무한x, 유햔o)"
   ]
  },
  {
   "cell_type": "code",
   "execution_count": null,
   "id": "014a17a2-c7c5-415f-9fc2-9d9866ac8e82",
   "metadata": {},
   "outputs": [],
   "source": [
    "# iterable? 객체?!\n",
    "# iterable = 반복 가능한!\n",
    "# 여러 개의 요소들로 구성돼있으면서 요소를 한 번에 하나씩 돌려줄 수 있는 객체\n",
    "# ex) list, str, tuple, range 와 같은 시퀀스 자료형이 이씅며, 이와 상반되는 비 시퀀스 자료형으로 앞으로 배울 dictionary가 있겠다.\n",
    "\n",
    "# 객체 : 우선은 메모리에 할당되어 있는 존재. 데이터 라고 생각하자. (그냥 메모리에 기억되어있는 존재!!)"
   ]
  },
  {
   "cell_type": "code",
   "execution_count": null,
   "id": "2e03d379-634c-45b6-99d8-f691981090ac",
   "metadata": {},
   "outputs": [],
   "source": [
    "# 다른프로그래밍 언어와 for문 사용법 비교\n",
    "# 파이썬의 for문은 다른 프로그래밍 언어와 사뭇 다름.\n",
    "# Java의 일반적 for문은 for(변수 선언 ; 조건식 ; 종감식) {실행부}로 생김! \n",
    "# 파이썬 for문 => 순서가 있는 여러 값을 순서대로 꺼내 쓰는거~\n",
    "\n",
    "# ex) 파이썬과 자바의 for문 비교 예제\n",
    "# for i in range(len(문자열)):    <- 수학의 f(x)와 같은 표현을 가져옴\n",
    "# 파이썬-동적파이핑!(타입에 대해서 알아서 처리)\n",
    "\n",
    "# for(int i = 0: i <문자열.length(); i++){\n",
    "#     명령어;\n",
    "# }\n",
    "# 정적타이핑은 int 타입을 정확히 명시해서 써야됨"
   ]
  },
  {
   "cell_type": "code",
   "execution_count": 15,
   "id": "dcafeef1-2fbe-43b5-ad69-43890d06e553",
   "metadata": {},
   "outputs": [
    {
     "name": "stdout",
     "output_type": "stream",
     "text": [
      "hello world0\n",
      "hello world1\n",
      "hello world2\n",
      "hello world3\n",
      "hello world4\n",
      "hello world5\n",
      "hello world6\n",
      "hello world7\n",
      "hello world8\n",
      "hello world9\n",
      "끝\n"
     ]
    }
   ],
   "source": [
    "# for문과 range() 내장 함수\n",
    "# range()내장함수는 연속된 숫자를 만드는데 특화\n",
    "# for()문은 반복에 특화\n",
    "\n",
    "for i in range(10):\n",
    "    print(f\"hello world{i}\")     # body라고 함\n",
    "print(\"끝\")\n",
    "\n",
    "# 동작하는거 하나하나 확인함."
   ]
  },
  {
   "cell_type": "code",
   "execution_count": 22,
   "id": "e467442f-8be8-487e-bb7a-2f0f9663a851",
   "metadata": {
    "collapsed": true,
    "jupyter": {
     "outputs_hidden": true
    },
    "tags": []
   },
   "outputs": [
    {
     "name": "stdout",
     "output_type": "stream",
     "text": [
      "hello world 1\n",
      "hello world 2\n",
      "hello world 3\n",
      "hello world 4\n",
      "hello world 5\n",
      "hello world 6\n",
      "hello world 7\n",
      "hello world 8\n",
      "hello world 9\n",
      "hello world 10\n",
      "hello world 11\n",
      "hello world 12\n",
      "hello world 13\n",
      "hello world 14\n",
      "hello world 15\n",
      "hello world 16\n",
      "hello world 17\n",
      "hello world 18\n",
      "hello world 19\n",
      "hello world 20\n",
      "hello world 21\n",
      "hello world 22\n",
      "hello world 23\n",
      "hello world 24\n",
      "hello world 25\n",
      "hello world 26\n",
      "hello world 27\n",
      "hello world 28\n",
      "hello world 29\n",
      "hello world 30\n",
      "hello world 31\n",
      "hello world 32\n",
      "hello world 33\n",
      "hello world 34\n",
      "hello world 35\n",
      "hello world 36\n",
      "hello world 37\n",
      "hello world 38\n",
      "hello world 39\n",
      "hello world 40\n",
      "hello world 41\n",
      "hello world 42\n",
      "hello world 43\n",
      "hello world 44\n",
      "hello world 45\n",
      "hello world 46\n",
      "hello world 47\n",
      "hello world 48\n",
      "hello world 49\n",
      "hello world 50\n",
      "hello world 51\n",
      "hello world 52\n",
      "hello world 53\n",
      "hello world 54\n",
      "hello world 55\n",
      "hello world 56\n",
      "hello world 57\n",
      "hello world 58\n",
      "hello world 59\n",
      "hello world 60\n",
      "hello world 61\n",
      "hello world 62\n",
      "hello world 63\n",
      "hello world 64\n",
      "hello world 65\n",
      "hello world 66\n",
      "hello world 67\n",
      "hello world 68\n",
      "hello world 69\n",
      "hello world 70\n",
      "hello world 71\n",
      "hello world 72\n",
      "hello world 73\n",
      "hello world 74\n",
      "hello world 75\n",
      "hello world 76\n",
      "hello world 77\n",
      "hello world 78\n",
      "hello world 79\n",
      "hello world 80\n",
      "hello world 81\n",
      "hello world 82\n",
      "hello world 83\n",
      "hello world 84\n",
      "hello world 85\n",
      "hello world 86\n",
      "hello world 87\n",
      "hello world 88\n",
      "hello world 89\n",
      "hello world 90\n",
      "hello world 91\n",
      "hello world 92\n",
      "hello world 93\n",
      "hello world 94\n",
      "hello world 95\n",
      "hello world 96\n",
      "hello world 97\n",
      "hello world 98\n",
      "hello world 99\n",
      "hello world 100\n"
     ]
    }
   ],
   "source": [
    "\n",
    "for n in range(1,101):\n",
    "    print(f\"hello world {n}\")"
   ]
  },
  {
   "cell_type": "code",
   "execution_count": 26,
   "id": "6e4b245d-5da8-4bf0-8e95-883cda187457",
   "metadata": {},
   "outputs": [
    {
     "name": "stdin",
     "output_type": "stream",
     "text": [
      "인사 몇 번 해드릴까요? 3\n"
     ]
    },
    {
     "name": "stdout",
     "output_type": "stream",
     "text": [
      "Hello world\n",
      "Hello world\n",
      "Hello world\n"
     ]
    }
   ],
   "source": [
    "# 연습 문제\n",
    "\n",
    "n = int(input(\"인사 몇 번 해드릴까요?\"))\n",
    "\n",
    "for n in range(n):\n",
    "    print(\"Hello world\")"
   ]
  },
  {
   "cell_type": "code",
   "execution_count": 28,
   "id": "658af1c5-72c7-4a67-9a3b-5bc8f4834108",
   "metadata": {},
   "outputs": [
    {
     "name": "stdin",
     "output_type": "stream",
     "text": [
      "인사 몇 번 해드릴까요? 3\n"
     ]
    },
    {
     "name": "stdout",
     "output_type": "stream",
     "text": [
      "Hello world 1\n",
      "Hello world 2\n",
      "Hello world 3\n"
     ]
    }
   ],
   "source": [
    "# 풀이\n",
    "\n",
    "n = int(input(\"인사 몇 번 해드릴까요?\"))  # -> str을 int로 변환\n",
    "\n",
    "for _ in range(1, n + 1):\n",
    "    print(\"Hello world\", _)"
   ]
  },
  {
   "cell_type": "code",
   "execution_count": 42,
   "id": "e2736543-1742-4ebb-b62c-2e3f97ecc704",
   "metadata": {},
   "outputs": [
    {
     "name": "stdout",
     "output_type": "stream",
     "text": [
      "[5, 6, 7, 8, 9]\n"
     ]
    }
   ],
   "source": [
    "# 연습 문제\n",
    "\n",
    "print(list(range(5, 10)))\n"
   ]
  },
  {
   "cell_type": "code",
   "execution_count": 41,
   "id": "6b938d45-9267-45f5-b18a-b926bf2f623d",
   "metadata": {},
   "outputs": [
    {
     "name": "stdout",
     "output_type": "stream",
     "text": [
      "[0, 3, 6, 9]\n"
     ]
    }
   ],
   "source": [
    "# 연습 문제\n",
    "\n",
    "print(list(range(0, 10, 3)))\n"
   ]
  },
  {
   "cell_type": "code",
   "execution_count": 44,
   "id": "bf8761cf-20a9-4c70-aea0-71bc025b67a9",
   "metadata": {},
   "outputs": [
    {
     "name": "stdout",
     "output_type": "stream",
     "text": [
      "[-10, -40, -70]\n"
     ]
    }
   ],
   "source": [
    "# 연습 문제  # 증감하는거!!!!!\n",
    "\n",
    "print(list(range(-10, -100, -30)))"
   ]
  },
  {
   "cell_type": "code",
   "execution_count": 81,
   "id": "806ab89f-7716-4eca-a9ca-d09e1bc822d3",
   "metadata": {},
   "outputs": [
    {
     "name": "stdin",
     "output_type": "stream",
     "text": [
      "자연수 하나를 입력해주세요:  6\n"
     ]
    },
    {
     "name": "stdout",
     "output_type": "stream",
     "text": [
      "6\t6\t6\t6\t6\t6\t\n",
      "5\t5\t5\t5\t5\t\n",
      "4\t4\t4\t4\t\n",
      "3\t3\t3\t\n",
      "2\t2\t\n",
      "1\t\n"
     ]
    }
   ],
   "source": [
    "# 연습 문제  \n",
    "\n",
    "n = int(input(\"자연수 하나를 입력해주세요: \"))\n",
    "for i in range(n, 0, -1):\n",
    "    print(f\"{i}\\t\"*i)"
   ]
  },
  {
   "cell_type": "code",
   "execution_count": 74,
   "id": "78afc390-565d-45a4-bf19-9446d086d5f0",
   "metadata": {},
   "outputs": [
    {
     "name": "stdin",
     "output_type": "stream",
     "text": [
      "자연수 하나를 입력해주세요:  6\n"
     ]
    },
    {
     "name": "stdout",
     "output_type": "stream",
     "text": [
      "6\n",
      "5\n",
      "4\n",
      "3\n",
      "2\n",
      "1\n"
     ]
    }
   ],
   "source": [
    "# 풀이\n",
    "\n",
    "n = int(input(\"자연수 하나를 입력해주세요: \"))\n",
    "\n",
    "for i in range (n, 0, -1):\n",
    "    print(i)"
   ]
  },
  {
   "cell_type": "code",
   "execution_count": 75,
   "id": "66d8eef3-0887-41f9-8407-19a8b36bad07",
   "metadata": {},
   "outputs": [
    {
     "name": "stdin",
     "output_type": "stream",
     "text": [
      "자연수 하나를 입력해주세요:  6\n"
     ]
    },
    {
     "name": "stdout",
     "output_type": "stream",
     "text": [
      "6\t\n",
      "5\t\n",
      "4\t\n",
      "3\t\n",
      "2\t\n",
      "1\t\n"
     ]
    }
   ],
   "source": [
    "# 풀이 +\n",
    "\n",
    "n = int(input(\"자연수 하나를 입력해주세요: \"))\n",
    "\n",
    "for i in range (n, 0, -1):\n",
    "    print(f\"{i}\\t\")    \n",
    "    \n",
    "    # 얘는 탭까지만 포함된거"
   ]
  },
  {
   "cell_type": "code",
   "execution_count": 76,
   "id": "4d3d2e1a-2154-4dcf-8866-33ed4f3fd254",
   "metadata": {},
   "outputs": [
    {
     "name": "stdin",
     "output_type": "stream",
     "text": [
      "자연수 하나를 입력해주세요:  6\n"
     ]
    },
    {
     "name": "stdout",
     "output_type": "stream",
     "text": [
      "6\t6\t6\t6\t6\t6\t\n",
      "5\t5\t5\t5\t5\t\n",
      "4\t4\t4\t4\t\n",
      "3\t3\t3\t\n",
      "2\t2\t\n",
      "1\t\n"
     ]
    }
   ],
   "source": [
    "# 풀이 ++\n",
    "\n",
    "n = int(input(\"자연수 하나를 입력해주세요: \"))\n",
    "\n",
    "for i in range (n, 0, -1):\n",
    "   c   \n",
    "    \n",
    "    # 얘는 탭에서 곱해준거까지"
   ]
  },
  {
   "cell_type": "code",
   "execution_count": 78,
   "id": "48f4251a-49bc-45c3-844f-1f2ce8c62cd2",
   "metadata": {},
   "outputs": [
    {
     "name": "stdin",
     "output_type": "stream",
     "text": [
      "자연수 하나를 입력해주세요:  6\n"
     ]
    },
    {
     "name": "stdout",
     "output_type": "stream",
     "text": [
      "6\t6\t6\t6\t6\t6\t\n",
      "5\t5\t5\t5\t5\t\n",
      "4\t4\t4\t4\t\n",
      "3\t3\t3\t\n",
      "2\t2\t\n",
      "1\t\n"
     ]
    }
   ],
   "source": [
    "# for문 두번으로 풀이\n",
    "\n",
    "n = int(input(\"자연수 하나를 입력해주세요: \"))\n",
    "for i in range(n, 0, -1):\n",
    "    for j in range(i):\n",
    "        print(i, end = \"\\t\")\n",
    "    print()     # 줄 바꿈!!"
   ]
  },
  {
   "cell_type": "code",
   "execution_count": 85,
   "id": "9b643424-efbc-48ce-937b-eceec958082b",
   "metadata": {},
   "outputs": [
    {
     "name": "stdin",
     "output_type": "stream",
     "text": [
      "자연수 하나를 입력해주세요:  6\n"
     ]
    },
    {
     "name": "stdout",
     "output_type": "stream",
     "text": [
      "6,6,6,6,6,6,\n",
      "5,5,5,5,5,\n",
      "4,4,4,4,\n",
      "3,3,3,\n",
      "2,2,\n",
      "1,\n"
     ]
    }
   ],
   "source": [
    "n = int(input(\"자연수 하나를 입력해주세요: \"))\n",
    "for i in range(n, 0, -1):\n",
    "    for j in range(i):\n",
    "        print(i, end = \",\")\n",
    "    print()"
   ]
  },
  {
   "cell_type": "code",
   "execution_count": 109,
   "id": "2fd5ab0c-fc7d-48e9-bb2a-df32e1b127fd",
   "metadata": {},
   "outputs": [
    {
     "name": "stdout",
     "output_type": "stream",
     "text": [
      "* * * * * * * * * * \n",
      "*                 *\n",
      "*                 *\n",
      "*                 *\n",
      "*                 *\n",
      "*                 *\n",
      "*                 *\n",
      "*                 *\n",
      "*                 *\n",
      "* * * * * * * * * * \n"
     ]
    }
   ],
   "source": [
    "# 연습 문제 \n",
    "# list 안써도돼 쓰지마\n",
    "# for문과 if문으로 사용\n",
    "\n",
    "\n",
    "for i in range(10):\n",
    "    if i==0 or i==9 :\n",
    "        print(\"* \" * 10)\n",
    "        \n",
    "    else :\n",
    "        print(\"*                 *\")\n",
    "        \n",
    "        \n",
    "        \n",
    "#ㅜㅠㅠㅠㅠㅠㅠㅠㅠㅠㅠ뿌앵"
   ]
  },
  {
   "cell_type": "code",
   "execution_count": 119,
   "id": "45665941-bf15-41eb-bd39-d070f4c622ca",
   "metadata": {},
   "outputs": [
    {
     "name": "stdin",
     "output_type": "stream",
     "text": [
      "1부터 입력한 자연수까지의 모든 홀수의 합을 구합니다: 100\n"
     ]
    },
    {
     "ename": "TypeError",
     "evalue": "'str' object cannot be interpreted as an integer",
     "output_type": "error",
     "traceback": [
      "\u001b[1;31m---------------------------------------------------------------------------\u001b[0m",
      "\u001b[1;31mTypeError\u001b[0m                                 Traceback (most recent call last)",
      "\u001b[1;32m~\\AppData\\Local\\Temp\\ipykernel_13924\\546151497.py\u001b[0m in \u001b[0;36m<module>\u001b[1;34m\u001b[0m\n\u001b[0;32m      3\u001b[0m \u001b[0ma\u001b[0m \u001b[1;33m=\u001b[0m \u001b[0minput\u001b[0m\u001b[1;33m(\u001b[0m\u001b[1;34m\"1부터 입력한 자연수까지의 모든 홀수의 합을 구합니다:\"\u001b[0m\u001b[1;33m)\u001b[0m\u001b[1;33m\u001b[0m\u001b[1;33m\u001b[0m\u001b[0m\n\u001b[0;32m      4\u001b[0m \u001b[1;33m\u001b[0m\u001b[0m\n\u001b[1;32m----> 5\u001b[1;33m \u001b[0mn\u001b[0m \u001b[1;33m=\u001b[0m \u001b[0mlist\u001b[0m\u001b[1;33m(\u001b[0m\u001b[0mint\u001b[0m\u001b[1;33m(\u001b[0m\u001b[0mrange\u001b[0m\u001b[1;33m(\u001b[0m\u001b[1;36m1\u001b[0m\u001b[1;33m,\u001b[0m \u001b[0ma\u001b[0m\u001b[1;33m,\u001b[0m \u001b[1;36m2\u001b[0m\u001b[1;33m)\u001b[0m\u001b[1;33m)\u001b[0m\u001b[1;33m)\u001b[0m\u001b[1;33m\u001b[0m\u001b[1;33m\u001b[0m\u001b[0m\n\u001b[0m\u001b[0;32m      6\u001b[0m \u001b[1;33m\u001b[0m\u001b[0m\n\u001b[0;32m      7\u001b[0m \u001b[0mprint\u001b[0m\u001b[1;33m(\u001b[0m\u001b[0mn\u001b[0m\u001b[1;33m)\u001b[0m\u001b[1;33m\u001b[0m\u001b[1;33m\u001b[0m\u001b[0m\n",
      "\u001b[1;31mTypeError\u001b[0m: 'str' object cannot be interpreted as an integer"
     ]
    }
   ],
   "source": [
    "# 연습 문제\n",
    "\n",
    "n = input(\"1부터 입력한 자연수까지의 모든 홀수의 합을 구합니다:\")\n",
    "\n",
    "for i in range(1, n, 2):\n",
    "    \n",
    "(i%2==1)\n",
    "\n",
    "print(sum)\n"
   ]
  },
  {
   "cell_type": "code",
   "execution_count": 167,
   "id": "e217665f-0132-4ef7-a873-08ea29511e25",
   "metadata": {},
   "outputs": [
    {
     "name": "stdin",
     "output_type": "stream",
     "text": [
      "1부터 입력한 자연수까지의 모든 홀수의 합을 구합니다: 100\n"
     ]
    },
    {
     "name": "stdout",
     "output_type": "stream",
     "text": [
      "1 + 3 + 5 + 7 + 9 + 11 + 13 + 15 + 17 + 19 + 21 + 23 + 25 + 27 + 29 + 31 + 33 + 35 + 37 + 39 + 41 + 43 + 45 + 47 + 49 + 51 + 53 + 55 + 57 + 59 + 61 + 63 + 65 + 67 + 69 + 71 + 73 + 75 + 77 + 79 + 81 + 83 + 85 + 87 + 89 + 91 + 93 + 95 + 97 + 99 + 2500\n"
     ]
    }
   ],
   "source": [
    "n = int(input(\"1부터 입력한 자연수까지의 모든 홀수의 합을 구합니다:\"))\n",
    "\n",
    "total = 0\n",
    "for i in range(1, n, 2) : \n",
    "    total = total + i \n",
    "    print(i, end = \" + \")\n",
    "print(total)\n",
    "\n",
    "\n",
    "# 끝에만 =로 바꾸는건????"
   ]
  },
  {
   "cell_type": "code",
   "execution_count": 165,
   "id": "e2d90575-a5ea-4525-a74f-ec0fa23efca3",
   "metadata": {},
   "outputs": [
    {
     "name": "stdin",
     "output_type": "stream",
     "text": [
      "1부터 입력한 자연수까지의 모든 홀수의 합을 구합니다: 100\n"
     ]
    },
    {
     "name": "stdout",
     "output_type": "stream",
     "text": [
      "1 + 3 + 5 + 7 + 9 + 11 + 13 + 15 + 17 + 19 + 21 + 23 + 25 + 27 + 29 + 31 + 33 + 35 + 37 + 39 + 41 + 43 + 45 + 47 + 49 + 51 + 53 + 55 + 57 + 59 + 61 + 63 + 65 + 67 + 69 + 71 + 73 + 75 + 77 + 79 + 81 + 83 + 85 + 87 + 89 + 91 + 93 + 95 + 97 + 99 = 2500\n"
     ]
    }
   ],
   "source": [
    "#옆에분 풀이\n",
    "\n",
    "n = int(input(\"1부터 입력한 자연수까지의 모든 홀수의 합을 구합니다:\"))\n",
    "\n",
    "total = 1\n",
    "str = '1'\n",
    "for i in range(3, n, 2) : \n",
    "    total += i \n",
    "    str += f' + {i}'\n",
    "print(str+ ' = ', end='')\n",
    "print(total)"
   ]
  },
  {
   "cell_type": "code",
   "execution_count": 152,
   "id": "38222973-3cda-4a5f-bbc5-9ff2c882d65f",
   "metadata": {},
   "outputs": [],
   "source": [
    "# 강사님 추가\n",
    "\n",
    "result = 0\n",
    "\n",
    "# range => 홀수\n",
    "\n",
    "for i in range(1, 101, 2):\n",
    "    result = result + i"
   ]
  },
  {
   "cell_type": "code",
   "execution_count": 155,
   "id": "6f5ca8f0-9ecd-4a02-9569-7d1ff9da2ef0",
   "metadata": {},
   "outputs": [
    {
     "name": "stdin",
     "output_type": "stream",
     "text": [
      "1부터 입력한 자연수까지의 모든 홀수의 합을 구합니다: 100\n"
     ]
    },
    {
     "name": "stdout",
     "output_type": "stream",
     "text": [
      "1 + 3 + 5 + 7 + 9 + 11 + 13 + 15 + 17 + 19 + 21 + 23 + 25 + 27 + 29 + 31 + 33 + 35 + 37 + 39 + 41 + 43 + 45 + 47 + 49 + 51 + 53 + 55 + 57 + 59 + 61 + 63 + 65 + 67 + 69 + 71 + 73 + 75 + 77 + 79 + 81 + 83 + 85 + 87 + 89 + 91 + 93 + 95 + 97 + 99 = 2500\n"
     ]
    }
   ],
   "source": [
    "#강사님 풀이\n",
    "\n",
    "n = int(input(\"1부터 입력한 자연수까지의 모든 홀수의 합을 구합니다:\"))\n",
    "\n",
    "result = 0\n",
    "for i in range(1, n+1):\n",
    "    if i%2 == 1:\n",
    "        if (n-1) == i or n == i:\n",
    "            print(i, end= \" = \")\n",
    "        else:\n",
    "            print(i, end= \" + \")\n",
    "        result += i     # result = result + i   (원래의 값에 i를 더해서 누적...)\n",
    "        \n",
    "print(result)"
   ]
  },
  {
   "cell_type": "code",
   "execution_count": 158,
   "id": "78da408f-7ba6-44ca-8c2c-4d112587c20c",
   "metadata": {},
   "outputs": [
    {
     "name": "stdin",
     "output_type": "stream",
     "text": [
      "자연수하나 입력: 10\n"
     ]
    },
    {
     "name": "stdout",
     "output_type": "stream",
     "text": [
      "1+3+5+7+9+"
     ]
    }
   ],
   "source": [
    "# \n",
    "\n",
    "input_value = int(input(\"자연수하나 입력:\"))\n",
    "\n",
    "for i in range(1, input_value + 1):\n",
    "    if i % 2 == 1:    # 홀수 조건\n",
    "        print(i, end = \"+\")\n",
    "    "
   ]
  },
  {
   "cell_type": "code",
   "execution_count": 160,
   "id": "face9965-ab54-4024-84d1-6b8b9eaa687a",
   "metadata": {},
   "outputs": [
    {
     "name": "stdin",
     "output_type": "stream",
     "text": [
      "자연수하나 입력: 10\n"
     ]
    },
    {
     "name": "stdout",
     "output_type": "stream",
     "text": [
      "1 + 3 + 5 + 7 + 9"
     ]
    }
   ],
   "source": [
    "input_value = int(input(\"자연수하나 입력:\"))\n",
    "\n",
    "print(\"1\", end = \"\")\n",
    "\n",
    "for i in range(3, input_value + 1):\n",
    "    if i % 2 == 1:    # 홀수 조건\n",
    "        print(f\" + {i}\",end = \"\")\n",
    "    "
   ]
  },
  {
   "cell_type": "code",
   "execution_count": 163,
   "id": "310c9c86-440b-4ab0-adfc-587a73363166",
   "metadata": {},
   "outputs": [
    {
     "name": "stdin",
     "output_type": "stream",
     "text": [
      "자연수하나 입력: 10\n"
     ]
    },
    {
     "name": "stdout",
     "output_type": "stream",
     "text": [
      "1 + 3 + 5 + 7 + 9 = 25\n"
     ]
    }
   ],
   "source": [
    "# 쉽게하는 방법\n",
    "\n",
    "input_value = int(input(\"자연수하나 입력:\"))\n",
    "\n",
    "print(\"1\", end = \"\")\n",
    "\n",
    "result = 1\n",
    "\n",
    "for i in range(3, input_value + 1):\n",
    "    if i % 2 == 1:    # 홀수 조건\n",
    "        print(f\" + {i}\",end = \"\")\n",
    "        result += i\n",
    "        \n",
    "print(f\" = {result}\")\n",
    "    "
   ]
  },
  {
   "cell_type": "code",
   "execution_count": 164,
   "id": "5a37c065-6f29-459c-a9bf-c719a98917f8",
   "metadata": {},
   "outputs": [
    {
     "name": "stdin",
     "output_type": "stream",
     "text": [
      "자연수하나 입력: 10\n"
     ]
    },
    {
     "name": "stdout",
     "output_type": "stream",
     "text": [
      "1 + 3 + 5 + 7 + 9 = 25\n"
     ]
    }
   ],
   "source": [
    "# 위에서 홀수조건 빼고 range 로만\n",
    "\n",
    "input_value = int(input(\"자연수하나 입력:\"))\n",
    "\n",
    "print(\"1\", end = \"\")\n",
    "\n",
    "result = 1\n",
    "\n",
    "for i in range(3, input_value + 1, 2):\n",
    "    print(f\" + {i}\",end = \"\")\n",
    "    result += i\n",
    "        \n",
    "print(f\" = {result}\")\n",
    "    "
   ]
  },
  {
   "cell_type": "code",
   "execution_count": 184,
   "id": "8d5b023d-444c-4695-b1c8-82e03b515a25",
   "metadata": {},
   "outputs": [
    {
     "name": "stdin",
     "output_type": "stream",
     "text": [
      "계승할 숫자를 입력하세요. 7\n"
     ]
    },
    {
     "name": "stdout",
     "output_type": "stream",
     "text": [
      "5040\n"
     ]
    }
   ],
   "source": [
    "# 연습 문제\n",
    "\n",
    "input_value = int(input(\"계승할 숫자를 입력하세요.\"))\n",
    "\n",
    "result = 1 \n",
    "for i in range(1,input_value + 1, 1):\n",
    "    result *= i\n",
    "print(result)"
   ]
  },
  {
   "cell_type": "code",
   "execution_count": 186,
   "id": "95984e4c-9e05-4203-8c1e-d93f15cd218c",
   "metadata": {},
   "outputs": [
    {
     "name": "stdin",
     "output_type": "stream",
     "text": [
      "계승할 숫자를 입력하세요. 7\n"
     ]
    },
    {
     "name": "stdout",
     "output_type": "stream",
     "text": [
      "5040\n"
     ]
    }
   ],
   "source": [
    "# 풀이\n",
    "\n",
    "input_value = int(input(\"계승할 숫자를 입력하세요.\"))\n",
    "\n",
    "result = 1 \n",
    "for _ in range(1,input_value + 1):\n",
    "    result = result * _\n",
    "    \n",
    "print(result)"
   ]
  },
  {
   "cell_type": "code",
   "execution_count": 188,
   "id": "2be1f60b-ae66-443a-89c1-4a598c791fe6",
   "metadata": {},
   "outputs": [
    {
     "name": "stdout",
     "output_type": "stream",
     "text": [
      "시\n",
      "미\n",
      "라\n",
      "레\n",
      "솔\n",
      "도\n",
      "파\n"
     ]
    }
   ],
   "source": [
    "# 시퀀스 객체로 반복하기 / list에 대해서 값을 하나씩 가져와서\n",
    "\n",
    "for i in [\"시\", \"미\", \"라\", \"레\", \"솔\", \"도\", \"파\"] :\n",
    "    print(i)"
   ]
  },
  {
   "cell_type": "code",
   "execution_count": 189,
   "id": "28bdf5b8-b35a-47c4-93a3-53eaaad10b01",
   "metadata": {},
   "outputs": [
    {
     "name": "stdout",
     "output_type": "stream",
     "text": [
      "시 미 라 레 솔 도 파 "
     ]
    }
   ],
   "source": [
    "for i in [\"시\", \"미\", \"라\", \"레\", \"솔\", \"도\", \"파\"] :\n",
    "    print(i, end=\" \")"
   ]
  },
  {
   "cell_type": "code",
   "execution_count": 190,
   "id": "ad83a1d2-73c4-4d22-9453-b4286bf806ab",
   "metadata": {},
   "outputs": [
    {
     "name": "stdout",
     "output_type": "stream",
     "text": [
      "일 이 삼 사 오 육 칠 팔 구 십 "
     ]
    }
   ],
   "source": [
    "for i in \"일이삼사오육칠팔구십\" :\n",
    "    print(i, end= \" \")"
   ]
  },
  {
   "cell_type": "code",
   "execution_count": 194,
   "id": "a68d8f5c-9ce6-417d-98ef-af3c326f7360",
   "metadata": {},
   "outputs": [],
   "source": [
    "# 시퀀스 객체로 뒤집어서 반복하기\n",
    "# reversed() 함수를 통해서 역순으로 변경 가능.\n",
    "# 리스트 메서드에 있는 reverse()와는 다른 함수.\n",
    "\n",
    "# reversed(시퀀스) 함수는 반환값을 주지만 해당 시퀀스를 변경하지 않습니다.\n",
    "# 리스트.reverse() 함수는 리스트 요소 순서를 뒤집어주며 반환값이 없습니다(None).\n"
   ]
  },
  {
   "cell_type": "code",
   "execution_count": 193,
   "id": "8d9fcad7-648b-4270-a525-44af5fa7665d",
   "metadata": {},
   "outputs": [
    {
     "name": "stdout",
     "output_type": "stream",
     "text": [
      "십 구 팔 칠 육 오 사 삼 이 일 "
     ]
    }
   ],
   "source": [
    "  for _ in reversed(\"일이삼사오육칠팔구십\"):\n",
    "        print(_, end=\" \")"
   ]
  },
  {
   "cell_type": "code",
   "execution_count": 197,
   "id": "95f6ebe1-8531-4d68-8226-23f6d076c192",
   "metadata": {},
   "outputs": [
    {
     "name": "stdout",
     "output_type": "stream",
     "text": [
      "100 -420 250 1030 210 770 240 "
     ]
    }
   ],
   "source": [
    "# 연습 문제\n",
    "\n",
    "for i in [10, -42, 25, 103, 21, 77, 24]:\n",
    "    print(10*i, end = \" \")\n"
   ]
  },
  {
   "cell_type": "code",
   "execution_count": 219,
   "id": "47ac09dc-fce1-4aea-b20e-d0a08d400cb6",
   "metadata": {
    "tags": []
   },
   "outputs": [
    {
     "name": "stdin",
     "output_type": "stream",
     "text": [
      "구구단을 알려드립니다. 숫자를 입력하세요 20\n"
     ]
    },
    {
     "name": "stdout",
     "output_type": "stream",
     "text": [
      "20 x 1 = 20\n",
      "20 x 2 = 40\n",
      "20 x 3 = 60\n",
      "20 x 4 = 80\n",
      "20 x 5 = 100\n",
      "20 x 6 = 120\n",
      "20 x 7 = 140\n",
      "20 x 8 = 160\n",
      "20 x 9 = 180\n"
     ]
    }
   ],
   "source": [
    "# 연습 문제 \n",
    "n = int(input(\"구구단을 알려드립니다. 숫자를 입력하세요\"))\n",
    "\n",
    "for m in range(1, 10):\n",
    "    print(f'{n} x {m} = {n * m}') \n",
    "    "
   ]
  },
  {
   "cell_type": "code",
   "execution_count": null,
   "id": "f70bc909-fcd5-4320-b368-264a1564ac1a",
   "metadata": {
    "jupyter": {
     "source_hidden": true
    },
    "tags": []
   },
   "outputs": [],
   "source": [
    "num = int(input(\"구구단을 알려드립니다. 숫자를 입력하세요\"))    \n",
    "    if num == 9:  \n",
    "        print(\"단수를 입력하세요 : \", end='')\n",
    "        n = int(input())  # 몇단을 원하는지 입력받음."
   ]
  },
  {
   "cell_type": "code",
   "execution_count": 218,
   "id": "fe6f5766-cd0b-4c22-ac34-77dfbe12027f",
   "metadata": {
    "collapsed": true,
    "jupyter": {
     "outputs_hidden": true,
     "source_hidden": true
    },
    "tags": []
   },
   "outputs": [
    {
     "ename": "SyntaxError",
     "evalue": "invalid syntax (576701180.py, line 8)",
     "output_type": "error",
     "traceback": [
      "\u001b[1;36m  File \u001b[1;32m\"C:\\Users\\user\\AppData\\Local\\Temp\\ipykernel_13924\\576701180.py\"\u001b[1;36m, line \u001b[1;32m8\u001b[0m\n\u001b[1;33m    print()\u001b[0m\n\u001b[1;37m    ^\u001b[0m\n\u001b[1;31mSyntaxError\u001b[0m\u001b[1;31m:\u001b[0m invalid syntax\n"
     ]
    }
   ],
   "source": [
    "# 연습 문제\n",
    "\n",
    "n = int(input(\"구구단을 알려드립니다. 숫자를 입력하세요\"))\n",
    "                        \n",
    "for i in range (2, 10):\n",
    "    print(f\n",
    "       \n",
    "         print()"
   ]
  },
  {
   "cell_type": "code",
   "execution_count": 224,
   "id": "e63a6e91-a6db-4f5c-b8ed-2d38ebc871c6",
   "metadata": {},
   "outputs": [
    {
     "name": "stdin",
     "output_type": "stream",
     "text": [
      "자연수를 입력하세요. 100\n"
     ]
    },
    {
     "name": "stdout",
     "output_type": "stream",
     "text": [
      "5050\n"
     ]
    }
   ],
   "source": [
    "# 연습 문제\n",
    "\n",
    "input_value = int(input(\"자연수를 입력하세요.\"))\n",
    "\n",
    "result = 0\n",
    "for _ in range(1,input_value + 1):\n",
    "    result = result + _\n",
    "    \n",
    "print(result)"
   ]
  },
  {
   "cell_type": "code",
   "execution_count": 236,
   "id": "075815ca-0e14-45ab-8c90-f433a4686f3f",
   "metadata": {},
   "outputs": [
    {
     "name": "stdin",
     "output_type": "stream",
     "text": [
      "자연수를 입력하세요 100\n"
     ]
    },
    {
     "name": "stdout",
     "output_type": "stream",
     "text": [
      "5050\n"
     ]
    }
   ],
   "source": [
    "\n",
    "n = int(input(\"자연수를 입력하세요\"))\n",
    "\n",
    "result = 0 \n",
    "for m in range(1, n+1):\n",
    "    result = result + m\n",
    "    \n",
    "print(result)\n"
   ]
  },
  {
   "cell_type": "code",
   "execution_count": 240,
   "id": "9b8d20ee-87d2-41fc-99a4-e15055e7cb4c",
   "metadata": {},
   "outputs": [
    {
     "name": "stdin",
     "output_type": "stream",
     "text": [
      "자연수를 입력하세요 100\n"
     ]
    },
    {
     "name": "stdout",
     "output_type": "stream",
     "text": [
      "5050\n"
     ]
    }
   ],
   "source": [
    "n = int(input(\"자연수를 입력하세요\"))\n",
    "\n",
    "result = 0\n",
    "for m in range(1, n+1):\n",
    "    result += m\n",
    "    \n",
    "print(result)\n"
   ]
  },
  {
   "cell_type": "code",
   "execution_count": 254,
   "id": "73e1765f-b592-4f49-9db2-b04385226476",
   "metadata": {},
   "outputs": [
    {
     "name": "stdout",
     "output_type": "stream",
     "text": [
      "*****\n",
      "*****\n",
      "*****\n",
      "*****\n",
      "*****\n"
     ]
    }
   ],
   "source": [
    "# 연습 문제\n",
    "\n",
    "for i in range(5):\n",
    "    print(\"*\" * 5)"
   ]
  },
  {
   "cell_type": "code",
   "execution_count": 251,
   "id": "52200328-01cd-4032-8037-be3c5590df59",
   "metadata": {},
   "outputs": [
    {
     "name": "stdout",
     "output_type": "stream",
     "text": [
      "* * * * * \n",
      "* * * * * \n",
      "* * * * * \n",
      "* * * * * \n",
      "* * * * * \n"
     ]
    }
   ],
   "source": [
    "# 연습 문제 추가\n",
    "# for문 안에 for문 중첩\n",
    "\n",
    "# *이거 하나가 열마다 하나씩 추가가 되고\n",
    "\n",
    "for j in range(5):\n",
    "    for i in range(5):\n",
    "        print('*', end=\" \")\n",
    "    print()\n"
   ]
  },
  {
   "cell_type": "code",
   "execution_count": null,
   "id": "fe2bc95d-de54-469d-8b9c-1b4bb6cc73af",
   "metadata": {},
   "outputs": [],
   "source": []
  }
 ],
 "metadata": {
  "kernelspec": {
   "display_name": "Python 3 (ipykernel)",
   "language": "python",
   "name": "python3"
  },
  "language_info": {
   "codemirror_mode": {
    "name": "ipython",
    "version": 3
   },
   "file_extension": ".py",
   "mimetype": "text/x-python",
   "name": "python",
   "nbconvert_exporter": "python",
   "pygments_lexer": "ipython3",
   "version": "3.9.13"
  }
 },
 "nbformat": 4,
 "nbformat_minor": 5
}
