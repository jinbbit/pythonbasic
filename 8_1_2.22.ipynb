{
 "cells": [
  {
   "cell_type": "code",
   "execution_count": null,
   "id": "d7d2a4f8-b01d-4ea1-8fc7-3845240d8fd1",
   "metadata": {},
   "outputs": [],
   "source": [
    "< 클래스 속성(Attribute) >\n",
    "\n",
    "인스턴스를 생성할 때 속성 값 할당하려면 다음 예제와 같이 __init__메서드에서\n",
    "self 다음에 값을 받을 매개변수를 지정해야 합니다.\n",
    "\n",
    "그리고 매개변수를 self.속성에 할당합니다.\n"
   ]
  },
  {
   "cell_type": "code",
   "execution_count": 12,
   "id": "cfc4faa2-ae61-45da-86d7-7a2c3fa22b12",
   "metadata": {},
   "outputs": [
    {
     "ename": "SyntaxError",
     "evalue": "cannot assign to operator (457671908.py, line 4)",
     "output_type": "error",
     "traceback": [
      "\u001b[1;36m  File \u001b[1;32m\"C:\\Users\\user\\AppData\\Local\\Temp\\ipykernel_14840\\457671908.py\"\u001b[1;36m, line \u001b[1;32m4\u001b[0m\n\u001b[1;33m    self-attr2 = param2\u001b[0m\n\u001b[1;37m    ^\u001b[0m\n\u001b[1;31mSyntaxError\u001b[0m\u001b[1;31m:\u001b[0m cannot assign to operator\n"
     ]
    }
   ],
   "source": [
    "class ClassName : \n",
    "    def __init__(self, param1, param2) :\n",
    "        self.attr1 = param1\n",
    "        self-attr2 = param2"
   ]
  },
  {
   "cell_type": "code",
   "execution_count": 14,
   "id": "8a2d4114-eede-42bb-9bf6-a043170d3672",
   "metadata": {},
   "outputs": [
    {
     "name": "stdout",
     "output_type": "stream",
     "text": [
      "안녕하세요. 제 이름은 마리아입니다.\n",
      "이름 : 마리아\n",
      "나이 : 20\n",
      "주소 : 서울시 서초구 반포동\n"
     ]
    }
   ],
   "source": [
    "# 클래스 인스턴스 생성할 때 속성 할당하기\n",
    "\n",
    "class Person :\n",
    "    def __init__(self, name, age, address) :\n",
    "        self.hello = \"안녕하세요.\"\n",
    "        self.name = name\n",
    "        self.age = age\n",
    "        self.address = address\n",
    "        \n",
    "    def greeting(self) : \n",
    "        print(f\"{self.hello} 제 이름은 {self.name}입니다.\")\n",
    "        \n",
    "maria = Person(\"마리아\", 20, \"서울시 서초구 반포동\")\n",
    "maria.greeting()\n",
    "\n",
    "print(\"이름 :\", maria.name)\n",
    "print(\"나이 :\", maria.age)\n",
    "print(\"주소 :\", maria.address) "
   ]
  },
  {
   "cell_type": "code",
   "execution_count": 1,
   "id": "6e16d9d8-57c1-45b9-90d3-24e1159020e5",
   "metadata": {},
   "outputs": [],
   "source": [
    "# 강사님 추가예제\n",
    "\n",
    "class Person :\n",
    "    def __init__(self, name, age) : \n",
    "        self.name = name   # 처음엔 같은가 다른가 헷가릴니까 pt자료 예제는 다르게 적은 것\n",
    "        self.age = age"
   ]
  },
  {
   "cell_type": "code",
   "execution_count": 5,
   "id": "71f13fb7-7362-45d2-a1dc-247eee6c1a89",
   "metadata": {},
   "outputs": [],
   "source": [
    "p1 = Person(\"홍길동\", 22) "
   ]
  },
  {
   "cell_type": "code",
   "execution_count": 6,
   "id": "2e5aeff4-7456-4ee5-a643-a3d69d404db7",
   "metadata": {},
   "outputs": [
    {
     "name": "stdout",
     "output_type": "stream",
     "text": [
      "홍길동\n"
     ]
    }
   ],
   "source": [
    "print(p1.name)"
   ]
  },
  {
   "cell_type": "code",
   "execution_count": 7,
   "id": "041a629b-1528-40df-a1b9-f1132c91a0e5",
   "metadata": {},
   "outputs": [
    {
     "name": "stdout",
     "output_type": "stream",
     "text": [
      "22\n"
     ]
    }
   ],
   "source": [
    "print(p1.age)"
   ]
  },
  {
   "cell_type": "code",
   "execution_count": 8,
   "id": "87eaae0b-af80-4af0-bb56-04b8ae73cb10",
   "metadata": {},
   "outputs": [],
   "source": [
    "p2 = Person(name = \"성춘향\", age = 20)"
   ]
  },
  {
   "cell_type": "code",
   "execution_count": 9,
   "id": "d7a2dce0-8a41-4ab0-bd2c-e783604098d8",
   "metadata": {},
   "outputs": [
    {
     "name": "stdout",
     "output_type": "stream",
     "text": [
      "성춘향\n"
     ]
    }
   ],
   "source": [
    "print(p2.name)"
   ]
  },
  {
   "cell_type": "code",
   "execution_count": 10,
   "id": "d21301dc-b53d-4b1e-bb3f-5e6f99753924",
   "metadata": {},
   "outputs": [
    {
     "name": "stdout",
     "output_type": "stream",
     "text": [
      "20\n"
     ]
    }
   ],
   "source": [
    "print(p2.age)"
   ]
  },
  {
   "cell_type": "code",
   "execution_count": 28,
   "id": "e0502c5a-173f-4c0c-a4e0-a0136c4b0195",
   "metadata": {},
   "outputs": [
    {
     "name": "stdin",
     "output_type": "stream",
     "text": [
      "이름은 무엇인가요? : 마리아\n",
      "나이는 무엇인가요? : 20\n",
      "주소는 무엇인가요? : 서울시 강남구\n"
     ]
    },
    {
     "name": "stdout",
     "output_type": "stream",
     "text": [
      "\n",
      "첫번째 이름 : 마리아\n",
      "첫번째 나이 : 20\n",
      "첫번째 주소 : 서울시 강남구\n",
      "\n"
     ]
    },
    {
     "name": "stdin",
     "output_type": "stream",
     "text": [
      "이름은 무엇인가요? : 제임스\n",
      "나이는 무엇인가요? : 21\n",
      "주소는 무엇인가요? : 서울시 구로구\n"
     ]
    },
    {
     "name": "stdout",
     "output_type": "stream",
     "text": [
      "\n",
      "두번째 이름 : 제임스\n",
      "두번째 나이 : 21\n",
      "두번째 주소 : 서울시 구로구\n"
     ]
    }
   ],
   "source": [
    "# 연습 문제\n",
    "\n",
    "class Person : \n",
    "    \n",
    "    def __init__(self, name, age, address) :\n",
    "        self.name = name\n",
    "        self.age = age\n",
    "        self.address = address\n",
    "        \n",
    "name = input(\"이름은 무엇인가요? :\")\n",
    "age = input(\"나이는 무엇인가요? :\")\n",
    "address = input(\"주소는 무엇인가요? :\")\n",
    "\n",
    "print()\n",
    "\n",
    "maria = Person(name, age, address)\n",
    "print(\"첫번째 이름 :\", maria.name)\n",
    "print(\"첫번째 나이 :\", maria.age)\n",
    "print(\"첫번째 주소 :\", maria.address)\n",
    "\n",
    "print()\n",
    "\n",
    "name = input(\"이름은 무엇인가요? :\")\n",
    "age = input(\"나이는 무엇인가요? :\")\n",
    "address = input(\"주소는 무엇인가요? :\")\n",
    "\n",
    "print()\n",
    "\n",
    "james = Person(name, age, address)\n",
    "print(\"두번째 이름 :\", james.name)\n",
    "print(\"두번째 나이 :\", james.age)\n",
    "print(\"두번째 주소 :\", james.address)\n",
    "\n"
   ]
  },
  {
   "cell_type": "code",
   "execution_count": 31,
   "id": "ed2a0357-c6a4-46c0-8c86-57dfc87ebcc1",
   "metadata": {},
   "outputs": [
    {
     "name": "stdin",
     "output_type": "stream",
     "text": [
      "이름은 무엇인가요?: 마리아\n",
      "나이는 무엇인가요?: 21\n",
      "주소는 무엇인가요?: 서울시 강남구\n"
     ]
    },
    {
     "name": "stdout",
     "output_type": "stream",
     "text": [
      "\n"
     ]
    },
    {
     "name": "stdin",
     "output_type": "stream",
     "text": [
      "이름은 무엇인가요?: 제임스\n",
      "나이는 무엇인가요?: 22\n",
      "주소는 무엇인가요?: 서울시 구로구\n"
     ]
    },
    {
     "name": "stdout",
     "output_type": "stream",
     "text": [
      "\n",
      "첫번째 이름: 마리아\n",
      "첫번째 나이: 21\n",
      "첫번째 주소: 서울시 강남구\n",
      "\n",
      "두번째 이름: 제임스\n",
      "두번째 나이: 22\n",
      "두번째 주소: 서울시 구로구\n",
      "\n"
     ]
    }
   ],
   "source": [
    "# 진명님코드\n",
    "\n",
    "class Person:\n",
    "    def __init__(self, name, age, address):\n",
    "        self.name = name\n",
    "        self.age = age\n",
    "        self.address = address\n",
    "        \n",
    "    def Print1(self):\n",
    "        print(f\"\"\"첫번째 이름: {self.name}\n",
    "첫번째 나이: {self.age}\n",
    "첫번째 주소: {self.address}\n",
    "\"\"\")\n",
    "        \n",
    "    def Print2(self):\n",
    "        print(f\"\"\"두번째 이름: {self.name}\n",
    "두번째 나이: {self.age}\n",
    "두번째 주소: {self.address}\n",
    "\"\"\")\n",
    "        \n",
    "p1_1 = input(\"이름은 무엇인가요?:\") # 입력값 : 마리아\n",
    "p1_2 = input(\"나이는 무엇인가요?:\") # 입력값 : 20\n",
    "p1_3 = input(\"주소는 무엇인가요?:\") # 서울시 강남구\n",
    "\n",
    "print()\n",
    "\n",
    "p2_1 = input(\"이름은 무엇인가요?:\") # 입력값 : 제임스\n",
    "p2_2 = input(\"나이는 무엇인가요?:\") # 입력값 : 21\n",
    "p2_3 = input(\"주소는 무엇인가요?:\") # 서울시 구로구\n",
    "\n",
    "print()\n",
    "\n",
    "p1 = Person(p1_1,p1_2,p1_3)\n",
    "p2 = Person(p2_1,p2_2,p2_3)\n",
    "p1.Print1()\n",
    "p2.Print2()"
   ]
  },
  {
   "cell_type": "code",
   "execution_count": 34,
   "id": "f8e37226-ce53-4bdd-8e32-801c8d56f2b1",
   "metadata": {},
   "outputs": [
    {
     "name": "stdin",
     "output_type": "stream",
     "text": [
      "이름은 무엇인가요? : 마리아\n",
      "나이는 무엇인가요? : 21\n",
      "주소는 무엇인가요? : 서울시\n"
     ]
    },
    {
     "name": "stdout",
     "output_type": "stream",
     "text": [
      "\n",
      "첫번째 이름 : 마리아\n",
      "첫번째 나이 : 21\n",
      "첫번째 주소 : 서울시\n",
      "\n"
     ]
    },
    {
     "name": "stdin",
     "output_type": "stream",
     "text": [
      "이름은 무엇인가요? : 제임ㅇ스\n",
      "나이는 무엇인가요? : 21\n",
      "주소는 무엇인가요? : 서울시\n"
     ]
    },
    {
     "name": "stdout",
     "output_type": "stream",
     "text": [
      "\n",
      "두번째 이름 : 제임ㅇ스\n",
      "두번째 나이 : 21\n",
      "두번째 주소 : 서울시\n"
     ]
    }
   ],
   "source": [
    "# 풀이\n",
    "\n",
    "class Person : \n",
    "    \n",
    "    def __init__(self, name, age, address) :\n",
    "        self.name = input(\"이름은 무엇인가요? :\")\n",
    "        self.age = input(\"나이는 무엇인가요? :\")\n",
    "        self.address = input(\"주소는 무엇인가요? :\")\n",
    "\n",
    "\n",
    "maria = Person(name, age, address)\n",
    "print()\n",
    "print(\"첫번째 이름 :\", maria.name)\n",
    "print(\"첫번째 나이 :\", maria.age)\n",
    "print(\"첫번째 주소 :\", maria.address)\n",
    "\n",
    "print()\n",
    "\n",
    "james = Person(name, age, address)\n",
    "print()\n",
    "print(\"두번째 이름 :\", james.name)\n",
    "print(\"두번째 나이 :\", james.age)\n",
    "print(\"두번째 주소 :\", james.address)\n"
   ]
  },
  {
   "cell_type": "code",
   "execution_count": null,
   "id": "1c1cbe73-f7e4-4928-a75e-34210787a608",
   "metadata": {},
   "outputs": [],
   "source": [
    "# 비공개 속성 사용하기\n",
    "\n",
    "우리가 인스턴스.속성 = 값을 통해 새롭게 인스턴스의 속성 값을 변경 못하도록 막고\n",
    "싶을 때는 비공개 속성을 사용하면 됩니다.\n",
    "\n",
    "사용법은 해당하는 속성 앞에 던더(__)를 붙이면 비공개 속성이 됩니다.\n"
   ]
  },
  {
   "cell_type": "code",
   "execution_count": null,
   "id": "3b061dad-bd47-4f60-9ad6-369ab1ab54ad",
   "metadata": {},
   "outputs": [],
   "source": [
    "class ClassName :\n",
    "    def __init__(self, param1, param2) :\n",
    "        self.attr1 = param1\n",
    "        self.__attr2 = param2  #비공개 속성"
   ]
  },
  {
   "cell_type": "code",
   "execution_count": 38,
   "id": "a6dd18e6-794a-49d1-ae36-ffae7422f1a2",
   "metadata": {},
   "outputs": [
    {
     "ename": "AttributeError",
     "evalue": "'Person' object has no attribute '__wallet'",
     "output_type": "error",
     "traceback": [
      "\u001b[1;31m---------------------------------------------------------------------------\u001b[0m",
      "\u001b[1;31mAttributeError\u001b[0m                            Traceback (most recent call last)",
      "\u001b[1;32m~\\AppData\\Local\\Temp\\ipykernel_14840\\400789958.py\u001b[0m in \u001b[0;36m<module>\u001b[1;34m\u001b[0m\n\u001b[0;32m      9\u001b[0m \u001b[1;33m\u001b[0m\u001b[0m\n\u001b[0;32m     10\u001b[0m \u001b[0mmaria\u001b[0m \u001b[1;33m=\u001b[0m \u001b[0mPerson\u001b[0m\u001b[1;33m(\u001b[0m\u001b[1;34m\"마리아\"\u001b[0m\u001b[1;33m,\u001b[0m \u001b[1;36m20\u001b[0m\u001b[1;33m,\u001b[0m \u001b[1;34m\"서울시 서초구 반포동\"\u001b[0m\u001b[1;33m,\u001b[0m \u001b[1;36m10000\u001b[0m\u001b[1;33m)\u001b[0m\u001b[1;33m\u001b[0m\u001b[1;33m\u001b[0m\u001b[0m\n\u001b[1;32m---> 11\u001b[1;33m \u001b[0mmaria\u001b[0m\u001b[1;33m.\u001b[0m\u001b[0m__wallet\u001b[0m \u001b[1;33m-=\u001b[0m \u001b[1;36m10000\u001b[0m \u001b[1;31m# 클래스 밖에서 비공개 속성에 접근하면 에러가 발생\u001b[0m\u001b[1;33m\u001b[0m\u001b[1;33m\u001b[0m\u001b[0m\n\u001b[0m\u001b[0;32m     12\u001b[0m \u001b[1;33m\u001b[0m\u001b[0m\n",
      "\u001b[1;31mAttributeError\u001b[0m: 'Person' object has no attribute '__wallet'"
     ]
    }
   ],
   "source": [
    "# person클래스에 '__wallet'이라는 이름으로 속성을 추가해봅시다.\n",
    "\n",
    "class Person :\n",
    "    def __init__(self, name, age, address, wallet) :\n",
    "        self.name = name\n",
    "        self.age = age\n",
    "        self.address = address\n",
    "        self.__wallet = wallet # 변수 앞에 __를 붙여서 비공개 속성으로 만듦\n",
    "        \n",
    "maria = Person(\"마리아\", 20, \"서울시 서초구 반포동\", 10000)\n",
    "maria.__wallet -= 10000 # 클래스 밖에서 비공개 속성에 접근하면 에러가 발생\n",
    "        \n",
    "# 왜오류나? wallet은 앞에 __를 붙여서 비공개 속성으로 만들었으니까~~~"
   ]
  },
  {
   "cell_type": "code",
   "execution_count": 42,
   "id": "9d57b821-65e3-47c3-96fd-33bc97e90e56",
   "metadata": {},
   "outputs": [
    {
     "name": "stdout",
     "output_type": "stream",
     "text": [
      "이제 7000원 남았네요.\n"
     ]
    }
   ],
   "source": [
    "# 비공개 속성 사용하기\n",
    "# pay 메서드를 정의해봅시다. 그리고 사용해봅시다.\n",
    "\n",
    "class Person :\n",
    "    def __init__(self, name, age, address, wallet) :\n",
    "        self.name = name\n",
    "        self.age = age\n",
    "        self.address = address\n",
    "        self.__wallet = wallet # 변수 앞에 __를 붙여서 비공개 속성으로 만듦\n",
    "    \n",
    "    def pay(self,amount):\n",
    "        if self.__wallet < amount:\n",
    "            print(\"돈이 모자라요.\")\n",
    "            return\n",
    "        self.__wallet -= amount # 비공개 속성은 클래스 안의 메서드에서만 접근할 수 있음\n",
    "        print(\"이제 {0}원 남았네요.\".format(self.__wallet))\n",
    "\n",
    "maria = Person(\"마리아\", 20, \"서울시 서초구 반포동\", 10000)\n",
    "maria.pay(3000)\n"
   ]
  },
  {
   "cell_type": "code",
   "execution_count": 35,
   "id": "2b931809-b170-4283-a511-4c373103932e",
   "metadata": {},
   "outputs": [],
   "source": [
    "# 강사님 추가 예제\n",
    "class ClassExam :\n",
    "    def __init__(self) :\n",
    "        self.__secret = \"비밀입니다.\""
   ]
  },
  {
   "cell_type": "code",
   "execution_count": 37,
   "id": "47626cfe-798f-40fb-8668-de622082f467",
   "metadata": {},
   "outputs": [
    {
     "ename": "AttributeError",
     "evalue": "'ClassExam' object has no attribute '__secret'",
     "output_type": "error",
     "traceback": [
      "\u001b[1;31m---------------------------------------------------------------------------\u001b[0m",
      "\u001b[1;31mAttributeError\u001b[0m                            Traceback (most recent call last)",
      "\u001b[1;32m~\\AppData\\Local\\Temp\\ipykernel_14840\\4181262321.py\u001b[0m in \u001b[0;36m<module>\u001b[1;34m\u001b[0m\n\u001b[0;32m      1\u001b[0m \u001b[0mc1\u001b[0m \u001b[1;33m=\u001b[0m \u001b[0mClassExam\u001b[0m\u001b[1;33m(\u001b[0m\u001b[1;33m)\u001b[0m\u001b[1;33m\u001b[0m\u001b[1;33m\u001b[0m\u001b[0m\n\u001b[1;32m----> 2\u001b[1;33m \u001b[0mprint\u001b[0m\u001b[1;33m(\u001b[0m\u001b[0mc1\u001b[0m\u001b[1;33m.\u001b[0m\u001b[0m__secret\u001b[0m\u001b[1;33m)\u001b[0m\u001b[1;33m\u001b[0m\u001b[1;33m\u001b[0m\u001b[0m\n\u001b[0m",
      "\u001b[1;31mAttributeError\u001b[0m: 'ClassExam' object has no attribute '__secret'"
     ]
    }
   ],
   "source": [
    "c1 = ClassExam()\n",
    "print(c1.__secret) # 있음에도 불구하고 클래스 밖에서 접근못하게 하는고 비공개 속성"
   ]
  },
  {
   "cell_type": "code",
   "execution_count": 53,
   "id": "7c7548b4-d77c-4fab-b16f-af67833d70a1",
   "metadata": {},
   "outputs": [
    {
     "name": "stdin",
     "output_type": "stream",
     "text": [
      "체력, 마나, AP를 입력하세요:  1803.68 1184.0 645\n"
     ]
    },
    {
     "name": "stdout",
     "output_type": "stream",
     "text": [
      "티버 : 피해량 819.25\n"
     ]
    }
   ],
   "source": [
    "# 연습 문제\n",
    "\n",
    "class Annie :\n",
    "    def __init__(self, health, mana, ap) :\n",
    "        self.health = health\n",
    "        self.mana = mana\n",
    "        self.ap = ap\n",
    "\n",
    "        \n",
    "health, mana, ap = map(float, input(\"체력, 마나, AP를 입력하세요: \").split())\n",
    "\n",
    "annie = Annie(health, mana, ap)\n",
    "\n",
    "tibber_damage = ap * 0.65 +400\n",
    "\n",
    "\n",
    "print(\"티버 : 피해량\", tibber_damage)"
   ]
  },
  {
   "cell_type": "code",
   "execution_count": 60,
   "id": "8bb7b4bb-3cec-4e44-a0d1-5fda3d40784d",
   "metadata": {},
   "outputs": [],
   "source": [
    "# 풀이\n",
    "\n",
    "class Annie :\n",
    "    def __init__(self, hp=0, mp=0, ap=0) : \n",
    "        self.hp = hp\n",
    "        self.mp = mp\n",
    "        self.ap = ap\n",
    "        \n",
    "    def tibbers(self) :\n",
    "        return self.ap * 0.65 + 400\n"
   ]
  },
  {
   "cell_type": "code",
   "execution_count": 61,
   "id": "101e8e6e-d424-4c57-a04a-cc1341f3a786",
   "metadata": {},
   "outputs": [],
   "source": [
    "a1 = Annie()"
   ]
  },
  {
   "cell_type": "code",
   "execution_count": 62,
   "id": "5ba1d5e8-1666-41e3-98ba-3ae1057bcc01",
   "metadata": {},
   "outputs": [
    {
     "name": "stdout",
     "output_type": "stream",
     "text": [
      "0 0 0\n"
     ]
    }
   ],
   "source": [
    "print(a1.hp, a1.mp, a1.ap)"
   ]
  },
  {
   "cell_type": "code",
   "execution_count": 68,
   "id": "c997a62d-915b-4444-adae-9a93127ab6fb",
   "metadata": {},
   "outputs": [
    {
     "data": {
      "text/plain": [
       "400.0"
      ]
     },
     "execution_count": 68,
     "metadata": {},
     "output_type": "execute_result"
    }
   ],
   "source": [
    "a1.tibbers()"
   ]
  },
  {
   "cell_type": "code",
   "execution_count": 63,
   "id": "f746a7ff-64b3-4251-9b4c-b506ce0a9c8f",
   "metadata": {},
   "outputs": [
    {
     "name": "stdin",
     "output_type": "stream",
     "text": [
      "애니 511.68 334.0 298\n"
     ]
    }
   ],
   "source": [
    "# 511.68 334.0 298\n",
    "hp, mp, ap = map(float, input(\"애니\").split())"
   ]
  },
  {
   "cell_type": "code",
   "execution_count": 64,
   "id": "68f81449-81e7-452a-a534-0e9d5ccd97a5",
   "metadata": {},
   "outputs": [
    {
     "name": "stdout",
     "output_type": "stream",
     "text": [
      "511.68 334.0 298.0\n"
     ]
    }
   ],
   "source": [
    "print(hp, mp, ap)"
   ]
  },
  {
   "cell_type": "code",
   "execution_count": 65,
   "id": "10a9796e-534d-41ed-b1b0-0b0bc30fdff3",
   "metadata": {},
   "outputs": [],
   "source": [
    "a2 = Annie(hp, mp, ap)"
   ]
  },
  {
   "cell_type": "code",
   "execution_count": 66,
   "id": "ec179b9e-88fd-4745-94de-2d59f08f236d",
   "metadata": {},
   "outputs": [
    {
     "name": "stdout",
     "output_type": "stream",
     "text": [
      "511.68 334.0 298.0\n"
     ]
    }
   ],
   "source": [
    "print(a2.hp, a2.mp, a2.ap)"
   ]
  },
  {
   "cell_type": "code",
   "execution_count": 67,
   "id": "841c7831-4590-432a-bd15-4c3d689e26d0",
   "metadata": {},
   "outputs": [
    {
     "data": {
      "text/plain": [
       "593.7"
      ]
     },
     "execution_count": 67,
     "metadata": {},
     "output_type": "execute_result"
    }
   ],
   "source": [
    "a2.tibbers()"
   ]
  },
  {
   "cell_type": "code",
   "execution_count": 70,
   "id": "f594becb-19f6-44bf-bf0e-a2e01e7049ff",
   "metadata": {},
   "outputs": [
    {
     "name": "stdin",
     "output_type": "stream",
     "text": [
      "애니 511.68 334.0 298.0\n"
     ]
    },
    {
     "ename": "NameError",
     "evalue": "name 'self' is not defined",
     "output_type": "error",
     "traceback": [
      "\u001b[1;31m---------------------------------------------------------------------------\u001b[0m",
      "\u001b[1;31mNameError\u001b[0m                                 Traceback (most recent call last)",
      "\u001b[1;32m~\\AppData\\Local\\Temp\\ipykernel_14840\\469835422.py\u001b[0m in \u001b[0;36m<module>\u001b[1;34m\u001b[0m\n\u001b[0;32m     12\u001b[0m \u001b[0mhp\u001b[0m\u001b[1;33m,\u001b[0m \u001b[0mmp\u001b[0m\u001b[1;33m,\u001b[0m \u001b[0map\u001b[0m \u001b[1;33m=\u001b[0m \u001b[0mmap\u001b[0m\u001b[1;33m(\u001b[0m\u001b[0mfloat\u001b[0m\u001b[1;33m,\u001b[0m \u001b[0minput\u001b[0m\u001b[1;33m(\u001b[0m\u001b[1;34m\"애니\"\u001b[0m\u001b[1;33m)\u001b[0m\u001b[1;33m.\u001b[0m\u001b[0msplit\u001b[0m\u001b[1;33m(\u001b[0m\u001b[1;33m)\u001b[0m\u001b[1;33m)\u001b[0m\u001b[1;33m\u001b[0m\u001b[1;33m\u001b[0m\u001b[0m\n\u001b[0;32m     13\u001b[0m \u001b[1;33m\u001b[0m\u001b[0m\n\u001b[1;32m---> 14\u001b[1;33m \u001b[0mprint\u001b[0m\u001b[1;33m(\u001b[0m\u001b[1;34m\"티버 : 피해량\"\u001b[0m\u001b[1;33m,\u001b[0m \u001b[0mself\u001b[0m\u001b[1;33m.\u001b[0m\u001b[0mtibbers\u001b[0m\u001b[1;33m)\u001b[0m\u001b[1;33m\u001b[0m\u001b[1;33m\u001b[0m\u001b[0m\n\u001b[0m",
      "\u001b[1;31mNameError\u001b[0m: name 'self' is not defined"
     ]
    }
   ],
   "source": [
    "# 풀이\n",
    "\n",
    "class Annie :\n",
    "    def __init__(self, hp=0, mp=0, ap=0) : \n",
    "        self.hp = hp\n",
    "        self.mp = mp\n",
    "        self.ap = ap\n",
    "        \n",
    "    def tibbers(self) :\n",
    "        return self.ap * 0.65 + 400\n",
    "    \n",
    "hp, mp, ap = map(float, input(\"애니\").split())\n",
    "\n",
    "print(\"티버 : 피해량\", )\n"
   ]
  },
  {
   "cell_type": "code",
   "execution_count": null,
   "id": "3ba8eb29-60e8-495f-a0ee-a8ae43387256",
   "metadata": {},
   "outputs": [],
   "source": []
  }
 ],
 "metadata": {
  "kernelspec": {
   "display_name": "Python 3 (ipykernel)",
   "language": "python",
   "name": "python3"
  },
  "language_info": {
   "codemirror_mode": {
    "name": "ipython",
    "version": 3
   },
   "file_extension": ".py",
   "mimetype": "text/x-python",
   "name": "python",
   "nbconvert_exporter": "python",
   "pygments_lexer": "ipython3",
   "version": "3.9.13"
  }
 },
 "nbformat": 4,
 "nbformat_minor": 5
}
